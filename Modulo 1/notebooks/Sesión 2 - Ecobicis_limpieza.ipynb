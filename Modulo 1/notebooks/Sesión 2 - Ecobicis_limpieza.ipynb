{
 "cells": [
  {
   "cell_type": "code",
   "execution_count": 1,
   "id": "bcb2c7d7",
   "metadata": {},
   "outputs": [
    {
     "name": "stderr",
     "output_type": "stream",
     "text": [
      "/tmp/ipykernel_5647/1325007215.py:1: DeprecationWarning: Importing display from IPython.core.display is deprecated since IPython 7.14, please import from IPython display\n",
      "  from IPython.core.display import HTML, display\n"
     ]
    },
    {
     "data": {
      "text/html": [
       "<style>.container {width:100%} important!</style>"
      ],
      "text/plain": [
       "<IPython.core.display.HTML object>"
      ]
     },
     "metadata": {},
     "output_type": "display_data"
    }
   ],
   "source": [
    "from IPython.core.display import HTML, display\n",
    "display(HTML('<style>.container {width:100%} important!</style>'))"
   ]
  },
  {
   "cell_type": "markdown",
   "id": "07e93bf9",
   "metadata": {},
   "source": [
    "## Introducción"
   ]
  },
  {
   "cell_type": "markdown",
   "id": "78e8f63b",
   "metadata": {},
   "source": [
    "- Ecobicis\n",
    "- Oferta y Demanda\n",
    "- Limpieza de datos"
   ]
  },
  {
   "cell_type": "markdown",
   "id": "64e7e8e3",
   "metadata": {},
   "source": [
    "## Librerías"
   ]
  },
  {
   "cell_type": "code",
   "execution_count": 2,
   "id": "3f726f7e",
   "metadata": {},
   "outputs": [],
   "source": [
    "import os \n",
    "import pandas as pd\n",
    "\n",
    "import matplotlib.pyplot as plt"
   ]
  },
  {
   "cell_type": "markdown",
   "id": "adc8a8b7",
   "metadata": {},
   "source": [
    "## Carga de archivo"
   ]
  },
  {
   "cell_type": "code",
   "execution_count": 3,
   "id": "5193bb76",
   "metadata": {},
   "outputs": [],
   "source": [
    "ruta = \"../Datasets/data_ecobici/\"\n",
    "lst_nomb_archi = os.listdir(ruta)"
   ]
  },
  {
   "cell_type": "code",
   "execution_count": 4,
   "id": "ded5d2d2",
   "metadata": {
    "scrolled": true
   },
   "outputs": [],
   "source": [
    "viajes = [nom for nom in lst_nomb_archi if nom[:2]=='20']"
   ]
  },
  {
   "cell_type": "code",
   "execution_count": 5,
   "id": "6ab28a49",
   "metadata": {
    "scrolled": true
   },
   "outputs": [],
   "source": [
    "cat = [nom for nom in lst_nomb_archi if nom[:2] != '20']"
   ]
  },
  {
   "cell_type": "code",
   "execution_count": 6,
   "id": "beebde74",
   "metadata": {},
   "outputs": [],
   "source": [
    "viajes = [os.path.join(ruta,n) for n in viajes]"
   ]
  },
  {
   "cell_type": "code",
   "execution_count": 7,
   "id": "e627a29a",
   "metadata": {
    "scrolled": true
   },
   "outputs": [
    {
     "name": "stdout",
     "output_type": "stream",
     "text": [
      "0\n"
     ]
    },
    {
     "name": "stderr",
     "output_type": "stream",
     "text": [
      "/tmp/ipykernel_5647/3793373452.py:4: DtypeWarning: Columns (2) have mixed types. Specify dtype option on import or set low_memory=False.\n",
      "  df = pd.read_csv(archivo)\n"
     ]
    },
    {
     "name": "stdout",
     "output_type": "stream",
     "text": [
      "1\n"
     ]
    },
    {
     "name": "stderr",
     "output_type": "stream",
     "text": [
      "/tmp/ipykernel_5647/3793373452.py:6: DtypeWarning: Columns (2) have mixed types. Specify dtype option on import or set low_memory=False.\n",
      "  df = pd.concat([df , pd.read_csv(archivo)], ignore_index=True).reset_index(drop=True)\n"
     ]
    },
    {
     "name": "stdout",
     "output_type": "stream",
     "text": [
      "2\n",
      "3\n",
      "4\n",
      "5\n",
      "6\n",
      "7\n"
     ]
    },
    {
     "name": "stderr",
     "output_type": "stream",
     "text": [
      "/tmp/ipykernel_5647/3793373452.py:6: DtypeWarning: Columns (2) have mixed types. Specify dtype option on import or set low_memory=False.\n",
      "  df = pd.concat([df , pd.read_csv(archivo)], ignore_index=True).reset_index(drop=True)\n"
     ]
    },
    {
     "name": "stdout",
     "output_type": "stream",
     "text": [
      "8\n"
     ]
    },
    {
     "name": "stderr",
     "output_type": "stream",
     "text": [
      "/tmp/ipykernel_5647/3793373452.py:6: DtypeWarning: Columns (2) have mixed types. Specify dtype option on import or set low_memory=False.\n",
      "  df = pd.concat([df , pd.read_csv(archivo)], ignore_index=True).reset_index(drop=True)\n"
     ]
    },
    {
     "name": "stdout",
     "output_type": "stream",
     "text": [
      "9\n"
     ]
    },
    {
     "name": "stderr",
     "output_type": "stream",
     "text": [
      "/tmp/ipykernel_5647/3793373452.py:6: DtypeWarning: Columns (2) have mixed types. Specify dtype option on import or set low_memory=False.\n",
      "  df = pd.concat([df , pd.read_csv(archivo)], ignore_index=True).reset_index(drop=True)\n"
     ]
    },
    {
     "name": "stdout",
     "output_type": "stream",
     "text": [
      "10\n",
      "11\n",
      "12\n",
      "13\n",
      "14\n"
     ]
    },
    {
     "name": "stderr",
     "output_type": "stream",
     "text": [
      "/tmp/ipykernel_5647/3793373452.py:6: DtypeWarning: Columns (2) have mixed types. Specify dtype option on import or set low_memory=False.\n",
      "  df = pd.concat([df , pd.read_csv(archivo)], ignore_index=True).reset_index(drop=True)\n"
     ]
    },
    {
     "name": "stdout",
     "output_type": "stream",
     "text": [
      "15\n"
     ]
    },
    {
     "name": "stderr",
     "output_type": "stream",
     "text": [
      "/tmp/ipykernel_5647/3793373452.py:6: DtypeWarning: Columns (2) have mixed types. Specify dtype option on import or set low_memory=False.\n",
      "  df = pd.concat([df , pd.read_csv(archivo)], ignore_index=True).reset_index(drop=True)\n"
     ]
    },
    {
     "name": "stdout",
     "output_type": "stream",
     "text": [
      "16\n"
     ]
    },
    {
     "name": "stderr",
     "output_type": "stream",
     "text": [
      "/tmp/ipykernel_5647/3793373452.py:6: DtypeWarning: Columns (2) have mixed types. Specify dtype option on import or set low_memory=False.\n",
      "  df = pd.concat([df , pd.read_csv(archivo)], ignore_index=True).reset_index(drop=True)\n"
     ]
    },
    {
     "name": "stdout",
     "output_type": "stream",
     "text": [
      "17\n"
     ]
    },
    {
     "name": "stderr",
     "output_type": "stream",
     "text": [
      "/tmp/ipykernel_5647/3793373452.py:6: DtypeWarning: Columns (2) have mixed types. Specify dtype option on import or set low_memory=False.\n",
      "  df = pd.concat([df , pd.read_csv(archivo)], ignore_index=True).reset_index(drop=True)\n"
     ]
    },
    {
     "name": "stdout",
     "output_type": "stream",
     "text": [
      "18\n",
      "19\n",
      "20\n"
     ]
    },
    {
     "name": "stderr",
     "output_type": "stream",
     "text": [
      "/tmp/ipykernel_5647/3793373452.py:6: DtypeWarning: Columns (2) have mixed types. Specify dtype option on import or set low_memory=False.\n",
      "  df = pd.concat([df , pd.read_csv(archivo)], ignore_index=True).reset_index(drop=True)\n"
     ]
    },
    {
     "name": "stdout",
     "output_type": "stream",
     "text": [
      "21\n",
      "22\n",
      "23\n"
     ]
    },
    {
     "name": "stderr",
     "output_type": "stream",
     "text": [
      "/tmp/ipykernel_5647/3793373452.py:6: DtypeWarning: Columns (2,6,9) have mixed types. Specify dtype option on import or set low_memory=False.\n",
      "  df = pd.concat([df , pd.read_csv(archivo)], ignore_index=True).reset_index(drop=True)\n"
     ]
    }
   ],
   "source": [
    "for i, archivo in enumerate(viajes):\n",
    "    print(i)\n",
    "    if i == 0:\n",
    "        df = pd.read_csv(archivo)\n",
    "    else:\n",
    "        df = pd.concat([df , pd.read_csv(archivo)], ignore_index=True).reset_index(drop=True)"
   ]
  },
  {
   "cell_type": "code",
   "execution_count": 8,
   "id": "bizarre-belfast",
   "metadata": {},
   "outputs": [],
   "source": [
    "### TAREA: Carga de datos de manera funcional (paradicma de progrmación funcional) **Investigar/Intentar** \""
   ]
  },
  {
   "cell_type": "markdown",
   "id": "inclusive-hours",
   "metadata": {},
   "source": [
    "## Inspección / Exploración "
   ]
  },
  {
   "cell_type": "code",
   "execution_count": 9,
   "id": "4f0076b4",
   "metadata": {},
   "outputs": [
    {
     "name": "stdout",
     "output_type": "stream",
     "text": [
      "(17104573, 10)\n"
     ]
    }
   ],
   "source": [
    "print(df.shape)"
   ]
  },
  {
   "cell_type": "code",
   "execution_count": 10,
   "id": "f99c58a7",
   "metadata": {},
   "outputs": [
    {
     "data": {
      "text/html": [
       "<div>\n",
       "<style scoped>\n",
       "    .dataframe tbody tr th:only-of-type {\n",
       "        vertical-align: middle;\n",
       "    }\n",
       "\n",
       "    .dataframe tbody tr th {\n",
       "        vertical-align: top;\n",
       "    }\n",
       "\n",
       "    .dataframe thead th {\n",
       "        text-align: right;\n",
       "    }\n",
       "</style>\n",
       "<table border=\"1\" class=\"dataframe\">\n",
       "  <thead>\n",
       "    <tr style=\"text-align: right;\">\n",
       "      <th></th>\n",
       "      <th>Genero_Usuario</th>\n",
       "      <th>Edad_Usuario</th>\n",
       "      <th>Bici</th>\n",
       "      <th>Ciclo_Estacion_Retiro</th>\n",
       "      <th>Fecha_Retiro</th>\n",
       "      <th>Hora_Retiro</th>\n",
       "      <th>Ciclo_Estacion_Arribo</th>\n",
       "      <th>Fecha_Arribo</th>\n",
       "      <th>Hora_Arribo</th>\n",
       "      <th>Unnamed: 9</th>\n",
       "    </tr>\n",
       "  </thead>\n",
       "  <tbody>\n",
       "    <tr>\n",
       "      <th>12566680</th>\n",
       "      <td>M</td>\n",
       "      <td>22</td>\n",
       "      <td>3392</td>\n",
       "      <td>363</td>\n",
       "      <td>15/02/2018</td>\n",
       "      <td>15:10:12</td>\n",
       "      <td>141</td>\n",
       "      <td>15/02/2018</td>\n",
       "      <td>15:29:26</td>\n",
       "      <td>NaN</td>\n",
       "    </tr>\n",
       "    <tr>\n",
       "      <th>15886954</th>\n",
       "      <td>M</td>\n",
       "      <td>38</td>\n",
       "      <td>12289</td>\n",
       "      <td>64</td>\n",
       "      <td>09/04/2019</td>\n",
       "      <td>11:35:46</td>\n",
       "      <td>43</td>\n",
       "      <td>09/04/2019</td>\n",
       "      <td>11:53:28</td>\n",
       "      <td>NaN</td>\n",
       "    </tr>\n",
       "    <tr>\n",
       "      <th>8282967</th>\n",
       "      <td>F</td>\n",
       "      <td>35</td>\n",
       "      <td>3373</td>\n",
       "      <td>64</td>\n",
       "      <td>14/05/2019</td>\n",
       "      <td>09:01:49</td>\n",
       "      <td>67</td>\n",
       "      <td>14/05/2019</td>\n",
       "      <td>09:09:10</td>\n",
       "      <td>NaN</td>\n",
       "    </tr>\n",
       "    <tr>\n",
       "      <th>7913554</th>\n",
       "      <td>M</td>\n",
       "      <td>31</td>\n",
       "      <td>9166</td>\n",
       "      <td>271</td>\n",
       "      <td>28/06/2018</td>\n",
       "      <td>7:19:21</td>\n",
       "      <td>22</td>\n",
       "      <td>28/06/2018</td>\n",
       "      <td>7:36:24</td>\n",
       "      <td>NaN</td>\n",
       "    </tr>\n",
       "    <tr>\n",
       "      <th>10223413</th>\n",
       "      <td>F</td>\n",
       "      <td>24</td>\n",
       "      <td>10072</td>\n",
       "      <td>126</td>\n",
       "      <td>07/11/2018</td>\n",
       "      <td>10:26:16</td>\n",
       "      <td>141</td>\n",
       "      <td>07/11/2018</td>\n",
       "      <td>10:32:01</td>\n",
       "      <td>NaN</td>\n",
       "    </tr>\n",
       "  </tbody>\n",
       "</table>\n",
       "</div>"
      ],
      "text/plain": [
       "         Genero_Usuario  Edad_Usuario   Bici  Ciclo_Estacion_Retiro  \\\n",
       "12566680              M            22   3392                    363   \n",
       "15886954              M            38  12289                     64   \n",
       "8282967               F            35   3373                     64   \n",
       "7913554               M            31   9166                    271   \n",
       "10223413              F            24  10072                    126   \n",
       "\n",
       "         Fecha_Retiro Hora_Retiro Ciclo_Estacion_Arribo Fecha_Arribo  \\\n",
       "12566680   15/02/2018    15:10:12                   141   15/02/2018   \n",
       "15886954   09/04/2019    11:35:46                    43   09/04/2019   \n",
       "8282967    14/05/2019    09:01:49                    67   14/05/2019   \n",
       "7913554    28/06/2018     7:19:21                    22   28/06/2018   \n",
       "10223413   07/11/2018    10:26:16                   141   07/11/2018   \n",
       "\n",
       "         Hora_Arribo Unnamed: 9  \n",
       "12566680    15:29:26        NaN  \n",
       "15886954    11:53:28        NaN  \n",
       "8282967     09:09:10        NaN  \n",
       "7913554      7:36:24        NaN  \n",
       "10223413    10:32:01        NaN  "
      ]
     },
     "execution_count": 10,
     "metadata": {},
     "output_type": "execute_result"
    }
   ],
   "source": [
    "df.sample(5)"
   ]
  },
  {
   "cell_type": "code",
   "execution_count": 11,
   "id": "dce75a3a",
   "metadata": {
    "scrolled": false
   },
   "outputs": [
    {
     "name": "stdout",
     "output_type": "stream",
     "text": [
      "Genero_Usuario [<class 'str'>] \n",
      "\n",
      "Edad_Usuario [<class 'int'>] \n",
      "\n",
      "Bici [<class 'int'>, <class 'str'>] \n",
      "\n",
      "Ciclo_Estacion_Retiro [<class 'int'>] \n",
      "\n",
      "Fecha_Retiro [<class 'str'>] \n",
      "\n",
      "Hora_Retiro [<class 'str'>] \n",
      "\n",
      "Ciclo_Estacion_Arribo [<class 'int'>, <class 'str'>] \n",
      "\n",
      "Fecha_Arribo [<class 'str'>] \n",
      "\n",
      "Hora_Arribo [<class 'str'>] \n",
      "\n",
      "Unnamed: 9 [<class 'float'>, <class 'str'>] \n",
      "\n"
     ]
    }
   ],
   "source": [
    "for c in df.columns:\n",
    "    print( c , df[c].map(type).unique().tolist()  , \"\\n\"*1 ) "
   ]
  },
  {
   "cell_type": "code",
   "execution_count": 12,
   "id": "4c9d9a84",
   "metadata": {
    "cell_style": "center"
   },
   "outputs": [
    {
     "data": {
      "text/plain": [
       "<class 'int'>    0.765772\n",
       "<class 'str'>    0.234228\n",
       "Name: Bici, dtype: float64"
      ]
     },
     "execution_count": 12,
     "metadata": {},
     "output_type": "execute_result"
    }
   ],
   "source": [
    "df['Bici'].map(type).value_counts(True)"
   ]
  },
  {
   "cell_type": "code",
   "execution_count": 13,
   "id": "16f6f116",
   "metadata": {
    "cell_style": "center"
   },
   "outputs": [],
   "source": [
    "df['Bici'] = df['Bici'].astype(str)"
   ]
  },
  {
   "cell_type": "code",
   "execution_count": 14,
   "id": "a0674bd0",
   "metadata": {},
   "outputs": [],
   "source": [
    "df = df.loc[ (~df.Fecha_Arribo.isnull()) & (~df.Fecha_Retiro.isnull() )].copy().reset_index(drop=True)"
   ]
  },
  {
   "cell_type": "code",
   "execution_count": 15,
   "id": "953e5d2f",
   "metadata": {},
   "outputs": [
    {
     "data": {
      "text/plain": [
       "(17104573, 10)"
      ]
     },
     "execution_count": 15,
     "metadata": {},
     "output_type": "execute_result"
    }
   ],
   "source": [
    "df.shape"
   ]
  },
  {
   "cell_type": "code",
   "execution_count": 16,
   "id": "precious-substitute",
   "metadata": {},
   "outputs": [],
   "source": [
    "# Con for..."
   ]
  },
  {
   "cell_type": "code",
   "execution_count": 17,
   "id": "f6a78dc9",
   "metadata": {},
   "outputs": [],
   "source": [
    "df['fh_retiro'] = pd.to_datetime(  df['Fecha_Retiro'].map( lambda x: x[-4:]+'-'+ x[3:5] +'-' + x[:2] )+\n",
    "            ' '+ df['Hora_Retiro'].map( lambda x: '0'+ x if len(x)==7 else x ), errors='coerce' )"
   ]
  },
  {
   "cell_type": "code",
   "execution_count": 18,
   "id": "043730a5",
   "metadata": {
    "code_folding": []
   },
   "outputs": [],
   "source": [
    "df['fh_arribo'] =  pd.to_datetime(  df['Fecha_Arribo'].map( lambda x: x[-4:]+'-'+ x[3:5] +'-' + x[:2] )+\n",
    "                    ' '+ df['Hora_Arribo'].map( lambda x: '0'+ x if len(x)==7 else x ), errors='coerce' )"
   ]
  },
  {
   "cell_type": "code",
   "execution_count": 19,
   "id": "arabic-rapid",
   "metadata": {},
   "outputs": [],
   "source": [
    "df = df.loc[ (~df.fh_arribo.isnull()) & (~df.fh_retiro.isnull() )].copy().reset_index(drop=True)"
   ]
  },
  {
   "cell_type": "code",
   "execution_count": 20,
   "id": "e13b39fb",
   "metadata": {},
   "outputs": [
    {
     "data": {
      "text/html": [
       "<div>\n",
       "<style scoped>\n",
       "    .dataframe tbody tr th:only-of-type {\n",
       "        vertical-align: middle;\n",
       "    }\n",
       "\n",
       "    .dataframe tbody tr th {\n",
       "        vertical-align: top;\n",
       "    }\n",
       "\n",
       "    .dataframe thead th {\n",
       "        text-align: right;\n",
       "    }\n",
       "</style>\n",
       "<table border=\"1\" class=\"dataframe\">\n",
       "  <thead>\n",
       "    <tr style=\"text-align: right;\">\n",
       "      <th></th>\n",
       "      <th>Genero_Usuario</th>\n",
       "      <th>Edad_Usuario</th>\n",
       "      <th>Bici</th>\n",
       "      <th>Ciclo_Estacion_Retiro</th>\n",
       "      <th>Fecha_Retiro</th>\n",
       "      <th>Hora_Retiro</th>\n",
       "      <th>Ciclo_Estacion_Arribo</th>\n",
       "      <th>Fecha_Arribo</th>\n",
       "      <th>Hora_Arribo</th>\n",
       "      <th>Unnamed: 9</th>\n",
       "      <th>fh_retiro</th>\n",
       "      <th>fh_arribo</th>\n",
       "    </tr>\n",
       "  </thead>\n",
       "  <tbody>\n",
       "    <tr>\n",
       "      <th>0</th>\n",
       "      <td>M</td>\n",
       "      <td>49</td>\n",
       "      <td>3307</td>\n",
       "      <td>365</td>\n",
       "      <td>01/03/2018</td>\n",
       "      <td>0:00:10</td>\n",
       "      <td>169</td>\n",
       "      <td>01/03/2018</td>\n",
       "      <td>0:13:05</td>\n",
       "      <td>NaN</td>\n",
       "      <td>2018-03-01 00:00:10</td>\n",
       "      <td>2018-03-01 00:13:05</td>\n",
       "    </tr>\n",
       "    <tr>\n",
       "      <th>1</th>\n",
       "      <td>F</td>\n",
       "      <td>29</td>\n",
       "      <td>9218</td>\n",
       "      <td>137</td>\n",
       "      <td>01/03/2018</td>\n",
       "      <td>0:00:13</td>\n",
       "      <td>308</td>\n",
       "      <td>01/03/2018</td>\n",
       "      <td>0:18:34</td>\n",
       "      <td>NaN</td>\n",
       "      <td>2018-03-01 00:00:13</td>\n",
       "      <td>2018-03-01 00:18:34</td>\n",
       "    </tr>\n",
       "    <tr>\n",
       "      <th>2</th>\n",
       "      <td>F</td>\n",
       "      <td>30</td>\n",
       "      <td>3945</td>\n",
       "      <td>54</td>\n",
       "      <td>01/03/2018</td>\n",
       "      <td>0:00:17</td>\n",
       "      <td>191</td>\n",
       "      <td>01/03/2018</td>\n",
       "      <td>0:12:13</td>\n",
       "      <td>NaN</td>\n",
       "      <td>2018-03-01 00:00:17</td>\n",
       "      <td>2018-03-01 00:12:13</td>\n",
       "    </tr>\n",
       "    <tr>\n",
       "      <th>3</th>\n",
       "      <td>M</td>\n",
       "      <td>25</td>\n",
       "      <td>9971</td>\n",
       "      <td>130</td>\n",
       "      <td>01/03/2018</td>\n",
       "      <td>0:00:47</td>\n",
       "      <td>271</td>\n",
       "      <td>01/03/2018</td>\n",
       "      <td>0:12:40</td>\n",
       "      <td>NaN</td>\n",
       "      <td>2018-03-01 00:00:47</td>\n",
       "      <td>2018-03-01 00:12:40</td>\n",
       "    </tr>\n",
       "    <tr>\n",
       "      <th>4</th>\n",
       "      <td>M</td>\n",
       "      <td>20</td>\n",
       "      <td>10551</td>\n",
       "      <td>415</td>\n",
       "      <td>01/03/2018</td>\n",
       "      <td>0:00:56</td>\n",
       "      <td>433</td>\n",
       "      <td>01/03/2018</td>\n",
       "      <td>0:05:18</td>\n",
       "      <td>NaN</td>\n",
       "      <td>2018-03-01 00:00:56</td>\n",
       "      <td>2018-03-01 00:05:18</td>\n",
       "    </tr>\n",
       "  </tbody>\n",
       "</table>\n",
       "</div>"
      ],
      "text/plain": [
       "  Genero_Usuario  Edad_Usuario   Bici  Ciclo_Estacion_Retiro Fecha_Retiro  \\\n",
       "0              M            49   3307                    365   01/03/2018   \n",
       "1              F            29   9218                    137   01/03/2018   \n",
       "2              F            30   3945                     54   01/03/2018   \n",
       "3              M            25   9971                    130   01/03/2018   \n",
       "4              M            20  10551                    415   01/03/2018   \n",
       "\n",
       "  Hora_Retiro Ciclo_Estacion_Arribo Fecha_Arribo Hora_Arribo Unnamed: 9  \\\n",
       "0     0:00:10                   169   01/03/2018     0:13:05        NaN   \n",
       "1     0:00:13                   308   01/03/2018     0:18:34        NaN   \n",
       "2     0:00:17                   191   01/03/2018     0:12:13        NaN   \n",
       "3     0:00:47                   271   01/03/2018     0:12:40        NaN   \n",
       "4     0:00:56                   433   01/03/2018     0:05:18        NaN   \n",
       "\n",
       "            fh_retiro           fh_arribo  \n",
       "0 2018-03-01 00:00:10 2018-03-01 00:13:05  \n",
       "1 2018-03-01 00:00:13 2018-03-01 00:18:34  \n",
       "2 2018-03-01 00:00:17 2018-03-01 00:12:13  \n",
       "3 2018-03-01 00:00:47 2018-03-01 00:12:40  \n",
       "4 2018-03-01 00:00:56 2018-03-01 00:05:18  "
      ]
     },
     "execution_count": 20,
     "metadata": {},
     "output_type": "execute_result"
    }
   ],
   "source": [
    "df.head()"
   ]
  },
  {
   "cell_type": "code",
   "execution_count": 21,
   "id": "fresh-kennedy",
   "metadata": {},
   "outputs": [
    {
     "data": {
      "text/plain": [
       "<class 'int'>    0.996169\n",
       "<class 'str'>    0.003831\n",
       "Name: Ciclo_Estacion_Arribo, dtype: float64"
      ]
     },
     "execution_count": 21,
     "metadata": {},
     "output_type": "execute_result"
    }
   ],
   "source": [
    "df['Ciclo_Estacion_Arribo'].map(type).value_counts(True)"
   ]
  },
  {
   "cell_type": "code",
   "execution_count": 22,
   "id": "dried-minimum",
   "metadata": {
    "scrolled": true
   },
   "outputs": [],
   "source": [
    "df['Ciclo_Estacion_Arribo'] = pd.to_numeric( df['Ciclo_Estacion_Arribo'], errors='coerce').astype(int)"
   ]
  },
  {
   "cell_type": "code",
   "execution_count": 23,
   "id": "d0860f2d",
   "metadata": {
    "scrolled": true
   },
   "outputs": [],
   "source": [
    "df.drop('Unnamed: 9',axis=1,inplace=True)"
   ]
  },
  {
   "cell_type": "code",
   "execution_count": 24,
   "id": "published-survivor",
   "metadata": {},
   "outputs": [],
   "source": [
    "df = df[['Genero_Usuario','Edad_Usuario','Bici','Ciclo_Estacion_Retiro','Ciclo_Estacion_Arribo','fh_retiro','fh_arribo']]"
   ]
  },
  {
   "cell_type": "code",
   "execution_count": 25,
   "id": "37d8db27",
   "metadata": {},
   "outputs": [
    {
     "data": {
      "text/html": [
       "<div>\n",
       "<style scoped>\n",
       "    .dataframe tbody tr th:only-of-type {\n",
       "        vertical-align: middle;\n",
       "    }\n",
       "\n",
       "    .dataframe tbody tr th {\n",
       "        vertical-align: top;\n",
       "    }\n",
       "\n",
       "    .dataframe thead th {\n",
       "        text-align: right;\n",
       "    }\n",
       "</style>\n",
       "<table border=\"1\" class=\"dataframe\">\n",
       "  <thead>\n",
       "    <tr style=\"text-align: right;\">\n",
       "      <th></th>\n",
       "      <th>Genero_Usuario</th>\n",
       "      <th>Edad_Usuario</th>\n",
       "      <th>Bici</th>\n",
       "      <th>Ciclo_Estacion_Retiro</th>\n",
       "      <th>Ciclo_Estacion_Arribo</th>\n",
       "      <th>fh_retiro</th>\n",
       "      <th>fh_arribo</th>\n",
       "    </tr>\n",
       "  </thead>\n",
       "  <tbody>\n",
       "    <tr>\n",
       "      <th>0</th>\n",
       "      <td>M</td>\n",
       "      <td>49</td>\n",
       "      <td>3307</td>\n",
       "      <td>365</td>\n",
       "      <td>169</td>\n",
       "      <td>2018-03-01 00:00:10</td>\n",
       "      <td>2018-03-01 00:13:05</td>\n",
       "    </tr>\n",
       "    <tr>\n",
       "      <th>1</th>\n",
       "      <td>F</td>\n",
       "      <td>29</td>\n",
       "      <td>9218</td>\n",
       "      <td>137</td>\n",
       "      <td>308</td>\n",
       "      <td>2018-03-01 00:00:13</td>\n",
       "      <td>2018-03-01 00:18:34</td>\n",
       "    </tr>\n",
       "    <tr>\n",
       "      <th>2</th>\n",
       "      <td>F</td>\n",
       "      <td>30</td>\n",
       "      <td>3945</td>\n",
       "      <td>54</td>\n",
       "      <td>191</td>\n",
       "      <td>2018-03-01 00:00:17</td>\n",
       "      <td>2018-03-01 00:12:13</td>\n",
       "    </tr>\n",
       "    <tr>\n",
       "      <th>3</th>\n",
       "      <td>M</td>\n",
       "      <td>25</td>\n",
       "      <td>9971</td>\n",
       "      <td>130</td>\n",
       "      <td>271</td>\n",
       "      <td>2018-03-01 00:00:47</td>\n",
       "      <td>2018-03-01 00:12:40</td>\n",
       "    </tr>\n",
       "    <tr>\n",
       "      <th>4</th>\n",
       "      <td>M</td>\n",
       "      <td>20</td>\n",
       "      <td>10551</td>\n",
       "      <td>415</td>\n",
       "      <td>433</td>\n",
       "      <td>2018-03-01 00:00:56</td>\n",
       "      <td>2018-03-01 00:05:18</td>\n",
       "    </tr>\n",
       "  </tbody>\n",
       "</table>\n",
       "</div>"
      ],
      "text/plain": [
       "  Genero_Usuario  Edad_Usuario   Bici  Ciclo_Estacion_Retiro  \\\n",
       "0              M            49   3307                    365   \n",
       "1              F            29   9218                    137   \n",
       "2              F            30   3945                     54   \n",
       "3              M            25   9971                    130   \n",
       "4              M            20  10551                    415   \n",
       "\n",
       "   Ciclo_Estacion_Arribo           fh_retiro           fh_arribo  \n",
       "0                    169 2018-03-01 00:00:10 2018-03-01 00:13:05  \n",
       "1                    308 2018-03-01 00:00:13 2018-03-01 00:18:34  \n",
       "2                    191 2018-03-01 00:00:17 2018-03-01 00:12:13  \n",
       "3                    271 2018-03-01 00:00:47 2018-03-01 00:12:40  \n",
       "4                    433 2018-03-01 00:00:56 2018-03-01 00:05:18  "
      ]
     },
     "execution_count": 25,
     "metadata": {},
     "output_type": "execute_result"
    }
   ],
   "source": [
    "df.head()"
   ]
  },
  {
   "cell_type": "code",
   "execution_count": 26,
   "id": "hired-series",
   "metadata": {},
   "outputs": [
    {
     "data": {
      "text/plain": [
       "Genero_Usuario                   object\n",
       "Edad_Usuario                      int64\n",
       "Bici                             object\n",
       "Ciclo_Estacion_Retiro             int64\n",
       "Ciclo_Estacion_Arribo             int64\n",
       "fh_retiro                datetime64[ns]\n",
       "fh_arribo                datetime64[ns]\n",
       "dtype: object"
      ]
     },
     "execution_count": 26,
     "metadata": {},
     "output_type": "execute_result"
    }
   ],
   "source": [
    "df.dtypes"
   ]
  },
  {
   "cell_type": "markdown",
   "id": "standard-civilian",
   "metadata": {},
   "source": [
    "### Lectura Catálogo"
   ]
  },
  {
   "cell_type": "code",
   "execution_count": 27,
   "id": "c406e8a5",
   "metadata": {},
   "outputs": [],
   "source": [
    "catalogo = pd.read_csv(os.path.join( ruta , cat[0] ) )"
   ]
  },
  {
   "cell_type": "code",
   "execution_count": 28,
   "id": "metric-laundry",
   "metadata": {},
   "outputs": [
    {
     "data": {
      "text/plain": [
       "(480, 18)"
      ]
     },
     "execution_count": 28,
     "metadata": {},
     "output_type": "execute_result"
    }
   ],
   "source": [
    "catalogo.shape"
   ]
  },
  {
   "cell_type": "code",
   "execution_count": 29,
   "id": "d3b58cfe",
   "metadata": {
    "scrolled": true
   },
   "outputs": [
    {
     "data": {
      "text/html": [
       "<div>\n",
       "<style scoped>\n",
       "    .dataframe tbody tr th:only-of-type {\n",
       "        vertical-align: middle;\n",
       "    }\n",
       "\n",
       "    .dataframe tbody tr th {\n",
       "        vertical-align: top;\n",
       "    }\n",
       "\n",
       "    .dataframe thead th {\n",
       "        text-align: right;\n",
       "    }\n",
       "</style>\n",
       "<table border=\"1\" class=\"dataframe\">\n",
       "  <thead>\n",
       "    <tr style=\"text-align: right;\">\n",
       "      <th></th>\n",
       "      <th>ID</th>\n",
       "      <th>Nombre</th>\n",
       "      <th>Dirección</th>\n",
       "      <th>Número</th>\n",
       "      <th>Código postal</th>\n",
       "      <th>districtCode</th>\n",
       "      <th>Colonia</th>\n",
       "      <th>altitude</th>\n",
       "      <th>nearbyStations/0</th>\n",
       "      <th>location/lat</th>\n",
       "      <th>location/lon</th>\n",
       "      <th>Tipo de estación</th>\n",
       "      <th>nearbyStations/1</th>\n",
       "      <th>nearbyStations/2</th>\n",
       "      <th>nearbyStations/3</th>\n",
       "      <th>nearbyStations/4</th>\n",
       "      <th>nearbyStations/5</th>\n",
       "      <th>punto_geo</th>\n",
       "    </tr>\n",
       "  </thead>\n",
       "  <tbody>\n",
       "    <tr>\n",
       "      <th>0</th>\n",
       "      <td>416</td>\n",
       "      <td>416 RECREO-PARROQUÍA</td>\n",
       "      <td>416 - Recreo-Parroquía</td>\n",
       "      <td>S/N</td>\n",
       "      <td>3104.0</td>\n",
       "      <td>1</td>\n",
       "      <td>Ampliación Granada</td>\n",
       "      <td>NaN</td>\n",
       "      <td>390</td>\n",
       "      <td>19.371308</td>\n",
       "      <td>-99.177607</td>\n",
       "      <td>BIKE</td>\n",
       "      <td>391.0</td>\n",
       "      <td>415.0</td>\n",
       "      <td>NaN</td>\n",
       "      <td>NaN</td>\n",
       "      <td>NaN</td>\n",
       "      <td>19.371308,-99.177607</td>\n",
       "    </tr>\n",
       "    <tr>\n",
       "      <th>1</th>\n",
       "      <td>440</td>\n",
       "      <td>440 REAL DE MAYORAZGO-PUENTE XOCO</td>\n",
       "      <td>440 - Real De Mayorazgo-Puente Xoco</td>\n",
       "      <td>S/N</td>\n",
       "      <td>3330.0</td>\n",
       "      <td>1</td>\n",
       "      <td>Ampliación Granada</td>\n",
       "      <td>NaN</td>\n",
       "      <td>433</td>\n",
       "      <td>19.360650</td>\n",
       "      <td>-99.168669</td>\n",
       "      <td>BIKE</td>\n",
       "      <td>439.0</td>\n",
       "      <td>441.0</td>\n",
       "      <td>NaN</td>\n",
       "      <td>NaN</td>\n",
       "      <td>NaN</td>\n",
       "      <td>19.36065,-99.168669</td>\n",
       "    </tr>\n",
       "    <tr>\n",
       "      <th>2</th>\n",
       "      <td>70</td>\n",
       "      <td>70 PARQUE MEXICO-MICHOACAN</td>\n",
       "      <td>070 - Parque México - Michoacan</td>\n",
       "      <td>S/N</td>\n",
       "      <td>6100.0</td>\n",
       "      <td>1</td>\n",
       "      <td>Ampliación Granada</td>\n",
       "      <td>NaN</td>\n",
       "      <td>69</td>\n",
       "      <td>19.411272</td>\n",
       "      <td>-99.169718</td>\n",
       "      <td>BIKE,TPV</td>\n",
       "      <td>71.0</td>\n",
       "      <td>76.0</td>\n",
       "      <td>NaN</td>\n",
       "      <td>NaN</td>\n",
       "      <td>NaN</td>\n",
       "      <td>19.411272,-99.169718</td>\n",
       "    </tr>\n",
       "    <tr>\n",
       "      <th>3</th>\n",
       "      <td>325</td>\n",
       "      <td>325 PROVIDENCIA -AVENIDA DEL VALLE</td>\n",
       "      <td>325 - Providencia -Avenida Del Valle</td>\n",
       "      <td>S/N</td>\n",
       "      <td>3100.0</td>\n",
       "      <td>1</td>\n",
       "      <td>Ampliación Granada</td>\n",
       "      <td>NaN</td>\n",
       "      <td>316</td>\n",
       "      <td>19.388178</td>\n",
       "      <td>-99.169689</td>\n",
       "      <td>BIKE</td>\n",
       "      <td>335.0</td>\n",
       "      <td>336.0</td>\n",
       "      <td>NaN</td>\n",
       "      <td>NaN</td>\n",
       "      <td>NaN</td>\n",
       "      <td>19.3881779,-99.1696894</td>\n",
       "    </tr>\n",
       "    <tr>\n",
       "      <th>4</th>\n",
       "      <td>252</td>\n",
       "      <td>252 VICTOR HUGO-SHAKESPEARE</td>\n",
       "      <td>252 - Víctor Hugo-Shakespeare</td>\n",
       "      <td>S/N</td>\n",
       "      <td>11510.0</td>\n",
       "      <td>2</td>\n",
       "      <td>Anzures</td>\n",
       "      <td>NaN</td>\n",
       "      <td>249</td>\n",
       "      <td>19.427575</td>\n",
       "      <td>-99.177020</td>\n",
       "      <td>BIKE</td>\n",
       "      <td>251.0</td>\n",
       "      <td>253.0</td>\n",
       "      <td>NaN</td>\n",
       "      <td>NaN</td>\n",
       "      <td>NaN</td>\n",
       "      <td>19.427575,-99.17702</td>\n",
       "    </tr>\n",
       "  </tbody>\n",
       "</table>\n",
       "</div>"
      ],
      "text/plain": [
       "    ID                              Nombre  \\\n",
       "0  416                416 RECREO-PARROQUÍA   \n",
       "1  440   440 REAL DE MAYORAZGO-PUENTE XOCO   \n",
       "2   70          70 PARQUE MEXICO-MICHOACAN   \n",
       "3  325  325 PROVIDENCIA -AVENIDA DEL VALLE   \n",
       "4  252         252 VICTOR HUGO-SHAKESPEARE   \n",
       "\n",
       "                              Dirección Número  Código postal districtCode  \\\n",
       "0                416 - Recreo-Parroquía    S/N         3104.0            1   \n",
       "1   440 - Real De Mayorazgo-Puente Xoco    S/N         3330.0            1   \n",
       "2       070 - Parque México - Michoacan    S/N         6100.0            1   \n",
       "3  325 - Providencia -Avenida Del Valle    S/N         3100.0            1   \n",
       "4         252 - Víctor Hugo-Shakespeare    S/N        11510.0            2   \n",
       "\n",
       "              Colonia  altitude  nearbyStations/0  location/lat  location/lon  \\\n",
       "0  Ampliación Granada       NaN               390     19.371308    -99.177607   \n",
       "1  Ampliación Granada       NaN               433     19.360650    -99.168669   \n",
       "2  Ampliación Granada       NaN                69     19.411272    -99.169718   \n",
       "3  Ampliación Granada       NaN               316     19.388178    -99.169689   \n",
       "4             Anzures       NaN               249     19.427575    -99.177020   \n",
       "\n",
       "  Tipo de estación  nearbyStations/1  nearbyStations/2  nearbyStations/3  \\\n",
       "0             BIKE             391.0             415.0               NaN   \n",
       "1             BIKE             439.0             441.0               NaN   \n",
       "2         BIKE,TPV              71.0              76.0               NaN   \n",
       "3             BIKE             335.0             336.0               NaN   \n",
       "4             BIKE             251.0             253.0               NaN   \n",
       "\n",
       "   nearbyStations/4  nearbyStations/5               punto_geo  \n",
       "0               NaN               NaN    19.371308,-99.177607  \n",
       "1               NaN               NaN     19.36065,-99.168669  \n",
       "2               NaN               NaN    19.411272,-99.169718  \n",
       "3               NaN               NaN  19.3881779,-99.1696894  \n",
       "4               NaN               NaN     19.427575,-99.17702  "
      ]
     },
     "execution_count": 29,
     "metadata": {},
     "output_type": "execute_result"
    }
   ],
   "source": [
    "catalogo.head()"
   ]
  },
  {
   "cell_type": "code",
   "execution_count": 30,
   "id": "98a88467",
   "metadata": {},
   "outputs": [],
   "source": [
    "###### Limpieza de catálogo TAREA #######"
   ]
  },
  {
   "cell_type": "code",
   "execution_count": 31,
   "id": "brave-quality",
   "metadata": {
    "scrolled": true
   },
   "outputs": [
    {
     "name": "stdout",
     "output_type": "stream",
     "text": [
      "ID <class 'int'>    480\n",
      "Name: ID, dtype: int64 \n",
      "\n",
      "Nombre <class 'str'>    480\n",
      "Name: Nombre, dtype: int64 \n",
      "\n",
      "Dirección <class 'str'>    480\n",
      "Name: Dirección, dtype: int64 \n",
      "\n",
      "Número <class 'str'>    480\n",
      "Name: Número, dtype: int64 \n",
      "\n",
      "Código postal <class 'float'>    480\n",
      "Name: Código postal, dtype: int64 \n",
      "\n",
      "districtCode <class 'str'>      479\n",
      "<class 'float'>      1\n",
      "Name: districtCode, dtype: int64 \n",
      "\n",
      "Colonia <class 'str'>      479\n",
      "<class 'float'>      1\n",
      "Name: Colonia, dtype: int64 \n",
      "\n",
      "altitude <class 'float'>    480\n",
      "Name: altitude, dtype: int64 \n",
      "\n",
      "nearbyStations/0 <class 'int'>    480\n",
      "Name: nearbyStations/0, dtype: int64 \n",
      "\n",
      "location/lat <class 'float'>    480\n",
      "Name: location/lat, dtype: int64 \n",
      "\n",
      "location/lon <class 'float'>    480\n",
      "Name: location/lon, dtype: int64 \n",
      "\n",
      "Tipo de estación <class 'str'>    480\n",
      "Name: Tipo de estación, dtype: int64 \n",
      "\n",
      "nearbyStations/1 <class 'float'>    480\n",
      "Name: nearbyStations/1, dtype: int64 \n",
      "\n",
      "nearbyStations/2 <class 'float'>    480\n",
      "Name: nearbyStations/2, dtype: int64 \n",
      "\n",
      "nearbyStations/3 <class 'float'>    480\n",
      "Name: nearbyStations/3, dtype: int64 \n",
      "\n",
      "nearbyStations/4 <class 'float'>    480\n",
      "Name: nearbyStations/4, dtype: int64 \n",
      "\n",
      "nearbyStations/5 <class 'float'>    480\n",
      "Name: nearbyStations/5, dtype: int64 \n",
      "\n",
      "punto_geo <class 'str'>    480\n",
      "Name: punto_geo, dtype: int64 \n",
      "\n"
     ]
    }
   ],
   "source": [
    "for c in catalogo.columns:\n",
    "    print(c,catalogo[c].map(type).value_counts(),'\\n')"
   ]
  },
  {
   "cell_type": "code",
   "execution_count": 32,
   "id": "crude-musical",
   "metadata": {},
   "outputs": [],
   "source": [
    "catalogo = catalogo[['ID','Nombre','Colonia','Tipo de estación','location/lat','location/lon']]"
   ]
  },
  {
   "cell_type": "code",
   "execution_count": 33,
   "id": "responsible-community",
   "metadata": {},
   "outputs": [
    {
     "data": {
      "text/html": [
       "<div>\n",
       "<style scoped>\n",
       "    .dataframe tbody tr th:only-of-type {\n",
       "        vertical-align: middle;\n",
       "    }\n",
       "\n",
       "    .dataframe tbody tr th {\n",
       "        vertical-align: top;\n",
       "    }\n",
       "\n",
       "    .dataframe thead th {\n",
       "        text-align: right;\n",
       "    }\n",
       "</style>\n",
       "<table border=\"1\" class=\"dataframe\">\n",
       "  <thead>\n",
       "    <tr style=\"text-align: right;\">\n",
       "      <th></th>\n",
       "      <th>Genero_Usuario</th>\n",
       "      <th>Edad_Usuario</th>\n",
       "      <th>Bici</th>\n",
       "      <th>Ciclo_Estacion_Retiro</th>\n",
       "      <th>Ciclo_Estacion_Arribo</th>\n",
       "      <th>fh_retiro</th>\n",
       "      <th>fh_arribo</th>\n",
       "      <th>Nombre</th>\n",
       "      <th>Colonia</th>\n",
       "      <th>Tipo de estación</th>\n",
       "      <th>location/lat</th>\n",
       "      <th>location/lon</th>\n",
       "    </tr>\n",
       "  </thead>\n",
       "  <tbody>\n",
       "    <tr>\n",
       "      <th>0</th>\n",
       "      <td>M</td>\n",
       "      <td>49</td>\n",
       "      <td>3307</td>\n",
       "      <td>365</td>\n",
       "      <td>169</td>\n",
       "      <td>2018-03-01 00:00:10</td>\n",
       "      <td>2018-03-01 00:13:05</td>\n",
       "      <td>365 HOLBEIN-AVENIDA REVOLUCIÓN</td>\n",
       "      <td>Santa María Nonoalco</td>\n",
       "      <td>BIKE</td>\n",
       "      <td>19.381117</td>\n",
       "      <td>-99.186687</td>\n",
       "    </tr>\n",
       "    <tr>\n",
       "      <th>1</th>\n",
       "      <td>F</td>\n",
       "      <td>29</td>\n",
       "      <td>9218</td>\n",
       "      <td>137</td>\n",
       "      <td>308</td>\n",
       "      <td>2018-03-01 00:00:13</td>\n",
       "      <td>2018-03-01 00:18:34</td>\n",
       "      <td>137 ÁLVARO OBREGÓN-MÉRIDA</td>\n",
       "      <td>Roma Norte</td>\n",
       "      <td>BIKE</td>\n",
       "      <td>19.418774</td>\n",
       "      <td>-99.157081</td>\n",
       "    </tr>\n",
       "    <tr>\n",
       "      <th>2</th>\n",
       "      <td>F</td>\n",
       "      <td>30</td>\n",
       "      <td>3945</td>\n",
       "      <td>54</td>\n",
       "      <td>191</td>\n",
       "      <td>2018-03-01 00:00:17</td>\n",
       "      <td>2018-03-01 00:12:13</td>\n",
       "      <td>54 PARQUE ESPAÑA-SONORA</td>\n",
       "      <td>Condesa</td>\n",
       "      <td>BIKE,TPV</td>\n",
       "      <td>19.416215</td>\n",
       "      <td>-99.170825</td>\n",
       "    </tr>\n",
       "    <tr>\n",
       "      <th>3</th>\n",
       "      <td>M</td>\n",
       "      <td>25</td>\n",
       "      <td>9971</td>\n",
       "      <td>130</td>\n",
       "      <td>271</td>\n",
       "      <td>2018-03-01 00:00:47</td>\n",
       "      <td>2018-03-01 00:12:40</td>\n",
       "      <td>130 MÉRIDA-DURANGO</td>\n",
       "      <td>Roma Norte</td>\n",
       "      <td>BIKE</td>\n",
       "      <td>19.421576</td>\n",
       "      <td>-99.158015</td>\n",
       "    </tr>\n",
       "    <tr>\n",
       "      <th>4</th>\n",
       "      <td>M</td>\n",
       "      <td>20</td>\n",
       "      <td>10551</td>\n",
       "      <td>415</td>\n",
       "      <td>433</td>\n",
       "      <td>2018-03-01 00:00:56</td>\n",
       "      <td>2018-03-01 00:05:18</td>\n",
       "      <td>415 SAN FRANCISCO-PARROQUÍA</td>\n",
       "      <td>Del Valle Sur</td>\n",
       "      <td>BIKE</td>\n",
       "      <td>19.371498</td>\n",
       "      <td>-99.176020</td>\n",
       "    </tr>\n",
       "    <tr>\n",
       "      <th>...</th>\n",
       "      <td>...</td>\n",
       "      <td>...</td>\n",
       "      <td>...</td>\n",
       "      <td>...</td>\n",
       "      <td>...</td>\n",
       "      <td>...</td>\n",
       "      <td>...</td>\n",
       "      <td>...</td>\n",
       "      <td>...</td>\n",
       "      <td>...</td>\n",
       "      <td>...</td>\n",
       "      <td>...</td>\n",
       "    </tr>\n",
       "    <tr>\n",
       "      <th>17104566</th>\n",
       "      <td>M</td>\n",
       "      <td>36</td>\n",
       "      <td>11045</td>\n",
       "      <td>150</td>\n",
       "      <td>34</td>\n",
       "      <td>2019-03-30 23:59:01</td>\n",
       "      <td>2019-03-31 00:08:01</td>\n",
       "      <td>150 CAMPECHE-MEDELLÍN</td>\n",
       "      <td>Ampliación Granada</td>\n",
       "      <td>BIKE</td>\n",
       "      <td>19.409965</td>\n",
       "      <td>-99.164292</td>\n",
       "    </tr>\n",
       "    <tr>\n",
       "      <th>17104567</th>\n",
       "      <td>M</td>\n",
       "      <td>30</td>\n",
       "      <td>3669</td>\n",
       "      <td>150</td>\n",
       "      <td>35</td>\n",
       "      <td>2019-03-30 23:59:11</td>\n",
       "      <td>2019-03-31 00:08:11</td>\n",
       "      <td>150 CAMPECHE-MEDELLÍN</td>\n",
       "      <td>Ampliación Granada</td>\n",
       "      <td>BIKE</td>\n",
       "      <td>19.409965</td>\n",
       "      <td>-99.164292</td>\n",
       "    </tr>\n",
       "    <tr>\n",
       "      <th>17104568</th>\n",
       "      <td>M</td>\n",
       "      <td>33</td>\n",
       "      <td>1515</td>\n",
       "      <td>53</td>\n",
       "      <td>53</td>\n",
       "      <td>2019-03-30 23:59:13</td>\n",
       "      <td>2019-03-31 00:43:00</td>\n",
       "      <td>53 FERNANDO MONTES DE OCA-TULA</td>\n",
       "      <td>Condesa</td>\n",
       "      <td>BIKE</td>\n",
       "      <td>19.414773</td>\n",
       "      <td>-99.178433</td>\n",
       "    </tr>\n",
       "    <tr>\n",
       "      <th>17104569</th>\n",
       "      <td>M</td>\n",
       "      <td>28</td>\n",
       "      <td>9616</td>\n",
       "      <td>45</td>\n",
       "      <td>64</td>\n",
       "      <td>2019-03-30 23:59:21</td>\n",
       "      <td>2019-03-31 00:03:35</td>\n",
       "      <td>45 DURANGO-SONORA</td>\n",
       "      <td>Roma Norte</td>\n",
       "      <td>BIKE,TPV</td>\n",
       "      <td>19.418649</td>\n",
       "      <td>-99.172127</td>\n",
       "    </tr>\n",
       "    <tr>\n",
       "      <th>17104570</th>\n",
       "      <td>M</td>\n",
       "      <td>42</td>\n",
       "      <td>9935</td>\n",
       "      <td>10</td>\n",
       "      <td>266</td>\n",
       "      <td>2019-03-30 23:59:59</td>\n",
       "      <td>2019-03-31 00:06:52</td>\n",
       "      <td>10 REFORMA-RAMIREZ</td>\n",
       "      <td>Tabacalera</td>\n",
       "      <td>BIKE,TPV</td>\n",
       "      <td>19.433321</td>\n",
       "      <td>-99.154752</td>\n",
       "    </tr>\n",
       "  </tbody>\n",
       "</table>\n",
       "<p>17104571 rows × 12 columns</p>\n",
       "</div>"
      ],
      "text/plain": [
       "         Genero_Usuario  Edad_Usuario   Bici  Ciclo_Estacion_Retiro  \\\n",
       "0                     M            49   3307                    365   \n",
       "1                     F            29   9218                    137   \n",
       "2                     F            30   3945                     54   \n",
       "3                     M            25   9971                    130   \n",
       "4                     M            20  10551                    415   \n",
       "...                 ...           ...    ...                    ...   \n",
       "17104566              M            36  11045                    150   \n",
       "17104567              M            30   3669                    150   \n",
       "17104568              M            33   1515                     53   \n",
       "17104569              M            28   9616                     45   \n",
       "17104570              M            42   9935                     10   \n",
       "\n",
       "          Ciclo_Estacion_Arribo           fh_retiro           fh_arribo  \\\n",
       "0                           169 2018-03-01 00:00:10 2018-03-01 00:13:05   \n",
       "1                           308 2018-03-01 00:00:13 2018-03-01 00:18:34   \n",
       "2                           191 2018-03-01 00:00:17 2018-03-01 00:12:13   \n",
       "3                           271 2018-03-01 00:00:47 2018-03-01 00:12:40   \n",
       "4                           433 2018-03-01 00:00:56 2018-03-01 00:05:18   \n",
       "...                         ...                 ...                 ...   \n",
       "17104566                     34 2019-03-30 23:59:01 2019-03-31 00:08:01   \n",
       "17104567                     35 2019-03-30 23:59:11 2019-03-31 00:08:11   \n",
       "17104568                     53 2019-03-30 23:59:13 2019-03-31 00:43:00   \n",
       "17104569                     64 2019-03-30 23:59:21 2019-03-31 00:03:35   \n",
       "17104570                    266 2019-03-30 23:59:59 2019-03-31 00:06:52   \n",
       "\n",
       "                                  Nombre               Colonia  \\\n",
       "0         365 HOLBEIN-AVENIDA REVOLUCIÓN  Santa María Nonoalco   \n",
       "1              137 ÁLVARO OBREGÓN-MÉRIDA            Roma Norte   \n",
       "2                54 PARQUE ESPAÑA-SONORA               Condesa   \n",
       "3                     130 MÉRIDA-DURANGO            Roma Norte   \n",
       "4            415 SAN FRANCISCO-PARROQUÍA         Del Valle Sur   \n",
       "...                                  ...                   ...   \n",
       "17104566           150 CAMPECHE-MEDELLÍN    Ampliación Granada   \n",
       "17104567           150 CAMPECHE-MEDELLÍN    Ampliación Granada   \n",
       "17104568  53 FERNANDO MONTES DE OCA-TULA               Condesa   \n",
       "17104569               45 DURANGO-SONORA            Roma Norte   \n",
       "17104570              10 REFORMA-RAMIREZ            Tabacalera   \n",
       "\n",
       "         Tipo de estación  location/lat  location/lon  \n",
       "0                    BIKE     19.381117    -99.186687  \n",
       "1                    BIKE     19.418774    -99.157081  \n",
       "2                BIKE,TPV     19.416215    -99.170825  \n",
       "3                    BIKE     19.421576    -99.158015  \n",
       "4                    BIKE     19.371498    -99.176020  \n",
       "...                   ...           ...           ...  \n",
       "17104566             BIKE     19.409965    -99.164292  \n",
       "17104567             BIKE     19.409965    -99.164292  \n",
       "17104568             BIKE     19.414773    -99.178433  \n",
       "17104569         BIKE,TPV     19.418649    -99.172127  \n",
       "17104570         BIKE,TPV     19.433321    -99.154752  \n",
       "\n",
       "[17104571 rows x 12 columns]"
      ]
     },
     "execution_count": 33,
     "metadata": {},
     "output_type": "execute_result"
    }
   ],
   "source": [
    "df.merge(catalogo, left_on=['Ciclo_Estacion_Retiro'] , right_on=['ID'] , how='left' ).drop('ID',axis=1)"
   ]
  },
  {
   "cell_type": "code",
   "execution_count": 34,
   "id": "residential-warrior",
   "metadata": {
    "scrolled": true
   },
   "outputs": [
    {
     "data": {
      "text/plain": [
       "Ampliación Granada                  76\n",
       "Polanco                             41\n",
       "Roma Norte                          35\n",
       "Centro                              27\n",
       "Juárez                              24\n",
       "Del Valle Sur                       18\n",
       "Hipódromo                           16\n",
       "Del Valle Norte                     15\n",
       "Roma Sur                            13\n",
       "Del Valle Centro                    13\n",
       "Cuauhtémoc                          13\n",
       "Nápoles                             12\n",
       "Narvarte Poniente                   12\n",
       "Anzures                             11\n",
       "Escandón                            10\n",
       "Condesa                             10\n",
       "Santa Cruz Atoyac                   10\n",
       "Insurgentes Mixcoac                  9\n",
       "San Miguel Chapultepec               8\n",
       "San Rafael                           8\n",
       "Buenavista                           8\n",
       "Tlacoquemecatl                       7\n",
       "San Pedro de los Pinos               7\n",
       "General Pedro Maria Anaya            6\n",
       "Anáhuac I                            5\n",
       "Granada                              5\n",
       "Tabacalera                           4\n",
       "Actipan                              4\n",
       "Hipódromo Condesa                    4\n",
       "Ciudad de los Deportes               4\n",
       "Bosque de Chapultepec                4\n",
       "Ampliación Nápoles                   3\n",
       "Insurgentes San Borja                3\n",
       "Xoco                                 3\n",
       "Letran Valle                         3\n",
       "Santa María Nonoalco                 3\n",
       "Acacias                              3\n",
       "Irrigación                           2\n",
       "Noche Buena                          2\n",
       "Doctores                             2\n",
       "Lomas de Chapultepec Sección V       2\n",
       "Lomas de Chapultepec Sección III     2\n",
       "Lomas Virreyes                       2\n",
       "Anáhuac Mariano Escobedo             2\n",
       "Residencial Emperadores              2\n",
       "Extremadura Insurgentes              2\n",
       "Molino del Rey                       1\n",
       "Anáhuac Dos Lagos                    1\n",
       "Portales Norte                       1\n",
       "Cuauhtémoc Pensil                    1\n",
       "Name: Colonia, dtype: int64"
      ]
     },
     "execution_count": 34,
     "metadata": {},
     "output_type": "execute_result"
    }
   ],
   "source": [
    "catalogo['Colonia'].value_counts()"
   ]
  },
  {
   "cell_type": "markdown",
   "id": "06c16c80",
   "metadata": {},
   "source": [
    "## Gráficas simples"
   ]
  },
  {
   "cell_type": "code",
   "execution_count": 35,
   "id": "f427f682",
   "metadata": {},
   "outputs": [],
   "source": [
    "aux = df.sample(n=10000)"
   ]
  },
  {
   "cell_type": "code",
   "execution_count": 36,
   "id": "38bcb4bf",
   "metadata": {},
   "outputs": [],
   "source": [
    "aux.reset_index(drop=True,inplace=True)"
   ]
  },
  {
   "cell_type": "code",
   "execution_count": 37,
   "id": "40263582",
   "metadata": {},
   "outputs": [
    {
     "data": {
      "text/plain": [
       "<AxesSubplot:>"
      ]
     },
     "execution_count": 37,
     "metadata": {},
     "output_type": "execute_result"
    },
    {
     "data": {
      "image/png": "[encoded data removed]",
      "text/plain": [
       "<Figure size 432x288 with 1 Axes>"
      ]
     },
     "metadata": {
      "needs_background": "light"
     },
     "output_type": "display_data"
    }
   ],
   "source": [
    "aux['fh_retiro'].map(lambda x: x.hour).value_counts(True).sort_index().plot(kind='bar')"
   ]
  },
  {
   "cell_type": "code",
   "execution_count": 38,
   "id": "d02575ca",
   "metadata": {
    "cell_style": "center"
   },
   "outputs": [
    {
     "data": {
      "text/plain": [
       "<AxesSubplot:>"
      ]
     },
     "execution_count": 38,
     "metadata": {},
     "output_type": "execute_result"
    },
    {
     "data": {
      "image/png": "[encoded data removed]",
      "text/plain": [
       "<Figure size 432x288 with 1 Axes>"
      ]
     },
     "metadata": {
      "needs_background": "light"
     },
     "output_type": "display_data"
    }
   ],
   "source": [
    "aux['fh_retiro'].map(lambda x: x.hour).value_counts(True).sort_index().plot(marker='o')"
   ]
  },
  {
   "cell_type": "code",
   "execution_count": null,
   "id": "union-circulation",
   "metadata": {},
   "outputs": [],
   "source": []
  },
  {
   "cell_type": "code",
   "execution_count": null,
   "id": "favorite-operation",
   "metadata": {},
   "outputs": [],
   "source": []
  },
  {
   "cell_type": "code",
   "execution_count": null,
   "id": "extra-wilson",
   "metadata": {},
   "outputs": [],
   "source": []
  },
  {
   "cell_type": "code",
   "execution_count": null,
   "id": "theoretical-belfast",
   "metadata": {},
   "outputs": [],
   "source": []
  },
  {
   "cell_type": "code",
   "execution_count": null,
   "id": "massive-chinese",
   "metadata": {},
   "outputs": [],
   "source": []
  },
  {
   "cell_type": "code",
   "execution_count": null,
   "id": "enhanced-egyptian",
   "metadata": {},
   "outputs": [],
   "source": []
  },
  {
   "cell_type": "code",
   "execution_count": null,
   "id": "endless-subsection",
   "metadata": {},
   "outputs": [],
   "source": []
  },
  {
   "cell_type": "code",
   "execution_count": null,
   "id": "indirect-sequence",
   "metadata": {},
   "outputs": [],
   "source": []
  },
  {
   "cell_type": "code",
   "execution_count": null,
   "id": "mechanical-exposure",
   "metadata": {},
   "outputs": [],
   "source": []
  },
  {
   "cell_type": "code",
   "execution_count": null,
   "id": "suitable-facing",
   "metadata": {},
   "outputs": [],
   "source": []
  },
  {
   "cell_type": "code",
   "execution_count": null,
   "id": "biblical-charter",
   "metadata": {},
   "outputs": [],
   "source": []
  },
  {
   "cell_type": "code",
   "execution_count": null,
   "id": "floating-silver",
   "metadata": {},
   "outputs": [],
   "source": []
  },
  {
   "cell_type": "code",
   "execution_count": null,
   "id": "greenhouse-ukraine",
   "metadata": {},
   "outputs": [],
   "source": []
  },
  {
   "cell_type": "code",
   "execution_count": null,
   "id": "humanitarian-payday",
   "metadata": {},
   "outputs": [],
   "source": []
  }
 ],
 "metadata": {
  "kernelspec": {
   "display_name": "diplo",
   "language": "python",
   "name": "diplo"
  },
  "language_info": {
   "codemirror_mode": {
    "name": "ipython",
    "version": 3
   },
   "file_extension": ".py",
   "mimetype": "text/x-python",
   "name": "python",
   "nbconvert_exporter": "python",
   "pygments_lexer": "ipython3",
   "version": "3.10.4"
  },
  "latex_envs": {
   "LaTeX_envs_menu_present": true,
   "autoclose": false,
   "autocomplete": true,
   "bibliofile": "biblio.bib",
   "cite_by": "apalike",
   "current_citInitial": 1,
   "eqLabelWithNumbers": true,
   "eqNumInitial": 1,
   "hotkeys": {
    "equation": "Ctrl-E",
    "itemize": "Ctrl-I"
   },
   "labels_anchors": false,
   "latex_user_defs": false,
   "report_style_numbering": false,
   "user_envs_cfg": false
  },
  "toc": {
   "base_numbering": 1,
   "nav_menu": {},
   "number_sections": true,
   "sideBar": true,
   "skip_h1_title": false,
   "title_cell": "Table of Contents",
   "title_sidebar": "Contents",
   "toc_cell": false,
   "toc_position": {
    "height": "calc(100% - 180px)",
    "left": "10px",
    "top": "150px",
    "width": "187.778px"
   },
   "toc_section_display": true,
   "toc_window_display": true
  }
 },
 "nbformat": 4,
 "nbformat_minor": 5
}
