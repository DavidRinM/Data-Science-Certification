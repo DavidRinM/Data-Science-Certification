{
 "cells": [
  {
   "cell_type": "code",
   "execution_count": 1,
   "id": "bcb2c7d7",
   "metadata": {},
   "outputs": [
    {
     "name": "stderr",
     "output_type": "stream",
     "text": [
      "/tmp/ipykernel_5647/1325007215.py:1: DeprecationWarning: Importing display from IPython.core.display is deprecated since IPython 7.14, please import from IPython display\n",
      "  from IPython.core.display import HTML, display\n"
     ]
    },
    {
     "data": {
      "text/html": [
       "<style>.container {width:100%} important!</style>"
      ],
      "text/plain": [
       "<IPython.core.display.HTML object>"
      ]
     },
     "metadata": {},
     "output_type": "display_data"
    }
   ],
   "source": [
    "from IPython.core.display import HTML, display\n",
    "display(HTML('<style>.container {width:100%} important!</style>'))"
   ]
  },
  {
   "cell_type": "markdown",
   "id": "07e93bf9",
   "metadata": {},
   "source": [
    "## Introducción"
   ]
  },
  {
   "cell_type": "markdown",
   "id": "78e8f63b",
   "metadata": {},
   "source": [
    "- Ecobicis\n",
    "- Oferta y Demanda\n",
    "- Limpieza de datos"
   ]
  },
  {
   "cell_type": "markdown",
   "id": "64e7e8e3",
   "metadata": {},
   "source": [
    "## Librerías"
   ]
  },
  {
   "cell_type": "code",
   "execution_count": 2,
   "id": "3f726f7e",
   "metadata": {},
   "outputs": [],
   "source": [
    "import os \n",
    "import pandas as pd\n",
    "\n",
    "import matplotlib.pyplot as plt"
   ]
  },
  {
   "cell_type": "markdown",
   "id": "adc8a8b7",
   "metadata": {},
   "source": [
    "## Carga de archivo"
   ]
  },
  {
   "cell_type": "code",
   "execution_count": 3,
   "id": "5193bb76",
   "metadata": {},
   "outputs": [],
   "source": [
    "ruta = \"../Datasets/data_ecobici/\"\n",
    "lst_nomb_archi = os.listdir(ruta)"
   ]
  },
  {
   "cell_type": "code",
   "execution_count": 4,
   "id": "ded5d2d2",
   "metadata": {
    "scrolled": true
   },
   "outputs": [],
   "source": [
    "viajes = [nom for nom in lst_nomb_archi if nom[:2]=='20']"
   ]
  },
  {
   "cell_type": "code",
   "execution_count": 5,
   "id": "6ab28a49",
   "metadata": {
    "scrolled": true
   },
   "outputs": [],
   "source": [
    "cat = [nom for nom in lst_nomb_archi if nom[:2] != '20']"
   ]
  },
  {
   "cell_type": "code",
   "execution_count": 6,
   "id": "beebde74",
   "metadata": {},
   "outputs": [],
   "source": [
    "viajes = [os.path.join(ruta,n) for n in viajes]"
   ]
  },
  {
   "cell_type": "code",
   "execution_count": null,
   "id": "e627a29a",
   "metadata": {
    "scrolled": true
   },
   "outputs": [
    {
     "name": "stdout",
     "output_type": "stream",
     "text": [
      "0\n"
     ]
    },
    {
     "name": "stderr",
     "output_type": "stream",
     "text": [
      "/tmp/ipykernel_5647/3793373452.py:4: DtypeWarning: Columns (2) have mixed types. Specify dtype option on import or set low_memory=False.\n",
      "  df = pd.read_csv(archivo)\n"
     ]
    },
    {
     "name": "stdout",
     "output_type": "stream",
     "text": [
      "1\n"
     ]
    },
    {
     "name": "stderr",
     "output_type": "stream",
     "text": [
      "/tmp/ipykernel_5647/3793373452.py:6: DtypeWarning: Columns (2) have mixed types. Specify dtype option on import or set low_memory=False.\n",
      "  df = pd.concat([df , pd.read_csv(archivo)], ignore_index=True).reset_index(drop=True)\n"
     ]
    },
    {
     "name": "stdout",
     "output_type": "stream",
     "text": [
      "2\n",
      "3\n",
      "4\n",
      "5\n",
      "6\n",
      "7\n"
     ]
    },
    {
     "name": "stderr",
     "output_type": "stream",
     "text": [
      "/tmp/ipykernel_5647/3793373452.py:6: DtypeWarning: Columns (2) have mixed types. Specify dtype option on import or set low_memory=False.\n",
      "  df = pd.concat([df , pd.read_csv(archivo)], ignore_index=True).reset_index(drop=True)\n"
     ]
    },
    {
     "name": "stdout",
     "output_type": "stream",
     "text": [
      "8\n"
     ]
    },
    {
     "name": "stderr",
     "output_type": "stream",
     "text": [
      "/tmp/ipykernel_5647/3793373452.py:6: DtypeWarning: Columns (2) have mixed types. Specify dtype option on import or set low_memory=False.\n",
      "  df = pd.concat([df , pd.read_csv(archivo)], ignore_index=True).reset_index(drop=True)\n"
     ]
    },
    {
     "name": "stdout",
     "output_type": "stream",
     "text": [
      "9\n"
     ]
    },
    {
     "name": "stderr",
     "output_type": "stream",
     "text": [
      "/tmp/ipykernel_5647/3793373452.py:6: DtypeWarning: Columns (2) have mixed types. Specify dtype option on import or set low_memory=False.\n",
      "  df = pd.concat([df , pd.read_csv(archivo)], ignore_index=True).reset_index(drop=True)\n"
     ]
    },
    {
     "name": "stdout",
     "output_type": "stream",
     "text": [
      "10\n",
      "11\n",
      "12\n",
      "13\n",
      "14\n"
     ]
    },
    {
     "name": "stderr",
     "output_type": "stream",
     "text": [
      "/tmp/ipykernel_5647/3793373452.py:6: DtypeWarning: Columns (2) have mixed types. Specify dtype option on import or set low_memory=False.\n",
      "  df = pd.concat([df , pd.read_csv(archivo)], ignore_index=True).reset_index(drop=True)\n"
     ]
    },
    {
     "name": "stdout",
     "output_type": "stream",
     "text": [
      "15\n"
     ]
    },
    {
     "name": "stderr",
     "output_type": "stream",
     "text": [
      "/tmp/ipykernel_5647/3793373452.py:6: DtypeWarning: Columns (2) have mixed types. Specify dtype option on import or set low_memory=False.\n",
      "  df = pd.concat([df , pd.read_csv(archivo)], ignore_index=True).reset_index(drop=True)\n"
     ]
    },
    {
     "name": "stdout",
     "output_type": "stream",
     "text": [
      "16\n"
     ]
    },
    {
     "name": "stderr",
     "output_type": "stream",
     "text": [
      "/tmp/ipykernel_5647/3793373452.py:6: DtypeWarning: Columns (2) have mixed types. Specify dtype option on import or set low_memory=False.\n",
      "  df = pd.concat([df , pd.read_csv(archivo)], ignore_index=True).reset_index(drop=True)\n"
     ]
    }
   ],
   "source": [
    "for i, archivo in enumerate(viajes):\n",
    "    print(i)\n",
    "    if i == 0:\n",
    "        df = pd.read_csv(archivo)\n",
    "    else:\n",
    "        df = pd.concat([df , pd.read_csv(archivo)], ignore_index=True).reset_index(drop=True)"
   ]
  },
  {
   "cell_type": "code",
   "execution_count": 7,
   "id": "bizarre-belfast",
   "metadata": {},
   "outputs": [
    {
     "name": "stderr",
     "output_type": "stream",
     "text": [
      "/media/big/luis_g/env_insaite_luis/lib/python3.8/site-packages/pandas/core/reshape/concat.py:348: DtypeWarning: Columns (2) have mixed types.Specify dtype option on import or set low_memory=False.\n",
      "  objs = list(objs)\n",
      "/media/big/luis_g/env_insaite_luis/lib/python3.8/site-packages/pandas/core/reshape/concat.py:348: DtypeWarning: Columns (2,6,9) have mixed types.Specify dtype option on import or set low_memory=False.\n",
      "  objs = list(objs)\n"
     ]
    }
   ],
   "source": [
    "### TAREA: Carga de datos de manera funcional (paradicma de progrmación funcional) **Investigar/Intentar** \""
   ]
  },
  {
   "cell_type": "markdown",
   "id": "inclusive-hours",
   "metadata": {},
   "source": [
    "## Inspección / Exploración "
   ]
  },
  {
   "cell_type": "code",
   "execution_count": 8,
   "id": "4f0076b4",
   "metadata": {},
   "outputs": [
    {
     "name": "stdout",
     "output_type": "stream",
     "text": [
      "(17104573, 10)\n"
     ]
    }
   ],
   "source": [
    "print(df.shape)"
   ]
  },
  {
   "cell_type": "code",
   "execution_count": 9,
   "id": "f99c58a7",
   "metadata": {},
   "outputs": [
    {
     "data": {
      "text/html": [
       "<div>\n",
       "<style scoped>\n",
       "    .dataframe tbody tr th:only-of-type {\n",
       "        vertical-align: middle;\n",
       "    }\n",
       "\n",
       "    .dataframe tbody tr th {\n",
       "        vertical-align: top;\n",
       "    }\n",
       "\n",
       "    .dataframe thead th {\n",
       "        text-align: right;\n",
       "    }\n",
       "</style>\n",
       "<table border=\"1\" class=\"dataframe\">\n",
       "  <thead>\n",
       "    <tr style=\"text-align: right;\">\n",
       "      <th></th>\n",
       "      <th>Genero_Usuario</th>\n",
       "      <th>Edad_Usuario</th>\n",
       "      <th>Bici</th>\n",
       "      <th>Ciclo_Estacion_Retiro</th>\n",
       "      <th>Fecha_Retiro</th>\n",
       "      <th>Hora_Retiro</th>\n",
       "      <th>Ciclo_Estacion_Arribo</th>\n",
       "      <th>Fecha_Arribo</th>\n",
       "      <th>Hora_Arribo</th>\n",
       "      <th>Unnamed: 9</th>\n",
       "    </tr>\n",
       "  </thead>\n",
       "  <tbody>\n",
       "    <tr>\n",
       "      <th>10196088</th>\n",
       "      <td>F</td>\n",
       "      <td>25</td>\n",
       "      <td>2828</td>\n",
       "      <td>80</td>\n",
       "      <td>06/10/2018</td>\n",
       "      <td>17:01:06</td>\n",
       "      <td>3</td>\n",
       "      <td>06/10/2018</td>\n",
       "      <td>17:15:24</td>\n",
       "      <td>NaN</td>\n",
       "    </tr>\n",
       "    <tr>\n",
       "      <th>12231695</th>\n",
       "      <td>M</td>\n",
       "      <td>33</td>\n",
       "      <td>1830</td>\n",
       "      <td>142</td>\n",
       "      <td>03/06/2019</td>\n",
       "      <td>11:38:07</td>\n",
       "      <td>158</td>\n",
       "      <td>03/06/2019</td>\n",
       "      <td>11:45:51</td>\n",
       "      <td>NaN</td>\n",
       "    </tr>\n",
       "    <tr>\n",
       "      <th>14771241</th>\n",
       "      <td>M</td>\n",
       "      <td>22</td>\n",
       "      <td>7426</td>\n",
       "      <td>208</td>\n",
       "      <td>20/07/2018</td>\n",
       "      <td>7:32:47</td>\n",
       "      <td>460</td>\n",
       "      <td>20/07/2018</td>\n",
       "      <td>7:44:39</td>\n",
       "      <td>NaN</td>\n",
       "    </tr>\n",
       "    <tr>\n",
       "      <th>10438216</th>\n",
       "      <td>M</td>\n",
       "      <td>57</td>\n",
       "      <td>11602</td>\n",
       "      <td>235</td>\n",
       "      <td>16/10/2018</td>\n",
       "      <td>18:15:13</td>\n",
       "      <td>158</td>\n",
       "      <td>16/10/2018</td>\n",
       "      <td>18:49:15</td>\n",
       "      <td>NaN</td>\n",
       "    </tr>\n",
       "    <tr>\n",
       "      <th>16923996</th>\n",
       "      <td>M</td>\n",
       "      <td>37</td>\n",
       "      <td>1568</td>\n",
       "      <td>52</td>\n",
       "      <td>23/09/2018</td>\n",
       "      <td>8:07:12</td>\n",
       "      <td>266</td>\n",
       "      <td>23/09/2018</td>\n",
       "      <td>8:17:18</td>\n",
       "      <td>NaN</td>\n",
       "    </tr>\n",
       "  </tbody>\n",
       "</table>\n",
       "</div>"
      ],
      "text/plain": [
       "         Genero_Usuario  Edad_Usuario   Bici  Ciclo_Estacion_Retiro  \\\n",
       "10196088              F            25   2828                     80   \n",
       "12231695              M            33   1830                    142   \n",
       "14771241              M            22   7426                    208   \n",
       "10438216              M            57  11602                    235   \n",
       "16923996              M            37   1568                     52   \n",
       "\n",
       "         Fecha_Retiro Hora_Retiro Ciclo_Estacion_Arribo Fecha_Arribo  \\\n",
       "10196088   06/10/2018    17:01:06                     3   06/10/2018   \n",
       "12231695   03/06/2019    11:38:07                   158   03/06/2019   \n",
       "14771241   20/07/2018     7:32:47                   460   20/07/2018   \n",
       "10438216   16/10/2018    18:15:13                   158   16/10/2018   \n",
       "16923996   23/09/2018     8:07:12                   266   23/09/2018   \n",
       "\n",
       "         Hora_Arribo Unnamed: 9  \n",
       "10196088    17:15:24        NaN  \n",
       "12231695    11:45:51        NaN  \n",
       "14771241     7:44:39        NaN  \n",
       "10438216    18:49:15        NaN  \n",
       "16923996     8:17:18        NaN  "
      ]
     },
     "execution_count": 9,
     "metadata": {},
     "output_type": "execute_result"
    }
   ],
   "source": [
    "df.sample(5)"
   ]
  },
  {
   "cell_type": "code",
   "execution_count": 10,
   "id": "dce75a3a",
   "metadata": {
    "scrolled": false
   },
   "outputs": [
    {
     "name": "stdout",
     "output_type": "stream",
     "text": [
      "Genero_Usuario [<class 'str'>] \n",
      "\n",
      "Edad_Usuario [<class 'int'>] \n",
      "\n",
      "Bici [<class 'int'>, <class 'str'>] \n",
      "\n",
      "Ciclo_Estacion_Retiro [<class 'int'>] \n",
      "\n",
      "Fecha_Retiro [<class 'str'>] \n",
      "\n",
      "Hora_Retiro [<class 'str'>] \n",
      "\n",
      "Ciclo_Estacion_Arribo [<class 'int'>, <class 'str'>] \n",
      "\n",
      "Fecha_Arribo [<class 'str'>] \n",
      "\n",
      "Hora_Arribo [<class 'str'>] \n",
      "\n",
      "Unnamed: 9 [<class 'float'>, <class 'str'>] \n",
      "\n"
     ]
    }
   ],
   "source": [
    "for c in df.columns:\n",
    "    print( c , df[c].map(type).unique().tolist()  , \"\\n\"*1 ) "
   ]
  },
  {
   "cell_type": "code",
   "execution_count": 11,
   "id": "4c9d9a84",
   "metadata": {
    "cell_style": "center"
   },
   "outputs": [
    {
     "data": {
      "text/plain": [
       "<class 'int'>    0.765772\n",
       "<class 'str'>    0.234228\n",
       "Name: Bici, dtype: float64"
      ]
     },
     "execution_count": 11,
     "metadata": {},
     "output_type": "execute_result"
    }
   ],
   "source": [
    "df['Bici'].map(type).value_counts(True)"
   ]
  },
  {
   "cell_type": "code",
   "execution_count": 12,
   "id": "16f6f116",
   "metadata": {
    "cell_style": "center"
   },
   "outputs": [],
   "source": [
    "df['Bici'] = df['Bici'].astype(str)"
   ]
  },
  {
   "cell_type": "code",
   "execution_count": 13,
   "id": "a0674bd0",
   "metadata": {},
   "outputs": [],
   "source": [
    "df = df.loc[ (~df.Fecha_Arribo.isnull()) & (~df.Fecha_Retiro.isnull() )].copy().reset_index(drop=True)"
   ]
  },
  {
   "cell_type": "code",
   "execution_count": 14,
   "id": "953e5d2f",
   "metadata": {},
   "outputs": [
    {
     "data": {
      "text/plain": [
       "(17104573, 10)"
      ]
     },
     "execution_count": 14,
     "metadata": {},
     "output_type": "execute_result"
    }
   ],
   "source": [
    "df.shape"
   ]
  },
  {
   "cell_type": "code",
   "execution_count": 15,
   "id": "precious-substitute",
   "metadata": {},
   "outputs": [],
   "source": [
    "# Con for..."
   ]
  },
  {
   "cell_type": "code",
   "execution_count": 16,
   "id": "f6a78dc9",
   "metadata": {},
   "outputs": [],
   "source": [
    "df['fh_retiro'] = pd.to_datetime(  df['Fecha_Retiro'].map( lambda x: x[-4:]+'-'+ x[3:5] +'-' + x[:2] )+\n",
    "            ' '+ df['Hora_Retiro'].map( lambda x: '0'+ x if len(x)==7 else x ), errors='coerce' )"
   ]
  },
  {
   "cell_type": "code",
   "execution_count": 17,
   "id": "043730a5",
   "metadata": {
    "code_folding": []
   },
   "outputs": [],
   "source": [
    "df['fh_arribo'] =  pd.to_datetime(  df['Fecha_Arribo'].map( lambda x: x[-4:]+'-'+ x[3:5] +'-' + x[:2] )+\n",
    "                    ' '+ df['Hora_Arribo'].map( lambda x: '0'+ x if len(x)==7 else x ), errors='coerce' )"
   ]
  },
  {
   "cell_type": "code",
   "execution_count": 18,
   "id": "arabic-rapid",
   "metadata": {},
   "outputs": [],
   "source": [
    "df = df.loc[ (~df.fh_arribo.isnull()) & (~df.fh_retiro.isnull() )].copy().reset_index(drop=True)"
   ]
  },
  {
   "cell_type": "code",
   "execution_count": 19,
   "id": "e13b39fb",
   "metadata": {},
   "outputs": [
    {
     "data": {
      "text/html": [
       "<div>\n",
       "<style scoped>\n",
       "    .dataframe tbody tr th:only-of-type {\n",
       "        vertical-align: middle;\n",
       "    }\n",
       "\n",
       "    .dataframe tbody tr th {\n",
       "        vertical-align: top;\n",
       "    }\n",
       "\n",
       "    .dataframe thead th {\n",
       "        text-align: right;\n",
       "    }\n",
       "</style>\n",
       "<table border=\"1\" class=\"dataframe\">\n",
       "  <thead>\n",
       "    <tr style=\"text-align: right;\">\n",
       "      <th></th>\n",
       "      <th>Genero_Usuario</th>\n",
       "      <th>Edad_Usuario</th>\n",
       "      <th>Bici</th>\n",
       "      <th>Ciclo_Estacion_Retiro</th>\n",
       "      <th>Fecha_Retiro</th>\n",
       "      <th>Hora_Retiro</th>\n",
       "      <th>Ciclo_Estacion_Arribo</th>\n",
       "      <th>Fecha_Arribo</th>\n",
       "      <th>Hora_Arribo</th>\n",
       "      <th>Unnamed: 9</th>\n",
       "      <th>fh_retiro</th>\n",
       "      <th>fh_arribo</th>\n",
       "    </tr>\n",
       "  </thead>\n",
       "  <tbody>\n",
       "    <tr>\n",
       "      <th>0</th>\n",
       "      <td>M</td>\n",
       "      <td>25</td>\n",
       "      <td>1427</td>\n",
       "      <td>372</td>\n",
       "      <td>01/05/2019</td>\n",
       "      <td>00:00:04</td>\n",
       "      <td>397</td>\n",
       "      <td>01/05/2019</td>\n",
       "      <td>00:05:18</td>\n",
       "      <td>NaN</td>\n",
       "      <td>2019-05-01 00:00:04</td>\n",
       "      <td>2019-05-01 00:05:18</td>\n",
       "    </tr>\n",
       "    <tr>\n",
       "      <th>1</th>\n",
       "      <td>M</td>\n",
       "      <td>26</td>\n",
       "      <td>8431</td>\n",
       "      <td>202</td>\n",
       "      <td>01/05/2019</td>\n",
       "      <td>00:00:26</td>\n",
       "      <td>318</td>\n",
       "      <td>01/05/2019</td>\n",
       "      <td>00:32:24</td>\n",
       "      <td>NaN</td>\n",
       "      <td>2019-05-01 00:00:26</td>\n",
       "      <td>2019-05-01 00:32:24</td>\n",
       "    </tr>\n",
       "    <tr>\n",
       "      <th>2</th>\n",
       "      <td>M</td>\n",
       "      <td>28</td>\n",
       "      <td>10212</td>\n",
       "      <td>340</td>\n",
       "      <td>01/05/2019</td>\n",
       "      <td>00:00:49</td>\n",
       "      <td>394</td>\n",
       "      <td>01/05/2019</td>\n",
       "      <td>00:11:31</td>\n",
       "      <td>NaN</td>\n",
       "      <td>2019-05-01 00:00:49</td>\n",
       "      <td>2019-05-01 00:11:31</td>\n",
       "    </tr>\n",
       "    <tr>\n",
       "      <th>3</th>\n",
       "      <td>F</td>\n",
       "      <td>23</td>\n",
       "      <td>12098</td>\n",
       "      <td>290</td>\n",
       "      <td>01/05/2019</td>\n",
       "      <td>00:00:51</td>\n",
       "      <td>292</td>\n",
       "      <td>01/05/2019</td>\n",
       "      <td>00:05:30</td>\n",
       "      <td>NaN</td>\n",
       "      <td>2019-05-01 00:00:51</td>\n",
       "      <td>2019-05-01 00:05:30</td>\n",
       "    </tr>\n",
       "    <tr>\n",
       "      <th>4</th>\n",
       "      <td>M</td>\n",
       "      <td>33</td>\n",
       "      <td>11352</td>\n",
       "      <td>290</td>\n",
       "      <td>01/05/2019</td>\n",
       "      <td>00:01:03</td>\n",
       "      <td>292</td>\n",
       "      <td>01/05/2019</td>\n",
       "      <td>00:05:31</td>\n",
       "      <td>NaN</td>\n",
       "      <td>2019-05-01 00:01:03</td>\n",
       "      <td>2019-05-01 00:05:31</td>\n",
       "    </tr>\n",
       "  </tbody>\n",
       "</table>\n",
       "</div>"
      ],
      "text/plain": [
       "  Genero_Usuario  Edad_Usuario   Bici  Ciclo_Estacion_Retiro Fecha_Retiro  \\\n",
       "0              M            25   1427                    372   01/05/2019   \n",
       "1              M            26   8431                    202   01/05/2019   \n",
       "2              M            28  10212                    340   01/05/2019   \n",
       "3              F            23  12098                    290   01/05/2019   \n",
       "4              M            33  11352                    290   01/05/2019   \n",
       "\n",
       "  Hora_Retiro Ciclo_Estacion_Arribo Fecha_Arribo Hora_Arribo Unnamed: 9  \\\n",
       "0    00:00:04                   397   01/05/2019    00:05:18        NaN   \n",
       "1    00:00:26                   318   01/05/2019    00:32:24        NaN   \n",
       "2    00:00:49                   394   01/05/2019    00:11:31        NaN   \n",
       "3    00:00:51                   292   01/05/2019    00:05:30        NaN   \n",
       "4    00:01:03                   292   01/05/2019    00:05:31        NaN   \n",
       "\n",
       "            fh_retiro           fh_arribo  \n",
       "0 2019-05-01 00:00:04 2019-05-01 00:05:18  \n",
       "1 2019-05-01 00:00:26 2019-05-01 00:32:24  \n",
       "2 2019-05-01 00:00:49 2019-05-01 00:11:31  \n",
       "3 2019-05-01 00:00:51 2019-05-01 00:05:30  \n",
       "4 2019-05-01 00:01:03 2019-05-01 00:05:31  "
      ]
     },
     "execution_count": 19,
     "metadata": {},
     "output_type": "execute_result"
    }
   ],
   "source": [
    "df.head()"
   ]
  },
  {
   "cell_type": "code",
   "execution_count": 20,
   "id": "fresh-kennedy",
   "metadata": {},
   "outputs": [
    {
     "data": {
      "text/plain": [
       "<class 'int'>    0.996169\n",
       "<class 'str'>    0.003831\n",
       "Name: Ciclo_Estacion_Arribo, dtype: float64"
      ]
     },
     "execution_count": 20,
     "metadata": {},
     "output_type": "execute_result"
    }
   ],
   "source": [
    "df['Ciclo_Estacion_Arribo'].map(type).value_counts(True)"
   ]
  },
  {
   "cell_type": "code",
   "execution_count": 21,
   "id": "dried-minimum",
   "metadata": {
    "scrolled": true
   },
   "outputs": [],
   "source": [
    "df['Ciclo_Estacion_Arribo'] = pd.to_numeric( df['Ciclo_Estacion_Arribo'], errors='coerce').astype(int)"
   ]
  },
  {
   "cell_type": "code",
   "execution_count": 22,
   "id": "d0860f2d",
   "metadata": {
    "scrolled": true
   },
   "outputs": [],
   "source": [
    "df.drop('Unnamed: 9',axis=1,inplace=True)"
   ]
  },
  {
   "cell_type": "code",
   "execution_count": 23,
   "id": "published-survivor",
   "metadata": {},
   "outputs": [],
   "source": [
    "df = df[['Genero_Usuario','Edad_Usuario','Bici','Ciclo_Estacion_Retiro','Ciclo_Estacion_Arribo','fh_retiro','fh_arribo']]"
   ]
  },
  {
   "cell_type": "code",
   "execution_count": 24,
   "id": "37d8db27",
   "metadata": {},
   "outputs": [
    {
     "data": {
      "text/html": [
       "<div>\n",
       "<style scoped>\n",
       "    .dataframe tbody tr th:only-of-type {\n",
       "        vertical-align: middle;\n",
       "    }\n",
       "\n",
       "    .dataframe tbody tr th {\n",
       "        vertical-align: top;\n",
       "    }\n",
       "\n",
       "    .dataframe thead th {\n",
       "        text-align: right;\n",
       "    }\n",
       "</style>\n",
       "<table border=\"1\" class=\"dataframe\">\n",
       "  <thead>\n",
       "    <tr style=\"text-align: right;\">\n",
       "      <th></th>\n",
       "      <th>Genero_Usuario</th>\n",
       "      <th>Edad_Usuario</th>\n",
       "      <th>Bici</th>\n",
       "      <th>Ciclo_Estacion_Retiro</th>\n",
       "      <th>Ciclo_Estacion_Arribo</th>\n",
       "      <th>fh_retiro</th>\n",
       "      <th>fh_arribo</th>\n",
       "    </tr>\n",
       "  </thead>\n",
       "  <tbody>\n",
       "    <tr>\n",
       "      <th>0</th>\n",
       "      <td>M</td>\n",
       "      <td>25</td>\n",
       "      <td>1427</td>\n",
       "      <td>372</td>\n",
       "      <td>397</td>\n",
       "      <td>2019-05-01 00:00:04</td>\n",
       "      <td>2019-05-01 00:05:18</td>\n",
       "    </tr>\n",
       "    <tr>\n",
       "      <th>1</th>\n",
       "      <td>M</td>\n",
       "      <td>26</td>\n",
       "      <td>8431</td>\n",
       "      <td>202</td>\n",
       "      <td>318</td>\n",
       "      <td>2019-05-01 00:00:26</td>\n",
       "      <td>2019-05-01 00:32:24</td>\n",
       "    </tr>\n",
       "    <tr>\n",
       "      <th>2</th>\n",
       "      <td>M</td>\n",
       "      <td>28</td>\n",
       "      <td>10212</td>\n",
       "      <td>340</td>\n",
       "      <td>394</td>\n",
       "      <td>2019-05-01 00:00:49</td>\n",
       "      <td>2019-05-01 00:11:31</td>\n",
       "    </tr>\n",
       "    <tr>\n",
       "      <th>3</th>\n",
       "      <td>F</td>\n",
       "      <td>23</td>\n",
       "      <td>12098</td>\n",
       "      <td>290</td>\n",
       "      <td>292</td>\n",
       "      <td>2019-05-01 00:00:51</td>\n",
       "      <td>2019-05-01 00:05:30</td>\n",
       "    </tr>\n",
       "    <tr>\n",
       "      <th>4</th>\n",
       "      <td>M</td>\n",
       "      <td>33</td>\n",
       "      <td>11352</td>\n",
       "      <td>290</td>\n",
       "      <td>292</td>\n",
       "      <td>2019-05-01 00:01:03</td>\n",
       "      <td>2019-05-01 00:05:31</td>\n",
       "    </tr>\n",
       "  </tbody>\n",
       "</table>\n",
       "</div>"
      ],
      "text/plain": [
       "  Genero_Usuario  Edad_Usuario   Bici  Ciclo_Estacion_Retiro  \\\n",
       "0              M            25   1427                    372   \n",
       "1              M            26   8431                    202   \n",
       "2              M            28  10212                    340   \n",
       "3              F            23  12098                    290   \n",
       "4              M            33  11352                    290   \n",
       "\n",
       "   Ciclo_Estacion_Arribo           fh_retiro           fh_arribo  \n",
       "0                    397 2019-05-01 00:00:04 2019-05-01 00:05:18  \n",
       "1                    318 2019-05-01 00:00:26 2019-05-01 00:32:24  \n",
       "2                    394 2019-05-01 00:00:49 2019-05-01 00:11:31  \n",
       "3                    292 2019-05-01 00:00:51 2019-05-01 00:05:30  \n",
       "4                    292 2019-05-01 00:01:03 2019-05-01 00:05:31  "
      ]
     },
     "execution_count": 24,
     "metadata": {},
     "output_type": "execute_result"
    }
   ],
   "source": [
    "df.head()"
   ]
  },
  {
   "cell_type": "code",
   "execution_count": 25,
   "id": "hired-series",
   "metadata": {},
   "outputs": [
    {
     "data": {
      "text/plain": [
       "Genero_Usuario                   object\n",
       "Edad_Usuario                      int64\n",
       "Bici                             object\n",
       "Ciclo_Estacion_Retiro             int64\n",
       "Ciclo_Estacion_Arribo             int64\n",
       "fh_retiro                datetime64[ns]\n",
       "fh_arribo                datetime64[ns]\n",
       "dtype: object"
      ]
     },
     "execution_count": 25,
     "metadata": {},
     "output_type": "execute_result"
    }
   ],
   "source": [
    "df.dtypes"
   ]
  },
  {
   "cell_type": "markdown",
   "id": "standard-civilian",
   "metadata": {},
   "source": [
    "### Lectura Catálogo"
   ]
  },
  {
   "cell_type": "code",
   "execution_count": 26,
   "id": "c406e8a5",
   "metadata": {},
   "outputs": [],
   "source": [
    "catalogo = pd.read_csv(os.path.join( ruta , cat[0] ) )"
   ]
  },
  {
   "cell_type": "code",
   "execution_count": 27,
   "id": "metric-laundry",
   "metadata": {},
   "outputs": [
    {
     "data": {
      "text/plain": [
       "(480, 18)"
      ]
     },
     "execution_count": 27,
     "metadata": {},
     "output_type": "execute_result"
    }
   ],
   "source": [
    "catalogo.shape"
   ]
  },
  {
   "cell_type": "code",
   "execution_count": 28,
   "id": "d3b58cfe",
   "metadata": {
    "scrolled": true
   },
   "outputs": [
    {
     "data": {
      "text/html": [
       "<div>\n",
       "<style scoped>\n",
       "    .dataframe tbody tr th:only-of-type {\n",
       "        vertical-align: middle;\n",
       "    }\n",
       "\n",
       "    .dataframe tbody tr th {\n",
       "        vertical-align: top;\n",
       "    }\n",
       "\n",
       "    .dataframe thead th {\n",
       "        text-align: right;\n",
       "    }\n",
       "</style>\n",
       "<table border=\"1\" class=\"dataframe\">\n",
       "  <thead>\n",
       "    <tr style=\"text-align: right;\">\n",
       "      <th></th>\n",
       "      <th>ID</th>\n",
       "      <th>Nombre</th>\n",
       "      <th>Dirección</th>\n",
       "      <th>Número</th>\n",
       "      <th>Código postal</th>\n",
       "      <th>districtCode</th>\n",
       "      <th>Colonia</th>\n",
       "      <th>altitude</th>\n",
       "      <th>nearbyStations/0</th>\n",
       "      <th>location/lat</th>\n",
       "      <th>location/lon</th>\n",
       "      <th>Tipo de estación</th>\n",
       "      <th>nearbyStations/1</th>\n",
       "      <th>nearbyStations/2</th>\n",
       "      <th>nearbyStations/3</th>\n",
       "      <th>nearbyStations/4</th>\n",
       "      <th>nearbyStations/5</th>\n",
       "      <th>punto_geo</th>\n",
       "    </tr>\n",
       "  </thead>\n",
       "  <tbody>\n",
       "    <tr>\n",
       "      <th>0</th>\n",
       "      <td>416</td>\n",
       "      <td>416 RECREO-PARROQUÍA</td>\n",
       "      <td>416 - Recreo-Parroquía</td>\n",
       "      <td>S/N</td>\n",
       "      <td>3104.0</td>\n",
       "      <td>1</td>\n",
       "      <td>Ampliación Granada</td>\n",
       "      <td>NaN</td>\n",
       "      <td>390</td>\n",
       "      <td>19.371308</td>\n",
       "      <td>-99.177607</td>\n",
       "      <td>BIKE</td>\n",
       "      <td>391.0</td>\n",
       "      <td>415.0</td>\n",
       "      <td>NaN</td>\n",
       "      <td>NaN</td>\n",
       "      <td>NaN</td>\n",
       "      <td>19.371308,-99.177607</td>\n",
       "    </tr>\n",
       "    <tr>\n",
       "      <th>1</th>\n",
       "      <td>440</td>\n",
       "      <td>440 REAL DE MAYORAZGO-PUENTE XOCO</td>\n",
       "      <td>440 - Real De Mayorazgo-Puente Xoco</td>\n",
       "      <td>S/N</td>\n",
       "      <td>3330.0</td>\n",
       "      <td>1</td>\n",
       "      <td>Ampliación Granada</td>\n",
       "      <td>NaN</td>\n",
       "      <td>433</td>\n",
       "      <td>19.360650</td>\n",
       "      <td>-99.168669</td>\n",
       "      <td>BIKE</td>\n",
       "      <td>439.0</td>\n",
       "      <td>441.0</td>\n",
       "      <td>NaN</td>\n",
       "      <td>NaN</td>\n",
       "      <td>NaN</td>\n",
       "      <td>19.36065,-99.168669</td>\n",
       "    </tr>\n",
       "    <tr>\n",
       "      <th>2</th>\n",
       "      <td>70</td>\n",
       "      <td>70 PARQUE MEXICO-MICHOACAN</td>\n",
       "      <td>070 - Parque México - Michoacan</td>\n",
       "      <td>S/N</td>\n",
       "      <td>6100.0</td>\n",
       "      <td>1</td>\n",
       "      <td>Ampliación Granada</td>\n",
       "      <td>NaN</td>\n",
       "      <td>69</td>\n",
       "      <td>19.411272</td>\n",
       "      <td>-99.169718</td>\n",
       "      <td>BIKE,TPV</td>\n",
       "      <td>71.0</td>\n",
       "      <td>76.0</td>\n",
       "      <td>NaN</td>\n",
       "      <td>NaN</td>\n",
       "      <td>NaN</td>\n",
       "      <td>19.411272,-99.169718</td>\n",
       "    </tr>\n",
       "    <tr>\n",
       "      <th>3</th>\n",
       "      <td>325</td>\n",
       "      <td>325 PROVIDENCIA -AVENIDA DEL VALLE</td>\n",
       "      <td>325 - Providencia -Avenida Del Valle</td>\n",
       "      <td>S/N</td>\n",
       "      <td>3100.0</td>\n",
       "      <td>1</td>\n",
       "      <td>Ampliación Granada</td>\n",
       "      <td>NaN</td>\n",
       "      <td>316</td>\n",
       "      <td>19.388178</td>\n",
       "      <td>-99.169689</td>\n",
       "      <td>BIKE</td>\n",
       "      <td>335.0</td>\n",
       "      <td>336.0</td>\n",
       "      <td>NaN</td>\n",
       "      <td>NaN</td>\n",
       "      <td>NaN</td>\n",
       "      <td>19.3881779,-99.1696894</td>\n",
       "    </tr>\n",
       "    <tr>\n",
       "      <th>4</th>\n",
       "      <td>252</td>\n",
       "      <td>252 VICTOR HUGO-SHAKESPEARE</td>\n",
       "      <td>252 - Víctor Hugo-Shakespeare</td>\n",
       "      <td>S/N</td>\n",
       "      <td>11510.0</td>\n",
       "      <td>2</td>\n",
       "      <td>Anzures</td>\n",
       "      <td>NaN</td>\n",
       "      <td>249</td>\n",
       "      <td>19.427575</td>\n",
       "      <td>-99.177020</td>\n",
       "      <td>BIKE</td>\n",
       "      <td>251.0</td>\n",
       "      <td>253.0</td>\n",
       "      <td>NaN</td>\n",
       "      <td>NaN</td>\n",
       "      <td>NaN</td>\n",
       "      <td>19.427575,-99.17702</td>\n",
       "    </tr>\n",
       "  </tbody>\n",
       "</table>\n",
       "</div>"
      ],
      "text/plain": [
       "    ID                              Nombre  \\\n",
       "0  416                416 RECREO-PARROQUÍA   \n",
       "1  440   440 REAL DE MAYORAZGO-PUENTE XOCO   \n",
       "2   70          70 PARQUE MEXICO-MICHOACAN   \n",
       "3  325  325 PROVIDENCIA -AVENIDA DEL VALLE   \n",
       "4  252         252 VICTOR HUGO-SHAKESPEARE   \n",
       "\n",
       "                              Dirección Número  Código postal districtCode  \\\n",
       "0                416 - Recreo-Parroquía    S/N         3104.0            1   \n",
       "1   440 - Real De Mayorazgo-Puente Xoco    S/N         3330.0            1   \n",
       "2       070 - Parque México - Michoacan    S/N         6100.0            1   \n",
       "3  325 - Providencia -Avenida Del Valle    S/N         3100.0            1   \n",
       "4         252 - Víctor Hugo-Shakespeare    S/N        11510.0            2   \n",
       "\n",
       "              Colonia  altitude  nearbyStations/0  location/lat  location/lon  \\\n",
       "0  Ampliación Granada       NaN               390     19.371308    -99.177607   \n",
       "1  Ampliación Granada       NaN               433     19.360650    -99.168669   \n",
       "2  Ampliación Granada       NaN                69     19.411272    -99.169718   \n",
       "3  Ampliación Granada       NaN               316     19.388178    -99.169689   \n",
       "4             Anzures       NaN               249     19.427575    -99.177020   \n",
       "\n",
       "  Tipo de estación  nearbyStations/1  nearbyStations/2  nearbyStations/3  \\\n",
       "0             BIKE             391.0             415.0               NaN   \n",
       "1             BIKE             439.0             441.0               NaN   \n",
       "2         BIKE,TPV              71.0              76.0               NaN   \n",
       "3             BIKE             335.0             336.0               NaN   \n",
       "4             BIKE             251.0             253.0               NaN   \n",
       "\n",
       "   nearbyStations/4  nearbyStations/5               punto_geo  \n",
       "0               NaN               NaN    19.371308,-99.177607  \n",
       "1               NaN               NaN     19.36065,-99.168669  \n",
       "2               NaN               NaN    19.411272,-99.169718  \n",
       "3               NaN               NaN  19.3881779,-99.1696894  \n",
       "4               NaN               NaN     19.427575,-99.17702  "
      ]
     },
     "execution_count": 28,
     "metadata": {},
     "output_type": "execute_result"
    }
   ],
   "source": [
    "catalogo.head()"
   ]
  },
  {
   "cell_type": "code",
   "execution_count": 29,
   "id": "98a88467",
   "metadata": {},
   "outputs": [],
   "source": [
    "###### Limpieza de catálogo TAREA #######"
   ]
  },
  {
   "cell_type": "code",
   "execution_count": 30,
   "id": "brave-quality",
   "metadata": {
    "scrolled": true
   },
   "outputs": [
    {
     "name": "stdout",
     "output_type": "stream",
     "text": [
      "ID <class 'int'>    480\n",
      "Name: ID, dtype: int64 \n",
      "\n",
      "Nombre <class 'str'>    480\n",
      "Name: Nombre, dtype: int64 \n",
      "\n",
      "Dirección <class 'str'>    480\n",
      "Name: Dirección, dtype: int64 \n",
      "\n",
      "Número <class 'str'>    480\n",
      "Name: Número, dtype: int64 \n",
      "\n",
      "Código postal <class 'float'>    480\n",
      "Name: Código postal, dtype: int64 \n",
      "\n",
      "districtCode <class 'str'>      479\n",
      "<class 'float'>      1\n",
      "Name: districtCode, dtype: int64 \n",
      "\n",
      "Colonia <class 'str'>      479\n",
      "<class 'float'>      1\n",
      "Name: Colonia, dtype: int64 \n",
      "\n",
      "altitude <class 'float'>    480\n",
      "Name: altitude, dtype: int64 \n",
      "\n",
      "nearbyStations/0 <class 'int'>    480\n",
      "Name: nearbyStations/0, dtype: int64 \n",
      "\n",
      "location/lat <class 'float'>    480\n",
      "Name: location/lat, dtype: int64 \n",
      "\n",
      "location/lon <class 'float'>    480\n",
      "Name: location/lon, dtype: int64 \n",
      "\n",
      "Tipo de estación <class 'str'>    480\n",
      "Name: Tipo de estación, dtype: int64 \n",
      "\n",
      "nearbyStations/1 <class 'float'>    480\n",
      "Name: nearbyStations/1, dtype: int64 \n",
      "\n",
      "nearbyStations/2 <class 'float'>    480\n",
      "Name: nearbyStations/2, dtype: int64 \n",
      "\n",
      "nearbyStations/3 <class 'float'>    480\n",
      "Name: nearbyStations/3, dtype: int64 \n",
      "\n",
      "nearbyStations/4 <class 'float'>    480\n",
      "Name: nearbyStations/4, dtype: int64 \n",
      "\n",
      "nearbyStations/5 <class 'float'>    480\n",
      "Name: nearbyStations/5, dtype: int64 \n",
      "\n",
      "punto_geo <class 'str'>    480\n",
      "Name: punto_geo, dtype: int64 \n",
      "\n"
     ]
    }
   ],
   "source": [
    "for c in catalogo.columns:\n",
    "    print(c,catalogo[c].map(type).value_counts(),'\\n')"
   ]
  },
  {
   "cell_type": "code",
   "execution_count": 31,
   "id": "crude-musical",
   "metadata": {},
   "outputs": [],
   "source": [
    "catalogo = catalogo[['ID','Nombre','Colonia','Tipo de estación','location/lat','location/lon']]"
   ]
  },
  {
   "cell_type": "code",
   "execution_count": 32,
   "id": "responsible-community",
   "metadata": {},
   "outputs": [
    {
     "data": {
      "text/html": [
       "<div>\n",
       "<style scoped>\n",
       "    .dataframe tbody tr th:only-of-type {\n",
       "        vertical-align: middle;\n",
       "    }\n",
       "\n",
       "    .dataframe tbody tr th {\n",
       "        vertical-align: top;\n",
       "    }\n",
       "\n",
       "    .dataframe thead th {\n",
       "        text-align: right;\n",
       "    }\n",
       "</style>\n",
       "<table border=\"1\" class=\"dataframe\">\n",
       "  <thead>\n",
       "    <tr style=\"text-align: right;\">\n",
       "      <th></th>\n",
       "      <th>Genero_Usuario</th>\n",
       "      <th>Edad_Usuario</th>\n",
       "      <th>Bici</th>\n",
       "      <th>Ciclo_Estacion_Retiro</th>\n",
       "      <th>Ciclo_Estacion_Arribo</th>\n",
       "      <th>fh_retiro</th>\n",
       "      <th>fh_arribo</th>\n",
       "      <th>Nombre</th>\n",
       "      <th>Colonia</th>\n",
       "      <th>Tipo de estación</th>\n",
       "      <th>location/lat</th>\n",
       "      <th>location/lon</th>\n",
       "    </tr>\n",
       "  </thead>\n",
       "  <tbody>\n",
       "    <tr>\n",
       "      <th>0</th>\n",
       "      <td>M</td>\n",
       "      <td>25</td>\n",
       "      <td>1427</td>\n",
       "      <td>372</td>\n",
       "      <td>397</td>\n",
       "      <td>2019-05-01 00:00:04</td>\n",
       "      <td>2019-05-01 00:05:18</td>\n",
       "      <td>372 DR. ROBERTO GAYOL-TLACOQUEMECATL</td>\n",
       "      <td>Ampliación Granada</td>\n",
       "      <td>BIKE,TPV</td>\n",
       "      <td>19.377970</td>\n",
       "      <td>-99.170289</td>\n",
       "    </tr>\n",
       "    <tr>\n",
       "      <th>1</th>\n",
       "      <td>M</td>\n",
       "      <td>26</td>\n",
       "      <td>8431</td>\n",
       "      <td>202</td>\n",
       "      <td>318</td>\n",
       "      <td>2019-05-01 00:00:26</td>\n",
       "      <td>2019-05-01 00:32:24</td>\n",
       "      <td>202 CALDERON DE LA BARCA-AV. HOMERO</td>\n",
       "      <td>Polanco</td>\n",
       "      <td>BIKE</td>\n",
       "      <td>19.436170</td>\n",
       "      <td>-99.198943</td>\n",
       "    </tr>\n",
       "    <tr>\n",
       "      <th>2</th>\n",
       "      <td>M</td>\n",
       "      <td>28</td>\n",
       "      <td>10212</td>\n",
       "      <td>340</td>\n",
       "      <td>394</td>\n",
       "      <td>2019-05-01 00:00:49</td>\n",
       "      <td>2019-05-01 00:11:31</td>\n",
       "      <td>340 ANAXÁGORAS-AVENIDA EUGENIA</td>\n",
       "      <td>Narvarte Poniente</td>\n",
       "      <td>BIKE,TPV</td>\n",
       "      <td>19.385571</td>\n",
       "      <td>-99.158188</td>\n",
       "    </tr>\n",
       "    <tr>\n",
       "      <th>3</th>\n",
       "      <td>F</td>\n",
       "      <td>23</td>\n",
       "      <td>12098</td>\n",
       "      <td>290</td>\n",
       "      <td>292</td>\n",
       "      <td>2019-05-01 00:00:51</td>\n",
       "      <td>2019-05-01 00:05:30</td>\n",
       "      <td>290 YOSEMITE-COLORADO</td>\n",
       "      <td>Nápoles</td>\n",
       "      <td>BIKE</td>\n",
       "      <td>19.396333</td>\n",
       "      <td>-99.172667</td>\n",
       "    </tr>\n",
       "    <tr>\n",
       "      <th>4</th>\n",
       "      <td>M</td>\n",
       "      <td>33</td>\n",
       "      <td>11352</td>\n",
       "      <td>290</td>\n",
       "      <td>292</td>\n",
       "      <td>2019-05-01 00:01:03</td>\n",
       "      <td>2019-05-01 00:05:31</td>\n",
       "      <td>290 YOSEMITE-COLORADO</td>\n",
       "      <td>Nápoles</td>\n",
       "      <td>BIKE</td>\n",
       "      <td>19.396333</td>\n",
       "      <td>-99.172667</td>\n",
       "    </tr>\n",
       "    <tr>\n",
       "      <th>...</th>\n",
       "      <td>...</td>\n",
       "      <td>...</td>\n",
       "      <td>...</td>\n",
       "      <td>...</td>\n",
       "      <td>...</td>\n",
       "      <td>...</td>\n",
       "      <td>...</td>\n",
       "      <td>...</td>\n",
       "      <td>...</td>\n",
       "      <td>...</td>\n",
       "      <td>...</td>\n",
       "      <td>...</td>\n",
       "    </tr>\n",
       "    <tr>\n",
       "      <th>17104566</th>\n",
       "      <td>M</td>\n",
       "      <td>25</td>\n",
       "      <td>7336</td>\n",
       "      <td>259</td>\n",
       "      <td>133</td>\n",
       "      <td>2018-09-29 23:57:52</td>\n",
       "      <td>2018-09-30 00:22:54</td>\n",
       "      <td>259 TÓMAS ALVA EDISON-PONCIANO ARRIAGA</td>\n",
       "      <td>Ampliación Granada</td>\n",
       "      <td>BIKE</td>\n",
       "      <td>19.437570</td>\n",
       "      <td>-99.154680</td>\n",
       "    </tr>\n",
       "    <tr>\n",
       "      <th>17104567</th>\n",
       "      <td>M</td>\n",
       "      <td>26</td>\n",
       "      <td>11465</td>\n",
       "      <td>280</td>\n",
       "      <td>282</td>\n",
       "      <td>2018-09-29 23:57:57</td>\n",
       "      <td>2018-09-30 00:02:41</td>\n",
       "      <td>280 ANAXÁGORAS-OBRERO MUNDIAL</td>\n",
       "      <td>Narvarte Poniente</td>\n",
       "      <td>BIKE,TPV</td>\n",
       "      <td>19.401500</td>\n",
       "      <td>-99.156406</td>\n",
       "    </tr>\n",
       "    <tr>\n",
       "      <th>17104568</th>\n",
       "      <td>M</td>\n",
       "      <td>32</td>\n",
       "      <td>3456</td>\n",
       "      <td>280</td>\n",
       "      <td>295</td>\n",
       "      <td>2018-09-29 23:58:34</td>\n",
       "      <td>2018-09-30 00:17:58</td>\n",
       "      <td>280 ANAXÁGORAS-OBRERO MUNDIAL</td>\n",
       "      <td>Narvarte Poniente</td>\n",
       "      <td>BIKE,TPV</td>\n",
       "      <td>19.401500</td>\n",
       "      <td>-99.156406</td>\n",
       "    </tr>\n",
       "    <tr>\n",
       "      <th>17104569</th>\n",
       "      <td>M</td>\n",
       "      <td>49</td>\n",
       "      <td>10742</td>\n",
       "      <td>64</td>\n",
       "      <td>171</td>\n",
       "      <td>2018-09-29 23:58:50</td>\n",
       "      <td>2018-09-30 00:10:32</td>\n",
       "      <td>64 SONORA-AMSTERDAM</td>\n",
       "      <td>Hipódromo</td>\n",
       "      <td>BIKE</td>\n",
       "      <td>19.412877</td>\n",
       "      <td>-99.166986</td>\n",
       "    </tr>\n",
       "    <tr>\n",
       "      <th>17104570</th>\n",
       "      <td>F</td>\n",
       "      <td>26</td>\n",
       "      <td>7080</td>\n",
       "      <td>474</td>\n",
       "      <td>480</td>\n",
       "      <td>2018-09-29 23:59:40</td>\n",
       "      <td>2018-09-30 00:04:22</td>\n",
       "      <td>474 BAHÍA DE SAN HIPÓLITO-BAHÍA DEL ESPÍRITU S...</td>\n",
       "      <td>Anáhuac I</td>\n",
       "      <td>BIKE</td>\n",
       "      <td>19.438984</td>\n",
       "      <td>-99.177549</td>\n",
       "    </tr>\n",
       "  </tbody>\n",
       "</table>\n",
       "<p>17104571 rows × 12 columns</p>\n",
       "</div>"
      ],
      "text/plain": [
       "         Genero_Usuario  Edad_Usuario   Bici  Ciclo_Estacion_Retiro  \\\n",
       "0                     M            25   1427                    372   \n",
       "1                     M            26   8431                    202   \n",
       "2                     M            28  10212                    340   \n",
       "3                     F            23  12098                    290   \n",
       "4                     M            33  11352                    290   \n",
       "...                 ...           ...    ...                    ...   \n",
       "17104566              M            25   7336                    259   \n",
       "17104567              M            26  11465                    280   \n",
       "17104568              M            32   3456                    280   \n",
       "17104569              M            49  10742                     64   \n",
       "17104570              F            26   7080                    474   \n",
       "\n",
       "          Ciclo_Estacion_Arribo           fh_retiro           fh_arribo  \\\n",
       "0                           397 2019-05-01 00:00:04 2019-05-01 00:05:18   \n",
       "1                           318 2019-05-01 00:00:26 2019-05-01 00:32:24   \n",
       "2                           394 2019-05-01 00:00:49 2019-05-01 00:11:31   \n",
       "3                           292 2019-05-01 00:00:51 2019-05-01 00:05:30   \n",
       "4                           292 2019-05-01 00:01:03 2019-05-01 00:05:31   \n",
       "...                         ...                 ...                 ...   \n",
       "17104566                    133 2018-09-29 23:57:52 2018-09-30 00:22:54   \n",
       "17104567                    282 2018-09-29 23:57:57 2018-09-30 00:02:41   \n",
       "17104568                    295 2018-09-29 23:58:34 2018-09-30 00:17:58   \n",
       "17104569                    171 2018-09-29 23:58:50 2018-09-30 00:10:32   \n",
       "17104570                    480 2018-09-29 23:59:40 2018-09-30 00:04:22   \n",
       "\n",
       "                                                     Nombre  \\\n",
       "0                      372 DR. ROBERTO GAYOL-TLACOQUEMECATL   \n",
       "1                       202 CALDERON DE LA BARCA-AV. HOMERO   \n",
       "2                            340 ANAXÁGORAS-AVENIDA EUGENIA   \n",
       "3                                     290 YOSEMITE-COLORADO   \n",
       "4                                     290 YOSEMITE-COLORADO   \n",
       "...                                                     ...   \n",
       "17104566             259 TÓMAS ALVA EDISON-PONCIANO ARRIAGA   \n",
       "17104567                      280 ANAXÁGORAS-OBRERO MUNDIAL   \n",
       "17104568                      280 ANAXÁGORAS-OBRERO MUNDIAL   \n",
       "17104569                                64 SONORA-AMSTERDAM   \n",
       "17104570  474 BAHÍA DE SAN HIPÓLITO-BAHÍA DEL ESPÍRITU S...   \n",
       "\n",
       "                     Colonia Tipo de estación  location/lat  location/lon  \n",
       "0         Ampliación Granada         BIKE,TPV     19.377970    -99.170289  \n",
       "1                    Polanco             BIKE     19.436170    -99.198943  \n",
       "2          Narvarte Poniente         BIKE,TPV     19.385571    -99.158188  \n",
       "3                    Nápoles             BIKE     19.396333    -99.172667  \n",
       "4                    Nápoles             BIKE     19.396333    -99.172667  \n",
       "...                      ...              ...           ...           ...  \n",
       "17104566  Ampliación Granada             BIKE     19.437570    -99.154680  \n",
       "17104567   Narvarte Poniente         BIKE,TPV     19.401500    -99.156406  \n",
       "17104568   Narvarte Poniente         BIKE,TPV     19.401500    -99.156406  \n",
       "17104569           Hipódromo             BIKE     19.412877    -99.166986  \n",
       "17104570           Anáhuac I             BIKE     19.438984    -99.177549  \n",
       "\n",
       "[17104571 rows x 12 columns]"
      ]
     },
     "execution_count": 32,
     "metadata": {},
     "output_type": "execute_result"
    }
   ],
   "source": [
    "df.merge(catalogo, left_on=['Ciclo_Estacion_Retiro'] , right_on=['ID'] , how='left' ).drop('ID',axis=1)"
   ]
  },
  {
   "cell_type": "code",
   "execution_count": 33,
   "id": "residential-warrior",
   "metadata": {
    "scrolled": true
   },
   "outputs": [
    {
     "data": {
      "text/plain": [
       "Ampliación Granada                  76\n",
       "Polanco                             41\n",
       "Roma Norte                          35\n",
       "Centro                              27\n",
       "Juárez                              24\n",
       "Del Valle Sur                       18\n",
       "Hipódromo                           16\n",
       "Del Valle Norte                     15\n",
       "Roma Sur                            13\n",
       "Del Valle Centro                    13\n",
       "Cuauhtémoc                          13\n",
       "Nápoles                             12\n",
       "Narvarte Poniente                   12\n",
       "Anzures                             11\n",
       "Escandón                            10\n",
       "Condesa                             10\n",
       "Santa Cruz Atoyac                   10\n",
       "Insurgentes Mixcoac                  9\n",
       "San Miguel Chapultepec               8\n",
       "San Rafael                           8\n",
       "Buenavista                           8\n",
       "Tlacoquemecatl                       7\n",
       "San Pedro de los Pinos               7\n",
       "General Pedro Maria Anaya            6\n",
       "Anáhuac I                            5\n",
       "Granada                              5\n",
       "Tabacalera                           4\n",
       "Actipan                              4\n",
       "Hipódromo Condesa                    4\n",
       "Ciudad de los Deportes               4\n",
       "Bosque de Chapultepec                4\n",
       "Ampliación Nápoles                   3\n",
       "Insurgentes San Borja                3\n",
       "Xoco                                 3\n",
       "Letran Valle                         3\n",
       "Santa María Nonoalco                 3\n",
       "Acacias                              3\n",
       "Irrigación                           2\n",
       "Noche Buena                          2\n",
       "Doctores                             2\n",
       "Lomas de Chapultepec Sección V       2\n",
       "Lomas de Chapultepec Sección III     2\n",
       "Lomas Virreyes                       2\n",
       "Anáhuac Mariano Escobedo             2\n",
       "Residencial Emperadores              2\n",
       "Extremadura Insurgentes              2\n",
       "Molino del Rey                       1\n",
       "Anáhuac Dos Lagos                    1\n",
       "Portales Norte                       1\n",
       "Cuauhtémoc Pensil                    1\n",
       "Name: Colonia, dtype: int64"
      ]
     },
     "execution_count": 33,
     "metadata": {},
     "output_type": "execute_result"
    }
   ],
   "source": [
    "catalogo['Colonia'].value_counts()"
   ]
  },
  {
   "cell_type": "markdown",
   "id": "06c16c80",
   "metadata": {},
   "source": [
    "## Gráficas simples"
   ]
  },
  {
   "cell_type": "code",
   "execution_count": 34,
   "id": "f427f682",
   "metadata": {},
   "outputs": [],
   "source": [
    "aux = df.sample(n=10000)"
   ]
  },
  {
   "cell_type": "code",
   "execution_count": 35,
   "id": "38bcb4bf",
   "metadata": {},
   "outputs": [],
   "source": [
    "aux.reset_index(drop=True,inplace=True)"
   ]
  },
  {
   "cell_type": "code",
   "execution_count": 36,
   "id": "40263582",
   "metadata": {},
   "outputs": [
    {
     "data": {
      "text/plain": [
       "<AxesSubplot:>"
      ]
     },
     "execution_count": 36,
     "metadata": {},
     "output_type": "execute_result"
    },
    {
     "data": {
      "image/png": "[encoded data removed]",
      "text/plain": [
       "<Figure size 432x288 with 1 Axes>"
      ]
     },
     "metadata": {
      "needs_background": "light"
     },
     "output_type": "display_data"
    }
   ],
   "source": [
    "aux['fh_retiro'].map(lambda x: x.hour).value_counts(True).sort_index().plot(kind='bar')"
   ]
  },
  {
   "cell_type": "code",
   "execution_count": 37,
   "id": "d02575ca",
   "metadata": {
    "cell_style": "center"
   },
   "outputs": [
    {
     "data": {
      "text/plain": [
       "<AxesSubplot:>"
      ]
     },
     "execution_count": 37,
     "metadata": {},
     "output_type": "execute_result"
    },
    {
     "data": {
      "image/png": "[encoded data removed]",
      "text/plain": [
       "<Figure size 432x288 with 1 Axes>"
      ]
     },
     "metadata": {
      "needs_background": "light"
     },
     "output_type": "display_data"
    }
   ],
   "source": [
    "aux['fh_retiro'].map(lambda x: x.hour).value_counts(True).sort_index().plot(marker='o')"
   ]
  },
  {
   "cell_type": "code",
   "execution_count": null,
   "id": "union-circulation",
   "metadata": {},
   "outputs": [],
   "source": []
  },
  {
   "cell_type": "code",
   "execution_count": null,
   "id": "favorite-operation",
   "metadata": {},
   "outputs": [],
   "source": []
  },
  {
   "cell_type": "code",
   "execution_count": null,
   "id": "extra-wilson",
   "metadata": {},
   "outputs": [],
   "source": []
  },
  {
   "cell_type": "code",
   "execution_count": null,
   "id": "theoretical-belfast",
   "metadata": {},
   "outputs": [],
   "source": []
  },
  {
   "cell_type": "code",
   "execution_count": null,
   "id": "massive-chinese",
   "metadata": {},
   "outputs": [],
   "source": []
  },
  {
   "cell_type": "code",
   "execution_count": null,
   "id": "enhanced-egyptian",
   "metadata": {},
   "outputs": [],
   "source": []
  },
  {
   "cell_type": "code",
   "execution_count": null,
   "id": "endless-subsection",
   "metadata": {},
   "outputs": [],
   "source": []
  },
  {
   "cell_type": "code",
   "execution_count": null,
   "id": "indirect-sequence",
   "metadata": {},
   "outputs": [],
   "source": []
  },
  {
   "cell_type": "code",
   "execution_count": null,
   "id": "mechanical-exposure",
   "metadata": {},
   "outputs": [],
   "source": []
  },
  {
   "cell_type": "code",
   "execution_count": null,
   "id": "suitable-facing",
   "metadata": {},
   "outputs": [],
   "source": []
  },
  {
   "cell_type": "code",
   "execution_count": null,
   "id": "biblical-charter",
   "metadata": {},
   "outputs": [],
   "source": []
  },
  {
   "cell_type": "code",
   "execution_count": null,
   "id": "floating-silver",
   "metadata": {},
   "outputs": [],
   "source": []
  },
  {
   "cell_type": "code",
   "execution_count": null,
   "id": "greenhouse-ukraine",
   "metadata": {},
   "outputs": [],
   "source": []
  },
  {
   "cell_type": "code",
   "execution_count": null,
   "id": "humanitarian-payday",
   "metadata": {},
   "outputs": [],
   "source": []
  }
 ],
 "metadata": {
  "kernelspec": {
   "display_name": "diplo",
   "language": "python",
   "name": "diplo"
  },
  "language_info": {
   "codemirror_mode": {
    "name": "ipython",
    "version": 3
   },
   "file_extension": ".py",
   "mimetype": "text/x-python",
   "name": "python",
   "nbconvert_exporter": "python",
   "pygments_lexer": "ipython3",
   "version": "3.10.4"
  },
  "latex_envs": {
   "LaTeX_envs_menu_present": true,
   "autoclose": false,
   "autocomplete": true,
   "bibliofile": "biblio.bib",
   "cite_by": "apalike",
   "current_citInitial": 1,
   "eqLabelWithNumbers": true,
   "eqNumInitial": 1,
   "hotkeys": {
    "equation": "Ctrl-E",
    "itemize": "Ctrl-I"
   },
   "labels_anchors": false,
   "latex_user_defs": false,
   "report_style_numbering": false,
   "user_envs_cfg": false
  },
  "toc": {
   "base_numbering": 1,
   "nav_menu": {},
   "number_sections": true,
   "sideBar": true,
   "skip_h1_title": false,
   "title_cell": "Table of Contents",
   "title_sidebar": "Contents",
   "toc_cell": false,
   "toc_position": {
    "height": "calc(100% - 180px)",
    "left": "10px",
    "top": "150px",
    "width": "187.778px"
   },
   "toc_section_display": true,
   "toc_window_display": true
  }
 },
 "nbformat": 4,
 "nbformat_minor": 5
}
