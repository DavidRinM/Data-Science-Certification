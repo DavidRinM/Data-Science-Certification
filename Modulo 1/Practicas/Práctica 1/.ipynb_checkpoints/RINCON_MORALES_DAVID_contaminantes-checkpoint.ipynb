{
 "cells": [
  {
   "cell_type": "markdown",
   "id": "7fa1ce3f",
   "metadata": {},
   "source": [
    "# Libraries"
   ]
  },
  {
   "cell_type": "code",
   "execution_count": 170,
   "id": "be70e712",
   "metadata": {},
   "outputs": [],
   "source": [
    "import os\n",
    "import pandas as pd\n",
    "import numpy as np\n",
    "\n",
    "from functools import reduce\n",
    "\n",
    "from scipy.stats import ks_2samp\n",
    "from sklearn.feature_selection import VarianceThreshold\n",
    "from varclushi import VarClusHi\n",
    "\n",
    "import matplotlib.pyplot as plt\n",
    "import seaborn as sns"
   ]
  },
  {
   "cell_type": "code",
   "execution_count": 2,
   "id": "b2bf2ea3",
   "metadata": {},
   "outputs": [
    {
     "data": {
      "text/html": [
       "<style>.container {width:80%} important!</style>"
      ],
      "text/plain": [
       "<IPython.core.display.HTML object>"
      ]
     },
     "metadata": {},
     "output_type": "display_data"
    }
   ],
   "source": [
    "from IPython.display import HTML, display\n",
    "display(HTML('<style>.container {width:80%} important!</style>'))"
   ]
  },
  {
   "cell_type": "code",
   "execution_count": 3,
   "id": "9bce61a5",
   "metadata": {},
   "outputs": [],
   "source": [
    "pd.set_option('display.float_format', lambda x: '%.6f' %x)"
   ]
  },
  {
   "cell_type": "markdown",
   "id": "88ffb36f",
   "metadata": {},
   "source": [
    "# Data Loading"
   ]
  },
  {
   "cell_type": "markdown",
   "id": "4ea92b97",
   "metadata": {},
   "source": [
    "## Pollutants"
   ]
  },
  {
   "cell_type": "code",
   "execution_count": 4,
   "id": "85e42b26",
   "metadata": {},
   "outputs": [],
   "source": [
    "route_data = \"../../Datasets/Practica_1/contaminantes_CDMX/\"\n",
    "lst = os.listdir(route_data)\n",
    "lst.sort()"
   ]
  },
  {
   "cell_type": "code",
   "execution_count": 5,
   "id": "5e53fd9e",
   "metadata": {},
   "outputs": [
    {
     "data": {
      "text/plain": [
       "['contaminantes_2018.CSV',\n",
       " 'contaminantes_2019.CSV',\n",
       " 'contaminantes_2020.CSV',\n",
       " 'contaminantes_2021.CSV',\n",
       " 'contaminantes_2022.csv']"
      ]
     },
     "execution_count": 5,
     "metadata": {},
     "output_type": "execute_result"
    }
   ],
   "source": [
    "lst"
   ]
  },
  {
   "cell_type": "code",
   "execution_count": 6,
   "id": "40c6226c",
   "metadata": {
    "scrolled": true
   },
   "outputs": [],
   "source": [
    "# We skip the first 10 lines as they are not part of the dataset\n",
    "df = pd.concat(map( lambda file: pd.read_csv(os.path.join(route_data, file), skiprows=10), lst), ignore_index=True)"
   ]
  },
  {
   "cell_type": "code",
   "execution_count": 7,
   "id": "5d222d54",
   "metadata": {},
   "outputs": [
    {
     "data": {
      "text/html": [
       "<div>\n",
       "<style scoped>\n",
       "    .dataframe tbody tr th:only-of-type {\n",
       "        vertical-align: middle;\n",
       "    }\n",
       "\n",
       "    .dataframe tbody tr th {\n",
       "        vertical-align: top;\n",
       "    }\n",
       "\n",
       "    .dataframe thead th {\n",
       "        text-align: right;\n",
       "    }\n",
       "</style>\n",
       "<table border=\"1\" class=\"dataframe\">\n",
       "  <thead>\n",
       "    <tr style=\"text-align: right;\">\n",
       "      <th></th>\n",
       "      <th>date</th>\n",
       "      <th>id_station</th>\n",
       "      <th>id_parameter</th>\n",
       "      <th>value</th>\n",
       "      <th>unit</th>\n",
       "    </tr>\n",
       "  </thead>\n",
       "  <tbody>\n",
       "    <tr>\n",
       "      <th>0</th>\n",
       "      <td>01/01/2018 01:00</td>\n",
       "      <td>ACO</td>\n",
       "      <td>CO</td>\n",
       "      <td>0.400000</td>\n",
       "      <td>15</td>\n",
       "    </tr>\n",
       "    <tr>\n",
       "      <th>1</th>\n",
       "      <td>01/01/2018 01:00</td>\n",
       "      <td>ACO</td>\n",
       "      <td>NO</td>\n",
       "      <td>3.000000</td>\n",
       "      <td>1</td>\n",
       "    </tr>\n",
       "    <tr>\n",
       "      <th>2</th>\n",
       "      <td>01/01/2018 01:00</td>\n",
       "      <td>ACO</td>\n",
       "      <td>NO2</td>\n",
       "      <td>23.000000</td>\n",
       "      <td>1</td>\n",
       "    </tr>\n",
       "    <tr>\n",
       "      <th>3</th>\n",
       "      <td>01/01/2018 01:00</td>\n",
       "      <td>ACO</td>\n",
       "      <td>NOX</td>\n",
       "      <td>25.000000</td>\n",
       "      <td>1</td>\n",
       "    </tr>\n",
       "    <tr>\n",
       "      <th>4</th>\n",
       "      <td>01/01/2018 01:00</td>\n",
       "      <td>ACO</td>\n",
       "      <td>O3</td>\n",
       "      <td>8.000000</td>\n",
       "      <td>1</td>\n",
       "    </tr>\n",
       "  </tbody>\n",
       "</table>\n",
       "</div>"
      ],
      "text/plain": [
       "               date id_station id_parameter     value  unit\n",
       "0  01/01/2018 01:00        ACO           CO  0.400000    15\n",
       "1  01/01/2018 01:00        ACO           NO  3.000000     1\n",
       "2  01/01/2018 01:00        ACO          NO2 23.000000     1\n",
       "3  01/01/2018 01:00        ACO          NOX 25.000000     1\n",
       "4  01/01/2018 01:00        ACO           O3  8.000000     1"
      ]
     },
     "execution_count": 7,
     "metadata": {},
     "output_type": "execute_result"
    }
   ],
   "source": [
    "df.head()"
   ]
  },
  {
   "cell_type": "markdown",
   "id": "50eac5fe",
   "metadata": {},
   "source": [
    "### Cleaning"
   ]
  },
  {
   "cell_type": "code",
   "execution_count": 8,
   "id": "f19705d8",
   "metadata": {},
   "outputs": [
    {
     "data": {
      "text/plain": [
       "(9931032, 5)"
      ]
     },
     "execution_count": 8,
     "metadata": {},
     "output_type": "execute_result"
    }
   ],
   "source": [
    "df.shape"
   ]
  },
  {
   "cell_type": "code",
   "execution_count": 9,
   "id": "827ebefc",
   "metadata": {},
   "outputs": [
    {
     "name": "stdout",
     "output_type": "stream",
     "text": [
      "date [<class 'str'>] \n",
      "\n",
      "id_station [<class 'str'>] \n",
      "\n",
      "id_parameter [<class 'str'>] \n",
      "\n",
      "value [<class 'float'>] \n",
      "\n",
      "unit [<class 'int'>] \n",
      "\n"
     ]
    }
   ],
   "source": [
    "#No strange mix of types\n",
    "for c in df.columns:\n",
    "    print(c, df[c].map(type).unique().tolist(), \"\\n\"*1)"
   ]
  },
  {
   "cell_type": "code",
   "execution_count": 10,
   "id": "5e6cc44f",
   "metadata": {},
   "outputs": [
    {
     "data": {
      "text/html": [
       "<div>\n",
       "<style scoped>\n",
       "    .dataframe tbody tr th:only-of-type {\n",
       "        vertical-align: middle;\n",
       "    }\n",
       "\n",
       "    .dataframe tbody tr th {\n",
       "        vertical-align: top;\n",
       "    }\n",
       "\n",
       "    .dataframe thead th {\n",
       "        text-align: right;\n",
       "    }\n",
       "</style>\n",
       "<table border=\"1\" class=\"dataframe\">\n",
       "  <thead>\n",
       "    <tr style=\"text-align: right;\">\n",
       "      <th></th>\n",
       "      <th>value</th>\n",
       "      <th>unit</th>\n",
       "    </tr>\n",
       "  </thead>\n",
       "  <tbody>\n",
       "    <tr>\n",
       "      <th>count</th>\n",
       "      <td>6654225.000000</td>\n",
       "      <td>9931032.000000</td>\n",
       "    </tr>\n",
       "    <tr>\n",
       "      <th>mean</th>\n",
       "      <td>20.053314</td>\n",
       "      <td>2.964064</td>\n",
       "    </tr>\n",
       "    <tr>\n",
       "      <th>std</th>\n",
       "      <td>25.138467</td>\n",
       "      <td>4.519060</td>\n",
       "    </tr>\n",
       "    <tr>\n",
       "      <th>min</th>\n",
       "      <td>0.000000</td>\n",
       "      <td>1.000000</td>\n",
       "    </tr>\n",
       "    <tr>\n",
       "      <th>25%</th>\n",
       "      <td>2.000000</td>\n",
       "      <td>1.000000</td>\n",
       "    </tr>\n",
       "    <tr>\n",
       "      <th>50%</th>\n",
       "      <td>12.000000</td>\n",
       "      <td>1.000000</td>\n",
       "    </tr>\n",
       "    <tr>\n",
       "      <th>75%</th>\n",
       "      <td>29.000000</td>\n",
       "      <td>2.000000</td>\n",
       "    </tr>\n",
       "    <tr>\n",
       "      <th>max</th>\n",
       "      <td>982.000000</td>\n",
       "      <td>15.000000</td>\n",
       "    </tr>\n",
       "  </tbody>\n",
       "</table>\n",
       "</div>"
      ],
      "text/plain": [
       "               value           unit\n",
       "count 6654225.000000 9931032.000000\n",
       "mean       20.053314       2.964064\n",
       "std        25.138467       4.519060\n",
       "min         0.000000       1.000000\n",
       "25%         2.000000       1.000000\n",
       "50%        12.000000       1.000000\n",
       "75%        29.000000       2.000000\n",
       "max       982.000000      15.000000"
      ]
     },
     "execution_count": 10,
     "metadata": {},
     "output_type": "execute_result"
    }
   ],
   "source": [
    "df.describe()"
   ]
  },
  {
   "cell_type": "code",
   "execution_count": 11,
   "id": "b612e7b2",
   "metadata": {},
   "outputs": [
    {
     "data": {
      "text/plain": [
       "2.1426876884497"
      ]
     },
     "execution_count": 11,
     "metadata": {},
     "output_type": "execute_result"
    }
   ],
   "source": [
    "# There are value with 0's that represent 2.14% of the tdatasets information.\n",
    "# As they represent a low % of our dataset, we will drop this information\n",
    "# In any other case, we could fill them with other values.\n",
    "df[df[\"value\"] == 0.00][\"value\"].count()/len(df)*100"
   ]
  },
  {
   "cell_type": "code",
   "execution_count": 12,
   "id": "04f30ebb",
   "metadata": {},
   "outputs": [
    {
     "data": {
      "text/plain": [
       "((9931032, 5), (9718241, 5))"
      ]
     },
     "execution_count": 12,
     "metadata": {},
     "output_type": "execute_result"
    }
   ],
   "source": [
    "df.shape, df[df[\"value\"] != 0.00].shape"
   ]
  },
  {
   "cell_type": "code",
   "execution_count": 13,
   "id": "8a2caddc",
   "metadata": {},
   "outputs": [],
   "source": [
    "df = df[df[\"value\"] != 0.00]"
   ]
  },
  {
   "cell_type": "code",
   "execution_count": 14,
   "id": "50db46e0",
   "metadata": {},
   "outputs": [
    {
     "data": {
      "text/plain": [
       "<AxesSubplot:>"
      ]
     },
     "execution_count": 14,
     "metadata": {},
     "output_type": "execute_result"
    },
    {
     "data": {
      "image/png": "[encoded data removed]",
      "text/plain": [
       "<Figure size 432x288 with 1 Axes>"
      ]
     },
     "metadata": {
      "needs_background": "light"
     },
     "output_type": "display_data"
    }
   ],
   "source": [
    "df[\"id_parameter\"].value_counts(True).plot(kind=\"bar\")"
   ]
  },
  {
   "cell_type": "code",
   "execution_count": 15,
   "id": "59781630",
   "metadata": {},
   "outputs": [],
   "source": [
    "#Convert date string column to datetime and filter value with no date\n",
    "df[['day','time']] = df['date'].str.split(expand=True)\n",
    "df['date'] = pd.to_datetime(df.pop('day'), format='%d/%m/%Y') + pd.to_timedelta(df.pop('time') + ':00')\n",
    "\n",
    "df = df.loc[~df.date.isnull()].copy().reset_index(drop=True)"
   ]
  },
  {
   "cell_type": "code",
   "execution_count": 16,
   "id": "e36160a5",
   "metadata": {
    "scrolled": true
   },
   "outputs": [
    {
     "data": {
      "text/plain": [
       "(9718241, 5)"
      ]
     },
     "execution_count": 16,
     "metadata": {},
     "output_type": "execute_result"
    }
   ],
   "source": [
    "#No loss of variables given missing dates\n",
    "df.shape"
   ]
  },
  {
   "cell_type": "code",
   "execution_count": 17,
   "id": "08c86a61",
   "metadata": {},
   "outputs": [
    {
     "data": {
      "text/plain": [
       "<AxesSubplot:>"
      ]
     },
     "execution_count": 17,
     "metadata": {},
     "output_type": "execute_result"
    },
    {
     "data": {
      "image/png": "[encoded data removed]",
      "text/plain": [
       "<Figure size 432x288 with 1 Axes>"
      ]
     },
     "metadata": {
      "needs_background": "light"
     },
     "output_type": "display_data"
    }
   ],
   "source": [
    "df[\"unit\"].value_counts().plot(kind=\"bar\")"
   ]
  },
  {
   "cell_type": "code",
   "execution_count": 18,
   "id": "3f2064f9",
   "metadata": {},
   "outputs": [
    {
     "data": {
      "text/html": [
       "<div>\n",
       "<style scoped>\n",
       "    .dataframe tbody tr th:only-of-type {\n",
       "        vertical-align: middle;\n",
       "    }\n",
       "\n",
       "    .dataframe tbody tr th {\n",
       "        vertical-align: top;\n",
       "    }\n",
       "\n",
       "    .dataframe thead th {\n",
       "        text-align: right;\n",
       "    }\n",
       "</style>\n",
       "<table border=\"1\" class=\"dataframe\">\n",
       "  <thead>\n",
       "    <tr style=\"text-align: right;\">\n",
       "      <th></th>\n",
       "      <th>date</th>\n",
       "      <th>id_station</th>\n",
       "      <th>id_parameter</th>\n",
       "      <th>value</th>\n",
       "      <th>unit</th>\n",
       "    </tr>\n",
       "  </thead>\n",
       "  <tbody>\n",
       "    <tr>\n",
       "      <th>3337006</th>\n",
       "      <td>2019-07-28 03:00:00</td>\n",
       "      <td>TAH</td>\n",
       "      <td>NO</td>\n",
       "      <td>5.000000</td>\n",
       "      <td>1</td>\n",
       "    </tr>\n",
       "    <tr>\n",
       "      <th>3462568</th>\n",
       "      <td>2019-08-17 19:00:00</td>\n",
       "      <td>MPA</td>\n",
       "      <td>SO2</td>\n",
       "      <td>2.000000</td>\n",
       "      <td>1</td>\n",
       "    </tr>\n",
       "    <tr>\n",
       "      <th>3700928</th>\n",
       "      <td>2019-09-25 22:00:00</td>\n",
       "      <td>XAL</td>\n",
       "      <td>CO</td>\n",
       "      <td>1.000000</td>\n",
       "      <td>15</td>\n",
       "    </tr>\n",
       "    <tr>\n",
       "      <th>7945773</th>\n",
       "      <td>2021-08-18 18:00:00</td>\n",
       "      <td>TLI</td>\n",
       "      <td>NO2</td>\n",
       "      <td>17.000000</td>\n",
       "      <td>1</td>\n",
       "    </tr>\n",
       "    <tr>\n",
       "      <th>3220956</th>\n",
       "      <td>2019-07-09 01:00:00</td>\n",
       "      <td>SAG</td>\n",
       "      <td>PM2.5</td>\n",
       "      <td>26.000000</td>\n",
       "      <td>2</td>\n",
       "    </tr>\n",
       "    <tr>\n",
       "      <th>8498577</th>\n",
       "      <td>2021-11-16 06:00:00</td>\n",
       "      <td>AJU</td>\n",
       "      <td>PM2.5</td>\n",
       "      <td>NaN</td>\n",
       "      <td>2</td>\n",
       "    </tr>\n",
       "    <tr>\n",
       "      <th>6481662</th>\n",
       "      <td>2020-12-23 17:00:00</td>\n",
       "      <td>XAL</td>\n",
       "      <td>NO</td>\n",
       "      <td>NaN</td>\n",
       "      <td>1</td>\n",
       "    </tr>\n",
       "    <tr>\n",
       "      <th>7590642</th>\n",
       "      <td>2021-06-22 05:00:00</td>\n",
       "      <td>MGH</td>\n",
       "      <td>CO</td>\n",
       "      <td>0.200000</td>\n",
       "      <td>15</td>\n",
       "    </tr>\n",
       "    <tr>\n",
       "      <th>6548954</th>\n",
       "      <td>2021-01-03 17:00:00</td>\n",
       "      <td>LPR</td>\n",
       "      <td>NO2</td>\n",
       "      <td>NaN</td>\n",
       "      <td>1</td>\n",
       "    </tr>\n",
       "    <tr>\n",
       "      <th>4498637</th>\n",
       "      <td>2020-02-02 11:00:00</td>\n",
       "      <td>UAX</td>\n",
       "      <td>SO2</td>\n",
       "      <td>11.000000</td>\n",
       "      <td>1</td>\n",
       "    </tr>\n",
       "  </tbody>\n",
       "</table>\n",
       "</div>"
      ],
      "text/plain": [
       "                       date id_station id_parameter     value  unit\n",
       "3337006 2019-07-28 03:00:00        TAH           NO  5.000000     1\n",
       "3462568 2019-08-17 19:00:00        MPA          SO2  2.000000     1\n",
       "3700928 2019-09-25 22:00:00        XAL           CO  1.000000    15\n",
       "7945773 2021-08-18 18:00:00        TLI          NO2 17.000000     1\n",
       "3220956 2019-07-09 01:00:00        SAG        PM2.5 26.000000     2\n",
       "8498577 2021-11-16 06:00:00        AJU        PM2.5       NaN     2\n",
       "6481662 2020-12-23 17:00:00        XAL           NO       NaN     1\n",
       "7590642 2021-06-22 05:00:00        MGH           CO  0.200000    15\n",
       "6548954 2021-01-03 17:00:00        LPR          NO2       NaN     1\n",
       "4498637 2020-02-02 11:00:00        UAX          SO2 11.000000     1"
      ]
     },
     "execution_count": 18,
     "metadata": {},
     "output_type": "execute_result"
    }
   ],
   "source": [
    "df.sample(10)"
   ]
  },
  {
   "cell_type": "markdown",
   "id": "e0c3c656",
   "metadata": {},
   "source": [
    "## Catalogs"
   ]
  },
  {
   "cell_type": "code",
   "execution_count": 19,
   "id": "a9f9c92e",
   "metadata": {},
   "outputs": [],
   "source": [
    "route_catalog = \"../../Datasets/Practica_1/contaminantes_catalogos/\"\n",
    "\n",
    "lst_cat = os.listdir(route_catalog)"
   ]
  },
  {
   "cell_type": "code",
   "execution_count": 20,
   "id": "98239646",
   "metadata": {},
   "outputs": [
    {
     "data": {
      "text/plain": [
       "['cat_estacion.csv', 'cat_unidades.csv', 'cat_parametros.csv']"
      ]
     },
     "execution_count": 20,
     "metadata": {},
     "output_type": "execute_result"
    }
   ],
   "source": [
    "cat = [nom for nom in lst_cat]\n",
    "cat"
   ]
  },
  {
   "cell_type": "code",
   "execution_count": 21,
   "id": "809d2ce6",
   "metadata": {},
   "outputs": [],
   "source": [
    "cat_stations = pd.read_csv(os.path.join(route_catalog, cat[0]), encoding = \"ISO-8859-1\", skiprows=1)\n",
    "cat_units = pd.read_csv(os.path.join(route_catalog, cat[1]), encoding = \"ISO-8859-1\")\n",
    "cat_params = pd.read_csv(os.path.join(route_catalog, cat[2]), encoding = \"ISO-8859-1\", skiprows=1)"
   ]
  },
  {
   "cell_type": "markdown",
   "id": "fcbdae83",
   "metadata": {},
   "source": [
    "### Stations catalog cleaning"
   ]
  },
  {
   "cell_type": "code",
   "execution_count": 22,
   "id": "be1f3acd",
   "metadata": {},
   "outputs": [
    {
     "data": {
      "text/html": [
       "<div>\n",
       "<style scoped>\n",
       "    .dataframe tbody tr th:only-of-type {\n",
       "        vertical-align: middle;\n",
       "    }\n",
       "\n",
       "    .dataframe tbody tr th {\n",
       "        vertical-align: top;\n",
       "    }\n",
       "\n",
       "    .dataframe thead th {\n",
       "        text-align: right;\n",
       "    }\n",
       "</style>\n",
       "<table border=\"1\" class=\"dataframe\">\n",
       "  <thead>\n",
       "    <tr style=\"text-align: right;\">\n",
       "      <th></th>\n",
       "      <th>cve_estac</th>\n",
       "      <th>nom_estac</th>\n",
       "      <th>longitud</th>\n",
       "      <th>latitud</th>\n",
       "      <th>alt</th>\n",
       "      <th>obs_estac</th>\n",
       "      <th>id_station</th>\n",
       "    </tr>\n",
       "  </thead>\n",
       "  <tbody>\n",
       "    <tr>\n",
       "      <th>0</th>\n",
       "      <td>ACO</td>\n",
       "      <td>Acolman</td>\n",
       "      <td>-98.912003</td>\n",
       "      <td>19.635501</td>\n",
       "      <td>2198.000000</td>\n",
       "      <td>NaN</td>\n",
       "      <td>484150020109</td>\n",
       "    </tr>\n",
       "    <tr>\n",
       "      <th>1</th>\n",
       "      <td>AJU</td>\n",
       "      <td>Ajusco</td>\n",
       "      <td>-99.162611</td>\n",
       "      <td>19.154286</td>\n",
       "      <td>2942.000000</td>\n",
       "      <td>NaN</td>\n",
       "      <td>484090120400</td>\n",
       "    </tr>\n",
       "    <tr>\n",
       "      <th>2</th>\n",
       "      <td>AJM</td>\n",
       "      <td>Ajusco Medio</td>\n",
       "      <td>-99.207744</td>\n",
       "      <td>19.272161</td>\n",
       "      <td>2548.000000</td>\n",
       "      <td>NaN</td>\n",
       "      <td>484090120609</td>\n",
       "    </tr>\n",
       "    <tr>\n",
       "      <th>3</th>\n",
       "      <td>ARA</td>\n",
       "      <td>Aragón</td>\n",
       "      <td>-99.074549</td>\n",
       "      <td>19.470218</td>\n",
       "      <td>2200.000000</td>\n",
       "      <td>Finalizó operación en 2010</td>\n",
       "      <td>484090050301</td>\n",
       "    </tr>\n",
       "    <tr>\n",
       "      <th>4</th>\n",
       "      <td>ATI</td>\n",
       "      <td>Atizapan</td>\n",
       "      <td>-99.254133</td>\n",
       "      <td>19.576963</td>\n",
       "      <td>2341.000000</td>\n",
       "      <td>NaN</td>\n",
       "      <td>484150130101</td>\n",
       "    </tr>\n",
       "  </tbody>\n",
       "</table>\n",
       "</div>"
      ],
      "text/plain": [
       "  cve_estac     nom_estac   longitud   latitud         alt  \\\n",
       "0       ACO       Acolman -98.912003 19.635501 2198.000000   \n",
       "1       AJU        Ajusco -99.162611 19.154286 2942.000000   \n",
       "2       AJM  Ajusco Medio -99.207744 19.272161 2548.000000   \n",
       "3       ARA        Aragón -99.074549 19.470218 2200.000000   \n",
       "4       ATI      Atizapan -99.254133 19.576963 2341.000000   \n",
       "\n",
       "                    obs_estac    id_station  \n",
       "0                         NaN  484150020109  \n",
       "1                         NaN  484090120400  \n",
       "2                         NaN  484090120609  \n",
       "3  Finalizó operación en 2010  484090050301  \n",
       "4                         NaN  484150130101  "
      ]
     },
     "execution_count": 22,
     "metadata": {},
     "output_type": "execute_result"
    }
   ],
   "source": [
    "cat_stations.head()"
   ]
  },
  {
   "cell_type": "code",
   "execution_count": 23,
   "id": "be6fba1b",
   "metadata": {},
   "outputs": [],
   "source": [
    "# We're droping all variables except the id's and observations\n",
    "\n",
    "stations_stay = [\"cve_estac\", \"obs_estac\"]\n",
    "cat_stations = cat_stations[stations_stay]"
   ]
  },
  {
   "cell_type": "code",
   "execution_count": 24,
   "id": "a4b1ab4f",
   "metadata": {},
   "outputs": [
    {
     "data": {
      "text/html": [
       "<div>\n",
       "<style scoped>\n",
       "    .dataframe tbody tr th:only-of-type {\n",
       "        vertical-align: middle;\n",
       "    }\n",
       "\n",
       "    .dataframe tbody tr th {\n",
       "        vertical-align: top;\n",
       "    }\n",
       "\n",
       "    .dataframe thead th {\n",
       "        text-align: right;\n",
       "    }\n",
       "</style>\n",
       "<table border=\"1\" class=\"dataframe\">\n",
       "  <thead>\n",
       "    <tr style=\"text-align: right;\">\n",
       "      <th></th>\n",
       "      <th>cve_estac</th>\n",
       "      <th>obs_estac</th>\n",
       "    </tr>\n",
       "  </thead>\n",
       "  <tbody>\n",
       "    <tr>\n",
       "      <th>0</th>\n",
       "      <td>ACO</td>\n",
       "      <td>NaN</td>\n",
       "    </tr>\n",
       "    <tr>\n",
       "      <th>1</th>\n",
       "      <td>AJU</td>\n",
       "      <td>NaN</td>\n",
       "    </tr>\n",
       "    <tr>\n",
       "      <th>2</th>\n",
       "      <td>AJM</td>\n",
       "      <td>NaN</td>\n",
       "    </tr>\n",
       "    <tr>\n",
       "      <th>3</th>\n",
       "      <td>ARA</td>\n",
       "      <td>Finalizó operación en 2010</td>\n",
       "    </tr>\n",
       "    <tr>\n",
       "      <th>4</th>\n",
       "      <td>ATI</td>\n",
       "      <td>NaN</td>\n",
       "    </tr>\n",
       "  </tbody>\n",
       "</table>\n",
       "</div>"
      ],
      "text/plain": [
       "  cve_estac                   obs_estac\n",
       "0       ACO                         NaN\n",
       "1       AJU                         NaN\n",
       "2       AJM                         NaN\n",
       "3       ARA  Finalizó operación en 2010\n",
       "4       ATI                         NaN"
      ]
     },
     "execution_count": 24,
     "metadata": {},
     "output_type": "execute_result"
    }
   ],
   "source": [
    "cat_stations.head()"
   ]
  },
  {
   "cell_type": "code",
   "execution_count": 25,
   "id": "e77ba0e3",
   "metadata": {},
   "outputs": [
    {
     "data": {
      "text/plain": [
       "<AxesSubplot:>"
      ]
     },
     "execution_count": 25,
     "metadata": {},
     "output_type": "execute_result"
    },
    {
     "data": {
      "image/png": "[encoded data removed]",
      "text/plain": [
       "<Figure size 432x288 with 1 Axes>"
      ]
     },
     "metadata": {
      "needs_background": "light"
     },
     "output_type": "display_data"
    }
   ],
   "source": [
    "cat_stations[\"obs_estac\"].value_counts().plot(kind=\"bar\")"
   ]
  },
  {
   "cell_type": "code",
   "execution_count": 26,
   "id": "5cf43b22",
   "metadata": {},
   "outputs": [],
   "source": [
    "#Information data starts in 2018, we drop non-functional stations prior to 2018\n",
    "#This means we drop stations with any observation\n",
    "\n",
    "cat_stations = cat_stations[cat_stations[\"obs_estac\"].isna()].drop(columns=[\"obs_estac\"])"
   ]
  },
  {
   "cell_type": "code",
   "execution_count": 27,
   "id": "1b8e27e8",
   "metadata": {
    "scrolled": true
   },
   "outputs": [
    {
     "data": {
      "text/html": [
       "<div>\n",
       "<style scoped>\n",
       "    .dataframe tbody tr th:only-of-type {\n",
       "        vertical-align: middle;\n",
       "    }\n",
       "\n",
       "    .dataframe tbody tr th {\n",
       "        vertical-align: top;\n",
       "    }\n",
       "\n",
       "    .dataframe thead th {\n",
       "        text-align: right;\n",
       "    }\n",
       "</style>\n",
       "<table border=\"1\" class=\"dataframe\">\n",
       "  <thead>\n",
       "    <tr style=\"text-align: right;\">\n",
       "      <th></th>\n",
       "      <th>cve_estac</th>\n",
       "    </tr>\n",
       "  </thead>\n",
       "  <tbody>\n",
       "    <tr>\n",
       "      <th>27</th>\n",
       "      <td>INN</td>\n",
       "    </tr>\n",
       "    <tr>\n",
       "      <th>37</th>\n",
       "      <td>MGH</td>\n",
       "    </tr>\n",
       "    <tr>\n",
       "      <th>25</th>\n",
       "      <td>IBM</td>\n",
       "    </tr>\n",
       "    <tr>\n",
       "      <th>67</th>\n",
       "      <td>FAR</td>\n",
       "    </tr>\n",
       "    <tr>\n",
       "      <th>42</th>\n",
       "      <td>NEZ</td>\n",
       "    </tr>\n",
       "  </tbody>\n",
       "</table>\n",
       "</div>"
      ],
      "text/plain": [
       "   cve_estac\n",
       "27       INN\n",
       "37       MGH\n",
       "25       IBM\n",
       "67       FAR\n",
       "42       NEZ"
      ]
     },
     "execution_count": 27,
     "metadata": {},
     "output_type": "execute_result"
    }
   ],
   "source": [
    "cat_stations.sample(5)"
   ]
  },
  {
   "cell_type": "code",
   "execution_count": 28,
   "id": "3e3d1387",
   "metadata": {},
   "outputs": [],
   "source": [
    "# now we merge stations with the original df\n",
    "df = df.merge(cat_stations, left_on=[\"id_station\"], right_on=[\"cve_estac\"], how=\"left\").drop(\"cve_estac\", axis=1)"
   ]
  },
  {
   "cell_type": "markdown",
   "id": "2f7e6af2",
   "metadata": {},
   "source": [
    "### Units catalog cleaning"
   ]
  },
  {
   "cell_type": "code",
   "execution_count": 29,
   "id": "75aae5ee",
   "metadata": {},
   "outputs": [
    {
     "data": {
      "text/html": [
       "<div>\n",
       "<style scoped>\n",
       "    .dataframe tbody tr th:only-of-type {\n",
       "        vertical-align: middle;\n",
       "    }\n",
       "\n",
       "    .dataframe tbody tr th {\n",
       "        vertical-align: top;\n",
       "    }\n",
       "\n",
       "    .dataframe thead th {\n",
       "        text-align: right;\n",
       "    }\n",
       "</style>\n",
       "<table border=\"1\" class=\"dataframe\">\n",
       "  <thead>\n",
       "    <tr style=\"text-align: right;\">\n",
       "      <th></th>\n",
       "      <th>id_unidad</th>\n",
       "      <th>clave_unidad</th>\n",
       "      <th>nombre_unidad</th>\n",
       "    </tr>\n",
       "  </thead>\n",
       "  <tbody>\n",
       "    <tr>\n",
       "      <th>0</th>\n",
       "      <td>1</td>\n",
       "      <td>ppb</td>\n",
       "      <td>partes por billón</td>\n",
       "    </tr>\n",
       "    <tr>\n",
       "      <th>1</th>\n",
       "      <td>2</td>\n",
       "      <td>µg/m³</td>\n",
       "      <td>microgramos por metro cúbico</td>\n",
       "    </tr>\n",
       "    <tr>\n",
       "      <th>2</th>\n",
       "      <td>3</td>\n",
       "      <td>m/s</td>\n",
       "      <td>metros por segundo</td>\n",
       "    </tr>\n",
       "    <tr>\n",
       "      <th>3</th>\n",
       "      <td>4</td>\n",
       "      <td>°</td>\n",
       "      <td>grados</td>\n",
       "    </tr>\n",
       "    <tr>\n",
       "      <th>4</th>\n",
       "      <td>5</td>\n",
       "      <td>°C</td>\n",
       "      <td>grados Celsius</td>\n",
       "    </tr>\n",
       "  </tbody>\n",
       "</table>\n",
       "</div>"
      ],
      "text/plain": [
       "   id_unidad clave_unidad                 nombre_unidad\n",
       "0          1          ppb             partes por billón\n",
       "1          2        µg/m³  microgramos por metro cúbico\n",
       "2          3          m/s            metros por segundo\n",
       "3          4            °                        grados\n",
       "4          5           °C                grados Celsius"
      ]
     },
     "execution_count": 29,
     "metadata": {},
     "output_type": "execute_result"
    }
   ],
   "source": [
    "cat_units.head()"
   ]
  },
  {
   "cell_type": "code",
   "execution_count": 30,
   "id": "c25ff06a",
   "metadata": {},
   "outputs": [
    {
     "data": {
      "text/html": [
       "<div>\n",
       "<style scoped>\n",
       "    .dataframe tbody tr th:only-of-type {\n",
       "        vertical-align: middle;\n",
       "    }\n",
       "\n",
       "    .dataframe tbody tr th {\n",
       "        vertical-align: top;\n",
       "    }\n",
       "\n",
       "    .dataframe thead th {\n",
       "        text-align: right;\n",
       "    }\n",
       "</style>\n",
       "<table border=\"1\" class=\"dataframe\">\n",
       "  <thead>\n",
       "    <tr style=\"text-align: right;\">\n",
       "      <th></th>\n",
       "      <th>id_unidad</th>\n",
       "    </tr>\n",
       "  </thead>\n",
       "  <tbody>\n",
       "    <tr>\n",
       "      <th>count</th>\n",
       "      <td>17.000000</td>\n",
       "    </tr>\n",
       "    <tr>\n",
       "      <th>mean</th>\n",
       "      <td>9.000000</td>\n",
       "    </tr>\n",
       "    <tr>\n",
       "      <th>std</th>\n",
       "      <td>5.049752</td>\n",
       "    </tr>\n",
       "    <tr>\n",
       "      <th>min</th>\n",
       "      <td>1.000000</td>\n",
       "    </tr>\n",
       "    <tr>\n",
       "      <th>25%</th>\n",
       "      <td>5.000000</td>\n",
       "    </tr>\n",
       "    <tr>\n",
       "      <th>50%</th>\n",
       "      <td>9.000000</td>\n",
       "    </tr>\n",
       "    <tr>\n",
       "      <th>75%</th>\n",
       "      <td>13.000000</td>\n",
       "    </tr>\n",
       "    <tr>\n",
       "      <th>max</th>\n",
       "      <td>17.000000</td>\n",
       "    </tr>\n",
       "  </tbody>\n",
       "</table>\n",
       "</div>"
      ],
      "text/plain": [
       "       id_unidad\n",
       "count  17.000000\n",
       "mean    9.000000\n",
       "std     5.049752\n",
       "min     1.000000\n",
       "25%     5.000000\n",
       "50%     9.000000\n",
       "75%    13.000000\n",
       "max    17.000000"
      ]
     },
     "execution_count": 30,
     "metadata": {},
     "output_type": "execute_result"
    }
   ],
   "source": [
    "cat_units.describe()"
   ]
  },
  {
   "cell_type": "code",
   "execution_count": 31,
   "id": "9596c5c3",
   "metadata": {},
   "outputs": [],
   "source": [
    "units_stay = [\"id_unidad\", \"nombre_unidad\"]\n",
    "cat_units = cat_units[units_stay]"
   ]
  },
  {
   "cell_type": "code",
   "execution_count": 32,
   "id": "e5cfe0f9",
   "metadata": {},
   "outputs": [],
   "source": [
    "# this catalog doesn't require a major cleaning\n",
    "df = df.merge(cat_units, left_on=[\"unit\"], right_on=[\"id_unidad\"], how=\"left\").drop(\"id_unidad\", axis=1)"
   ]
  },
  {
   "cell_type": "markdown",
   "id": "e9421d22",
   "metadata": {},
   "source": [
    "### Parameters catalog cleaning"
   ]
  },
  {
   "cell_type": "code",
   "execution_count": 33,
   "id": "f213e2cc",
   "metadata": {
    "scrolled": true
   },
   "outputs": [
    {
     "data": {
      "text/html": [
       "<div>\n",
       "<style scoped>\n",
       "    .dataframe tbody tr th:only-of-type {\n",
       "        vertical-align: middle;\n",
       "    }\n",
       "\n",
       "    .dataframe tbody tr th {\n",
       "        vertical-align: top;\n",
       "    }\n",
       "\n",
       "    .dataframe thead th {\n",
       "        text-align: right;\n",
       "    }\n",
       "</style>\n",
       "<table border=\"1\" class=\"dataframe\">\n",
       "  <thead>\n",
       "    <tr style=\"text-align: right;\">\n",
       "      <th></th>\n",
       "      <th>id_parameter</th>\n",
       "      <th>cve_param</th>\n",
       "      <th>nom_param</th>\n",
       "      <th>unidades_param</th>\n",
       "    </tr>\n",
       "  </thead>\n",
       "  <tbody>\n",
       "    <tr>\n",
       "      <th>0</th>\n",
       "      <td>1</td>\n",
       "      <td>O3</td>\n",
       "      <td>Ozono</td>\n",
       "      <td>1</td>\n",
       "    </tr>\n",
       "    <tr>\n",
       "      <th>1</th>\n",
       "      <td>2</td>\n",
       "      <td>NO2</td>\n",
       "      <td>Dióxido de nitrógeno</td>\n",
       "      <td>1</td>\n",
       "    </tr>\n",
       "    <tr>\n",
       "      <th>2</th>\n",
       "      <td>3</td>\n",
       "      <td>NO</td>\n",
       "      <td>Óxido nítrico</td>\n",
       "      <td>1</td>\n",
       "    </tr>\n",
       "    <tr>\n",
       "      <th>3</th>\n",
       "      <td>4</td>\n",
       "      <td>NOx</td>\n",
       "      <td>Óxidos de nitrógeno</td>\n",
       "      <td>1</td>\n",
       "    </tr>\n",
       "    <tr>\n",
       "      <th>4</th>\n",
       "      <td>5</td>\n",
       "      <td>CO</td>\n",
       "      <td>Monóxido de carbono</td>\n",
       "      <td>15</td>\n",
       "    </tr>\n",
       "  </tbody>\n",
       "</table>\n",
       "</div>"
      ],
      "text/plain": [
       "   id_parameter cve_param             nom_param unidades_param\n",
       "0             1        O3                 Ozono              1\n",
       "1             2       NO2  Dióxido de nitrógeno              1\n",
       "2             3        NO         Óxido nítrico              1\n",
       "3             4       NOx   Óxidos de nitrógeno              1\n",
       "4             5        CO   Monóxido de carbono             15"
      ]
     },
     "execution_count": 33,
     "metadata": {},
     "output_type": "execute_result"
    }
   ],
   "source": [
    "cat_params.head()"
   ]
  },
  {
   "cell_type": "code",
   "execution_count": 34,
   "id": "b3f66984",
   "metadata": {},
   "outputs": [],
   "source": [
    "cat_params.drop(\"id_parameter\", axis=1, inplace=True)"
   ]
  },
  {
   "cell_type": "code",
   "execution_count": 35,
   "id": "016468d8",
   "metadata": {},
   "outputs": [],
   "source": [
    "df = df.merge(cat_params, left_on=[\"id_parameter\"], right_on=[\"cve_param\"], how=\"left\").drop(columns=[\"cve_param\", \"unidades_param\", \"unit\"], axis=1)"
   ]
  },
  {
   "cell_type": "markdown",
   "id": "6961d459",
   "metadata": {},
   "source": [
    "# Ingeniería de Datos"
   ]
  },
  {
   "cell_type": "code",
   "execution_count": 36,
   "id": "b2977d1a",
   "metadata": {},
   "outputs": [],
   "source": [
    "# Sample units: Station-Day\n",
    "# Target: Value in PM10\n",
    "# Observation windows of 6\n",
    "# Minimum of 4 aggregation functions for variable explosion"
   ]
  },
  {
   "cell_type": "code",
   "execution_count": 37,
   "id": "088f3e93",
   "metadata": {},
   "outputs": [],
   "source": [
    "um = [\"id_station\", \"days\"]"
   ]
  },
  {
   "cell_type": "code",
   "execution_count": 38,
   "id": "36abc8ec",
   "metadata": {},
   "outputs": [],
   "source": [
    "df[\"days\"] = df[\"date\"].map( lambda x: x.strftime(\"%Y%m%d\")).astype(int)"
   ]
  },
  {
   "cell_type": "code",
   "execution_count": 39,
   "id": "076b206d",
   "metadata": {},
   "outputs": [],
   "source": [
    "cat_days = df[[\"days\"]].drop_duplicates().reset_index(drop=True)\n",
    "\n",
    "cat_days[\"days\"] = sorted(cat_days[\"days\"].astype(int))"
   ]
  },
  {
   "cell_type": "code",
   "execution_count": 40,
   "id": "afb0e420",
   "metadata": {},
   "outputs": [],
   "source": [
    "cat_days[\"ancla\"] = cat_days.index+1"
   ]
  },
  {
   "cell_type": "code",
   "execution_count": 41,
   "id": "b8fbbd9b",
   "metadata": {},
   "outputs": [
    {
     "name": "stdout",
     "output_type": "stream",
     "text": [
      "1 1613\n",
      "6 1612\n"
     ]
    }
   ],
   "source": [
    "perfw = 1\n",
    "obsw = 6\n",
    "\n",
    "hr_i = cat_days['ancla'].min()\n",
    "hr_f = cat_days['ancla'].max()\n",
    "\n",
    "print(hr_i,hr_f)\n",
    "\n",
    "ancla_i = hr_i + obsw - 1\n",
    "ancla_f = hr_f - perfw\n",
    "\n",
    "print(ancla_i, ancla_f)"
   ]
  },
  {
   "cell_type": "code",
   "execution_count": 42,
   "id": "51c305f9",
   "metadata": {},
   "outputs": [],
   "source": [
    "df = df.merge(cat_days, on=[\"days\"], how= \"inner\").reset_index(drop=True)"
   ]
  },
  {
   "cell_type": "code",
   "execution_count": 43,
   "id": "77f5a1d4",
   "metadata": {},
   "outputs": [
    {
     "data": {
      "text/plain": [
       "(microgramos por metro cúbico    978168\n",
       " Name: nombre_unidad, dtype: int64,\n",
       " Partículas menores a 10 micrómetros    978168\n",
       " Name: nom_param, dtype: int64)"
      ]
     },
     "execution_count": 43,
     "metadata": {},
     "output_type": "execute_result"
    }
   ],
   "source": [
    "df[df[\"id_parameter\"] == \"PM10\"][\"nombre_unidad\"].value_counts(), df[df[\"id_parameter\"] == \"PM10\"][\"nom_param\"].value_counts()"
   ]
  },
  {
   "cell_type": "code",
   "execution_count": 44,
   "id": "53054d51",
   "metadata": {},
   "outputs": [],
   "source": [
    "# We could drop \"nombre_unidad\" and \"nom_param\" as they are just for information purposes"
   ]
  },
  {
   "cell_type": "code",
   "execution_count": 45,
   "id": "333b8673",
   "metadata": {},
   "outputs": [],
   "source": [
    "df.drop(columns=[\"nombre_unidad\", \"nom_param\"], axis=1, inplace=True)"
   ]
  },
  {
   "cell_type": "code",
   "execution_count": 46,
   "id": "e4865166",
   "metadata": {},
   "outputs": [
    {
     "data": {
      "text/html": [
       "<div>\n",
       "<style scoped>\n",
       "    .dataframe tbody tr th:only-of-type {\n",
       "        vertical-align: middle;\n",
       "    }\n",
       "\n",
       "    .dataframe tbody tr th {\n",
       "        vertical-align: top;\n",
       "    }\n",
       "\n",
       "    .dataframe thead th {\n",
       "        text-align: right;\n",
       "    }\n",
       "</style>\n",
       "<table border=\"1\" class=\"dataframe\">\n",
       "  <thead>\n",
       "    <tr style=\"text-align: right;\">\n",
       "      <th></th>\n",
       "      <th>date</th>\n",
       "      <th>id_station</th>\n",
       "      <th>id_parameter</th>\n",
       "      <th>value</th>\n",
       "      <th>days</th>\n",
       "      <th>ancla</th>\n",
       "    </tr>\n",
       "  </thead>\n",
       "  <tbody>\n",
       "    <tr>\n",
       "      <th>0</th>\n",
       "      <td>2018-01-01 01:00:00</td>\n",
       "      <td>ACO</td>\n",
       "      <td>CO</td>\n",
       "      <td>0.400000</td>\n",
       "      <td>20180101</td>\n",
       "      <td>1</td>\n",
       "    </tr>\n",
       "    <tr>\n",
       "      <th>1</th>\n",
       "      <td>2018-01-01 01:00:00</td>\n",
       "      <td>ACO</td>\n",
       "      <td>NO</td>\n",
       "      <td>3.000000</td>\n",
       "      <td>20180101</td>\n",
       "      <td>1</td>\n",
       "    </tr>\n",
       "    <tr>\n",
       "      <th>2</th>\n",
       "      <td>2018-01-01 01:00:00</td>\n",
       "      <td>ACO</td>\n",
       "      <td>NO2</td>\n",
       "      <td>23.000000</td>\n",
       "      <td>20180101</td>\n",
       "      <td>1</td>\n",
       "    </tr>\n",
       "    <tr>\n",
       "      <th>3</th>\n",
       "      <td>2018-01-01 01:00:00</td>\n",
       "      <td>ACO</td>\n",
       "      <td>NOX</td>\n",
       "      <td>25.000000</td>\n",
       "      <td>20180101</td>\n",
       "      <td>1</td>\n",
       "    </tr>\n",
       "    <tr>\n",
       "      <th>4</th>\n",
       "      <td>2018-01-01 01:00:00</td>\n",
       "      <td>ACO</td>\n",
       "      <td>O3</td>\n",
       "      <td>8.000000</td>\n",
       "      <td>20180101</td>\n",
       "      <td>1</td>\n",
       "    </tr>\n",
       "  </tbody>\n",
       "</table>\n",
       "</div>"
      ],
      "text/plain": [
       "                 date id_station id_parameter     value      days  ancla\n",
       "0 2018-01-01 01:00:00        ACO           CO  0.400000  20180101      1\n",
       "1 2018-01-01 01:00:00        ACO           NO  3.000000  20180101      1\n",
       "2 2018-01-01 01:00:00        ACO          NO2 23.000000  20180101      1\n",
       "3 2018-01-01 01:00:00        ACO          NOX 25.000000  20180101      1\n",
       "4 2018-01-01 01:00:00        ACO           O3  8.000000  20180101      1"
      ]
     },
     "execution_count": 46,
     "metadata": {},
     "output_type": "execute_result"
    }
   ],
   "source": [
    "df.head()"
   ]
  },
  {
   "cell_type": "code",
   "execution_count": 86,
   "id": "155a0ab6",
   "metadata": {},
   "outputs": [
    {
     "data": {
      "text/plain": [
       "(9718241, 6)"
      ]
     },
     "execution_count": 86,
     "metadata": {},
     "output_type": "execute_result"
    }
   ],
   "source": [
    "df.shape"
   ]
  },
  {
   "cell_type": "markdown",
   "id": "582d5574",
   "metadata": {},
   "source": [
    "## Creation of average and median values of each station"
   ]
  },
  {
   "cell_type": "code",
   "execution_count": 47,
   "id": "6713bee8",
   "metadata": {},
   "outputs": [],
   "source": [
    "#avg_value = df[um + ['value']].groupby(um).mean().reset_index().rename(columns={'value':'v_avg_value'})\n",
    "#avg_value = avg_value.merge(df[\"value\"], on = um, how=\"inner\")\n",
    "#avg_value.head(10)"
   ]
  },
  {
   "cell_type": "code",
   "execution_count": 48,
   "id": "4277b9f8",
   "metadata": {},
   "outputs": [],
   "source": [
    "#median_value = df[um + ['value']].groupby(um).median().reset_index().rename(columns={'value':'v_median_value'})\n",
    "#median_value.head(10)"
   ]
  },
  {
   "cell_type": "markdown",
   "id": "3be06006",
   "metadata": {},
   "source": [
    "## Integrating variables"
   ]
  },
  {
   "cell_type": "code",
   "execution_count": 49,
   "id": "e1398406",
   "metadata": {},
   "outputs": [],
   "source": [
    "# We Combine all the new created variables\n",
    "# In this case, as we only created two new variables, we could  just have made a merge on um\n",
    "#X_num = reduce( lambda x,y: pd.merge(x,y, on=um, how=\"outer\"), [avg_value , median_value] )"
   ]
  },
  {
   "cell_type": "code",
   "execution_count": 50,
   "id": "7b460375",
   "metadata": {},
   "outputs": [],
   "source": [
    "#X_num = X_num.merge(cat_days, on='days', how='inner').reset_index(drop=True)\n",
    "#X_num.drop('days',axis=1,inplace=True)"
   ]
  },
  {
   "cell_type": "code",
   "execution_count": 51,
   "id": "ab5381e3",
   "metadata": {
    "scrolled": true
   },
   "outputs": [],
   "source": [
    "#X_num.head(10)"
   ]
  },
  {
   "cell_type": "code",
   "execution_count": 52,
   "id": "2127e23a",
   "metadata": {},
   "outputs": [],
   "source": [
    "#var = X_num.filter(like='v_').columns.to_list()"
   ]
  },
  {
   "cell_type": "markdown",
   "id": "5d5e7672",
   "metadata": {},
   "source": [
    "# Ancla generation"
   ]
  },
  {
   "cell_type": "code",
   "execution_count": 56,
   "id": "65cc3039",
   "metadata": {
    "code_folding": []
   },
   "outputs": [],
   "source": [
    "def windows (df, variable, ancla):\n",
    "    aux = df.loc[ (df['ancla'] >= (ancla-obsw+1) ) & (df['ancla'] <= ancla) ].reset_index(drop=True)\n",
    "    aux = aux.pivot_table(index='id_station', values=variable, aggfunc=['min','max','mean', \"median\"])\n",
    "    aux.columns = [f'x_{a}_{b}_{obsw}' for a,b in aux.columns]\n",
    "    aux.insert(0,'ancla',ancla)\n",
    "    \n",
    "    return aux.reset_index()"
   ]
  },
  {
   "cell_type": "markdown",
   "id": "7259e77a",
   "metadata": {},
   "source": [
    "## Prediction Matrix"
   ]
  },
  {
   "cell_type": "code",
   "execution_count": 57,
   "id": "6a731a1e",
   "metadata": {},
   "outputs": [],
   "source": [
    "var = \"value\""
   ]
  },
  {
   "cell_type": "code",
   "execution_count": 58,
   "id": "015737e9",
   "metadata": {},
   "outputs": [],
   "source": [
    "X = pd.concat( map( lambda ancla: windows(df, var, ancla), range(ancla_i, ancla_f+1)  ), ignore_index=True)"
   ]
  },
  {
   "cell_type": "code",
   "execution_count": 59,
   "id": "77bbcda6",
   "metadata": {
    "scrolled": true
   },
   "outputs": [
    {
     "data": {
      "text/html": [
       "<div>\n",
       "<style scoped>\n",
       "    .dataframe tbody tr th:only-of-type {\n",
       "        vertical-align: middle;\n",
       "    }\n",
       "\n",
       "    .dataframe tbody tr th {\n",
       "        vertical-align: top;\n",
       "    }\n",
       "\n",
       "    .dataframe thead th {\n",
       "        text-align: right;\n",
       "    }\n",
       "</style>\n",
       "<table border=\"1\" class=\"dataframe\">\n",
       "  <thead>\n",
       "    <tr style=\"text-align: right;\">\n",
       "      <th></th>\n",
       "      <th>id_station</th>\n",
       "      <th>ancla</th>\n",
       "      <th>x_min_value_6</th>\n",
       "      <th>x_max_value_6</th>\n",
       "      <th>x_mean_value_6</th>\n",
       "      <th>x_median_value_6</th>\n",
       "    </tr>\n",
       "  </thead>\n",
       "  <tbody>\n",
       "    <tr>\n",
       "      <th>0</th>\n",
       "      <td>ACO</td>\n",
       "      <td>6</td>\n",
       "      <td>0.100000</td>\n",
       "      <td>151.000000</td>\n",
       "      <td>20.776907</td>\n",
       "      <td>13.000000</td>\n",
       "    </tr>\n",
       "    <tr>\n",
       "      <th>1</th>\n",
       "      <td>AJM</td>\n",
       "      <td>6</td>\n",
       "      <td>0.100000</td>\n",
       "      <td>112.000000</td>\n",
       "      <td>24.257343</td>\n",
       "      <td>20.000000</td>\n",
       "    </tr>\n",
       "    <tr>\n",
       "      <th>2</th>\n",
       "      <td>AJU</td>\n",
       "      <td>6</td>\n",
       "      <td>1.000000</td>\n",
       "      <td>146.000000</td>\n",
       "      <td>34.371429</td>\n",
       "      <td>29.000000</td>\n",
       "    </tr>\n",
       "    <tr>\n",
       "      <th>3</th>\n",
       "      <td>ATI</td>\n",
       "      <td>6</td>\n",
       "      <td>0.100000</td>\n",
       "      <td>124.000000</td>\n",
       "      <td>26.041049</td>\n",
       "      <td>15.000000</td>\n",
       "    </tr>\n",
       "    <tr>\n",
       "      <th>4</th>\n",
       "      <td>BJU</td>\n",
       "      <td>6</td>\n",
       "      <td>0.100000</td>\n",
       "      <td>114.000000</td>\n",
       "      <td>29.673318</td>\n",
       "      <td>24.000000</td>\n",
       "    </tr>\n",
       "  </tbody>\n",
       "</table>\n",
       "</div>"
      ],
      "text/plain": [
       "  id_station  ancla  x_min_value_6  x_max_value_6  x_mean_value_6  \\\n",
       "0        ACO      6       0.100000     151.000000       20.776907   \n",
       "1        AJM      6       0.100000     112.000000       24.257343   \n",
       "2        AJU      6       1.000000     146.000000       34.371429   \n",
       "3        ATI      6       0.100000     124.000000       26.041049   \n",
       "4        BJU      6       0.100000     114.000000       29.673318   \n",
       "\n",
       "   x_median_value_6  \n",
       "0         13.000000  \n",
       "1         20.000000  \n",
       "2         29.000000  \n",
       "3         15.000000  \n",
       "4         24.000000  "
      ]
     },
     "execution_count": 59,
     "metadata": {},
     "output_type": "execute_result"
    }
   ],
   "source": [
    "X.head()"
   ]
  },
  {
   "cell_type": "code",
   "execution_count": 84,
   "id": "c530bdd3",
   "metadata": {},
   "outputs": [
    {
     "data": {
      "text/plain": [
       "(46737, 6)"
      ]
     },
     "execution_count": 84,
     "metadata": {},
     "output_type": "execute_result"
    }
   ],
   "source": [
    "X.shape"
   ]
  },
  {
   "cell_type": "markdown",
   "id": "073c4ea2",
   "metadata": {},
   "source": [
    "## Target variable"
   ]
  },
  {
   "cell_type": "code",
   "execution_count": 125,
   "id": "4b888cd4",
   "metadata": {},
   "outputs": [],
   "source": [
    "#Our target is the value for the PM10 parameter, so we take the mean of  all the values for target for PM10 fo each station\n",
    "def target(df, ancla):\n",
    "    aux = df[['id_station','ancla', \"id_parameter\", 'value']].loc[df.ancla==(ancla+perfw)].reset_index(drop=True)\n",
    "    aux[\"value\"] = aux[aux[\"id_parameter\"] == \"PM10\"][\"value\"]\n",
    "    aux[\"value\"] = aux[\"value\"].fillna(aux.groupby('id_station')['value'].transform('mean'))\n",
    "    aux.rename(columns={'value':'y'},inplace=True)\n",
    "    return aux"
   ]
  },
  {
   "cell_type": "code",
   "execution_count": 126,
   "id": "745ff6cc",
   "metadata": {},
   "outputs": [],
   "source": [
    "y = pd.concat( map( lambda ancla: target(df, ancla ) , range(ancla_i, ancla_f+1) ), ignore_index=True   )  "
   ]
  },
  {
   "cell_type": "code",
   "execution_count": 127,
   "id": "a47c3531",
   "metadata": {},
   "outputs": [],
   "source": [
    "um = ['id_station','ancla']"
   ]
  },
  {
   "cell_type": "code",
   "execution_count": 128,
   "id": "d71f468c",
   "metadata": {},
   "outputs": [],
   "source": [
    "tad = X.merge(y, on = um, how='inner')"
   ]
  },
  {
   "cell_type": "code",
   "execution_count": 129,
   "id": "aeb79715",
   "metadata": {},
   "outputs": [
    {
     "data": {
      "text/plain": [
       "(7972162, 8)"
      ]
     },
     "execution_count": 129,
     "metadata": {},
     "output_type": "execute_result"
    }
   ],
   "source": [
    "tad.shape"
   ]
  },
  {
   "cell_type": "code",
   "execution_count": 149,
   "id": "1fbc0f03",
   "metadata": {},
   "outputs": [
    {
     "data": {
      "text/html": [
       "<div>\n",
       "<style scoped>\n",
       "    .dataframe tbody tr th:only-of-type {\n",
       "        vertical-align: middle;\n",
       "    }\n",
       "\n",
       "    .dataframe tbody tr th {\n",
       "        vertical-align: top;\n",
       "    }\n",
       "\n",
       "    .dataframe thead th {\n",
       "        text-align: right;\n",
       "    }\n",
       "</style>\n",
       "<table border=\"1\" class=\"dataframe\">\n",
       "  <thead>\n",
       "    <tr style=\"text-align: right;\">\n",
       "      <th></th>\n",
       "      <th>id_station</th>\n",
       "      <th>ancla</th>\n",
       "      <th>x_min_value_6</th>\n",
       "      <th>x_max_value_6</th>\n",
       "      <th>x_mean_value_6</th>\n",
       "      <th>x_median_value_6</th>\n",
       "      <th>id_parameter</th>\n",
       "      <th>y</th>\n",
       "    </tr>\n",
       "  </thead>\n",
       "  <tbody>\n",
       "    <tr>\n",
       "      <th>2257420</th>\n",
       "      <td>MGH</td>\n",
       "      <td>441</td>\n",
       "      <td>0.100000</td>\n",
       "      <td>201.000000</td>\n",
       "      <td>25.628958</td>\n",
       "      <td>20.000000</td>\n",
       "      <td>NO2</td>\n",
       "      <td>42.291667</td>\n",
       "    </tr>\n",
       "    <tr>\n",
       "      <th>7157806</th>\n",
       "      <td>LLA</td>\n",
       "      <td>1450</td>\n",
       "      <td>1.000000</td>\n",
       "      <td>78.000000</td>\n",
       "      <td>19.672566</td>\n",
       "      <td>10.000000</td>\n",
       "      <td>NOX</td>\n",
       "      <td>NaN</td>\n",
       "    </tr>\n",
       "    <tr>\n",
       "      <th>4983107</th>\n",
       "      <td>UAX</td>\n",
       "      <td>981</td>\n",
       "      <td>0.100000</td>\n",
       "      <td>103.000000</td>\n",
       "      <td>10.877072</td>\n",
       "      <td>6.000000</td>\n",
       "      <td>O3</td>\n",
       "      <td>NaN</td>\n",
       "    </tr>\n",
       "    <tr>\n",
       "      <th>1780854</th>\n",
       "      <td>TLA</td>\n",
       "      <td>352</td>\n",
       "      <td>0.100000</td>\n",
       "      <td>333.000000</td>\n",
       "      <td>41.709945</td>\n",
       "      <td>34.000000</td>\n",
       "      <td>O3</td>\n",
       "      <td>97.666667</td>\n",
       "    </tr>\n",
       "    <tr>\n",
       "      <th>1961797</th>\n",
       "      <td>UAX</td>\n",
       "      <td>385</td>\n",
       "      <td>0.100000</td>\n",
       "      <td>99.000000</td>\n",
       "      <td>17.990267</td>\n",
       "      <td>14.000000</td>\n",
       "      <td>PM2.5</td>\n",
       "      <td>NaN</td>\n",
       "    </tr>\n",
       "    <tr>\n",
       "      <th>5732440</th>\n",
       "      <td>SFE</td>\n",
       "      <td>1157</td>\n",
       "      <td>0.100000</td>\n",
       "      <td>199.000000</td>\n",
       "      <td>23.703078</td>\n",
       "      <td>18.000000</td>\n",
       "      <td>CO</td>\n",
       "      <td>59.083333</td>\n",
       "    </tr>\n",
       "    <tr>\n",
       "      <th>4704539</th>\n",
       "      <td>AJM</td>\n",
       "      <td>918</td>\n",
       "      <td>0.100000</td>\n",
       "      <td>38.000000</td>\n",
       "      <td>5.510350</td>\n",
       "      <td>2.000000</td>\n",
       "      <td>NOX</td>\n",
       "      <td>NaN</td>\n",
       "    </tr>\n",
       "    <tr>\n",
       "      <th>6427568</th>\n",
       "      <td>MER</td>\n",
       "      <td>1306</td>\n",
       "      <td>0.100000</td>\n",
       "      <td>129.000000</td>\n",
       "      <td>19.444342</td>\n",
       "      <td>15.000000</td>\n",
       "      <td>PMCO</td>\n",
       "      <td>27.000000</td>\n",
       "    </tr>\n",
       "    <tr>\n",
       "      <th>4472098</th>\n",
       "      <td>TAH</td>\n",
       "      <td>867</td>\n",
       "      <td>0.100000</td>\n",
       "      <td>99.000000</td>\n",
       "      <td>13.756768</td>\n",
       "      <td>5.000000</td>\n",
       "      <td>NOX</td>\n",
       "      <td>NaN</td>\n",
       "    </tr>\n",
       "    <tr>\n",
       "      <th>3684292</th>\n",
       "      <td>INN</td>\n",
       "      <td>714</td>\n",
       "      <td>0.100000</td>\n",
       "      <td>99.000000</td>\n",
       "      <td>15.428860</td>\n",
       "      <td>11.000000</td>\n",
       "      <td>PM2.5</td>\n",
       "      <td>30.375000</td>\n",
       "    </tr>\n",
       "    <tr>\n",
       "      <th>3280060</th>\n",
       "      <td>HGM</td>\n",
       "      <td>638</td>\n",
       "      <td>0.100000</td>\n",
       "      <td>106.000000</td>\n",
       "      <td>16.371980</td>\n",
       "      <td>12.000000</td>\n",
       "      <td>SO2</td>\n",
       "      <td>9.600000</td>\n",
       "    </tr>\n",
       "    <tr>\n",
       "      <th>3158045</th>\n",
       "      <td>IZT</td>\n",
       "      <td>613</td>\n",
       "      <td>0.100000</td>\n",
       "      <td>133.000000</td>\n",
       "      <td>17.366874</td>\n",
       "      <td>14.500000</td>\n",
       "      <td>SO2</td>\n",
       "      <td>25.166667</td>\n",
       "    </tr>\n",
       "    <tr>\n",
       "      <th>4042362</th>\n",
       "      <td>PED</td>\n",
       "      <td>781</td>\n",
       "      <td>0.100000</td>\n",
       "      <td>181.000000</td>\n",
       "      <td>20.911459</td>\n",
       "      <td>15.000000</td>\n",
       "      <td>NO2</td>\n",
       "      <td>46.708333</td>\n",
       "    </tr>\n",
       "    <tr>\n",
       "      <th>56606</th>\n",
       "      <td>BJU</td>\n",
       "      <td>18</td>\n",
       "      <td>0.100000</td>\n",
       "      <td>115.000000</td>\n",
       "      <td>27.786300</td>\n",
       "      <td>22.000000</td>\n",
       "      <td>PMCO</td>\n",
       "      <td>65.583333</td>\n",
       "    </tr>\n",
       "    <tr>\n",
       "      <th>5266500</th>\n",
       "      <td>GAM</td>\n",
       "      <td>1049</td>\n",
       "      <td>1.000000</td>\n",
       "      <td>120.000000</td>\n",
       "      <td>39.410437</td>\n",
       "      <td>35.000000</td>\n",
       "      <td>O3</td>\n",
       "      <td>78.291667</td>\n",
       "    </tr>\n",
       "    <tr>\n",
       "      <th>2362516</th>\n",
       "      <td>UIZ</td>\n",
       "      <td>459</td>\n",
       "      <td>1.000000</td>\n",
       "      <td>172.000000</td>\n",
       "      <td>30.249777</td>\n",
       "      <td>26.000000</td>\n",
       "      <td>O3</td>\n",
       "      <td>74.695652</td>\n",
       "    </tr>\n",
       "    <tr>\n",
       "      <th>2921067</th>\n",
       "      <td>AJM</td>\n",
       "      <td>563</td>\n",
       "      <td>0.100000</td>\n",
       "      <td>96.000000</td>\n",
       "      <td>13.755920</td>\n",
       "      <td>10.000000</td>\n",
       "      <td>SO2</td>\n",
       "      <td>19.875000</td>\n",
       "    </tr>\n",
       "    <tr>\n",
       "      <th>1377454</th>\n",
       "      <td>CHO</td>\n",
       "      <td>276</td>\n",
       "      <td>0.100000</td>\n",
       "      <td>165.000000</td>\n",
       "      <td>21.014403</td>\n",
       "      <td>16.000000</td>\n",
       "      <td>NO</td>\n",
       "      <td>32.958333</td>\n",
       "    </tr>\n",
       "    <tr>\n",
       "      <th>4092035</th>\n",
       "      <td>IZT</td>\n",
       "      <td>791</td>\n",
       "      <td>0.100000</td>\n",
       "      <td>174.000000</td>\n",
       "      <td>23.864021</td>\n",
       "      <td>19.000000</td>\n",
       "      <td>NOX</td>\n",
       "      <td>46.125000</td>\n",
       "    </tr>\n",
       "    <tr>\n",
       "      <th>5231983</th>\n",
       "      <td>MON</td>\n",
       "      <td>1041</td>\n",
       "      <td>0.100000</td>\n",
       "      <td>98.000000</td>\n",
       "      <td>11.112095</td>\n",
       "      <td>4.000000</td>\n",
       "      <td>PM2.5</td>\n",
       "      <td>NaN</td>\n",
       "    </tr>\n",
       "    <tr>\n",
       "      <th>3088906</th>\n",
       "      <td>AJM</td>\n",
       "      <td>598</td>\n",
       "      <td>0.100000</td>\n",
       "      <td>96.000000</td>\n",
       "      <td>12.766438</td>\n",
       "      <td>10.000000</td>\n",
       "      <td>CO</td>\n",
       "      <td>18.375000</td>\n",
       "    </tr>\n",
       "    <tr>\n",
       "      <th>6605801</th>\n",
       "      <td>MPA</td>\n",
       "      <td>1343</td>\n",
       "      <td>0.100000</td>\n",
       "      <td>89.000000</td>\n",
       "      <td>10.107636</td>\n",
       "      <td>5.000000</td>\n",
       "      <td>PM10</td>\n",
       "      <td>24.000000</td>\n",
       "    </tr>\n",
       "    <tr>\n",
       "      <th>2286269</th>\n",
       "      <td>PED</td>\n",
       "      <td>446</td>\n",
       "      <td>0.100000</td>\n",
       "      <td>119.000000</td>\n",
       "      <td>18.729856</td>\n",
       "      <td>16.000000</td>\n",
       "      <td>PM2.5</td>\n",
       "      <td>29.000000</td>\n",
       "    </tr>\n",
       "    <tr>\n",
       "      <th>2292353</th>\n",
       "      <td>SAG</td>\n",
       "      <td>447</td>\n",
       "      <td>0.100000</td>\n",
       "      <td>117.000000</td>\n",
       "      <td>22.225458</td>\n",
       "      <td>18.000000</td>\n",
       "      <td>PM2.5</td>\n",
       "      <td>51.136364</td>\n",
       "    </tr>\n",
       "    <tr>\n",
       "      <th>2092792</th>\n",
       "      <td>TAH</td>\n",
       "      <td>410</td>\n",
       "      <td>0.100000</td>\n",
       "      <td>169.000000</td>\n",
       "      <td>19.636557</td>\n",
       "      <td>10.000000</td>\n",
       "      <td>NO</td>\n",
       "      <td>39.473684</td>\n",
       "    </tr>\n",
       "    <tr>\n",
       "      <th>2851051</th>\n",
       "      <td>SAG</td>\n",
       "      <td>548</td>\n",
       "      <td>0.100000</td>\n",
       "      <td>74.000000</td>\n",
       "      <td>14.850249</td>\n",
       "      <td>12.000000</td>\n",
       "      <td>PM2.5</td>\n",
       "      <td>42.333333</td>\n",
       "    </tr>\n",
       "    <tr>\n",
       "      <th>6455050</th>\n",
       "      <td>CAM</td>\n",
       "      <td>1312</td>\n",
       "      <td>0.100000</td>\n",
       "      <td>163.000000</td>\n",
       "      <td>19.416209</td>\n",
       "      <td>16.000000</td>\n",
       "      <td>PMCO</td>\n",
       "      <td>27.086957</td>\n",
       "    </tr>\n",
       "    <tr>\n",
       "      <th>2573579</th>\n",
       "      <td>PED</td>\n",
       "      <td>497</td>\n",
       "      <td>0.100000</td>\n",
       "      <td>153.000000</td>\n",
       "      <td>22.794864</td>\n",
       "      <td>13.000000</td>\n",
       "      <td>NO2</td>\n",
       "      <td>77.181818</td>\n",
       "    </tr>\n",
       "    <tr>\n",
       "      <th>3391370</th>\n",
       "      <td>TLA</td>\n",
       "      <td>659</td>\n",
       "      <td>0.100000</td>\n",
       "      <td>271.000000</td>\n",
       "      <td>21.737918</td>\n",
       "      <td>13.000000</td>\n",
       "      <td>NO</td>\n",
       "      <td>NaN</td>\n",
       "    </tr>\n",
       "    <tr>\n",
       "      <th>451966</th>\n",
       "      <td>SAG</td>\n",
       "      <td>94</td>\n",
       "      <td>0.100000</td>\n",
       "      <td>186.000000</td>\n",
       "      <td>23.666073</td>\n",
       "      <td>18.000000</td>\n",
       "      <td>PM10</td>\n",
       "      <td>86.000000</td>\n",
       "    </tr>\n",
       "    <tr>\n",
       "      <th>5909612</th>\n",
       "      <td>MPA</td>\n",
       "      <td>1198</td>\n",
       "      <td>0.100000</td>\n",
       "      <td>231.000000</td>\n",
       "      <td>26.135020</td>\n",
       "      <td>17.000000</td>\n",
       "      <td>CO</td>\n",
       "      <td>68.208333</td>\n",
       "    </tr>\n",
       "    <tr>\n",
       "      <th>3099141</th>\n",
       "      <td>GAM</td>\n",
       "      <td>600</td>\n",
       "      <td>1.000000</td>\n",
       "      <td>96.000000</td>\n",
       "      <td>22.998592</td>\n",
       "      <td>19.000000</td>\n",
       "      <td>O3</td>\n",
       "      <td>43.541667</td>\n",
       "    </tr>\n",
       "    <tr>\n",
       "      <th>7270748</th>\n",
       "      <td>NEZ</td>\n",
       "      <td>1472</td>\n",
       "      <td>0.100000</td>\n",
       "      <td>238.000000</td>\n",
       "      <td>26.280535</td>\n",
       "      <td>17.000000</td>\n",
       "      <td>CO</td>\n",
       "      <td>22.708333</td>\n",
       "    </tr>\n",
       "    <tr>\n",
       "      <th>7790053</th>\n",
       "      <td>SAG</td>\n",
       "      <td>1578</td>\n",
       "      <td>0.100000</td>\n",
       "      <td>213.000000</td>\n",
       "      <td>18.637232</td>\n",
       "      <td>14.000000</td>\n",
       "      <td>PM10</td>\n",
       "      <td>30.000000</td>\n",
       "    </tr>\n",
       "    <tr>\n",
       "      <th>4797550</th>\n",
       "      <td>PED</td>\n",
       "      <td>938</td>\n",
       "      <td>1.000000</td>\n",
       "      <td>122.000000</td>\n",
       "      <td>16.181053</td>\n",
       "      <td>11.000000</td>\n",
       "      <td>PMCO</td>\n",
       "      <td>13.541667</td>\n",
       "    </tr>\n",
       "    <tr>\n",
       "      <th>3493304</th>\n",
       "      <td>AJM</td>\n",
       "      <td>679</td>\n",
       "      <td>0.100000</td>\n",
       "      <td>74.000000</td>\n",
       "      <td>13.038704</td>\n",
       "      <td>11.000000</td>\n",
       "      <td>PM2.5</td>\n",
       "      <td>26.041667</td>\n",
       "    </tr>\n",
       "    <tr>\n",
       "      <th>5889928</th>\n",
       "      <td>CCA</td>\n",
       "      <td>1194</td>\n",
       "      <td>0.100000</td>\n",
       "      <td>113.000000</td>\n",
       "      <td>16.319247</td>\n",
       "      <td>11.000000</td>\n",
       "      <td>PM2.5</td>\n",
       "      <td>NaN</td>\n",
       "    </tr>\n",
       "    <tr>\n",
       "      <th>6091620</th>\n",
       "      <td>CUA</td>\n",
       "      <td>1238</td>\n",
       "      <td>0.100000</td>\n",
       "      <td>112.000000</td>\n",
       "      <td>18.974030</td>\n",
       "      <td>12.000000</td>\n",
       "      <td>NO</td>\n",
       "      <td>NaN</td>\n",
       "    </tr>\n",
       "    <tr>\n",
       "      <th>5581015</th>\n",
       "      <td>BJU</td>\n",
       "      <td>1121</td>\n",
       "      <td>0.100000</td>\n",
       "      <td>70.000000</td>\n",
       "      <td>14.739972</td>\n",
       "      <td>13.000000</td>\n",
       "      <td>NO2</td>\n",
       "      <td>32.375000</td>\n",
       "    </tr>\n",
       "    <tr>\n",
       "      <th>826803</th>\n",
       "      <td>GAM</td>\n",
       "      <td>168</td>\n",
       "      <td>1.000000</td>\n",
       "      <td>103.000000</td>\n",
       "      <td>19.047273</td>\n",
       "      <td>13.000000</td>\n",
       "      <td>PMCO</td>\n",
       "      <td>NaN</td>\n",
       "    </tr>\n",
       "    <tr>\n",
       "      <th>5834686</th>\n",
       "      <td>UAX</td>\n",
       "      <td>1181</td>\n",
       "      <td>0.100000</td>\n",
       "      <td>183.000000</td>\n",
       "      <td>16.752954</td>\n",
       "      <td>10.500000</td>\n",
       "      <td>NO2</td>\n",
       "      <td>NaN</td>\n",
       "    </tr>\n",
       "    <tr>\n",
       "      <th>5885862</th>\n",
       "      <td>CUT</td>\n",
       "      <td>1193</td>\n",
       "      <td>1.000000</td>\n",
       "      <td>201.000000</td>\n",
       "      <td>19.516438</td>\n",
       "      <td>11.000000</td>\n",
       "      <td>NO2</td>\n",
       "      <td>32.363636</td>\n",
       "    </tr>\n",
       "    <tr>\n",
       "      <th>1614013</th>\n",
       "      <td>LLA</td>\n",
       "      <td>321</td>\n",
       "      <td>0.100000</td>\n",
       "      <td>84.000000</td>\n",
       "      <td>7.645215</td>\n",
       "      <td>3.000000</td>\n",
       "      <td>NO2</td>\n",
       "      <td>NaN</td>\n",
       "    </tr>\n",
       "    <tr>\n",
       "      <th>4980799</th>\n",
       "      <td>FAR</td>\n",
       "      <td>981</td>\n",
       "      <td>0.100000</td>\n",
       "      <td>80.000000</td>\n",
       "      <td>9.815630</td>\n",
       "      <td>5.000000</td>\n",
       "      <td>NO</td>\n",
       "      <td>NaN</td>\n",
       "    </tr>\n",
       "    <tr>\n",
       "      <th>3583502</th>\n",
       "      <td>ATI</td>\n",
       "      <td>696</td>\n",
       "      <td>1.000000</td>\n",
       "      <td>147.000000</td>\n",
       "      <td>24.355670</td>\n",
       "      <td>17.000000</td>\n",
       "      <td>PM10</td>\n",
       "      <td>46.000000</td>\n",
       "    </tr>\n",
       "    <tr>\n",
       "      <th>4560335</th>\n",
       "      <td>IZT</td>\n",
       "      <td>886</td>\n",
       "      <td>0.100000</td>\n",
       "      <td>98.000000</td>\n",
       "      <td>13.980749</td>\n",
       "      <td>11.000000</td>\n",
       "      <td>NO2</td>\n",
       "      <td>22.500000</td>\n",
       "    </tr>\n",
       "    <tr>\n",
       "      <th>4898338</th>\n",
       "      <td>TLA</td>\n",
       "      <td>960</td>\n",
       "      <td>0.100000</td>\n",
       "      <td>104.000000</td>\n",
       "      <td>17.317065</td>\n",
       "      <td>14.000000</td>\n",
       "      <td>CO</td>\n",
       "      <td>27.181818</td>\n",
       "    </tr>\n",
       "    <tr>\n",
       "      <th>96346</th>\n",
       "      <td>MON</td>\n",
       "      <td>25</td>\n",
       "      <td>0.100000</td>\n",
       "      <td>319.000000</td>\n",
       "      <td>23.212082</td>\n",
       "      <td>4.000000</td>\n",
       "      <td>NO</td>\n",
       "      <td>NaN</td>\n",
       "    </tr>\n",
       "    <tr>\n",
       "      <th>576827</th>\n",
       "      <td>MPA</td>\n",
       "      <td>119</td>\n",
       "      <td>0.100000</td>\n",
       "      <td>104.000000</td>\n",
       "      <td>59.853684</td>\n",
       "      <td>61.000000</td>\n",
       "      <td>O3</td>\n",
       "      <td>NaN</td>\n",
       "    </tr>\n",
       "    <tr>\n",
       "      <th>2553608</th>\n",
       "      <td>XAL</td>\n",
       "      <td>493</td>\n",
       "      <td>2.000000</td>\n",
       "      <td>112.000000</td>\n",
       "      <td>37.157143</td>\n",
       "      <td>30.500000</td>\n",
       "      <td>PMCO</td>\n",
       "      <td>NaN</td>\n",
       "    </tr>\n",
       "    <tr>\n",
       "      <th>5031787</th>\n",
       "      <td>SAG</td>\n",
       "      <td>993</td>\n",
       "      <td>1.000000</td>\n",
       "      <td>105.000000</td>\n",
       "      <td>22.195876</td>\n",
       "      <td>18.000000</td>\n",
       "      <td>PM2.5</td>\n",
       "      <td>NaN</td>\n",
       "    </tr>\n",
       "    <tr>\n",
       "      <th>2000046</th>\n",
       "      <td>BJU</td>\n",
       "      <td>393</td>\n",
       "      <td>0.100000</td>\n",
       "      <td>66.000000</td>\n",
       "      <td>13.164241</td>\n",
       "      <td>3.000000</td>\n",
       "      <td>PM2.5</td>\n",
       "      <td>NaN</td>\n",
       "    </tr>\n",
       "    <tr>\n",
       "      <th>2775895</th>\n",
       "      <td>PED</td>\n",
       "      <td>534</td>\n",
       "      <td>0.100000</td>\n",
       "      <td>119.000000</td>\n",
       "      <td>16.298536</td>\n",
       "      <td>12.000000</td>\n",
       "      <td>NOX</td>\n",
       "      <td>24.666667</td>\n",
       "    </tr>\n",
       "    <tr>\n",
       "      <th>1648455</th>\n",
       "      <td>UIZ</td>\n",
       "      <td>327</td>\n",
       "      <td>0.200000</td>\n",
       "      <td>231.000000</td>\n",
       "      <td>32.085741</td>\n",
       "      <td>28.000000</td>\n",
       "      <td>CO</td>\n",
       "      <td>72.625000</td>\n",
       "    </tr>\n",
       "    <tr>\n",
       "      <th>3921416</th>\n",
       "      <td>HGM</td>\n",
       "      <td>758</td>\n",
       "      <td>0.100000</td>\n",
       "      <td>139.000000</td>\n",
       "      <td>21.658333</td>\n",
       "      <td>16.000000</td>\n",
       "      <td>PM10</td>\n",
       "      <td>NaN</td>\n",
       "    </tr>\n",
       "    <tr>\n",
       "      <th>1136889</th>\n",
       "      <td>ATI</td>\n",
       "      <td>229</td>\n",
       "      <td>0.100000</td>\n",
       "      <td>115.000000</td>\n",
       "      <td>18.160044</td>\n",
       "      <td>13.000000</td>\n",
       "      <td>O3</td>\n",
       "      <td>31.500000</td>\n",
       "    </tr>\n",
       "    <tr>\n",
       "      <th>1161108</th>\n",
       "      <td>UAX</td>\n",
       "      <td>233</td>\n",
       "      <td>0.100000</td>\n",
       "      <td>101.000000</td>\n",
       "      <td>14.627979</td>\n",
       "      <td>8.000000</td>\n",
       "      <td>NOX</td>\n",
       "      <td>NaN</td>\n",
       "    </tr>\n",
       "    <tr>\n",
       "      <th>1162362</th>\n",
       "      <td>BJU</td>\n",
       "      <td>234</td>\n",
       "      <td>0.100000</td>\n",
       "      <td>122.000000</td>\n",
       "      <td>13.755897</td>\n",
       "      <td>9.000000</td>\n",
       "      <td>O3</td>\n",
       "      <td>20.916667</td>\n",
       "    </tr>\n",
       "    <tr>\n",
       "      <th>3573764</th>\n",
       "      <td>FAC</td>\n",
       "      <td>694</td>\n",
       "      <td>0.100000</td>\n",
       "      <td>227.000000</td>\n",
       "      <td>25.707513</td>\n",
       "      <td>15.000000</td>\n",
       "      <td>NO</td>\n",
       "      <td>41.666667</td>\n",
       "    </tr>\n",
       "    <tr>\n",
       "      <th>5831074</th>\n",
       "      <td>BJU</td>\n",
       "      <td>1181</td>\n",
       "      <td>0.100000</td>\n",
       "      <td>72.000000</td>\n",
       "      <td>17.472571</td>\n",
       "      <td>15.000000</td>\n",
       "      <td>O3</td>\n",
       "      <td>47.166667</td>\n",
       "    </tr>\n",
       "  </tbody>\n",
       "</table>\n",
       "</div>"
      ],
      "text/plain": [
       "        id_station  ancla  x_min_value_6  x_max_value_6  x_mean_value_6  \\\n",
       "2257420        MGH    441       0.100000     201.000000       25.628958   \n",
       "7157806        LLA   1450       1.000000      78.000000       19.672566   \n",
       "4983107        UAX    981       0.100000     103.000000       10.877072   \n",
       "1780854        TLA    352       0.100000     333.000000       41.709945   \n",
       "1961797        UAX    385       0.100000      99.000000       17.990267   \n",
       "5732440        SFE   1157       0.100000     199.000000       23.703078   \n",
       "4704539        AJM    918       0.100000      38.000000        5.510350   \n",
       "6427568        MER   1306       0.100000     129.000000       19.444342   \n",
       "4472098        TAH    867       0.100000      99.000000       13.756768   \n",
       "3684292        INN    714       0.100000      99.000000       15.428860   \n",
       "3280060        HGM    638       0.100000     106.000000       16.371980   \n",
       "3158045        IZT    613       0.100000     133.000000       17.366874   \n",
       "4042362        PED    781       0.100000     181.000000       20.911459   \n",
       "56606          BJU     18       0.100000     115.000000       27.786300   \n",
       "5266500        GAM   1049       1.000000     120.000000       39.410437   \n",
       "2362516        UIZ    459       1.000000     172.000000       30.249777   \n",
       "2921067        AJM    563       0.100000      96.000000       13.755920   \n",
       "1377454        CHO    276       0.100000     165.000000       21.014403   \n",
       "4092035        IZT    791       0.100000     174.000000       23.864021   \n",
       "5231983        MON   1041       0.100000      98.000000       11.112095   \n",
       "3088906        AJM    598       0.100000      96.000000       12.766438   \n",
       "6605801        MPA   1343       0.100000      89.000000       10.107636   \n",
       "2286269        PED    446       0.100000     119.000000       18.729856   \n",
       "2292353        SAG    447       0.100000     117.000000       22.225458   \n",
       "2092792        TAH    410       0.100000     169.000000       19.636557   \n",
       "2851051        SAG    548       0.100000      74.000000       14.850249   \n",
       "6455050        CAM   1312       0.100000     163.000000       19.416209   \n",
       "2573579        PED    497       0.100000     153.000000       22.794864   \n",
       "3391370        TLA    659       0.100000     271.000000       21.737918   \n",
       "451966         SAG     94       0.100000     186.000000       23.666073   \n",
       "5909612        MPA   1198       0.100000     231.000000       26.135020   \n",
       "3099141        GAM    600       1.000000      96.000000       22.998592   \n",
       "7270748        NEZ   1472       0.100000     238.000000       26.280535   \n",
       "7790053        SAG   1578       0.100000     213.000000       18.637232   \n",
       "4797550        PED    938       1.000000     122.000000       16.181053   \n",
       "3493304        AJM    679       0.100000      74.000000       13.038704   \n",
       "5889928        CCA   1194       0.100000     113.000000       16.319247   \n",
       "6091620        CUA   1238       0.100000     112.000000       18.974030   \n",
       "5581015        BJU   1121       0.100000      70.000000       14.739972   \n",
       "826803         GAM    168       1.000000     103.000000       19.047273   \n",
       "5834686        UAX   1181       0.100000     183.000000       16.752954   \n",
       "5885862        CUT   1193       1.000000     201.000000       19.516438   \n",
       "1614013        LLA    321       0.100000      84.000000        7.645215   \n",
       "4980799        FAR    981       0.100000      80.000000        9.815630   \n",
       "3583502        ATI    696       1.000000     147.000000       24.355670   \n",
       "4560335        IZT    886       0.100000      98.000000       13.980749   \n",
       "4898338        TLA    960       0.100000     104.000000       17.317065   \n",
       "96346          MON     25       0.100000     319.000000       23.212082   \n",
       "576827         MPA    119       0.100000     104.000000       59.853684   \n",
       "2553608        XAL    493       2.000000     112.000000       37.157143   \n",
       "5031787        SAG    993       1.000000     105.000000       22.195876   \n",
       "2000046        BJU    393       0.100000      66.000000       13.164241   \n",
       "2775895        PED    534       0.100000     119.000000       16.298536   \n",
       "1648455        UIZ    327       0.200000     231.000000       32.085741   \n",
       "3921416        HGM    758       0.100000     139.000000       21.658333   \n",
       "1136889        ATI    229       0.100000     115.000000       18.160044   \n",
       "1161108        UAX    233       0.100000     101.000000       14.627979   \n",
       "1162362        BJU    234       0.100000     122.000000       13.755897   \n",
       "3573764        FAC    694       0.100000     227.000000       25.707513   \n",
       "5831074        BJU   1181       0.100000      72.000000       17.472571   \n",
       "\n",
       "         x_median_value_6 id_parameter         y  \n",
       "2257420         20.000000          NO2 42.291667  \n",
       "7157806         10.000000          NOX       NaN  \n",
       "4983107          6.000000           O3       NaN  \n",
       "1780854         34.000000           O3 97.666667  \n",
       "1961797         14.000000        PM2.5       NaN  \n",
       "5732440         18.000000           CO 59.083333  \n",
       "4704539          2.000000          NOX       NaN  \n",
       "6427568         15.000000         PMCO 27.000000  \n",
       "4472098          5.000000          NOX       NaN  \n",
       "3684292         11.000000        PM2.5 30.375000  \n",
       "3280060         12.000000          SO2  9.600000  \n",
       "3158045         14.500000          SO2 25.166667  \n",
       "4042362         15.000000          NO2 46.708333  \n",
       "56606           22.000000         PMCO 65.583333  \n",
       "5266500         35.000000           O3 78.291667  \n",
       "2362516         26.000000           O3 74.695652  \n",
       "2921067         10.000000          SO2 19.875000  \n",
       "1377454         16.000000           NO 32.958333  \n",
       "4092035         19.000000          NOX 46.125000  \n",
       "5231983          4.000000        PM2.5       NaN  \n",
       "3088906         10.000000           CO 18.375000  \n",
       "6605801          5.000000         PM10 24.000000  \n",
       "2286269         16.000000        PM2.5 29.000000  \n",
       "2292353         18.000000        PM2.5 51.136364  \n",
       "2092792         10.000000           NO 39.473684  \n",
       "2851051         12.000000        PM2.5 42.333333  \n",
       "6455050         16.000000         PMCO 27.086957  \n",
       "2573579         13.000000          NO2 77.181818  \n",
       "3391370         13.000000           NO       NaN  \n",
       "451966          18.000000         PM10 86.000000  \n",
       "5909612         17.000000           CO 68.208333  \n",
       "3099141         19.000000           O3 43.541667  \n",
       "7270748         17.000000           CO 22.708333  \n",
       "7790053         14.000000         PM10 30.000000  \n",
       "4797550         11.000000         PMCO 13.541667  \n",
       "3493304         11.000000        PM2.5 26.041667  \n",
       "5889928         11.000000        PM2.5       NaN  \n",
       "6091620         12.000000           NO       NaN  \n",
       "5581015         13.000000          NO2 32.375000  \n",
       "826803          13.000000         PMCO       NaN  \n",
       "5834686         10.500000          NO2       NaN  \n",
       "5885862         11.000000          NO2 32.363636  \n",
       "1614013          3.000000          NO2       NaN  \n",
       "4980799          5.000000           NO       NaN  \n",
       "3583502         17.000000         PM10 46.000000  \n",
       "4560335         11.000000          NO2 22.500000  \n",
       "4898338         14.000000           CO 27.181818  \n",
       "96346            4.000000           NO       NaN  \n",
       "576827          61.000000           O3       NaN  \n",
       "2553608         30.500000         PMCO       NaN  \n",
       "5031787         18.000000        PM2.5       NaN  \n",
       "2000046          3.000000        PM2.5       NaN  \n",
       "2775895         12.000000          NOX 24.666667  \n",
       "1648455         28.000000           CO 72.625000  \n",
       "3921416         16.000000         PM10       NaN  \n",
       "1136889         13.000000           O3 31.500000  \n",
       "1161108          8.000000          NOX       NaN  \n",
       "1162362          9.000000           O3 20.916667  \n",
       "3573764         15.000000           NO 41.666667  \n",
       "5831074         15.000000           O3 47.166667  "
      ]
     },
     "execution_count": 149,
     "metadata": {},
     "output_type": "execute_result"
    }
   ],
   "source": [
    "tad.sample(60)"
   ]
  },
  {
   "cell_type": "code",
   "execution_count": 134,
   "id": "2a098f69",
   "metadata": {},
   "outputs": [
    {
     "data": {
      "text/plain": [
       "0.0"
      ]
     },
     "execution_count": 134,
     "metadata": {},
     "output_type": "execute_result"
    }
   ],
   "source": [
    "tad[tad[\"y\"].isna()][\"y\"].count()/len(tad)"
   ]
  },
  {
   "cell_type": "code",
   "execution_count": 137,
   "id": "b3e3738a",
   "metadata": {},
   "outputs": [],
   "source": [
    "tad.to_pickle('RINCON_MORALES_DAVID_contaminantes.pkl')"
   ]
  },
  {
   "cell_type": "markdown",
   "id": "de8dd741",
   "metadata": {},
   "source": [
    "# Analysis"
   ]
  },
  {
   "cell_type": "markdown",
   "id": "71919e18",
   "metadata": {},
   "source": [
    "## One side analysis"
   ]
  },
  {
   "cell_type": "code",
   "execution_count": 138,
   "id": "cb9dab89",
   "metadata": {},
   "outputs": [],
   "source": [
    "varc = tad.filter(like='x_').columns.to_list()\n",
    "tgt = 'y'"
   ]
  },
  {
   "cell_type": "code",
   "execution_count": 139,
   "id": "b9480ae4",
   "metadata": {},
   "outputs": [],
   "source": [
    "X = tad[varc].copy()"
   ]
  },
  {
   "cell_type": "code",
   "execution_count": 140,
   "id": "3058c027",
   "metadata": {},
   "outputs": [
    {
     "data": {
      "text/html": [
       "<div>\n",
       "<style scoped>\n",
       "    .dataframe tbody tr th:only-of-type {\n",
       "        vertical-align: middle;\n",
       "    }\n",
       "\n",
       "    .dataframe tbody tr th {\n",
       "        vertical-align: top;\n",
       "    }\n",
       "\n",
       "    .dataframe thead th {\n",
       "        text-align: right;\n",
       "    }\n",
       "</style>\n",
       "<table border=\"1\" class=\"dataframe\">\n",
       "  <thead>\n",
       "    <tr style=\"text-align: right;\">\n",
       "      <th></th>\n",
       "      <th>x_min_value_6</th>\n",
       "      <th>x_max_value_6</th>\n",
       "      <th>x_mean_value_6</th>\n",
       "      <th>x_median_value_6</th>\n",
       "    </tr>\n",
       "  </thead>\n",
       "  <tbody>\n",
       "    <tr>\n",
       "      <th>count</th>\n",
       "      <td>7972162.000000</td>\n",
       "      <td>7972162.000000</td>\n",
       "      <td>7972162.000000</td>\n",
       "      <td>7972162.000000</td>\n",
       "    </tr>\n",
       "    <tr>\n",
       "      <th>mean</th>\n",
       "      <td>0.293980</td>\n",
       "      <td>156.076910</td>\n",
       "      <td>20.675172</td>\n",
       "      <td>14.074186</td>\n",
       "    </tr>\n",
       "    <tr>\n",
       "      <th>std</th>\n",
       "      <td>1.311340</td>\n",
       "      <td>77.823600</td>\n",
       "      <td>7.759707</td>\n",
       "      <td>7.515956</td>\n",
       "    </tr>\n",
       "    <tr>\n",
       "      <th>min</th>\n",
       "      <td>0.100000</td>\n",
       "      <td>0.200000</td>\n",
       "      <td>0.200000</td>\n",
       "      <td>0.200000</td>\n",
       "    </tr>\n",
       "    <tr>\n",
       "      <th>1%</th>\n",
       "      <td>0.100000</td>\n",
       "      <td>51.000000</td>\n",
       "      <td>7.381673</td>\n",
       "      <td>1.000000</td>\n",
       "    </tr>\n",
       "    <tr>\n",
       "      <th>5%</th>\n",
       "      <td>0.100000</td>\n",
       "      <td>75.000000</td>\n",
       "      <td>10.930965</td>\n",
       "      <td>2.000000</td>\n",
       "    </tr>\n",
       "    <tr>\n",
       "      <th>50%</th>\n",
       "      <td>0.100000</td>\n",
       "      <td>132.000000</td>\n",
       "      <td>19.450777</td>\n",
       "      <td>13.000000</td>\n",
       "    </tr>\n",
       "    <tr>\n",
       "      <th>95%</th>\n",
       "      <td>1.000000</td>\n",
       "      <td>304.000000</td>\n",
       "      <td>33.875887</td>\n",
       "      <td>27.000000</td>\n",
       "    </tr>\n",
       "    <tr>\n",
       "      <th>99%</th>\n",
       "      <td>3.000000</td>\n",
       "      <td>415.000000</td>\n",
       "      <td>43.421429</td>\n",
       "      <td>36.000000</td>\n",
       "    </tr>\n",
       "    <tr>\n",
       "      <th>max</th>\n",
       "      <td>66.000000</td>\n",
       "      <td>982.000000</td>\n",
       "      <td>115.083333</td>\n",
       "      <td>103.000000</td>\n",
       "    </tr>\n",
       "  </tbody>\n",
       "</table>\n",
       "</div>"
      ],
      "text/plain": [
       "       x_min_value_6  x_max_value_6  x_mean_value_6  x_median_value_6\n",
       "count 7972162.000000 7972162.000000  7972162.000000    7972162.000000\n",
       "mean        0.293980     156.076910       20.675172         14.074186\n",
       "std         1.311340      77.823600        7.759707          7.515956\n",
       "min         0.100000       0.200000        0.200000          0.200000\n",
       "1%          0.100000      51.000000        7.381673          1.000000\n",
       "5%          0.100000      75.000000       10.930965          2.000000\n",
       "50%         0.100000     132.000000       19.450777         13.000000\n",
       "95%         1.000000     304.000000       33.875887         27.000000\n",
       "99%         3.000000     415.000000       43.421429         36.000000\n",
       "max        66.000000     982.000000      115.083333        103.000000"
      ]
     },
     "execution_count": 140,
     "metadata": {},
     "output_type": "execute_result"
    }
   ],
   "source": [
    "X[varc].describe(percentiles=[0.01, 0.05, 0.95, 0.99])"
   ]
  },
  {
   "cell_type": "code",
   "execution_count": 142,
   "id": "91f08524",
   "metadata": {},
   "outputs": [
    {
     "data": {
      "text/plain": [
       "array([[<AxesSubplot:title={'center':'x_min_value_6'}>,\n",
       "        <AxesSubplot:title={'center':'x_max_value_6'}>],\n",
       "       [<AxesSubplot:title={'center':'x_mean_value_6'}>,\n",
       "        <AxesSubplot:title={'center':'x_median_value_6'}>]], dtype=object)"
      ]
     },
     "execution_count": 142,
     "metadata": {},
     "output_type": "execute_result"
    },
    {
     "data": {
      "image/png": "[encoded data removed]",
      "text/plain": [
       "<Figure size 1080x1080 with 4 Axes>"
      ]
     },
     "metadata": {
      "needs_background": "light"
     },
     "output_type": "display_data"
    }
   ],
   "source": [
    "X[varc].hist(figsize=(15,15))"
   ]
  },
  {
   "cell_type": "markdown",
   "id": "d07949b0",
   "metadata": {},
   "source": [
    "### Missings"
   ]
  },
  {
   "cell_type": "code",
   "execution_count": 143,
   "id": "744288ac",
   "metadata": {},
   "outputs": [
    {
     "data": {
      "text/html": [
       "<div>\n",
       "<style scoped>\n",
       "    .dataframe tbody tr th:only-of-type {\n",
       "        vertical-align: middle;\n",
       "    }\n",
       "\n",
       "    .dataframe tbody tr th {\n",
       "        vertical-align: top;\n",
       "    }\n",
       "\n",
       "    .dataframe thead th {\n",
       "        text-align: right;\n",
       "    }\n",
       "</style>\n",
       "<table border=\"1\" class=\"dataframe\">\n",
       "  <thead>\n",
       "    <tr style=\"text-align: right;\">\n",
       "      <th></th>\n",
       "      <th>count</th>\n",
       "    </tr>\n",
       "  </thead>\n",
       "  <tbody>\n",
       "    <tr>\n",
       "      <th>x_min_value_6</th>\n",
       "      <td>0.000000</td>\n",
       "    </tr>\n",
       "    <tr>\n",
       "      <th>x_max_value_6</th>\n",
       "      <td>0.000000</td>\n",
       "    </tr>\n",
       "    <tr>\n",
       "      <th>x_mean_value_6</th>\n",
       "      <td>0.000000</td>\n",
       "    </tr>\n",
       "    <tr>\n",
       "      <th>x_median_value_6</th>\n",
       "      <td>0.000000</td>\n",
       "    </tr>\n",
       "  </tbody>\n",
       "</table>\n",
       "</div>"
      ],
      "text/plain": [
       "                    count\n",
       "x_min_value_6    0.000000\n",
       "x_max_value_6    0.000000\n",
       "x_mean_value_6   0.000000\n",
       "x_median_value_6 0.000000"
      ]
     },
     "execution_count": 143,
     "metadata": {},
     "output_type": "execute_result"
    }
   ],
   "source": [
    "miss = 1 - X[varc].describe().T[['count']] / len(tad)\n",
    "miss"
   ]
  },
  {
   "cell_type": "code",
   "execution_count": 150,
   "id": "866d835e",
   "metadata": {},
   "outputs": [],
   "source": [
    "# In this case, as we already created the mean variables, we can drop the missings"
   ]
  },
  {
   "cell_type": "code",
   "execution_count": 153,
   "id": "c4ed039d",
   "metadata": {},
   "outputs": [],
   "source": [
    "df = df.dropna()"
   ]
  },
  {
   "cell_type": "code",
   "execution_count": 154,
   "id": "09d19a11",
   "metadata": {},
   "outputs": [
    {
     "data": {
      "text/plain": [
       "(6441434, 6)"
      ]
     },
     "execution_count": 154,
     "metadata": {},
     "output_type": "execute_result"
    }
   ],
   "source": [
    "df.shape"
   ]
  },
  {
   "cell_type": "markdown",
   "id": "f518e037",
   "metadata": {},
   "source": [
    "### Non afftected distribution"
   ]
  },
  {
   "cell_type": "code",
   "execution_count": 157,
   "id": "c8d7f835",
   "metadata": {},
   "outputs": [
    {
     "data": {
      "text/html": [
       "<div>\n",
       "<style scoped>\n",
       "    .dataframe tbody tr th:only-of-type {\n",
       "        vertical-align: middle;\n",
       "    }\n",
       "\n",
       "    .dataframe tbody tr th {\n",
       "        vertical-align: top;\n",
       "    }\n",
       "\n",
       "    .dataframe thead th {\n",
       "        text-align: right;\n",
       "    }\n",
       "</style>\n",
       "<table border=\"1\" class=\"dataframe\">\n",
       "  <thead>\n",
       "    <tr style=\"text-align: right;\">\n",
       "      <th></th>\n",
       "      <th>var</th>\n",
       "      <th>ks</th>\n",
       "    </tr>\n",
       "  </thead>\n",
       "  <tbody>\n",
       "    <tr>\n",
       "      <th>0</th>\n",
       "      <td>x_min_value_6</td>\n",
       "      <td>0.000000</td>\n",
       "    </tr>\n",
       "    <tr>\n",
       "      <th>1</th>\n",
       "      <td>x_max_value_6</td>\n",
       "      <td>0.000000</td>\n",
       "    </tr>\n",
       "    <tr>\n",
       "      <th>2</th>\n",
       "      <td>x_mean_value_6</td>\n",
       "      <td>0.000000</td>\n",
       "    </tr>\n",
       "    <tr>\n",
       "      <th>3</th>\n",
       "      <td>x_median_value_6</td>\n",
       "      <td>0.000000</td>\n",
       "    </tr>\n",
       "  </tbody>\n",
       "</table>\n",
       "</div>"
      ],
      "text/plain": [
       "                var       ks\n",
       "0     x_min_value_6 0.000000\n",
       "1     x_max_value_6 0.000000\n",
       "2    x_mean_value_6 0.000000\n",
       "3  x_median_value_6 0.000000"
      ]
     },
     "execution_count": 157,
     "metadata": {},
     "output_type": "execute_result"
    }
   ],
   "source": [
    "ks = pd.DataFrame( map(lambda v:     (v , ks_2samp(tad[v].dropna() , X[v] ).statistic)   , varc  ) , columns = ['var','ks'] )\n",
    "ks"
   ]
  },
  {
   "cell_type": "markdown",
   "id": "1d0108ac",
   "metadata": {},
   "source": [
    "### Variance"
   ]
  },
  {
   "cell_type": "code",
   "execution_count": 160,
   "id": "a6d2bf34",
   "metadata": {},
   "outputs": [
    {
     "data": {
      "text/html": [
       "<style>#sk-container-id-1 {color: black;background-color: white;}#sk-container-id-1 pre{padding: 0;}#sk-container-id-1 div.sk-toggleable {background-color: white;}#sk-container-id-1 label.sk-toggleable__label {cursor: pointer;display: block;width: 100%;margin-bottom: 0;padding: 0.3em;box-sizing: border-box;text-align: center;}#sk-container-id-1 label.sk-toggleable__label-arrow:before {content: \"▸\";float: left;margin-right: 0.25em;color: #696969;}#sk-container-id-1 label.sk-toggleable__label-arrow:hover:before {color: black;}#sk-container-id-1 div.sk-estimator:hover label.sk-toggleable__label-arrow:before {color: black;}#sk-container-id-1 div.sk-toggleable__content {max-height: 0;max-width: 0;overflow: hidden;text-align: left;background-color: #f0f8ff;}#sk-container-id-1 div.sk-toggleable__content pre {margin: 0.2em;color: black;border-radius: 0.25em;background-color: #f0f8ff;}#sk-container-id-1 input.sk-toggleable__control:checked~div.sk-toggleable__content {max-height: 200px;max-width: 100%;overflow: auto;}#sk-container-id-1 input.sk-toggleable__control:checked~label.sk-toggleable__label-arrow:before {content: \"▾\";}#sk-container-id-1 div.sk-estimator input.sk-toggleable__control:checked~label.sk-toggleable__label {background-color: #d4ebff;}#sk-container-id-1 div.sk-label input.sk-toggleable__control:checked~label.sk-toggleable__label {background-color: #d4ebff;}#sk-container-id-1 input.sk-hidden--visually {border: 0;clip: rect(1px 1px 1px 1px);clip: rect(1px, 1px, 1px, 1px);height: 1px;margin: -1px;overflow: hidden;padding: 0;position: absolute;width: 1px;}#sk-container-id-1 div.sk-estimator {font-family: monospace;background-color: #f0f8ff;border: 1px dotted black;border-radius: 0.25em;box-sizing: border-box;margin-bottom: 0.5em;}#sk-container-id-1 div.sk-estimator:hover {background-color: #d4ebff;}#sk-container-id-1 div.sk-parallel-item::after {content: \"\";width: 100%;border-bottom: 1px solid gray;flex-grow: 1;}#sk-container-id-1 div.sk-label:hover label.sk-toggleable__label {background-color: #d4ebff;}#sk-container-id-1 div.sk-serial::before {content: \"\";position: absolute;border-left: 1px solid gray;box-sizing: border-box;top: 0;bottom: 0;left: 50%;z-index: 0;}#sk-container-id-1 div.sk-serial {display: flex;flex-direction: column;align-items: center;background-color: white;padding-right: 0.2em;padding-left: 0.2em;position: relative;}#sk-container-id-1 div.sk-item {position: relative;z-index: 1;}#sk-container-id-1 div.sk-parallel {display: flex;align-items: stretch;justify-content: center;background-color: white;position: relative;}#sk-container-id-1 div.sk-item::before, #sk-container-id-1 div.sk-parallel-item::before {content: \"\";position: absolute;border-left: 1px solid gray;box-sizing: border-box;top: 0;bottom: 0;left: 50%;z-index: -1;}#sk-container-id-1 div.sk-parallel-item {display: flex;flex-direction: column;z-index: 1;position: relative;background-color: white;}#sk-container-id-1 div.sk-parallel-item:first-child::after {align-self: flex-end;width: 50%;}#sk-container-id-1 div.sk-parallel-item:last-child::after {align-self: flex-start;width: 50%;}#sk-container-id-1 div.sk-parallel-item:only-child::after {width: 0;}#sk-container-id-1 div.sk-dashed-wrapped {border: 1px dashed gray;margin: 0 0.4em 0.5em 0.4em;box-sizing: border-box;padding-bottom: 0.4em;background-color: white;}#sk-container-id-1 div.sk-label label {font-family: monospace;font-weight: bold;display: inline-block;line-height: 1.2em;}#sk-container-id-1 div.sk-label-container {text-align: center;}#sk-container-id-1 div.sk-container {/* jupyter's `normalize.less` sets `[hidden] { display: none; }` but bootstrap.min.css set `[hidden] { display: none !important; }` so we also need the `!important` here to be able to override the default hidden behavior on the sphinx rendered scikit-learn.org. See: https://github.com/scikit-learn/scikit-learn/issues/21755 */display: inline-block !important;position: relative;}#sk-container-id-1 div.sk-text-repr-fallback {display: none;}</style><div id=\"sk-container-id-1\" class=\"sk-top-container\"><div class=\"sk-text-repr-fallback\"><pre>VarianceThreshold(threshold=1)</pre><b>In a Jupyter environment, please rerun this cell to show the HTML representation or trust the notebook. <br />On GitHub, the HTML representation is unable to render, please try loading this page with nbviewer.org.</b></div><div class=\"sk-container\" hidden><div class=\"sk-item\"><div class=\"sk-estimator sk-toggleable\"><input class=\"sk-toggleable__control sk-hidden--visually\" id=\"sk-estimator-id-1\" type=\"checkbox\" checked><label for=\"sk-estimator-id-1\" class=\"sk-toggleable__label sk-toggleable__label-arrow\">VarianceThreshold</label><div class=\"sk-toggleable__content\"><pre>VarianceThreshold(threshold=1)</pre></div></div></div></div></div>"
      ],
      "text/plain": [
       "VarianceThreshold(threshold=1)"
      ]
     },
     "execution_count": 160,
     "metadata": {},
     "output_type": "execute_result"
    }
   ],
   "source": [
    "vt = VarianceThreshold(threshold=1)\n",
    "vt.fit(X[varc])"
   ]
  },
  {
   "cell_type": "code",
   "execution_count": 161,
   "id": "0e9ac029",
   "metadata": {},
   "outputs": [
    {
     "name": "stdout",
     "output_type": "stream",
     "text": [
      "[]\n"
     ]
    },
    {
     "data": {
      "text/plain": [
       "['x_min_value_6', 'x_max_value_6', 'x_mean_value_6', 'x_median_value_6']"
      ]
     },
     "execution_count": 161,
     "metadata": {},
     "output_type": "execute_result"
    }
   ],
   "source": [
    "wo_variance = [v for v,u in zip( varc , vt.get_support() ) if not(u) ] \n",
    "print(wo_variance)\n",
    "\n",
    "X.drop(wo_variance, axis=1 , inplace=True)\n",
    "varc = [v for v in varc if v not in wo_variance]\n",
    "varc"
   ]
  },
  {
   "cell_type": "markdown",
   "id": "d8eba4f5",
   "metadata": {},
   "source": [
    "### Outliers"
   ]
  },
  {
   "cell_type": "code",
   "execution_count": 162,
   "id": "88ee3252",
   "metadata": {},
   "outputs": [],
   "source": [
    "ext = X[varc].describe(percentiles=[0.01,0.99]).T[['1%','99%']].reset_index()\n",
    "for v, li, ls in ext.values:\n",
    "    X[f'ol_{v}'] = ((X[v]<li) | (X[v]>ls)).astype(int)\n",
    "\n",
    "X['ext'] = X.filter(like='ol').max(axis=1)\n",
    "X.drop(X.filter(like='ol_').columns, axis=1, inplace=True)"
   ]
  },
  {
   "cell_type": "code",
   "execution_count": 163,
   "id": "2107b66e",
   "metadata": {},
   "outputs": [
    {
     "data": {
      "text/plain": [
       "0   0.961836\n",
       "1   0.038164\n",
       "Name: ext, dtype: float64"
      ]
     },
     "execution_count": 163,
     "metadata": {},
     "output_type": "execute_result"
    }
   ],
   "source": [
    "X[\"ext\"].value_counts(True)"
   ]
  },
  {
   "cell_type": "code",
   "execution_count": 164,
   "id": "19cbf09a",
   "metadata": {},
   "outputs": [],
   "source": [
    "k = 2\n",
    "ext = X[varc].describe(percentiles=[0.25,0.75]).T[['25%','75%','mean']].reset_index()\n",
    "ext['IQR'] = ext['75%'] - ext['25%'] \n",
    "ext['li']  = ext['mean'] - k*ext['IQR']\n",
    "ext['ls']  = ext['mean'] + k*ext['IQR']\n",
    "ext = ext[['index','li','ls']]"
   ]
  },
  {
   "cell_type": "code",
   "execution_count": 165,
   "id": "9362f078",
   "metadata": {},
   "outputs": [
    {
     "data": {
      "text/plain": [
       "1   1.000000\n",
       "Name: ext_iqr, dtype: float64"
      ]
     },
     "execution_count": 165,
     "metadata": {},
     "output_type": "execute_result"
    }
   ],
   "source": [
    "for v, li, ls in ext.values:\n",
    "    X[f'ol_{v}'] = ((X[v]<li) | (X[v]>ls)  ).astype(int)\n",
    "\n",
    "X['ext_iqr'] = X.filter(like='ol').max(axis=1)\n",
    "X.drop(X.filter(like='ol_').columns, axis=1, inplace=True)\n",
    "\n",
    "X['ext_iqr'].value_counts(True)"
   ]
  },
  {
   "cell_type": "code",
   "execution_count": 166,
   "id": "476abe0e",
   "metadata": {},
   "outputs": [],
   "source": [
    "X[um] = tad[um]"
   ]
  },
  {
   "cell_type": "code",
   "execution_count": 167,
   "id": "53ac4c03",
   "metadata": {},
   "outputs": [],
   "source": [
    "X = X.loc[X['ext'] == 0].reset_index(drop=True).drop(['ext','ext_iqr'],axis=1)"
   ]
  },
  {
   "cell_type": "code",
   "execution_count": 168,
   "id": "e11d08f2",
   "metadata": {},
   "outputs": [
    {
     "data": {
      "text/plain": [
       "array([[<AxesSubplot:title={'center':'x_min_value_6'}>,\n",
       "        <AxesSubplot:title={'center':'x_max_value_6'}>],\n",
       "       [<AxesSubplot:title={'center':'x_mean_value_6'}>,\n",
       "        <AxesSubplot:title={'center':'x_median_value_6'}>]], dtype=object)"
      ]
     },
     "execution_count": 168,
     "metadata": {},
     "output_type": "execute_result"
    },
    {
     "data": {
      "image/png": "[encoded data removed]",
      "text/plain": [
       "<Figure size 720x720 with 4 Axes>"
      ]
     },
     "metadata": {
      "needs_background": "light"
     },
     "output_type": "display_data"
    }
   ],
   "source": [
    "X[varc].hist(figsize=(10,10))"
   ]
  },
  {
   "cell_type": "markdown",
   "id": "9b56d1a0",
   "metadata": {},
   "source": [
    "## Multivariate analysis"
   ]
  },
  {
   "cell_type": "code",
   "execution_count": 169,
   "id": "f8922830",
   "metadata": {},
   "outputs": [
    {
     "data": {
      "text/plain": [
       "<seaborn.axisgrid.PairGrid at 0x7f3b163e9840>"
      ]
     },
     "execution_count": 169,
     "metadata": {},
     "output_type": "execute_result"
    },
    {
     "data": {
      "image/png": "[encoded data removed]",
      "text/plain": [
       "<Figure size 720x720 with 20 Axes>"
      ]
     },
     "metadata": {
      "needs_background": "light"
     },
     "output_type": "display_data"
    }
   ],
   "source": [
    "sns.pairplot(X[varc].sample(1000))"
   ]
  },
  {
   "cell_type": "code",
   "execution_count": 171,
   "id": "118a0e20",
   "metadata": {},
   "outputs": [],
   "source": [
    "vc = VarClusHi( df=X[varc] , feat_list=varc  )"
   ]
  },
  {
   "cell_type": "code",
   "execution_count": 172,
   "id": "0a40ba5e",
   "metadata": {},
   "outputs": [
    {
     "data": {
      "text/plain": [
       "<varclushi.varclushi.VarClusHi at 0x7f3b5bc6ad10>"
      ]
     },
     "execution_count": 172,
     "metadata": {},
     "output_type": "execute_result"
    }
   ],
   "source": [
    "vc.varclus()"
   ]
  },
  {
   "cell_type": "code",
   "execution_count": 173,
   "id": "ea1e4bc4",
   "metadata": {},
   "outputs": [
    {
     "data": {
      "text/html": [
       "<div>\n",
       "<style scoped>\n",
       "    .dataframe tbody tr th:only-of-type {\n",
       "        vertical-align: middle;\n",
       "    }\n",
       "\n",
       "    .dataframe tbody tr th {\n",
       "        vertical-align: top;\n",
       "    }\n",
       "\n",
       "    .dataframe thead th {\n",
       "        text-align: right;\n",
       "    }\n",
       "</style>\n",
       "<table border=\"1\" class=\"dataframe\">\n",
       "  <thead>\n",
       "    <tr style=\"text-align: right;\">\n",
       "      <th></th>\n",
       "      <th>Cluster</th>\n",
       "      <th>Variable</th>\n",
       "      <th>RS_Own</th>\n",
       "      <th>RS_NC</th>\n",
       "      <th>RS_Ratio</th>\n",
       "      <th>id</th>\n",
       "    </tr>\n",
       "  </thead>\n",
       "  <tbody>\n",
       "    <tr>\n",
       "      <th>0</th>\n",
       "      <td>0</td>\n",
       "      <td>x_mean_value_6</td>\n",
       "      <td>0.935374</td>\n",
       "      <td>0.068052</td>\n",
       "      <td>0.069345</td>\n",
       "      <td>1</td>\n",
       "    </tr>\n",
       "    <tr>\n",
       "      <th>1</th>\n",
       "      <td>0</td>\n",
       "      <td>x_median_value_6</td>\n",
       "      <td>0.792985</td>\n",
       "      <td>0.082068</td>\n",
       "      <td>0.225523</td>\n",
       "      <td>2</td>\n",
       "    </tr>\n",
       "    <tr>\n",
       "      <th>2</th>\n",
       "      <td>0</td>\n",
       "      <td>x_max_value_6</td>\n",
       "      <td>0.614234</td>\n",
       "      <td>0.005163</td>\n",
       "      <td>0.387768</td>\n",
       "      <td>3</td>\n",
       "    </tr>\n",
       "    <tr>\n",
       "      <th>3</th>\n",
       "      <td>1</td>\n",
       "      <td>x_min_value_6</td>\n",
       "      <td>1.000000</td>\n",
       "      <td>0.037079</td>\n",
       "      <td>0.000000</td>\n",
       "      <td>1</td>\n",
       "    </tr>\n",
       "  </tbody>\n",
       "</table>\n",
       "</div>"
      ],
      "text/plain": [
       "   Cluster          Variable   RS_Own    RS_NC  RS_Ratio  id\n",
       "0        0    x_mean_value_6 0.935374 0.068052  0.069345   1\n",
       "1        0  x_median_value_6 0.792985 0.082068  0.225523   2\n",
       "2        0     x_max_value_6 0.614234 0.005163  0.387768   3\n",
       "3        1     x_min_value_6 1.000000 0.037079  0.000000   1"
      ]
     },
     "execution_count": 173,
     "metadata": {},
     "output_type": "execute_result"
    }
   ],
   "source": [
    "rs = vc.rsquare\n",
    "rs = rs.sort_values(by=['Cluster','RS_Ratio'] , ascending=[1,1]).reset_index(drop=True)\n",
    "rs['id'] = rs.groupby('Cluster').cumcount()+1\n",
    "rs"
   ]
  },
  {
   "cell_type": "code",
   "execution_count": 174,
   "id": "5952c7cd",
   "metadata": {},
   "outputs": [],
   "source": [
    "varc = rs.loc[rs['id']==1]['Variable'].tolist()"
   ]
  },
  {
   "cell_type": "code",
   "execution_count": 175,
   "id": "b9c7a0bf",
   "metadata": {},
   "outputs": [
    {
     "data": {
      "text/plain": [
       "array([[<AxesSubplot:title={'center':'x_mean_value_6'}>,\n",
       "        <AxesSubplot:title={'center':'x_min_value_6'}>]], dtype=object)"
      ]
     },
     "execution_count": 175,
     "metadata": {},
     "output_type": "execute_result"
    },
    {
     "data": {
      "image/png": "[encoded data removed]",
      "text/plain": [
       "<Figure size 432x288 with 2 Axes>"
      ]
     },
     "metadata": {
      "needs_background": "light"
     },
     "output_type": "display_data"
    }
   ],
   "source": [
    "#Here it is uip to us to leave the \"x_min_value_6\" variable as we can already see it has little to no variance\n",
    "#We could already expect this, as we filled the missing values for other paremeters with the mean.\n",
    "#Next steps of thi is to drop the non-PM10 values on the dataset, as it represents the 10% the data\n",
    "\n",
    "X[varc].hist()"
   ]
  },
  {
   "cell_type": "code",
   "execution_count": null,
   "id": "d283ef0c",
   "metadata": {},
   "outputs": [],
   "source": []
  }
 ],
 "metadata": {
  "kernelspec": {
   "display_name": "diplo",
   "language": "python",
   "name": "diplo"
  },
  "language_info": {
   "codemirror_mode": {
    "name": "ipython",
    "version": 3
   },
   "file_extension": ".py",
   "mimetype": "text/x-python",
   "name": "python",
   "nbconvert_exporter": "python",
   "pygments_lexer": "ipython3",
   "version": "3.10.4"
  },
  "toc": {
   "base_numbering": 1,
   "nav_menu": {},
   "number_sections": true,
   "sideBar": true,
   "skip_h1_title": false,
   "title_cell": "Table of Contents",
   "title_sidebar": "Contents",
   "toc_cell": false,
   "toc_position": {
    "height": "calc(100% - 180px)",
    "left": "10px",
    "top": "150px",
    "width": "165px"
   },
   "toc_section_display": true,
   "toc_window_display": true
  }
 },
 "nbformat": 4,
 "nbformat_minor": 5
}
