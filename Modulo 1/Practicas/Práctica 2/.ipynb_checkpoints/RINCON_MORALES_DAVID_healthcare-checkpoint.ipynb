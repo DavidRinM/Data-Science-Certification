{
 "cells": [
  {
   "cell_type": "markdown",
   "id": "bcd4e44a",
   "metadata": {},
   "source": [
    "# Libraries"
   ]
  },
  {
   "cell_type": "code",
   "execution_count": 1,
   "id": "d685a817",
   "metadata": {},
   "outputs": [],
   "source": [
    "import pandas as pd\n",
    "import numpy as np\n",
    "\n",
    "from sklearn.preprocessing import KBinsDiscretizer\n",
    "\n",
    "#Continues variables analysis\n",
    "from sklearn.impute import SimpleImputer\n",
    "from scipy.stats import ks_2samp\n",
    "from varclushi import VarClusHi\n",
    "\n",
    "from sklearn.feature_selection import VarianceThreshold\n",
    "\n",
    "#Modelling\n",
    "from sklearn.model_selection import train_test_split\n",
    "from sklearn.metrics import roc_auc_score,accuracy_score,confusion_matrix\n",
    "from sklearn.linear_model import LogisticRegression\n",
    "\n",
    "import seaborn as sns"
   ]
  },
  {
   "cell_type": "markdown",
   "id": "c0f0b8fb",
   "metadata": {},
   "source": [
    "# Data loading"
   ]
  },
  {
   "cell_type": "code",
   "execution_count": 2,
   "id": "31a7e194",
   "metadata": {},
   "outputs": [],
   "source": [
    "df = pd.read_csv(\"../../Datasets/Practica_2/healthcare.csv\")"
   ]
  },
  {
   "cell_type": "code",
   "execution_count": 3,
   "id": "56978d78",
   "metadata": {},
   "outputs": [
    {
     "data": {
      "text/html": [
       "<div>\n",
       "<style scoped>\n",
       "    .dataframe tbody tr th:only-of-type {\n",
       "        vertical-align: middle;\n",
       "    }\n",
       "\n",
       "    .dataframe tbody tr th {\n",
       "        vertical-align: top;\n",
       "    }\n",
       "\n",
       "    .dataframe thead th {\n",
       "        text-align: right;\n",
       "    }\n",
       "</style>\n",
       "<table border=\"1\" class=\"dataframe\">\n",
       "  <thead>\n",
       "    <tr style=\"text-align: right;\">\n",
       "      <th></th>\n",
       "      <th>id</th>\n",
       "      <th>gender</th>\n",
       "      <th>age</th>\n",
       "      <th>hypertension</th>\n",
       "      <th>heart_disease</th>\n",
       "      <th>ever_married</th>\n",
       "      <th>work_type</th>\n",
       "      <th>Residence_type</th>\n",
       "      <th>avg_glucose_level</th>\n",
       "      <th>bmi</th>\n",
       "      <th>smoking_status</th>\n",
       "      <th>stroke</th>\n",
       "    </tr>\n",
       "  </thead>\n",
       "  <tbody>\n",
       "    <tr>\n",
       "      <th>0</th>\n",
       "      <td>9046</td>\n",
       "      <td>Male</td>\n",
       "      <td>67.0</td>\n",
       "      <td>0</td>\n",
       "      <td>1</td>\n",
       "      <td>Yes</td>\n",
       "      <td>Private</td>\n",
       "      <td>Urban</td>\n",
       "      <td>228.69</td>\n",
       "      <td>36.6</td>\n",
       "      <td>formerly smoked</td>\n",
       "      <td>1</td>\n",
       "    </tr>\n",
       "    <tr>\n",
       "      <th>1</th>\n",
       "      <td>51676</td>\n",
       "      <td>Female</td>\n",
       "      <td>61.0</td>\n",
       "      <td>0</td>\n",
       "      <td>0</td>\n",
       "      <td>Yes</td>\n",
       "      <td>Self-employed</td>\n",
       "      <td>Rural</td>\n",
       "      <td>202.21</td>\n",
       "      <td>NaN</td>\n",
       "      <td>never smoked</td>\n",
       "      <td>1</td>\n",
       "    </tr>\n",
       "    <tr>\n",
       "      <th>2</th>\n",
       "      <td>31112</td>\n",
       "      <td>Male</td>\n",
       "      <td>80.0</td>\n",
       "      <td>0</td>\n",
       "      <td>1</td>\n",
       "      <td>Yes</td>\n",
       "      <td>Private</td>\n",
       "      <td>Rural</td>\n",
       "      <td>105.92</td>\n",
       "      <td>32.5</td>\n",
       "      <td>never smoked</td>\n",
       "      <td>1</td>\n",
       "    </tr>\n",
       "    <tr>\n",
       "      <th>3</th>\n",
       "      <td>60182</td>\n",
       "      <td>Female</td>\n",
       "      <td>49.0</td>\n",
       "      <td>0</td>\n",
       "      <td>0</td>\n",
       "      <td>Yes</td>\n",
       "      <td>Private</td>\n",
       "      <td>Urban</td>\n",
       "      <td>171.23</td>\n",
       "      <td>34.4</td>\n",
       "      <td>smokes</td>\n",
       "      <td>1</td>\n",
       "    </tr>\n",
       "    <tr>\n",
       "      <th>4</th>\n",
       "      <td>1665</td>\n",
       "      <td>Female</td>\n",
       "      <td>79.0</td>\n",
       "      <td>1</td>\n",
       "      <td>0</td>\n",
       "      <td>Yes</td>\n",
       "      <td>Self-employed</td>\n",
       "      <td>Rural</td>\n",
       "      <td>174.12</td>\n",
       "      <td>24.0</td>\n",
       "      <td>never smoked</td>\n",
       "      <td>1</td>\n",
       "    </tr>\n",
       "  </tbody>\n",
       "</table>\n",
       "</div>"
      ],
      "text/plain": [
       "      id  gender   age  hypertension  heart_disease ever_married  \\\n",
       "0   9046    Male  67.0             0              1          Yes   \n",
       "1  51676  Female  61.0             0              0          Yes   \n",
       "2  31112    Male  80.0             0              1          Yes   \n",
       "3  60182  Female  49.0             0              0          Yes   \n",
       "4   1665  Female  79.0             1              0          Yes   \n",
       "\n",
       "       work_type Residence_type  avg_glucose_level   bmi   smoking_status  \\\n",
       "0        Private          Urban             228.69  36.6  formerly smoked   \n",
       "1  Self-employed          Rural             202.21   NaN     never smoked   \n",
       "2        Private          Rural             105.92  32.5     never smoked   \n",
       "3        Private          Urban             171.23  34.4           smokes   \n",
       "4  Self-employed          Rural             174.12  24.0     never smoked   \n",
       "\n",
       "   stroke  \n",
       "0       1  \n",
       "1       1  \n",
       "2       1  \n",
       "3       1  \n",
       "4       1  "
      ]
     },
     "execution_count": 3,
     "metadata": {},
     "output_type": "execute_result"
    }
   ],
   "source": [
    "df.head()"
   ]
  },
  {
   "cell_type": "code",
   "execution_count": 4,
   "id": "6725e13a",
   "metadata": {},
   "outputs": [
    {
     "data": {
      "text/plain": [
       "(5110, 12)"
      ]
     },
     "execution_count": 4,
     "metadata": {},
     "output_type": "execute_result"
    }
   ],
   "source": [
    "df.shape"
   ]
  },
  {
   "cell_type": "markdown",
   "id": "f4f4e8a2",
   "metadata": {},
   "source": [
    "# Cleaning / pre - treatment"
   ]
  },
  {
   "cell_type": "code",
   "execution_count": 5,
   "id": "264fe343",
   "metadata": {},
   "outputs": [
    {
     "data": {
      "text/plain": [
       "id                     int64\n",
       "gender                object\n",
       "age                  float64\n",
       "hypertension           int64\n",
       "heart_disease          int64\n",
       "ever_married          object\n",
       "work_type             object\n",
       "Residence_type        object\n",
       "avg_glucose_level    float64\n",
       "bmi                  float64\n",
       "smoking_status        object\n",
       "stroke                 int64\n",
       "dtype: object"
      ]
     },
     "execution_count": 5,
     "metadata": {},
     "output_type": "execute_result"
    }
   ],
   "source": [
    "df.dtypes"
   ]
  },
  {
   "cell_type": "code",
   "execution_count": 6,
   "id": "aab0d369",
   "metadata": {},
   "outputs": [
    {
     "data": {
      "text/plain": [
       "Female    0.585910\n",
       "Male      0.413894\n",
       "Other     0.000196\n",
       "Name: gender, dtype: float64"
      ]
     },
     "execution_count": 6,
     "metadata": {},
     "output_type": "execute_result"
    }
   ],
   "source": [
    "df[\"gender\"].value_counts(normalize=True)"
   ]
  },
  {
   "cell_type": "code",
   "execution_count": 7,
   "id": "f43a604e",
   "metadata": {},
   "outputs": [
    {
     "data": {
      "text/plain": [
       "0    0.902544\n",
       "1    0.097456\n",
       "Name: hypertension, dtype: float64"
      ]
     },
     "execution_count": 7,
     "metadata": {},
     "output_type": "execute_result"
    }
   ],
   "source": [
    "df[\"hypertension\"].value_counts(normalize=True)"
   ]
  },
  {
   "cell_type": "code",
   "execution_count": 8,
   "id": "1d81e8be",
   "metadata": {
    "scrolled": true
   },
   "outputs": [
    {
     "data": {
      "text/plain": [
       "0    0.902544\n",
       "1    0.097456\n",
       "Name: hypertension, dtype: float64"
      ]
     },
     "execution_count": 8,
     "metadata": {},
     "output_type": "execute_result"
    }
   ],
   "source": [
    "df[\"hypertension\"].value_counts(normalize=True)"
   ]
  },
  {
   "cell_type": "code",
   "execution_count": 9,
   "id": "fcf6bed9",
   "metadata": {},
   "outputs": [
    {
     "data": {
      "text/plain": [
       "0    0.945988\n",
       "1    0.054012\n",
       "Name: heart_disease, dtype: float64"
      ]
     },
     "execution_count": 9,
     "metadata": {},
     "output_type": "execute_result"
    }
   ],
   "source": [
    "df[\"heart_disease\"].value_counts(normalize=True)"
   ]
  },
  {
   "cell_type": "code",
   "execution_count": 10,
   "id": "0c46e770",
   "metadata": {},
   "outputs": [
    {
     "data": {
      "text/plain": [
       "never smoked       0.370254\n",
       "Unknown            0.302153\n",
       "formerly smoked    0.173190\n",
       "smokes             0.154403\n",
       "Name: smoking_status, dtype: float64"
      ]
     },
     "execution_count": 10,
     "metadata": {},
     "output_type": "execute_result"
    }
   ],
   "source": [
    "df[\"smoking_status\"].value_counts(normalize=True)"
   ]
  },
  {
   "cell_type": "markdown",
   "id": "7b24548d",
   "metadata": {},
   "source": [
    "# Variables"
   ]
  },
  {
   "cell_type": "code",
   "execution_count": 11,
   "id": "b2910e33",
   "metadata": {},
   "outputs": [],
   "source": [
    "um = [\"id\"]\n",
    "vard = [\"gender\", \"hypertension\", \"heart_disease\", \"ever_married\", \"work_type\", \"Residence_type\", \"smoking_status\"]\n",
    "varc = [\"age\", \"avg_glucose_level\", \"bmi\"]\n",
    "tgt = [\"stroke\"]"
   ]
  },
  {
   "cell_type": "markdown",
   "id": "87e4e44d",
   "metadata": {},
   "source": [
    "# Exploratory Analysis"
   ]
  },
  {
   "cell_type": "markdown",
   "id": "928ddb3e",
   "metadata": {},
   "source": [
    "## Discrete Variables"
   ]
  },
  {
   "cell_type": "markdown",
   "id": "95a0a6eb",
   "metadata": {},
   "source": [
    "### Frequencies"
   ]
  },
  {
   "cell_type": "code",
   "execution_count": 12,
   "id": "8eeae3cb",
   "metadata": {},
   "outputs": [],
   "source": [
    "def freq(df, var):\n",
    "    if type(var) != list:\n",
    "        var = [var]\n",
    "    \n",
    "    for v in var:\n",
    "        aux = df[v].value_counts().to_frame().rename(columns={v:'FA'})\n",
    "        aux['FR'] = aux['FA'] / aux['FA'].sum()\n",
    "        aux[['FAA','FRA']] = aux.apply( np.cumsum )\n",
    "        print(f\"Frequencies table for variable {v} \\n\")    \n",
    "        print(aux,\"\\n\")"
   ]
  },
  {
   "cell_type": "markdown",
   "id": "b4738e7a",
   "metadata": {},
   "source": [
    "### Normalize"
   ]
  },
  {
   "cell_type": "code",
   "execution_count": 13,
   "id": "533a186c",
   "metadata": {},
   "outputs": [],
   "source": [
    "def normalize(df, v, umbral):\n",
    "    #\n",
    "    aux = df[v].value_counts(True).to_frame()\n",
    "    aux[f'n_{v}'] = np.where( aux[v] < umbral , 'SMALL_CATEGORIES', aux.index   )\n",
    "    moda = aux.head(1)[f'n_{v}'].values[0]\n",
    "    if aux.loc[aux[f'n_{v}'] == 'SMALL_CATEGORIES'][v].sum() < umbral: \n",
    "        aux[f'n_{v}'].replace({'SMALL_CATEGORIES':moda},inplace=True)\n",
    "\n",
    "    aux.drop(v,axis=1, inplace=True)\n",
    "    aux.reset_index(inplace=True)\n",
    "\n",
    "    return df.merge(aux, left_on=[v], right_on='index',how='inner').drop('index',axis=1)"
   ]
  },
  {
   "cell_type": "code",
   "execution_count": 14,
   "id": "d2a18f85",
   "metadata": {},
   "outputs": [],
   "source": [
    "#Even though we only benefit in the gender column, it is the process and necessary most of the time\n",
    "\n",
    "for v in vard:\n",
    "    df = normalize(df,v, 0.05)"
   ]
  },
  {
   "cell_type": "code",
   "execution_count": 15,
   "id": "aebcc5ac",
   "metadata": {},
   "outputs": [
    {
     "data": {
      "text/html": [
       "<div>\n",
       "<style scoped>\n",
       "    .dataframe tbody tr th:only-of-type {\n",
       "        vertical-align: middle;\n",
       "    }\n",
       "\n",
       "    .dataframe tbody tr th {\n",
       "        vertical-align: top;\n",
       "    }\n",
       "\n",
       "    .dataframe thead th {\n",
       "        text-align: right;\n",
       "    }\n",
       "</style>\n",
       "<table border=\"1\" class=\"dataframe\">\n",
       "  <thead>\n",
       "    <tr style=\"text-align: right;\">\n",
       "      <th></th>\n",
       "      <th>id</th>\n",
       "      <th>gender</th>\n",
       "      <th>age</th>\n",
       "      <th>hypertension</th>\n",
       "      <th>heart_disease</th>\n",
       "      <th>ever_married</th>\n",
       "      <th>work_type</th>\n",
       "      <th>Residence_type</th>\n",
       "      <th>avg_glucose_level</th>\n",
       "      <th>bmi</th>\n",
       "      <th>smoking_status</th>\n",
       "      <th>stroke</th>\n",
       "      <th>n_gender</th>\n",
       "      <th>n_hypertension</th>\n",
       "      <th>n_heart_disease</th>\n",
       "      <th>n_ever_married</th>\n",
       "      <th>n_work_type</th>\n",
       "      <th>n_Residence_type</th>\n",
       "      <th>n_smoking_status</th>\n",
       "    </tr>\n",
       "  </thead>\n",
       "  <tbody>\n",
       "    <tr>\n",
       "      <th>0</th>\n",
       "      <td>9046</td>\n",
       "      <td>Male</td>\n",
       "      <td>67.0</td>\n",
       "      <td>0</td>\n",
       "      <td>1</td>\n",
       "      <td>Yes</td>\n",
       "      <td>Private</td>\n",
       "      <td>Urban</td>\n",
       "      <td>228.69</td>\n",
       "      <td>36.6</td>\n",
       "      <td>formerly smoked</td>\n",
       "      <td>1</td>\n",
       "      <td>Male</td>\n",
       "      <td>0</td>\n",
       "      <td>1</td>\n",
       "      <td>Yes</td>\n",
       "      <td>Private</td>\n",
       "      <td>Urban</td>\n",
       "      <td>formerly smoked</td>\n",
       "    </tr>\n",
       "    <tr>\n",
       "      <th>1</th>\n",
       "      <td>46703</td>\n",
       "      <td>Male</td>\n",
       "      <td>68.0</td>\n",
       "      <td>0</td>\n",
       "      <td>1</td>\n",
       "      <td>Yes</td>\n",
       "      <td>Private</td>\n",
       "      <td>Urban</td>\n",
       "      <td>223.83</td>\n",
       "      <td>31.9</td>\n",
       "      <td>formerly smoked</td>\n",
       "      <td>1</td>\n",
       "      <td>Male</td>\n",
       "      <td>0</td>\n",
       "      <td>1</td>\n",
       "      <td>Yes</td>\n",
       "      <td>Private</td>\n",
       "      <td>Urban</td>\n",
       "      <td>formerly smoked</td>\n",
       "    </tr>\n",
       "    <tr>\n",
       "      <th>2</th>\n",
       "      <td>64908</td>\n",
       "      <td>Male</td>\n",
       "      <td>79.0</td>\n",
       "      <td>0</td>\n",
       "      <td>1</td>\n",
       "      <td>Yes</td>\n",
       "      <td>Private</td>\n",
       "      <td>Urban</td>\n",
       "      <td>57.08</td>\n",
       "      <td>22.0</td>\n",
       "      <td>formerly smoked</td>\n",
       "      <td>0</td>\n",
       "      <td>Male</td>\n",
       "      <td>0</td>\n",
       "      <td>1</td>\n",
       "      <td>Yes</td>\n",
       "      <td>Private</td>\n",
       "      <td>Urban</td>\n",
       "      <td>formerly smoked</td>\n",
       "    </tr>\n",
       "    <tr>\n",
       "      <th>3</th>\n",
       "      <td>31091</td>\n",
       "      <td>Male</td>\n",
       "      <td>34.0</td>\n",
       "      <td>0</td>\n",
       "      <td>1</td>\n",
       "      <td>Yes</td>\n",
       "      <td>Private</td>\n",
       "      <td>Urban</td>\n",
       "      <td>106.23</td>\n",
       "      <td>NaN</td>\n",
       "      <td>formerly smoked</td>\n",
       "      <td>0</td>\n",
       "      <td>Male</td>\n",
       "      <td>0</td>\n",
       "      <td>1</td>\n",
       "      <td>Yes</td>\n",
       "      <td>Private</td>\n",
       "      <td>Urban</td>\n",
       "      <td>formerly smoked</td>\n",
       "    </tr>\n",
       "    <tr>\n",
       "      <th>4</th>\n",
       "      <td>49279</td>\n",
       "      <td>Male</td>\n",
       "      <td>57.0</td>\n",
       "      <td>0</td>\n",
       "      <td>1</td>\n",
       "      <td>Yes</td>\n",
       "      <td>Private</td>\n",
       "      <td>Urban</td>\n",
       "      <td>76.50</td>\n",
       "      <td>29.2</td>\n",
       "      <td>formerly smoked</td>\n",
       "      <td>0</td>\n",
       "      <td>Male</td>\n",
       "      <td>0</td>\n",
       "      <td>1</td>\n",
       "      <td>Yes</td>\n",
       "      <td>Private</td>\n",
       "      <td>Urban</td>\n",
       "      <td>formerly smoked</td>\n",
       "    </tr>\n",
       "  </tbody>\n",
       "</table>\n",
       "</div>"
      ],
      "text/plain": [
       "      id gender   age  hypertension  heart_disease ever_married work_type  \\\n",
       "0   9046   Male  67.0             0              1          Yes   Private   \n",
       "1  46703   Male  68.0             0              1          Yes   Private   \n",
       "2  64908   Male  79.0             0              1          Yes   Private   \n",
       "3  31091   Male  34.0             0              1          Yes   Private   \n",
       "4  49279   Male  57.0             0              1          Yes   Private   \n",
       "\n",
       "  Residence_type  avg_glucose_level   bmi   smoking_status  stroke n_gender  \\\n",
       "0          Urban             228.69  36.6  formerly smoked       1     Male   \n",
       "1          Urban             223.83  31.9  formerly smoked       1     Male   \n",
       "2          Urban              57.08  22.0  formerly smoked       0     Male   \n",
       "3          Urban             106.23   NaN  formerly smoked       0     Male   \n",
       "4          Urban              76.50  29.2  formerly smoked       0     Male   \n",
       "\n",
       "  n_hypertension n_heart_disease n_ever_married n_work_type n_Residence_type  \\\n",
       "0              0               1            Yes     Private            Urban   \n",
       "1              0               1            Yes     Private            Urban   \n",
       "2              0               1            Yes     Private            Urban   \n",
       "3              0               1            Yes     Private            Urban   \n",
       "4              0               1            Yes     Private            Urban   \n",
       "\n",
       "  n_smoking_status  \n",
       "0  formerly smoked  \n",
       "1  formerly smoked  \n",
       "2  formerly smoked  \n",
       "3  formerly smoked  \n",
       "4  formerly smoked  "
      ]
     },
     "execution_count": 15,
     "metadata": {},
     "output_type": "execute_result"
    }
   ],
   "source": [
    "df.head()"
   ]
  },
  {
   "cell_type": "code",
   "execution_count": 16,
   "id": "da60bd3f",
   "metadata": {},
   "outputs": [
    {
     "data": {
      "text/plain": [
       "['n_gender',\n",
       " 'n_hypertension',\n",
       " 'n_heart_disease',\n",
       " 'n_ever_married',\n",
       " 'n_work_type',\n",
       " 'n_Residence_type',\n",
       " 'n_smoking_status']"
      ]
     },
     "execution_count": 16,
     "metadata": {},
     "output_type": "execute_result"
    }
   ],
   "source": [
    "varn = df.filter(like='n_').columns.tolist()\n",
    "varn"
   ]
  },
  {
   "cell_type": "code",
   "execution_count": 17,
   "id": "6eacc9bb",
   "metadata": {},
   "outputs": [
    {
     "data": {
      "text/plain": [
       "(5110, 19)"
      ]
     },
     "execution_count": 17,
     "metadata": {},
     "output_type": "execute_result"
    }
   ],
   "source": [
    "df.shape"
   ]
  },
  {
   "cell_type": "code",
   "execution_count": 18,
   "id": "85eac4fc",
   "metadata": {},
   "outputs": [
    {
     "name": "stdout",
     "output_type": "stream",
     "text": [
      "Frequencies table for variable n_gender \n",
      "\n",
      "          FA        FR   FAA       FRA\n",
      "Female  2995  0.586106  2995  0.586106\n",
      "Male    2115  0.413894  5110  1.000000 \n",
      "\n",
      "Frequencies table for variable n_hypertension \n",
      "\n",
      "     FA        FR   FAA       FRA\n",
      "0  4612  0.902544  4612  0.902544\n",
      "1   498  0.097456  5110  1.000000 \n",
      "\n",
      "Frequencies table for variable n_heart_disease \n",
      "\n",
      "     FA        FR   FAA       FRA\n",
      "0  4834  0.945988  4834  0.945988\n",
      "1   276  0.054012  5110  1.000000 \n",
      "\n",
      "Frequencies table for variable n_ever_married \n",
      "\n",
      "       FA        FR   FAA       FRA\n",
      "Yes  3353  0.656164  3353  0.656164\n",
      "No   1757  0.343836  5110  1.000000 \n",
      "\n",
      "Frequencies table for variable n_work_type \n",
      "\n",
      "                 FA        FR   FAA       FRA\n",
      "Private        2947  0.576712  2947  0.576712\n",
      "Self-employed   819  0.160274  3766  0.736986\n",
      "children        687  0.134442  4453  0.871429\n",
      "Govt_job        657  0.128571  5110  1.000000 \n",
      "\n",
      "Frequencies table for variable n_Residence_type \n",
      "\n",
      "         FA        FR   FAA       FRA\n",
      "Urban  2596  0.508023  2596  0.508023\n",
      "Rural  2514  0.491977  5110  1.000000 \n",
      "\n",
      "Frequencies table for variable n_smoking_status \n",
      "\n",
      "                   FA        FR   FAA       FRA\n",
      "never smoked     1892  0.370254  1892  0.370254\n",
      "Unknown          1544  0.302153  3436  0.672407\n",
      "formerly smoked   885  0.173190  4321  0.845597\n",
      "smokes            789  0.154403  5110  1.000000 \n",
      "\n"
     ]
    }
   ],
   "source": [
    "freq(df,varn)"
   ]
  },
  {
   "cell_type": "markdown",
   "id": "92e91971",
   "metadata": {},
   "source": [
    "### Unitary variables"
   ]
  },
  {
   "cell_type": "code",
   "execution_count": 19,
   "id": "8a85577f",
   "metadata": {},
   "outputs": [],
   "source": [
    "unitary = [ v for v, count in zip(varn,[df[v].unique().shape[0]  for v in varn ] ) if count == 1   ]"
   ]
  },
  {
   "cell_type": "code",
   "execution_count": 20,
   "id": "8878c6df",
   "metadata": {},
   "outputs": [],
   "source": [
    "varn = [v for v in varn if v not in unitary]"
   ]
  },
  {
   "cell_type": "code",
   "execution_count": 21,
   "id": "8fdb6c12",
   "metadata": {},
   "outputs": [
    {
     "data": {
      "text/plain": [
       "['n_gender',\n",
       " 'n_hypertension',\n",
       " 'n_heart_disease',\n",
       " 'n_ever_married',\n",
       " 'n_work_type',\n",
       " 'n_Residence_type',\n",
       " 'n_smoking_status']"
      ]
     },
     "execution_count": 21,
     "metadata": {},
     "output_type": "execute_result"
    }
   ],
   "source": [
    "#We get the same amount of variables\n",
    "varn"
   ]
  },
  {
   "cell_type": "markdown",
   "id": "c71f65d7",
   "metadata": {},
   "source": [
    "## Continuous Variables"
   ]
  },
  {
   "cell_type": "code",
   "execution_count": 22,
   "id": "80bf6f19",
   "metadata": {},
   "outputs": [
    {
     "data": {
      "text/plain": [
       "(5110, 19)"
      ]
     },
     "execution_count": 22,
     "metadata": {},
     "output_type": "execute_result"
    }
   ],
   "source": [
    "df.shape"
   ]
  },
  {
   "cell_type": "code",
   "execution_count": 23,
   "id": "48282e60",
   "metadata": {},
   "outputs": [],
   "source": [
    "X = df[varc].copy()"
   ]
  },
  {
   "cell_type": "code",
   "execution_count": 24,
   "id": "d380b575",
   "metadata": {},
   "outputs": [
    {
     "data": {
      "text/plain": [
       "(5110, 3)"
      ]
     },
     "execution_count": 24,
     "metadata": {},
     "output_type": "execute_result"
    }
   ],
   "source": [
    "X.shape"
   ]
  },
  {
   "cell_type": "markdown",
   "id": "5394232a",
   "metadata": {},
   "source": [
    "### Univarite Analysis"
   ]
  },
  {
   "cell_type": "code",
   "execution_count": 25,
   "id": "ee9ad5ae",
   "metadata": {},
   "outputs": [
    {
     "data": {
      "text/html": [
       "<div>\n",
       "<style scoped>\n",
       "    .dataframe tbody tr th:only-of-type {\n",
       "        vertical-align: middle;\n",
       "    }\n",
       "\n",
       "    .dataframe tbody tr th {\n",
       "        vertical-align: top;\n",
       "    }\n",
       "\n",
       "    .dataframe thead th {\n",
       "        text-align: right;\n",
       "    }\n",
       "</style>\n",
       "<table border=\"1\" class=\"dataframe\">\n",
       "  <thead>\n",
       "    <tr style=\"text-align: right;\">\n",
       "      <th></th>\n",
       "      <th>age</th>\n",
       "      <th>avg_glucose_level</th>\n",
       "      <th>bmi</th>\n",
       "    </tr>\n",
       "  </thead>\n",
       "  <tbody>\n",
       "    <tr>\n",
       "      <th>count</th>\n",
       "      <td>5110.000000</td>\n",
       "      <td>5110.000000</td>\n",
       "      <td>4909.000000</td>\n",
       "    </tr>\n",
       "    <tr>\n",
       "      <th>mean</th>\n",
       "      <td>43.226614</td>\n",
       "      <td>106.147677</td>\n",
       "      <td>28.893237</td>\n",
       "    </tr>\n",
       "    <tr>\n",
       "      <th>std</th>\n",
       "      <td>22.612647</td>\n",
       "      <td>45.283560</td>\n",
       "      <td>7.854067</td>\n",
       "    </tr>\n",
       "    <tr>\n",
       "      <th>min</th>\n",
       "      <td>0.080000</td>\n",
       "      <td>55.120000</td>\n",
       "      <td>10.300000</td>\n",
       "    </tr>\n",
       "    <tr>\n",
       "      <th>1%</th>\n",
       "      <td>1.080000</td>\n",
       "      <td>56.330900</td>\n",
       "      <td>15.100000</td>\n",
       "    </tr>\n",
       "    <tr>\n",
       "      <th>10%</th>\n",
       "      <td>11.000000</td>\n",
       "      <td>65.789000</td>\n",
       "      <td>19.700000</td>\n",
       "    </tr>\n",
       "    <tr>\n",
       "      <th>50%</th>\n",
       "      <td>45.000000</td>\n",
       "      <td>91.885000</td>\n",
       "      <td>28.100000</td>\n",
       "    </tr>\n",
       "    <tr>\n",
       "      <th>90%</th>\n",
       "      <td>75.000000</td>\n",
       "      <td>192.181000</td>\n",
       "      <td>38.900000</td>\n",
       "    </tr>\n",
       "    <tr>\n",
       "      <th>99%</th>\n",
       "      <td>82.000000</td>\n",
       "      <td>240.708200</td>\n",
       "      <td>53.400000</td>\n",
       "    </tr>\n",
       "    <tr>\n",
       "      <th>max</th>\n",
       "      <td>82.000000</td>\n",
       "      <td>271.740000</td>\n",
       "      <td>97.600000</td>\n",
       "    </tr>\n",
       "  </tbody>\n",
       "</table>\n",
       "</div>"
      ],
      "text/plain": [
       "               age  avg_glucose_level          bmi\n",
       "count  5110.000000        5110.000000  4909.000000\n",
       "mean     43.226614         106.147677    28.893237\n",
       "std      22.612647          45.283560     7.854067\n",
       "min       0.080000          55.120000    10.300000\n",
       "1%        1.080000          56.330900    15.100000\n",
       "10%      11.000000          65.789000    19.700000\n",
       "50%      45.000000          91.885000    28.100000\n",
       "90%      75.000000         192.181000    38.900000\n",
       "99%      82.000000         240.708200    53.400000\n",
       "max      82.000000         271.740000    97.600000"
      ]
     },
     "execution_count": 25,
     "metadata": {},
     "output_type": "execute_result"
    }
   ],
   "source": [
    "X.describe(percentiles=[0.01,0.1,0.9,0.99])"
   ]
  },
  {
   "cell_type": "code",
   "execution_count": 26,
   "id": "b09921ca",
   "metadata": {},
   "outputs": [
    {
     "data": {
      "text/plain": [
       "array([[<AxesSubplot:title={'center':'age'}>,\n",
       "        <AxesSubplot:title={'center':'avg_glucose_level'}>],\n",
       "       [<AxesSubplot:title={'center':'bmi'}>, <AxesSubplot:>]],\n",
       "      dtype=object)"
      ]
     },
     "execution_count": 26,
     "metadata": {},
     "output_type": "execute_result"
    },
    {
     "data": {
      "image/png": "[encoded data removed]",
      "text/plain": [
       "<Figure size 864x864 with 4 Axes>"
      ]
     },
     "metadata": {
      "needs_background": "light"
     },
     "output_type": "display_data"
    }
   ],
   "source": [
    "X[varc].hist(figsize=(12,12))"
   ]
  },
  {
   "cell_type": "markdown",
   "id": "d95218c8",
   "metadata": {},
   "source": [
    "#### Missing values"
   ]
  },
  {
   "cell_type": "code",
   "execution_count": 27,
   "id": "bee1ece2",
   "metadata": {},
   "outputs": [
    {
     "data": {
      "text/html": [
       "<div>\n",
       "<style scoped>\n",
       "    .dataframe tbody tr th:only-of-type {\n",
       "        vertical-align: middle;\n",
       "    }\n",
       "\n",
       "    .dataframe tbody tr th {\n",
       "        vertical-align: top;\n",
       "    }\n",
       "\n",
       "    .dataframe thead th {\n",
       "        text-align: right;\n",
       "    }\n",
       "</style>\n",
       "<table border=\"1\" class=\"dataframe\">\n",
       "  <thead>\n",
       "    <tr style=\"text-align: right;\">\n",
       "      <th></th>\n",
       "      <th>count</th>\n",
       "    </tr>\n",
       "  </thead>\n",
       "  <tbody>\n",
       "    <tr>\n",
       "      <th>age</th>\n",
       "      <td>0.000000</td>\n",
       "    </tr>\n",
       "    <tr>\n",
       "      <th>avg_glucose_level</th>\n",
       "      <td>0.000000</td>\n",
       "    </tr>\n",
       "    <tr>\n",
       "      <th>bmi</th>\n",
       "      <td>0.039335</td>\n",
       "    </tr>\n",
       "  </tbody>\n",
       "</table>\n",
       "</div>"
      ],
      "text/plain": [
       "                      count\n",
       "age                0.000000\n",
       "avg_glucose_level  0.000000\n",
       "bmi                0.039335"
      ]
     },
     "execution_count": 27,
     "metadata": {},
     "output_type": "execute_result"
    }
   ],
   "source": [
    "miss = 1 - X[varc].describe().T[['count']] / len(X)\n",
    "miss"
   ]
  },
  {
   "cell_type": "code",
   "execution_count": 28,
   "id": "fac7c8c1",
   "metadata": {},
   "outputs": [
    {
     "data": {
      "text/plain": [
       "((5110, 3), (4909, 3), 0.960665362035225)"
      ]
     },
     "execution_count": 28,
     "metadata": {},
     "output_type": "execute_result"
    }
   ],
   "source": [
    "X.shape, X.dropna().shape, X.dropna().shape[0] / X.shape[0]"
   ]
  },
  {
   "cell_type": "markdown",
   "id": "f8ba95c0",
   "metadata": {},
   "source": [
    "#### Imputing"
   ]
  },
  {
   "cell_type": "code",
   "execution_count": 29,
   "id": "56bbf1ab",
   "metadata": {},
   "outputs": [],
   "source": [
    "im = SimpleImputer()"
   ]
  },
  {
   "cell_type": "code",
   "execution_count": 30,
   "id": "987dac64",
   "metadata": {},
   "outputs": [
    {
     "data": {
      "text/html": [
       "<style>#sk-container-id-1 {color: black;background-color: white;}#sk-container-id-1 pre{padding: 0;}#sk-container-id-1 div.sk-toggleable {background-color: white;}#sk-container-id-1 label.sk-toggleable__label {cursor: pointer;display: block;width: 100%;margin-bottom: 0;padding: 0.3em;box-sizing: border-box;text-align: center;}#sk-container-id-1 label.sk-toggleable__label-arrow:before {content: \"▸\";float: left;margin-right: 0.25em;color: #696969;}#sk-container-id-1 label.sk-toggleable__label-arrow:hover:before {color: black;}#sk-container-id-1 div.sk-estimator:hover label.sk-toggleable__label-arrow:before {color: black;}#sk-container-id-1 div.sk-toggleable__content {max-height: 0;max-width: 0;overflow: hidden;text-align: left;background-color: #f0f8ff;}#sk-container-id-1 div.sk-toggleable__content pre {margin: 0.2em;color: black;border-radius: 0.25em;background-color: #f0f8ff;}#sk-container-id-1 input.sk-toggleable__control:checked~div.sk-toggleable__content {max-height: 200px;max-width: 100%;overflow: auto;}#sk-container-id-1 input.sk-toggleable__control:checked~label.sk-toggleable__label-arrow:before {content: \"▾\";}#sk-container-id-1 div.sk-estimator input.sk-toggleable__control:checked~label.sk-toggleable__label {background-color: #d4ebff;}#sk-container-id-1 div.sk-label input.sk-toggleable__control:checked~label.sk-toggleable__label {background-color: #d4ebff;}#sk-container-id-1 input.sk-hidden--visually {border: 0;clip: rect(1px 1px 1px 1px);clip: rect(1px, 1px, 1px, 1px);height: 1px;margin: -1px;overflow: hidden;padding: 0;position: absolute;width: 1px;}#sk-container-id-1 div.sk-estimator {font-family: monospace;background-color: #f0f8ff;border: 1px dotted black;border-radius: 0.25em;box-sizing: border-box;margin-bottom: 0.5em;}#sk-container-id-1 div.sk-estimator:hover {background-color: #d4ebff;}#sk-container-id-1 div.sk-parallel-item::after {content: \"\";width: 100%;border-bottom: 1px solid gray;flex-grow: 1;}#sk-container-id-1 div.sk-label:hover label.sk-toggleable__label {background-color: #d4ebff;}#sk-container-id-1 div.sk-serial::before {content: \"\";position: absolute;border-left: 1px solid gray;box-sizing: border-box;top: 0;bottom: 0;left: 50%;z-index: 0;}#sk-container-id-1 div.sk-serial {display: flex;flex-direction: column;align-items: center;background-color: white;padding-right: 0.2em;padding-left: 0.2em;position: relative;}#sk-container-id-1 div.sk-item {position: relative;z-index: 1;}#sk-container-id-1 div.sk-parallel {display: flex;align-items: stretch;justify-content: center;background-color: white;position: relative;}#sk-container-id-1 div.sk-item::before, #sk-container-id-1 div.sk-parallel-item::before {content: \"\";position: absolute;border-left: 1px solid gray;box-sizing: border-box;top: 0;bottom: 0;left: 50%;z-index: -1;}#sk-container-id-1 div.sk-parallel-item {display: flex;flex-direction: column;z-index: 1;position: relative;background-color: white;}#sk-container-id-1 div.sk-parallel-item:first-child::after {align-self: flex-end;width: 50%;}#sk-container-id-1 div.sk-parallel-item:last-child::after {align-self: flex-start;width: 50%;}#sk-container-id-1 div.sk-parallel-item:only-child::after {width: 0;}#sk-container-id-1 div.sk-dashed-wrapped {border: 1px dashed gray;margin: 0 0.4em 0.5em 0.4em;box-sizing: border-box;padding-bottom: 0.4em;background-color: white;}#sk-container-id-1 div.sk-label label {font-family: monospace;font-weight: bold;display: inline-block;line-height: 1.2em;}#sk-container-id-1 div.sk-label-container {text-align: center;}#sk-container-id-1 div.sk-container {/* jupyter's `normalize.less` sets `[hidden] { display: none; }` but bootstrap.min.css set `[hidden] { display: none !important; }` so we also need the `!important` here to be able to override the default hidden behavior on the sphinx rendered scikit-learn.org. See: https://github.com/scikit-learn/scikit-learn/issues/21755 */display: inline-block !important;position: relative;}#sk-container-id-1 div.sk-text-repr-fallback {display: none;}</style><div id=\"sk-container-id-1\" class=\"sk-top-container\"><div class=\"sk-text-repr-fallback\"><pre>SimpleImputer()</pre><b>In a Jupyter environment, please rerun this cell to show the HTML representation or trust the notebook. <br />On GitHub, the HTML representation is unable to render, please try loading this page with nbviewer.org.</b></div><div class=\"sk-container\" hidden><div class=\"sk-item\"><div class=\"sk-estimator sk-toggleable\"><input class=\"sk-toggleable__control sk-hidden--visually\" id=\"sk-estimator-id-1\" type=\"checkbox\" checked><label for=\"sk-estimator-id-1\" class=\"sk-toggleable__label sk-toggleable__label-arrow\">SimpleImputer</label><div class=\"sk-toggleable__content\"><pre>SimpleImputer()</pre></div></div></div></div></div>"
      ],
      "text/plain": [
       "SimpleImputer()"
      ]
     },
     "execution_count": 30,
     "metadata": {},
     "output_type": "execute_result"
    }
   ],
   "source": [
    "im.fit(X)"
   ]
  },
  {
   "cell_type": "code",
   "execution_count": 31,
   "id": "7ab235cb",
   "metadata": {},
   "outputs": [],
   "source": [
    "X[varc] = im.transform(X[varc])"
   ]
  },
  {
   "cell_type": "code",
   "execution_count": 32,
   "id": "83be587b",
   "metadata": {},
   "outputs": [
    {
     "data": {
      "text/plain": [
       "((5110, 3), (5110, 3), 1.0)"
      ]
     },
     "execution_count": 32,
     "metadata": {},
     "output_type": "execute_result"
    }
   ],
   "source": [
    "X.shape, X.dropna().shape, X.dropna().shape[0] / X.shape[0]"
   ]
  },
  {
   "cell_type": "markdown",
   "id": "c5f04241",
   "metadata": {},
   "source": [
    "##### Validating distribution was not altered"
   ]
  },
  {
   "cell_type": "code",
   "execution_count": 33,
   "id": "39249e52",
   "metadata": {},
   "outputs": [],
   "source": [
    "ks = pd.DataFrame( map(lambda v:  (v , ks_2samp(df[v].dropna() , X[v]  ).statistic  ) , varc    ) , columns= ['var','ks']    )"
   ]
  },
  {
   "cell_type": "code",
   "execution_count": 34,
   "id": "dafa0cc7",
   "metadata": {},
   "outputs": [
    {
     "data": {
      "text/html": [
       "<div>\n",
       "<style scoped>\n",
       "    .dataframe tbody tr th:only-of-type {\n",
       "        vertical-align: middle;\n",
       "    }\n",
       "\n",
       "    .dataframe tbody tr th {\n",
       "        vertical-align: top;\n",
       "    }\n",
       "\n",
       "    .dataframe thead th {\n",
       "        text-align: right;\n",
       "    }\n",
       "</style>\n",
       "<table border=\"1\" class=\"dataframe\">\n",
       "  <thead>\n",
       "    <tr style=\"text-align: right;\">\n",
       "      <th></th>\n",
       "      <th>var</th>\n",
       "      <th>ks</th>\n",
       "    </tr>\n",
       "  </thead>\n",
       "  <tbody>\n",
       "    <tr>\n",
       "      <th>0</th>\n",
       "      <td>age</td>\n",
       "      <td>0.00000</td>\n",
       "    </tr>\n",
       "    <tr>\n",
       "      <th>1</th>\n",
       "      <td>avg_glucose_level</td>\n",
       "      <td>0.00000</td>\n",
       "    </tr>\n",
       "    <tr>\n",
       "      <th>2</th>\n",
       "      <td>bmi</td>\n",
       "      <td>0.02161</td>\n",
       "    </tr>\n",
       "  </tbody>\n",
       "</table>\n",
       "</div>"
      ],
      "text/plain": [
       "                 var       ks\n",
       "0                age  0.00000\n",
       "1  avg_glucose_level  0.00000\n",
       "2                bmi  0.02161"
      ]
     },
     "execution_count": 34,
     "metadata": {},
     "output_type": "execute_result"
    }
   ],
   "source": [
    "#Distribution not altered as ks less than 0.1\n",
    "ks"
   ]
  },
  {
   "cell_type": "markdown",
   "id": "2053a197",
   "metadata": {},
   "source": [
    "#### Variance"
   ]
  },
  {
   "cell_type": "code",
   "execution_count": 35,
   "id": "3684f1bd",
   "metadata": {},
   "outputs": [],
   "source": [
    "vt = VarianceThreshold(threshold=1.0)"
   ]
  },
  {
   "cell_type": "code",
   "execution_count": 36,
   "id": "7defff36",
   "metadata": {},
   "outputs": [
    {
     "data": {
      "text/html": [
       "<style>#sk-container-id-2 {color: black;background-color: white;}#sk-container-id-2 pre{padding: 0;}#sk-container-id-2 div.sk-toggleable {background-color: white;}#sk-container-id-2 label.sk-toggleable__label {cursor: pointer;display: block;width: 100%;margin-bottom: 0;padding: 0.3em;box-sizing: border-box;text-align: center;}#sk-container-id-2 label.sk-toggleable__label-arrow:before {content: \"▸\";float: left;margin-right: 0.25em;color: #696969;}#sk-container-id-2 label.sk-toggleable__label-arrow:hover:before {color: black;}#sk-container-id-2 div.sk-estimator:hover label.sk-toggleable__label-arrow:before {color: black;}#sk-container-id-2 div.sk-toggleable__content {max-height: 0;max-width: 0;overflow: hidden;text-align: left;background-color: #f0f8ff;}#sk-container-id-2 div.sk-toggleable__content pre {margin: 0.2em;color: black;border-radius: 0.25em;background-color: #f0f8ff;}#sk-container-id-2 input.sk-toggleable__control:checked~div.sk-toggleable__content {max-height: 200px;max-width: 100%;overflow: auto;}#sk-container-id-2 input.sk-toggleable__control:checked~label.sk-toggleable__label-arrow:before {content: \"▾\";}#sk-container-id-2 div.sk-estimator input.sk-toggleable__control:checked~label.sk-toggleable__label {background-color: #d4ebff;}#sk-container-id-2 div.sk-label input.sk-toggleable__control:checked~label.sk-toggleable__label {background-color: #d4ebff;}#sk-container-id-2 input.sk-hidden--visually {border: 0;clip: rect(1px 1px 1px 1px);clip: rect(1px, 1px, 1px, 1px);height: 1px;margin: -1px;overflow: hidden;padding: 0;position: absolute;width: 1px;}#sk-container-id-2 div.sk-estimator {font-family: monospace;background-color: #f0f8ff;border: 1px dotted black;border-radius: 0.25em;box-sizing: border-box;margin-bottom: 0.5em;}#sk-container-id-2 div.sk-estimator:hover {background-color: #d4ebff;}#sk-container-id-2 div.sk-parallel-item::after {content: \"\";width: 100%;border-bottom: 1px solid gray;flex-grow: 1;}#sk-container-id-2 div.sk-label:hover label.sk-toggleable__label {background-color: #d4ebff;}#sk-container-id-2 div.sk-serial::before {content: \"\";position: absolute;border-left: 1px solid gray;box-sizing: border-box;top: 0;bottom: 0;left: 50%;z-index: 0;}#sk-container-id-2 div.sk-serial {display: flex;flex-direction: column;align-items: center;background-color: white;padding-right: 0.2em;padding-left: 0.2em;position: relative;}#sk-container-id-2 div.sk-item {position: relative;z-index: 1;}#sk-container-id-2 div.sk-parallel {display: flex;align-items: stretch;justify-content: center;background-color: white;position: relative;}#sk-container-id-2 div.sk-item::before, #sk-container-id-2 div.sk-parallel-item::before {content: \"\";position: absolute;border-left: 1px solid gray;box-sizing: border-box;top: 0;bottom: 0;left: 50%;z-index: -1;}#sk-container-id-2 div.sk-parallel-item {display: flex;flex-direction: column;z-index: 1;position: relative;background-color: white;}#sk-container-id-2 div.sk-parallel-item:first-child::after {align-self: flex-end;width: 50%;}#sk-container-id-2 div.sk-parallel-item:last-child::after {align-self: flex-start;width: 50%;}#sk-container-id-2 div.sk-parallel-item:only-child::after {width: 0;}#sk-container-id-2 div.sk-dashed-wrapped {border: 1px dashed gray;margin: 0 0.4em 0.5em 0.4em;box-sizing: border-box;padding-bottom: 0.4em;background-color: white;}#sk-container-id-2 div.sk-label label {font-family: monospace;font-weight: bold;display: inline-block;line-height: 1.2em;}#sk-container-id-2 div.sk-label-container {text-align: center;}#sk-container-id-2 div.sk-container {/* jupyter's `normalize.less` sets `[hidden] { display: none; }` but bootstrap.min.css set `[hidden] { display: none !important; }` so we also need the `!important` here to be able to override the default hidden behavior on the sphinx rendered scikit-learn.org. See: https://github.com/scikit-learn/scikit-learn/issues/21755 */display: inline-block !important;position: relative;}#sk-container-id-2 div.sk-text-repr-fallback {display: none;}</style><div id=\"sk-container-id-2\" class=\"sk-top-container\"><div class=\"sk-text-repr-fallback\"><pre>VarianceThreshold(threshold=1.0)</pre><b>In a Jupyter environment, please rerun this cell to show the HTML representation or trust the notebook. <br />On GitHub, the HTML representation is unable to render, please try loading this page with nbviewer.org.</b></div><div class=\"sk-container\" hidden><div class=\"sk-item\"><div class=\"sk-estimator sk-toggleable\"><input class=\"sk-toggleable__control sk-hidden--visually\" id=\"sk-estimator-id-2\" type=\"checkbox\" checked><label for=\"sk-estimator-id-2\" class=\"sk-toggleable__label sk-toggleable__label-arrow\">VarianceThreshold</label><div class=\"sk-toggleable__content\"><pre>VarianceThreshold(threshold=1.0)</pre></div></div></div></div></div>"
      ],
      "text/plain": [
       "VarianceThreshold(threshold=1.0)"
      ]
     },
     "execution_count": 36,
     "metadata": {},
     "output_type": "execute_result"
    }
   ],
   "source": [
    "vt.fit(X[varc])"
   ]
  },
  {
   "cell_type": "code",
   "execution_count": 37,
   "id": "c3938600",
   "metadata": {},
   "outputs": [
    {
     "data": {
      "text/plain": [
       "[]"
      ]
     },
     "execution_count": 37,
     "metadata": {},
     "output_type": "execute_result"
    }
   ],
   "source": [
    "wo_variance = [v for v, u in zip( varc , vt.get_support() ) if not(u) ]\n",
    "wo_variance"
   ]
  },
  {
   "cell_type": "code",
   "execution_count": 38,
   "id": "f560db52",
   "metadata": {},
   "outputs": [],
   "source": [
    "#We don't have variable with null variance"
   ]
  },
  {
   "cell_type": "markdown",
   "id": "a8c5a464",
   "metadata": {},
   "source": [
    "#### Outliers"
   ]
  },
  {
   "cell_type": "markdown",
   "id": "66386ca1",
   "metadata": {},
   "source": [
    "##### Cerca percentil"
   ]
  },
  {
   "cell_type": "code",
   "execution_count": 39,
   "id": "a2366f8d",
   "metadata": {},
   "outputs": [],
   "source": [
    "ext = X[varc].describe(percentiles=[0.005,0.995]).T[['0.5%','99.5%']].reset_index()\n",
    "for v, li, ls in ext.values:\n",
    "    X[f'ol_{v}'] = ( (X[v]<li) | (X[v]>ls)  ).astype(int)\n",
    "    \n",
    "X['ext'] = X.filter(like='ol_').max(axis=1)"
   ]
  },
  {
   "cell_type": "code",
   "execution_count": 40,
   "id": "27a694e9",
   "metadata": {},
   "outputs": [],
   "source": [
    "X.drop(X.filter(like='ol_').columns, axis=1, inplace=True)"
   ]
  },
  {
   "cell_type": "code",
   "execution_count": 41,
   "id": "999ecae3",
   "metadata": {},
   "outputs": [
    {
     "data": {
      "text/plain": [
       "0    0.97593\n",
       "1    0.02407\n",
       "Name: ext, dtype: float64"
      ]
     },
     "execution_count": 41,
     "metadata": {},
     "output_type": "execute_result"
    }
   ],
   "source": [
    "X['ext'].value_counts(True)"
   ]
  },
  {
   "cell_type": "markdown",
   "id": "36a9de1a",
   "metadata": {},
   "source": [
    "##### Cerca intercuartil"
   ]
  },
  {
   "cell_type": "code",
   "execution_count": 42,
   "id": "66e9c42f",
   "metadata": {},
   "outputs": [],
   "source": [
    "# k=2 (moderado) ,  k=3 (fuerte)\n",
    "k = 2\n",
    "ext = X[varc].describe(percentiles=[0.25,0.75]).T[['25%','75%','mean']].reset_index()\n",
    "ext['IQR'] = ext['75%'] - ext['25%'] \n",
    "ext['li']  = ext['mean'] - k*ext['IQR']\n",
    "ext['ls']  = ext['mean'] + k*ext['IQR']\n",
    "ext = ext[['index','li','ls']]"
   ]
  },
  {
   "cell_type": "code",
   "execution_count": 43,
   "id": "efda3c2f",
   "metadata": {},
   "outputs": [],
   "source": [
    "for v, li, ls in ext.values:\n",
    "    X[f'ol_{v}'] = (( X[v] < li ) | ( X[v] > ls ) ).astype(int)\n",
    "\n",
    "X['ext_iqr'] =  X.filter(like='ol_').max(axis=1)\n",
    "X.drop(X.filter(like='ol_').columns, axis=1 , inplace=True)"
   ]
  },
  {
   "cell_type": "code",
   "execution_count": 44,
   "id": "02d4bba8",
   "metadata": {},
   "outputs": [
    {
     "data": {
      "text/plain": [
       "0    4437\n",
       "1     673\n",
       "Name: ext_iqr, dtype: int64"
      ]
     },
     "execution_count": 44,
     "metadata": {},
     "output_type": "execute_result"
    }
   ],
   "source": [
    "X['ext_iqr'].value_counts()"
   ]
  },
  {
   "cell_type": "markdown",
   "id": "ea5cf1dd",
   "metadata": {},
   "source": [
    "##### Adding um to the X df"
   ]
  },
  {
   "cell_type": "code",
   "execution_count": 45,
   "id": "3f21399a",
   "metadata": {},
   "outputs": [
    {
     "name": "stdout",
     "output_type": "stream",
     "text": [
      "Dimensiones:  (5110, 5) (5110, 19)\n"
     ]
    }
   ],
   "source": [
    "print(\"Dimensiones: \",X.shape, df.shape)"
   ]
  },
  {
   "cell_type": "code",
   "execution_count": 46,
   "id": "cf0d1166",
   "metadata": {},
   "outputs": [],
   "source": [
    "X[um] = df[um]"
   ]
  },
  {
   "cell_type": "markdown",
   "id": "3540b1ff",
   "metadata": {},
   "source": [
    "##### Deleting outliers"
   ]
  },
  {
   "cell_type": "code",
   "execution_count": 47,
   "id": "379c3359",
   "metadata": {},
   "outputs": [],
   "source": [
    "X = X.loc[X['ext_iqr'] == 0 ].reset_index(drop=True).drop(['ext','ext_iqr'],axis=1)"
   ]
  },
  {
   "cell_type": "code",
   "execution_count": 48,
   "id": "db4c2e5a",
   "metadata": {},
   "outputs": [
    {
     "name": "stdout",
     "output_type": "stream",
     "text": [
      "(4437, 4)\n"
     ]
    },
    {
     "data": {
      "text/html": [
       "<div>\n",
       "<style scoped>\n",
       "    .dataframe tbody tr th:only-of-type {\n",
       "        vertical-align: middle;\n",
       "    }\n",
       "\n",
       "    .dataframe tbody tr th {\n",
       "        vertical-align: top;\n",
       "    }\n",
       "\n",
       "    .dataframe thead th {\n",
       "        text-align: right;\n",
       "    }\n",
       "</style>\n",
       "<table border=\"1\" class=\"dataframe\">\n",
       "  <thead>\n",
       "    <tr style=\"text-align: right;\">\n",
       "      <th></th>\n",
       "      <th>age</th>\n",
       "      <th>avg_glucose_level</th>\n",
       "      <th>bmi</th>\n",
       "      <th>id</th>\n",
       "    </tr>\n",
       "  </thead>\n",
       "  <tbody>\n",
       "    <tr>\n",
       "      <th>0</th>\n",
       "      <td>79.0</td>\n",
       "      <td>57.08</td>\n",
       "      <td>22.000000</td>\n",
       "      <td>64908</td>\n",
       "    </tr>\n",
       "    <tr>\n",
       "      <th>1</th>\n",
       "      <td>34.0</td>\n",
       "      <td>106.23</td>\n",
       "      <td>28.893237</td>\n",
       "      <td>31091</td>\n",
       "    </tr>\n",
       "    <tr>\n",
       "      <th>2</th>\n",
       "      <td>57.0</td>\n",
       "      <td>76.50</td>\n",
       "      <td>29.200000</td>\n",
       "      <td>49279</td>\n",
       "    </tr>\n",
       "    <tr>\n",
       "      <th>3</th>\n",
       "      <td>77.0</td>\n",
       "      <td>102.96</td>\n",
       "      <td>20.900000</td>\n",
       "      <td>67890</td>\n",
       "    </tr>\n",
       "    <tr>\n",
       "      <th>4</th>\n",
       "      <td>78.0</td>\n",
       "      <td>145.03</td>\n",
       "      <td>26.800000</td>\n",
       "      <td>52593</td>\n",
       "    </tr>\n",
       "  </tbody>\n",
       "</table>\n",
       "</div>"
      ],
      "text/plain": [
       "    age  avg_glucose_level        bmi     id\n",
       "0  79.0              57.08  22.000000  64908\n",
       "1  34.0             106.23  28.893237  31091\n",
       "2  57.0              76.50  29.200000  49279\n",
       "3  77.0             102.96  20.900000  67890\n",
       "4  78.0             145.03  26.800000  52593"
      ]
     },
     "execution_count": 48,
     "metadata": {},
     "output_type": "execute_result"
    }
   ],
   "source": [
    "print(X.shape )\n",
    "X.head()"
   ]
  },
  {
   "cell_type": "markdown",
   "id": "a575db03",
   "metadata": {},
   "source": [
    "### Bivariate Analysis"
   ]
  },
  {
   "cell_type": "code",
   "execution_count": 49,
   "id": "00857949",
   "metadata": {},
   "outputs": [
    {
     "data": {
      "text/html": [
       "<div>\n",
       "<style scoped>\n",
       "    .dataframe tbody tr th:only-of-type {\n",
       "        vertical-align: middle;\n",
       "    }\n",
       "\n",
       "    .dataframe tbody tr th {\n",
       "        vertical-align: top;\n",
       "    }\n",
       "\n",
       "    .dataframe thead th {\n",
       "        text-align: right;\n",
       "    }\n",
       "</style>\n",
       "<table border=\"1\" class=\"dataframe\">\n",
       "  <thead>\n",
       "    <tr style=\"text-align: right;\">\n",
       "      <th></th>\n",
       "      <th>age</th>\n",
       "      <th>avg_glucose_level</th>\n",
       "      <th>bmi</th>\n",
       "    </tr>\n",
       "  </thead>\n",
       "  <tbody>\n",
       "    <tr>\n",
       "      <th>age</th>\n",
       "      <td>1.000000</td>\n",
       "      <td>-0.007390</td>\n",
       "      <td>0.374597</td>\n",
       "    </tr>\n",
       "    <tr>\n",
       "      <th>avg_glucose_level</th>\n",
       "      <td>-0.007390</td>\n",
       "      <td>1.000000</td>\n",
       "      <td>0.011237</td>\n",
       "    </tr>\n",
       "    <tr>\n",
       "      <th>bmi</th>\n",
       "      <td>0.374597</td>\n",
       "      <td>0.011237</td>\n",
       "      <td>1.000000</td>\n",
       "    </tr>\n",
       "  </tbody>\n",
       "</table>\n",
       "</div>"
      ],
      "text/plain": [
       "                        age  avg_glucose_level       bmi\n",
       "age                1.000000          -0.007390  0.374597\n",
       "avg_glucose_level -0.007390           1.000000  0.011237\n",
       "bmi                0.374597           0.011237  1.000000"
      ]
     },
     "execution_count": 49,
     "metadata": {},
     "output_type": "execute_result"
    }
   ],
   "source": [
    "X[varc].corr()"
   ]
  },
  {
   "cell_type": "code",
   "execution_count": 50,
   "id": "18883e8e",
   "metadata": {},
   "outputs": [
    {
     "data": {
      "text/plain": [
       "<seaborn.axisgrid.PairGrid at 0x7ff083d18130>"
      ]
     },
     "execution_count": 50,
     "metadata": {},
     "output_type": "execute_result"
    },
    {
     "data": {
      "image/png": "[encoded data removed]",
      "text/plain": [
       "<Figure size 540x540 with 12 Axes>"
      ]
     },
     "metadata": {
      "needs_background": "light"
     },
     "output_type": "display_data"
    }
   ],
   "source": [
    "sns.pairplot(X[varc])"
   ]
  },
  {
   "cell_type": "markdown",
   "id": "ccaa8155",
   "metadata": {},
   "source": [
    "#### Multicolinealidad"
   ]
  },
  {
   "cell_type": "code",
   "execution_count": 51,
   "id": "da1386fd",
   "metadata": {},
   "outputs": [],
   "source": [
    "vc = VarClusHi(df=X[varc] , feat_list = varc )"
   ]
  },
  {
   "cell_type": "code",
   "execution_count": 52,
   "id": "3f6bc39a",
   "metadata": {},
   "outputs": [
    {
     "data": {
      "text/plain": [
       "<varclushi.varclushi.VarClusHi at 0x7ff083b4b580>"
      ]
     },
     "execution_count": 52,
     "metadata": {},
     "output_type": "execute_result"
    }
   ],
   "source": [
    "vc.varclus()"
   ]
  },
  {
   "cell_type": "code",
   "execution_count": 53,
   "id": "51ccec05",
   "metadata": {},
   "outputs": [],
   "source": [
    "rs = vc.rsquare\n",
    "rs = rs.sort_values(by=['Cluster','RS_Ratio'] , ascending=[1,1]).reset_index(drop=True)"
   ]
  },
  {
   "cell_type": "code",
   "execution_count": 54,
   "id": "97b3e04b",
   "metadata": {},
   "outputs": [],
   "source": [
    "rs['id'] = rs.groupby('Cluster').cumcount()+1"
   ]
  },
  {
   "cell_type": "code",
   "execution_count": 55,
   "id": "fc190cd6",
   "metadata": {},
   "outputs": [
    {
     "data": {
      "text/html": [
       "<div>\n",
       "<style scoped>\n",
       "    .dataframe tbody tr th:only-of-type {\n",
       "        vertical-align: middle;\n",
       "    }\n",
       "\n",
       "    .dataframe tbody tr th {\n",
       "        vertical-align: top;\n",
       "    }\n",
       "\n",
       "    .dataframe thead th {\n",
       "        text-align: right;\n",
       "    }\n",
       "</style>\n",
       "<table border=\"1\" class=\"dataframe\">\n",
       "  <thead>\n",
       "    <tr style=\"text-align: right;\">\n",
       "      <th></th>\n",
       "      <th>Cluster</th>\n",
       "      <th>Variable</th>\n",
       "      <th>RS_Own</th>\n",
       "      <th>RS_NC</th>\n",
       "      <th>RS_Ratio</th>\n",
       "      <th>id</th>\n",
       "    </tr>\n",
       "  </thead>\n",
       "  <tbody>\n",
       "    <tr>\n",
       "      <th>0</th>\n",
       "      <td>0</td>\n",
       "      <td>age</td>\n",
       "      <td>0.687298</td>\n",
       "      <td>0.000055</td>\n",
       "      <td>0.312719</td>\n",
       "      <td>1</td>\n",
       "    </tr>\n",
       "    <tr>\n",
       "      <th>1</th>\n",
       "      <td>0</td>\n",
       "      <td>bmi</td>\n",
       "      <td>0.687298</td>\n",
       "      <td>0.000126</td>\n",
       "      <td>0.312741</td>\n",
       "      <td>2</td>\n",
       "    </tr>\n",
       "    <tr>\n",
       "      <th>2</th>\n",
       "      <td>1</td>\n",
       "      <td>avg_glucose_level</td>\n",
       "      <td>1.000000</td>\n",
       "      <td>0.000005</td>\n",
       "      <td>0.000000</td>\n",
       "      <td>1</td>\n",
       "    </tr>\n",
       "  </tbody>\n",
       "</table>\n",
       "</div>"
      ],
      "text/plain": [
       "   Cluster           Variable    RS_Own     RS_NC  RS_Ratio  id\n",
       "0        0                age  0.687298  0.000055  0.312719   1\n",
       "1        0                bmi  0.687298  0.000126  0.312741   2\n",
       "2        1  avg_glucose_level  1.000000  0.000005  0.000000   1"
      ]
     },
     "execution_count": 55,
     "metadata": {},
     "output_type": "execute_result"
    }
   ],
   "source": [
    "rs"
   ]
  },
  {
   "cell_type": "code",
   "execution_count": 56,
   "id": "42265a2e",
   "metadata": {},
   "outputs": [],
   "source": [
    "varc = rs.loc[ rs['id'] == 1 ]['Variable'].tolist()"
   ]
  },
  {
   "cell_type": "code",
   "execution_count": 57,
   "id": "ef6309f8",
   "metadata": {},
   "outputs": [
    {
     "data": {
      "text/plain": [
       "array([[<AxesSubplot:title={'center':'age'}>,\n",
       "        <AxesSubplot:title={'center':'avg_glucose_level'}>]], dtype=object)"
      ]
     },
     "execution_count": 57,
     "metadata": {},
     "output_type": "execute_result"
    },
    {
     "data": {
      "image/png": "[encoded data removed]",
      "text/plain": [
       "<Figure size 432x288 with 2 Axes>"
      ]
     },
     "metadata": {
      "needs_background": "light"
     },
     "output_type": "display_data"
    }
   ],
   "source": [
    "X[varc].hist()"
   ]
  },
  {
   "cell_type": "markdown",
   "id": "eac9ea63",
   "metadata": {},
   "source": [
    "### Discretizing"
   ]
  },
  {
   "cell_type": "code",
   "execution_count": 58,
   "id": "99b3d81b",
   "metadata": {},
   "outputs": [],
   "source": [
    "def discretizar(df,v,k):\n",
    "    \n",
    "    kb = KBinsDiscretizer( n_bins= k , encode='ordinal', strategy='quantile')\n",
    "    kb.fit( df[[v]] )\n",
    "    df[f'd_{v}_{k}']  = pd.cut( df[v], bins=kb.bin_edges_[0] , include_lowest=True  ).astype(str)\n",
    "    \n",
    "    return df"
   ]
  },
  {
   "cell_type": "code",
   "execution_count": 59,
   "id": "6c007e95",
   "metadata": {},
   "outputs": [],
   "source": [
    "for v in varc:\n",
    "    for k in range(2,6):\n",
    "        X = discretizar(X,v,k)"
   ]
  },
  {
   "cell_type": "code",
   "execution_count": 60,
   "id": "fcf67d3a",
   "metadata": {},
   "outputs": [
    {
     "name": "stdout",
     "output_type": "stream",
     "text": [
      "(4437, 12)\n"
     ]
    },
    {
     "data": {
      "text/html": [
       "<div>\n",
       "<style scoped>\n",
       "    .dataframe tbody tr th:only-of-type {\n",
       "        vertical-align: middle;\n",
       "    }\n",
       "\n",
       "    .dataframe tbody tr th {\n",
       "        vertical-align: top;\n",
       "    }\n",
       "\n",
       "    .dataframe thead th {\n",
       "        text-align: right;\n",
       "    }\n",
       "</style>\n",
       "<table border=\"1\" class=\"dataframe\">\n",
       "  <thead>\n",
       "    <tr style=\"text-align: right;\">\n",
       "      <th></th>\n",
       "      <th>age</th>\n",
       "      <th>avg_glucose_level</th>\n",
       "      <th>bmi</th>\n",
       "      <th>id</th>\n",
       "      <th>d_age_2</th>\n",
       "      <th>d_age_3</th>\n",
       "      <th>d_age_4</th>\n",
       "      <th>d_age_5</th>\n",
       "      <th>d_avg_glucose_level_2</th>\n",
       "      <th>d_avg_glucose_level_3</th>\n",
       "      <th>d_avg_glucose_level_4</th>\n",
       "      <th>d_avg_glucose_level_5</th>\n",
       "    </tr>\n",
       "  </thead>\n",
       "  <tbody>\n",
       "    <tr>\n",
       "      <th>0</th>\n",
       "      <td>79.0</td>\n",
       "      <td>57.08</td>\n",
       "      <td>22.000000</td>\n",
       "      <td>64908</td>\n",
       "      <td>(42.0, 82.0]</td>\n",
       "      <td>(53.0, 82.0]</td>\n",
       "      <td>(58.0, 82.0]</td>\n",
       "      <td>(62.0, 82.0]</td>\n",
       "      <td>(55.119, 88.32]</td>\n",
       "      <td>(55.119, 79.81]</td>\n",
       "      <td>(55.119, 75.22]</td>\n",
       "      <td>(55.119, 72.216]</td>\n",
       "    </tr>\n",
       "    <tr>\n",
       "      <th>1</th>\n",
       "      <td>34.0</td>\n",
       "      <td>106.23</td>\n",
       "      <td>28.893237</td>\n",
       "      <td>31091</td>\n",
       "      <td>(0.079, 42.0]</td>\n",
       "      <td>(30.0, 53.0]</td>\n",
       "      <td>(23.0, 42.0]</td>\n",
       "      <td>(18.0, 34.4]</td>\n",
       "      <td>(88.32, 179.67]</td>\n",
       "      <td>(98.057, 179.67]</td>\n",
       "      <td>(104.55, 179.67]</td>\n",
       "      <td>(93.88, 109.56]</td>\n",
       "    </tr>\n",
       "    <tr>\n",
       "      <th>2</th>\n",
       "      <td>57.0</td>\n",
       "      <td>76.50</td>\n",
       "      <td>29.200000</td>\n",
       "      <td>49279</td>\n",
       "      <td>(42.0, 82.0]</td>\n",
       "      <td>(53.0, 82.0]</td>\n",
       "      <td>(42.0, 58.0]</td>\n",
       "      <td>(49.0, 62.0]</td>\n",
       "      <td>(55.119, 88.32]</td>\n",
       "      <td>(55.119, 79.81]</td>\n",
       "      <td>(75.22, 88.32]</td>\n",
       "      <td>(72.216, 83.078]</td>\n",
       "    </tr>\n",
       "    <tr>\n",
       "      <th>3</th>\n",
       "      <td>77.0</td>\n",
       "      <td>102.96</td>\n",
       "      <td>20.900000</td>\n",
       "      <td>67890</td>\n",
       "      <td>(42.0, 82.0]</td>\n",
       "      <td>(53.0, 82.0]</td>\n",
       "      <td>(58.0, 82.0]</td>\n",
       "      <td>(62.0, 82.0]</td>\n",
       "      <td>(88.32, 179.67]</td>\n",
       "      <td>(98.057, 179.67]</td>\n",
       "      <td>(88.32, 104.55]</td>\n",
       "      <td>(93.88, 109.56]</td>\n",
       "    </tr>\n",
       "    <tr>\n",
       "      <th>4</th>\n",
       "      <td>78.0</td>\n",
       "      <td>145.03</td>\n",
       "      <td>26.800000</td>\n",
       "      <td>52593</td>\n",
       "      <td>(42.0, 82.0]</td>\n",
       "      <td>(53.0, 82.0]</td>\n",
       "      <td>(58.0, 82.0]</td>\n",
       "      <td>(62.0, 82.0]</td>\n",
       "      <td>(88.32, 179.67]</td>\n",
       "      <td>(98.057, 179.67]</td>\n",
       "      <td>(104.55, 179.67]</td>\n",
       "      <td>(109.56, 179.67]</td>\n",
       "    </tr>\n",
       "  </tbody>\n",
       "</table>\n",
       "</div>"
      ],
      "text/plain": [
       "    age  avg_glucose_level        bmi     id        d_age_2       d_age_3  \\\n",
       "0  79.0              57.08  22.000000  64908   (42.0, 82.0]  (53.0, 82.0]   \n",
       "1  34.0             106.23  28.893237  31091  (0.079, 42.0]  (30.0, 53.0]   \n",
       "2  57.0              76.50  29.200000  49279   (42.0, 82.0]  (53.0, 82.0]   \n",
       "3  77.0             102.96  20.900000  67890   (42.0, 82.0]  (53.0, 82.0]   \n",
       "4  78.0             145.03  26.800000  52593   (42.0, 82.0]  (53.0, 82.0]   \n",
       "\n",
       "        d_age_4       d_age_5 d_avg_glucose_level_2 d_avg_glucose_level_3  \\\n",
       "0  (58.0, 82.0]  (62.0, 82.0]       (55.119, 88.32]       (55.119, 79.81]   \n",
       "1  (23.0, 42.0]  (18.0, 34.4]       (88.32, 179.67]      (98.057, 179.67]   \n",
       "2  (42.0, 58.0]  (49.0, 62.0]       (55.119, 88.32]       (55.119, 79.81]   \n",
       "3  (58.0, 82.0]  (62.0, 82.0]       (88.32, 179.67]      (98.057, 179.67]   \n",
       "4  (58.0, 82.0]  (62.0, 82.0]       (88.32, 179.67]      (98.057, 179.67]   \n",
       "\n",
       "  d_avg_glucose_level_4 d_avg_glucose_level_5  \n",
       "0       (55.119, 75.22]      (55.119, 72.216]  \n",
       "1      (104.55, 179.67]       (93.88, 109.56]  \n",
       "2        (75.22, 88.32]      (72.216, 83.078]  \n",
       "3       (88.32, 104.55]       (93.88, 109.56]  \n",
       "4      (104.55, 179.67]      (109.56, 179.67]  "
      ]
     },
     "execution_count": 60,
     "metadata": {},
     "output_type": "execute_result"
    }
   ],
   "source": [
    "print(X.shape)\n",
    "X.head()"
   ]
  },
  {
   "cell_type": "code",
   "execution_count": 61,
   "id": "7a1c946f",
   "metadata": {},
   "outputs": [],
   "source": [
    "vari = X.filter(like='d_').columns.tolist()"
   ]
  },
  {
   "cell_type": "markdown",
   "id": "49de996f",
   "metadata": {},
   "source": [
    "## Predictive Power"
   ]
  },
  {
   "cell_type": "markdown",
   "id": "ff49f0b1",
   "metadata": {},
   "source": [
    "### X and Y"
   ]
  },
  {
   "cell_type": "code",
   "execution_count": 62,
   "id": "a1c3e198",
   "metadata": {},
   "outputs": [],
   "source": [
    "X = X[um+vari].merge(  df[um+varn] , on = um , how='left' ).reset_index(drop=True)\n",
    "y = X[um].merge(df[um+tgt], on=um, how='left').reset_index(drop=True)"
   ]
  },
  {
   "cell_type": "code",
   "execution_count": 63,
   "id": "ca334b0c",
   "metadata": {},
   "outputs": [
    {
     "data": {
      "text/plain": [
       "((4437, 16), (4437, 2))"
      ]
     },
     "execution_count": 63,
     "metadata": {},
     "output_type": "execute_result"
    }
   ],
   "source": [
    "X.shape, y.shape"
   ]
  },
  {
   "cell_type": "markdown",
   "id": "c32c9afe",
   "metadata": {},
   "source": [
    "#### Train, test split"
   ]
  },
  {
   "cell_type": "code",
   "execution_count": 64,
   "id": "d0107c56",
   "metadata": {},
   "outputs": [],
   "source": [
    "Xt , Xv , yt , yv = train_test_split(X, y, train_size=0.7 )"
   ]
  },
  {
   "cell_type": "code",
   "execution_count": 65,
   "id": "7dc78d1c",
   "metadata": {},
   "outputs": [],
   "source": [
    "Xt = Xt.merge( yt, on=um, how='inner' ).reset_index(drop=True)"
   ]
  },
  {
   "cell_type": "code",
   "execution_count": 66,
   "id": "57dabf1d",
   "metadata": {},
   "outputs": [
    {
     "data": {
      "text/html": [
       "<div>\n",
       "<style scoped>\n",
       "    .dataframe tbody tr th:only-of-type {\n",
       "        vertical-align: middle;\n",
       "    }\n",
       "\n",
       "    .dataframe tbody tr th {\n",
       "        vertical-align: top;\n",
       "    }\n",
       "\n",
       "    .dataframe thead th {\n",
       "        text-align: right;\n",
       "    }\n",
       "</style>\n",
       "<table border=\"1\" class=\"dataframe\">\n",
       "  <thead>\n",
       "    <tr style=\"text-align: right;\">\n",
       "      <th></th>\n",
       "      <th>id</th>\n",
       "      <th>d_age_2</th>\n",
       "      <th>d_age_3</th>\n",
       "      <th>d_age_4</th>\n",
       "      <th>d_age_5</th>\n",
       "      <th>d_avg_glucose_level_2</th>\n",
       "      <th>d_avg_glucose_level_3</th>\n",
       "      <th>d_avg_glucose_level_4</th>\n",
       "      <th>d_avg_glucose_level_5</th>\n",
       "      <th>n_gender</th>\n",
       "      <th>n_hypertension</th>\n",
       "      <th>n_heart_disease</th>\n",
       "      <th>n_ever_married</th>\n",
       "      <th>n_work_type</th>\n",
       "      <th>n_Residence_type</th>\n",
       "      <th>n_smoking_status</th>\n",
       "      <th>stroke</th>\n",
       "    </tr>\n",
       "  </thead>\n",
       "  <tbody>\n",
       "    <tr>\n",
       "      <th>0</th>\n",
       "      <td>22194</td>\n",
       "      <td>(0.079, 42.0]</td>\n",
       "      <td>(30.0, 53.0]</td>\n",
       "      <td>(23.0, 42.0]</td>\n",
       "      <td>(34.4, 49.0]</td>\n",
       "      <td>(88.32, 179.67]</td>\n",
       "      <td>(79.81, 98.057]</td>\n",
       "      <td>(88.32, 104.55]</td>\n",
       "      <td>(93.88, 109.56]</td>\n",
       "      <td>Female</td>\n",
       "      <td>0</td>\n",
       "      <td>0</td>\n",
       "      <td>Yes</td>\n",
       "      <td>Private</td>\n",
       "      <td>Urban</td>\n",
       "      <td>Unknown</td>\n",
       "      <td>0</td>\n",
       "    </tr>\n",
       "    <tr>\n",
       "      <th>1</th>\n",
       "      <td>28848</td>\n",
       "      <td>(0.079, 42.0]</td>\n",
       "      <td>(0.079, 30.0]</td>\n",
       "      <td>(23.0, 42.0]</td>\n",
       "      <td>(18.0, 34.4]</td>\n",
       "      <td>(88.32, 179.67]</td>\n",
       "      <td>(79.81, 98.057]</td>\n",
       "      <td>(88.32, 104.55]</td>\n",
       "      <td>(93.88, 109.56]</td>\n",
       "      <td>Male</td>\n",
       "      <td>0</td>\n",
       "      <td>0</td>\n",
       "      <td>No</td>\n",
       "      <td>Private</td>\n",
       "      <td>Urban</td>\n",
       "      <td>Unknown</td>\n",
       "      <td>0</td>\n",
       "    </tr>\n",
       "    <tr>\n",
       "      <th>2</th>\n",
       "      <td>19681</td>\n",
       "      <td>(42.0, 82.0]</td>\n",
       "      <td>(53.0, 82.0]</td>\n",
       "      <td>(58.0, 82.0]</td>\n",
       "      <td>(62.0, 82.0]</td>\n",
       "      <td>(88.32, 179.67]</td>\n",
       "      <td>(98.057, 179.67]</td>\n",
       "      <td>(88.32, 104.55]</td>\n",
       "      <td>(93.88, 109.56]</td>\n",
       "      <td>Female</td>\n",
       "      <td>0</td>\n",
       "      <td>0</td>\n",
       "      <td>Yes</td>\n",
       "      <td>Self-employed</td>\n",
       "      <td>Urban</td>\n",
       "      <td>never smoked</td>\n",
       "      <td>0</td>\n",
       "    </tr>\n",
       "    <tr>\n",
       "      <th>3</th>\n",
       "      <td>27849</td>\n",
       "      <td>(0.079, 42.0]</td>\n",
       "      <td>(0.079, 30.0]</td>\n",
       "      <td>(0.079, 23.0]</td>\n",
       "      <td>(0.079, 18.0]</td>\n",
       "      <td>(88.32, 179.67]</td>\n",
       "      <td>(98.057, 179.67]</td>\n",
       "      <td>(104.55, 179.67]</td>\n",
       "      <td>(109.56, 179.67]</td>\n",
       "      <td>Female</td>\n",
       "      <td>0</td>\n",
       "      <td>0</td>\n",
       "      <td>No</td>\n",
       "      <td>children</td>\n",
       "      <td>Urban</td>\n",
       "      <td>Unknown</td>\n",
       "      <td>0</td>\n",
       "    </tr>\n",
       "    <tr>\n",
       "      <th>4</th>\n",
       "      <td>18306</td>\n",
       "      <td>(0.079, 42.0]</td>\n",
       "      <td>(0.079, 30.0]</td>\n",
       "      <td>(23.0, 42.0]</td>\n",
       "      <td>(18.0, 34.4]</td>\n",
       "      <td>(88.32, 179.67]</td>\n",
       "      <td>(79.81, 98.057]</td>\n",
       "      <td>(88.32, 104.55]</td>\n",
       "      <td>(83.078, 93.88]</td>\n",
       "      <td>Female</td>\n",
       "      <td>0</td>\n",
       "      <td>0</td>\n",
       "      <td>No</td>\n",
       "      <td>Private</td>\n",
       "      <td>Rural</td>\n",
       "      <td>formerly smoked</td>\n",
       "      <td>0</td>\n",
       "    </tr>\n",
       "  </tbody>\n",
       "</table>\n",
       "</div>"
      ],
      "text/plain": [
       "      id        d_age_2        d_age_3        d_age_4        d_age_5  \\\n",
       "0  22194  (0.079, 42.0]   (30.0, 53.0]   (23.0, 42.0]   (34.4, 49.0]   \n",
       "1  28848  (0.079, 42.0]  (0.079, 30.0]   (23.0, 42.0]   (18.0, 34.4]   \n",
       "2  19681   (42.0, 82.0]   (53.0, 82.0]   (58.0, 82.0]   (62.0, 82.0]   \n",
       "3  27849  (0.079, 42.0]  (0.079, 30.0]  (0.079, 23.0]  (0.079, 18.0]   \n",
       "4  18306  (0.079, 42.0]  (0.079, 30.0]   (23.0, 42.0]   (18.0, 34.4]   \n",
       "\n",
       "  d_avg_glucose_level_2 d_avg_glucose_level_3 d_avg_glucose_level_4  \\\n",
       "0       (88.32, 179.67]       (79.81, 98.057]       (88.32, 104.55]   \n",
       "1       (88.32, 179.67]       (79.81, 98.057]       (88.32, 104.55]   \n",
       "2       (88.32, 179.67]      (98.057, 179.67]       (88.32, 104.55]   \n",
       "3       (88.32, 179.67]      (98.057, 179.67]      (104.55, 179.67]   \n",
       "4       (88.32, 179.67]       (79.81, 98.057]       (88.32, 104.55]   \n",
       "\n",
       "  d_avg_glucose_level_5 n_gender n_hypertension n_heart_disease  \\\n",
       "0       (93.88, 109.56]   Female              0               0   \n",
       "1       (93.88, 109.56]     Male              0               0   \n",
       "2       (93.88, 109.56]   Female              0               0   \n",
       "3      (109.56, 179.67]   Female              0               0   \n",
       "4       (83.078, 93.88]   Female              0               0   \n",
       "\n",
       "  n_ever_married    n_work_type n_Residence_type n_smoking_status  stroke  \n",
       "0            Yes        Private            Urban          Unknown       0  \n",
       "1             No        Private            Urban          Unknown       0  \n",
       "2            Yes  Self-employed            Urban     never smoked       0  \n",
       "3             No       children            Urban          Unknown       0  \n",
       "4             No        Private            Rural  formerly smoked       0  "
      ]
     },
     "execution_count": 66,
     "metadata": {},
     "output_type": "execute_result"
    }
   ],
   "source": [
    "Xt.head()"
   ]
  },
  {
   "cell_type": "markdown",
   "id": "8be20c93",
   "metadata": {},
   "source": [
    "### Best discretized variables (IV Function)"
   ]
  },
  {
   "cell_type": "code",
   "execution_count": 67,
   "id": "116aa980",
   "metadata": {},
   "outputs": [],
   "source": [
    "def calculo_iv(df, v, tgt , um):\n",
    "    aux = df.pivot_table( index = v , \n",
    "                          columns = tgt , \n",
    "                          values = um , \n",
    "                         aggfunc = 'count', \n",
    "                         fill_value = 0 )\n",
    "    \n",
    "    aux[list(range(2))] = aux/aux.apply(np.sum)\n",
    "    aux['w'] = np.log( aux[0] / aux[1] )\n",
    "    aux['iv'] = ( aux[0] - aux[1] ) * aux['w']\n",
    "    \n",
    "    return v, aux['iv'].sum()"
   ]
  },
  {
   "cell_type": "code",
   "execution_count": 68,
   "id": "0738705c",
   "metadata": {},
   "outputs": [],
   "source": [
    "iv = pd.DataFrame( map( lambda v: calculo_iv(Xt,v,tgt,um[0]), vari  ), columns=['variable','iv']  )\n",
    "iv['raiz'] = iv['variable'].map(lambda x: '_'.join(x.split('_')[1:2] )  )\n",
    "iv = iv.sort_values(by=['raiz','iv'],ascending=[1,0]).reset_index(drop=True)"
   ]
  },
  {
   "cell_type": "code",
   "execution_count": 69,
   "id": "b295e2b8",
   "metadata": {},
   "outputs": [],
   "source": [
    "iv['id'] = iv.groupby('raiz').cumcount()+1\n",
    "iv = iv.loc[iv['id'] == 1]"
   ]
  },
  {
   "cell_type": "code",
   "execution_count": 70,
   "id": "a638dbf7",
   "metadata": {},
   "outputs": [
    {
     "data": {
      "text/plain": [
       "(2, ['d_age_5', 'd_avg_glucose_level_4'])"
      ]
     },
     "execution_count": 70,
     "metadata": {},
     "output_type": "execute_result"
    }
   ],
   "source": [
    "besti = iv['variable'].tolist()\n",
    "len(besti), besti"
   ]
  },
  {
   "cell_type": "markdown",
   "id": "9ea59d79",
   "metadata": {},
   "source": [
    "#### Train,test split"
   ]
  },
  {
   "cell_type": "code",
   "execution_count": 71,
   "id": "b5ff5ca7",
   "metadata": {},
   "outputs": [],
   "source": [
    "Xt, Xv,yt,yv = train_test_split(X,y,train_size=0.7)"
   ]
  },
  {
   "cell_type": "code",
   "execution_count": 72,
   "id": "008ff024",
   "metadata": {},
   "outputs": [],
   "source": [
    "Xt = Xt.merge(yt,on=um,how='inner')"
   ]
  },
  {
   "cell_type": "markdown",
   "id": "fee6990d",
   "metadata": {},
   "source": [
    "### Best normalized variables"
   ]
  },
  {
   "cell_type": "code",
   "execution_count": 73,
   "id": "21af4e5e",
   "metadata": {},
   "outputs": [],
   "source": [
    "ivd = pd.DataFrame(map(lambda v:calculo_iv(Xt,v,tgt,um[0]),varn),columns=['variable','iv'])"
   ]
  },
  {
   "cell_type": "code",
   "execution_count": 74,
   "id": "fc9fedf0",
   "metadata": {},
   "outputs": [
    {
     "data": {
      "text/html": [
       "<div>\n",
       "<style scoped>\n",
       "    .dataframe tbody tr th:only-of-type {\n",
       "        vertical-align: middle;\n",
       "    }\n",
       "\n",
       "    .dataframe tbody tr th {\n",
       "        vertical-align: top;\n",
       "    }\n",
       "\n",
       "    .dataframe thead th {\n",
       "        text-align: right;\n",
       "    }\n",
       "</style>\n",
       "<table border=\"1\" class=\"dataframe\">\n",
       "  <thead>\n",
       "    <tr style=\"text-align: right;\">\n",
       "      <th></th>\n",
       "      <th>variable</th>\n",
       "      <th>iv</th>\n",
       "    </tr>\n",
       "  </thead>\n",
       "  <tbody>\n",
       "    <tr>\n",
       "      <th>0</th>\n",
       "      <td>n_gender</td>\n",
       "      <td>0.000339</td>\n",
       "    </tr>\n",
       "    <tr>\n",
       "      <th>1</th>\n",
       "      <td>n_hypertension</td>\n",
       "      <td>0.244329</td>\n",
       "    </tr>\n",
       "    <tr>\n",
       "      <th>2</th>\n",
       "      <td>n_heart_disease</td>\n",
       "      <td>0.125447</td>\n",
       "    </tr>\n",
       "    <tr>\n",
       "      <th>3</th>\n",
       "      <td>n_ever_married</td>\n",
       "      <td>0.297425</td>\n",
       "    </tr>\n",
       "    <tr>\n",
       "      <th>4</th>\n",
       "      <td>n_work_type</td>\n",
       "      <td>0.567205</td>\n",
       "    </tr>\n",
       "    <tr>\n",
       "      <th>5</th>\n",
       "      <td>n_Residence_type</td>\n",
       "      <td>0.001257</td>\n",
       "    </tr>\n",
       "    <tr>\n",
       "      <th>6</th>\n",
       "      <td>n_smoking_status</td>\n",
       "      <td>0.150259</td>\n",
       "    </tr>\n",
       "  </tbody>\n",
       "</table>\n",
       "</div>"
      ],
      "text/plain": [
       "           variable        iv\n",
       "0          n_gender  0.000339\n",
       "1    n_hypertension  0.244329\n",
       "2   n_heart_disease  0.125447\n",
       "3    n_ever_married  0.297425\n",
       "4       n_work_type  0.567205\n",
       "5  n_Residence_type  0.001257\n",
       "6  n_smoking_status  0.150259"
      ]
     },
     "execution_count": 74,
     "metadata": {},
     "output_type": "execute_result"
    }
   ],
   "source": [
    "ivd"
   ]
  },
  {
   "cell_type": "code",
   "execution_count": 75,
   "id": "0c6f3d77",
   "metadata": {},
   "outputs": [],
   "source": [
    "iv = pd.concat([iv,ivd],ignore_index=True)\n",
    "\n",
    "iv = iv.loc[~np.isinf(iv['iv'])].reset_index(drop=True)"
   ]
  },
  {
   "cell_type": "code",
   "execution_count": 76,
   "id": "48cc6c0d",
   "metadata": {},
   "outputs": [],
   "source": [
    "iv.drop(['raiz','id'],axis=1,inplace=True)"
   ]
  },
  {
   "cell_type": "code",
   "execution_count": 77,
   "id": "40e06d58",
   "metadata": {},
   "outputs": [
    {
     "data": {
      "text/html": [
       "<div>\n",
       "<style scoped>\n",
       "    .dataframe tbody tr th:only-of-type {\n",
       "        vertical-align: middle;\n",
       "    }\n",
       "\n",
       "    .dataframe tbody tr th {\n",
       "        vertical-align: top;\n",
       "    }\n",
       "\n",
       "    .dataframe thead th {\n",
       "        text-align: right;\n",
       "    }\n",
       "</style>\n",
       "<table border=\"1\" class=\"dataframe\">\n",
       "  <thead>\n",
       "    <tr style=\"text-align: right;\">\n",
       "      <th></th>\n",
       "      <th>variable</th>\n",
       "      <th>iv</th>\n",
       "    </tr>\n",
       "  </thead>\n",
       "  <tbody>\n",
       "    <tr>\n",
       "      <th>0</th>\n",
       "      <td>d_age_5</td>\n",
       "      <td>1.840736</td>\n",
       "    </tr>\n",
       "    <tr>\n",
       "      <th>6</th>\n",
       "      <td>n_work_type</td>\n",
       "      <td>0.567205</td>\n",
       "    </tr>\n",
       "    <tr>\n",
       "      <th>5</th>\n",
       "      <td>n_ever_married</td>\n",
       "      <td>0.297425</td>\n",
       "    </tr>\n",
       "    <tr>\n",
       "      <th>3</th>\n",
       "      <td>n_hypertension</td>\n",
       "      <td>0.244329</td>\n",
       "    </tr>\n",
       "    <tr>\n",
       "      <th>8</th>\n",
       "      <td>n_smoking_status</td>\n",
       "      <td>0.150259</td>\n",
       "    </tr>\n",
       "    <tr>\n",
       "      <th>4</th>\n",
       "      <td>n_heart_disease</td>\n",
       "      <td>0.125447</td>\n",
       "    </tr>\n",
       "    <tr>\n",
       "      <th>1</th>\n",
       "      <td>d_avg_glucose_level_4</td>\n",
       "      <td>0.059896</td>\n",
       "    </tr>\n",
       "    <tr>\n",
       "      <th>7</th>\n",
       "      <td>n_Residence_type</td>\n",
       "      <td>0.001257</td>\n",
       "    </tr>\n",
       "    <tr>\n",
       "      <th>2</th>\n",
       "      <td>n_gender</td>\n",
       "      <td>0.000339</td>\n",
       "    </tr>\n",
       "  </tbody>\n",
       "</table>\n",
       "</div>"
      ],
      "text/plain": [
       "                variable        iv\n",
       "0                d_age_5  1.840736\n",
       "6            n_work_type  0.567205\n",
       "5         n_ever_married  0.297425\n",
       "3         n_hypertension  0.244329\n",
       "8       n_smoking_status  0.150259\n",
       "4        n_heart_disease  0.125447\n",
       "1  d_avg_glucose_level_4  0.059896\n",
       "7       n_Residence_type  0.001257\n",
       "2               n_gender  0.000339"
      ]
     },
     "execution_count": 77,
     "metadata": {},
     "output_type": "execute_result"
    }
   ],
   "source": [
    "iv.sort_values(by='iv',ascending=False)"
   ]
  },
  {
   "cell_type": "code",
   "execution_count": 78,
   "id": "acd4eb7a",
   "metadata": {},
   "outputs": [],
   "source": [
    "best = iv.loc[ (iv['iv'] > 0.1 ) &  ( iv['iv'] < 0.8) ]['variable'].tolist()"
   ]
  },
  {
   "cell_type": "code",
   "execution_count": 79,
   "id": "cb3ea1e0",
   "metadata": {},
   "outputs": [
    {
     "data": {
      "text/plain": [
       "['n_hypertension',\n",
       " 'n_heart_disease',\n",
       " 'n_ever_married',\n",
       " 'n_work_type',\n",
       " 'n_smoking_status']"
      ]
     },
     "execution_count": 79,
     "metadata": {},
     "output_type": "execute_result"
    }
   ],
   "source": [
    "best"
   ]
  },
  {
   "cell_type": "markdown",
   "id": "7efa5b97",
   "metadata": {},
   "source": [
    "## WoE Transformation"
   ]
  },
  {
   "cell_type": "code",
   "execution_count": 80,
   "id": "cf7f38ff",
   "metadata": {},
   "outputs": [
    {
     "data": {
      "text/plain": [
       "((4437, 6), (4437, 2))"
      ]
     },
     "execution_count": 80,
     "metadata": {},
     "output_type": "execute_result"
    }
   ],
   "source": [
    "X = X[um + best].reset_index(drop=True)\n",
    "X.shape , y.shape"
   ]
  },
  {
   "cell_type": "code",
   "execution_count": 81,
   "id": "1d40baf3",
   "metadata": {},
   "outputs": [],
   "source": [
    "Xt, Xv,yt,yv = train_test_split(X,y,train_size=0.7)"
   ]
  },
  {
   "cell_type": "code",
   "execution_count": 82,
   "id": "a61830ec",
   "metadata": {},
   "outputs": [],
   "source": [
    "Xt = Xt.merge(yt,on=um,how='inner')"
   ]
  },
  {
   "cell_type": "markdown",
   "id": "2962dc19",
   "metadata": {},
   "source": [
    "### WoE map"
   ]
  },
  {
   "cell_type": "code",
   "execution_count": 83,
   "id": "5c49ca15",
   "metadata": {},
   "outputs": [],
   "source": [
    "def codificacion_woe(df,v,tgt,um):\n",
    "    \n",
    "    aux = df.pivot_table(index=v,\n",
    "                         columns=tgt,\n",
    "                         values=um,\n",
    "                         aggfunc='count',\n",
    "                         fill_value=0)\n",
    "    \n",
    "    aux[list(range(2))] = aux/aux.apply(np.sum)\n",
    "    \n",
    "    aux['w'] = np.log(aux[0]/aux[1])\n",
    "    \n",
    "    aux.drop(range(2),axis=1,inplace=True)\n",
    "    \n",
    "    aux = aux.to_dict()['w']\n",
    "    \n",
    "    return v,aux"
   ]
  },
  {
   "cell_type": "code",
   "execution_count": 84,
   "id": "55649c53",
   "metadata": {},
   "outputs": [],
   "source": [
    "woe_map = list(map( lambda v: codificacion_woe(  Xt , v, tgt, um[0] ), best  ))"
   ]
  },
  {
   "cell_type": "code",
   "execution_count": 85,
   "id": "c4a57511",
   "metadata": {},
   "outputs": [],
   "source": [
    "for v, mapa in woe_map:\n",
    "    Xt[f'w_{v}'] = Xt[v].replace(mapa)\n",
    "    Xv[f'w_{v}'] = Xv[v].replace(mapa)"
   ]
  },
  {
   "cell_type": "code",
   "execution_count": 86,
   "id": "d993c274",
   "metadata": {},
   "outputs": [],
   "source": [
    "varw = Xt.filter(like='w_').columns.tolist()"
   ]
  },
  {
   "cell_type": "markdown",
   "id": "92834d9c",
   "metadata": {},
   "source": [
    "## TAD"
   ]
  },
  {
   "cell_type": "code",
   "execution_count": 87,
   "id": "13107a1e",
   "metadata": {},
   "outputs": [],
   "source": [
    "tad = Xt[um + varw].merge(yt, on = um, how='inner').reset_index(drop=True)"
   ]
  },
  {
   "cell_type": "code",
   "execution_count": 88,
   "id": "f33cf05b",
   "metadata": {
    "scrolled": true
   },
   "outputs": [
    {
     "data": {
      "text/html": [
       "<div>\n",
       "<style scoped>\n",
       "    .dataframe tbody tr th:only-of-type {\n",
       "        vertical-align: middle;\n",
       "    }\n",
       "\n",
       "    .dataframe tbody tr th {\n",
       "        vertical-align: top;\n",
       "    }\n",
       "\n",
       "    .dataframe thead th {\n",
       "        text-align: right;\n",
       "    }\n",
       "</style>\n",
       "<table border=\"1\" class=\"dataframe\">\n",
       "  <thead>\n",
       "    <tr style=\"text-align: right;\">\n",
       "      <th></th>\n",
       "      <th>id</th>\n",
       "      <th>w_n_hypertension</th>\n",
       "      <th>w_n_heart_disease</th>\n",
       "      <th>w_n_ever_married</th>\n",
       "      <th>w_n_work_type</th>\n",
       "      <th>w_n_smoking_status</th>\n",
       "      <th>stroke</th>\n",
       "    </tr>\n",
       "  </thead>\n",
       "  <tbody>\n",
       "    <tr>\n",
       "      <th>0</th>\n",
       "      <td>5681</td>\n",
       "      <td>0.174680</td>\n",
       "      <td>0.120780</td>\n",
       "      <td>-0.348350</td>\n",
       "      <td>-0.049808</td>\n",
       "      <td>-0.182382</td>\n",
       "      <td>0</td>\n",
       "    </tr>\n",
       "    <tr>\n",
       "      <th>1</th>\n",
       "      <td>10135</td>\n",
       "      <td>0.174680</td>\n",
       "      <td>0.120780</td>\n",
       "      <td>1.111669</td>\n",
       "      <td>-0.049808</td>\n",
       "      <td>0.570878</td>\n",
       "      <td>0</td>\n",
       "    </tr>\n",
       "    <tr>\n",
       "      <th>2</th>\n",
       "      <td>5455</td>\n",
       "      <td>0.174680</td>\n",
       "      <td>0.120780</td>\n",
       "      <td>-0.348350</td>\n",
       "      <td>-0.049808</td>\n",
       "      <td>0.570878</td>\n",
       "      <td>0</td>\n",
       "    </tr>\n",
       "    <tr>\n",
       "      <th>3</th>\n",
       "      <td>52593</td>\n",
       "      <td>0.174680</td>\n",
       "      <td>-1.470812</td>\n",
       "      <td>-0.348350</td>\n",
       "      <td>-0.049808</td>\n",
       "      <td>-0.598777</td>\n",
       "      <td>0</td>\n",
       "    </tr>\n",
       "    <tr>\n",
       "      <th>4</th>\n",
       "      <td>12662</td>\n",
       "      <td>-1.147944</td>\n",
       "      <td>0.120780</td>\n",
       "      <td>-0.348350</td>\n",
       "      <td>-0.628630</td>\n",
       "      <td>-0.598777</td>\n",
       "      <td>0</td>\n",
       "    </tr>\n",
       "  </tbody>\n",
       "</table>\n",
       "</div>"
      ],
      "text/plain": [
       "      id  w_n_hypertension  w_n_heart_disease  w_n_ever_married  \\\n",
       "0   5681          0.174680           0.120780         -0.348350   \n",
       "1  10135          0.174680           0.120780          1.111669   \n",
       "2   5455          0.174680           0.120780         -0.348350   \n",
       "3  52593          0.174680          -1.470812         -0.348350   \n",
       "4  12662         -1.147944           0.120780         -0.348350   \n",
       "\n",
       "   w_n_work_type  w_n_smoking_status  stroke  \n",
       "0      -0.049808           -0.182382       0  \n",
       "1      -0.049808            0.570878       0  \n",
       "2      -0.049808            0.570878       0  \n",
       "3      -0.049808           -0.598777       0  \n",
       "4      -0.628630           -0.598777       0  "
      ]
     },
     "execution_count": 88,
     "metadata": {},
     "output_type": "execute_result"
    }
   ],
   "source": [
    "temp = tad.copy()\n",
    "temp.head()"
   ]
  },
  {
   "cell_type": "code",
   "execution_count": 89,
   "id": "30518286",
   "metadata": {},
   "outputs": [],
   "source": [
    "#Instructions say we need to change column names\n",
    "temp.rename(columns={\n",
    "    \"w_n_hypertension\": \"x_hypertension\",\n",
    "    \"w_n_heart_disease\": \"x_heart_disease\",\n",
    "    \"w_n_ever_married\": \"x_ever_married\",\n",
    "    \"w_n_smoking_status\": \"x_smoking_status\",\n",
    "    \"stroke\": \"y\"}, inplace=True)"
   ]
  },
  {
   "cell_type": "code",
   "execution_count": 90,
   "id": "7ebb9f98",
   "metadata": {},
   "outputs": [],
   "source": [
    "temp.to_pickle(\"RINCON_MORALES_DAVID_healthcare.pkl\")"
   ]
  }
 ],
 "metadata": {
  "kernelspec": {
   "display_name": "diplo",
   "language": "python",
   "name": "diplo"
  },
  "language_info": {
   "codemirror_mode": {
    "name": "ipython",
    "version": 3
   },
   "file_extension": ".py",
   "mimetype": "text/x-python",
   "name": "python",
   "nbconvert_exporter": "python",
   "pygments_lexer": "ipython3",
   "version": "3.10.4"
  },
  "toc": {
   "base_numbering": 1,
   "nav_menu": {},
   "number_sections": true,
   "sideBar": true,
   "skip_h1_title": false,
   "title_cell": "Table of Contents",
   "title_sidebar": "Contents",
   "toc_cell": false,
   "toc_position": {
    "height": "calc(100% - 180px)",
    "left": "10px",
    "top": "150px",
    "width": "192px"
   },
   "toc_section_display": true,
   "toc_window_display": true
  }
 },
 "nbformat": 4,
 "nbformat_minor": 5
}
