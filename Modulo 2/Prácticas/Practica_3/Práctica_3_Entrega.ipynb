{
 "cells": [
  {
   "cell_type": "markdown",
   "id": "3de9104c",
   "metadata": {
    "id": "3de9104c"
   },
   "source": [
    "# Librerías"
   ]
  },
  {
   "cell_type": "code",
   "execution_count": 1,
   "id": "e60d9c42",
   "metadata": {
    "ExecuteTime": {
     "end_time": "2022-09-12T22:40:14.849859Z",
     "start_time": "2022-09-12T22:40:13.892965Z"
    },
    "id": "e60d9c42"
   },
   "outputs": [],
   "source": [
    "import pandas as pd\n",
    "import numpy as np\n",
    "import cufflinks as cf\n",
    "\n",
    "\n",
    "import missingno as msno\n",
    "import re, unicodedata\n",
    "import nltk\n",
    "from sklearn.pipeline import Pipeline\n",
    "from sklearn.base import TransformerMixin\n",
    "from nltk.corpus import stopwords\n",
    "from sklearn.feature_extraction.text import CountVectorizer, TfidfVectorizer\n",
    "from sklearn.feature_selection import SelectKBest, f_classif\n",
    "from sklearn.naive_bayes import MultinomialNB\n",
    "\n",
    "\n",
    "from sklearn.metrics import roc_auc_score,accuracy_score,confusion_matrix\n",
    "from sklearn.model_selection import cross_val_score, train_test_split\n",
    "from sklearn.metrics import plot_roc_curve\n",
    "\n",
    "pd.options.display.max_colwidth = 150"
   ]
  },
  {
   "cell_type": "markdown",
   "id": "fe4079b9",
   "metadata": {},
   "source": [
    "# Funciones"
   ]
  },
  {
   "cell_type": "code",
   "execution_count": 2,
   "id": "5d1799b2",
   "metadata": {
    "ExecuteTime": {
     "end_time": "2022-09-12T22:40:14.852929Z",
     "start_time": "2022-09-12T22:40:14.851051Z"
    }
   },
   "outputs": [],
   "source": [
    "def clean_words(text):\n",
    "    res = unicodedata.normalize('NFD', text).encode('ascii', 'ignore')\n",
    "    res = re.sub(\"[^a-zA-Z0-9 ]\",\" \", res.decode(\"utf-8\"), flags=re.UNICODE)\n",
    "    res = u' '.join(res.lower().split())\n",
    "    return res"
   ]
  },
  {
   "cell_type": "code",
   "execution_count": 3,
   "id": "85f2c243",
   "metadata": {
    "ExecuteTime": {
     "end_time": "2022-09-12T22:40:14.856899Z",
     "start_time": "2022-09-12T22:40:14.855136Z"
    }
   },
   "outputs": [],
   "source": [
    "def metricas(model,Xv,yv): #Mide efectividad de un Modelo Predictivo\n",
    "    print( \" Roc Validate: %.3f\" %roc_auc_score(y_score=model.predict_proba(Xv)[:,1],y_true=yv))\n",
    "    print( \" Acc Validate: %.3f\" %accuracy_score(y_pred=model.predict(Xv),y_true=yv))\n",
    "    print( \" Matrix Conf Validate: \", \"\\n\",confusion_matrix(y_pred=model.predict(Xv),y_true=yv))"
   ]
  },
  {
   "cell_type": "markdown",
   "id": "ed780042",
   "metadata": {},
   "source": [
    "# Datos"
   ]
  },
  {
   "cell_type": "code",
   "execution_count": 4,
   "id": "b3c58b5f",
   "metadata": {
    "ExecuteTime": {
     "end_time": "2022-09-12T22:40:15.686110Z",
     "start_time": "2022-09-12T22:40:14.857590Z"
    },
    "id": "b27519bb",
    "outputId": "e8027cfc-c865-4cb0-d6bf-c99339fd786d"
   },
   "outputs": [
    {
     "name": "stdout",
     "output_type": "stream",
     "text": [
      "(35918, 5)\n",
      "(8980, 3)\n"
     ]
    }
   ],
   "source": [
    "train = pd.read_csv(\"fake_news_train.csv\")\n",
    "test = pd.read_csv(\"fake_news_test.csv\")\n",
    "print(train.shape)\n",
    "print(test.shape)"
   ]
  },
  {
   "cell_type": "code",
   "execution_count": 5,
   "id": "b9aaa3b1",
   "metadata": {
    "ExecuteTime": {
     "end_time": "2022-09-12T22:40:15.694325Z",
     "start_time": "2022-09-12T22:40:15.687009Z"
    },
    "id": "b9aaa3b1",
    "outputId": "0d9a85f9-acae-48ad-923d-726a254db61f"
   },
   "outputs": [
    {
     "data": {
      "text/html": [
       "<div>\n",
       "<style scoped>\n",
       "    .dataframe tbody tr th:only-of-type {\n",
       "        vertical-align: middle;\n",
       "    }\n",
       "\n",
       "    .dataframe tbody tr th {\n",
       "        vertical-align: top;\n",
       "    }\n",
       "\n",
       "    .dataframe thead th {\n",
       "        text-align: right;\n",
       "    }\n",
       "</style>\n",
       "<table border=\"1\" class=\"dataframe\">\n",
       "  <thead>\n",
       "    <tr style=\"text-align: right;\">\n",
       "      <th></th>\n",
       "      <th>title</th>\n",
       "      <th>text</th>\n",
       "      <th>subject</th>\n",
       "      <th>date</th>\n",
       "      <th>fake_not</th>\n",
       "    </tr>\n",
       "  </thead>\n",
       "  <tbody>\n",
       "    <tr>\n",
       "      <th>0</th>\n",
       "      <td>Barca's Valverde skirts independence debate as Iniesta ruled out for Bilbao</td>\n",
       "      <td>MADRID, (Reuters) - Barcelona boss Ernesto Valverde declined to be drawn on Friday on whether a declaration of independence by Catalonia s parliam...</td>\n",
       "      <td>worldnews</td>\n",
       "      <td>October 27, 2017</td>\n",
       "      <td>0</td>\n",
       "    </tr>\n",
       "    <tr>\n",
       "      <th>1</th>\n",
       "      <td>Trump says Brexit wouldn't impact potential UK-U.S. trade deal if he is president: ITV</td>\n",
       "      <td>LONDON (Reuters) - Presumptive U.S. Republican presidential nominee Donald Trump said Britain leaving the European Union would make no difference ...</td>\n",
       "      <td>politicsNews</td>\n",
       "      <td>May 15, 2016</td>\n",
       "      <td>0</td>\n",
       "    </tr>\n",
       "    <tr>\n",
       "      <th>2</th>\n",
       "      <td>Mark Zuckerberg’s PERFECT Facebook Comment To Grandmother Proves He’s A Badass Feminist</td>\n",
       "      <td>There are seldom people in life that you can honestly say are solidly good people, but Mark Zuckerberg is one of those few that could fall into th...</td>\n",
       "      <td>News</td>\n",
       "      <td>January 4, 2016</td>\n",
       "      <td>1</td>\n",
       "    </tr>\n",
       "    <tr>\n",
       "      <th>3</th>\n",
       "      <td>Suspected U.S. drone targets Haqqani militants in Pakistan, killing four</td>\n",
       "      <td>DERA ISMAIL KHAN, Pakistan (Reuters) - A suspected U.S. drone strike on Thursday targeted a hideout of the Haqqani militant network along Pakistan...</td>\n",
       "      <td>worldnews</td>\n",
       "      <td>November 30, 2017</td>\n",
       "      <td>0</td>\n",
       "    </tr>\n",
       "    <tr>\n",
       "      <th>4</th>\n",
       "      <td>U.S. special envoy encouraged that Kurds could embrace plan to delay referendum</td>\n",
       "      <td>ERBIL (Reuters) - Brett McGurk, the U.S. special envoy to the coalition against Islamic State, on Thursday said he was encouraged that the Iraqi K...</td>\n",
       "      <td>worldnews</td>\n",
       "      <td>September 14, 2017</td>\n",
       "      <td>0</td>\n",
       "    </tr>\n",
       "  </tbody>\n",
       "</table>\n",
       "</div>"
      ],
      "text/plain": [
       "                                                                                      title  \\\n",
       "0               Barca's Valverde skirts independence debate as Iniesta ruled out for Bilbao   \n",
       "1    Trump says Brexit wouldn't impact potential UK-U.S. trade deal if he is president: ITV   \n",
       "2   Mark Zuckerberg’s PERFECT Facebook Comment To Grandmother Proves He’s A Badass Feminist   \n",
       "3                  Suspected U.S. drone targets Haqqani militants in Pakistan, killing four   \n",
       "4           U.S. special envoy encouraged that Kurds could embrace plan to delay referendum   \n",
       "\n",
       "                                                                                                                                                    text  \\\n",
       "0  MADRID, (Reuters) - Barcelona boss Ernesto Valverde declined to be drawn on Friday on whether a declaration of independence by Catalonia s parliam...   \n",
       "1  LONDON (Reuters) - Presumptive U.S. Republican presidential nominee Donald Trump said Britain leaving the European Union would make no difference ...   \n",
       "2  There are seldom people in life that you can honestly say are solidly good people, but Mark Zuckerberg is one of those few that could fall into th...   \n",
       "3  DERA ISMAIL KHAN, Pakistan (Reuters) - A suspected U.S. drone strike on Thursday targeted a hideout of the Haqqani militant network along Pakistan...   \n",
       "4  ERBIL (Reuters) - Brett McGurk, the U.S. special envoy to the coalition against Islamic State, on Thursday said he was encouraged that the Iraqi K...   \n",
       "\n",
       "        subject                 date  fake_not  \n",
       "0     worldnews    October 27, 2017          0  \n",
       "1  politicsNews        May 15, 2016          0  \n",
       "2          News      January 4, 2016         1  \n",
       "3     worldnews   November 30, 2017          0  \n",
       "4     worldnews  September 14, 2017          0  "
      ]
     },
     "execution_count": 5,
     "metadata": {},
     "output_type": "execute_result"
    }
   ],
   "source": [
    "train.head()"
   ]
  },
  {
   "cell_type": "code",
   "execution_count": 6,
   "id": "95ca9e3f",
   "metadata": {
    "ExecuteTime": {
     "end_time": "2022-09-12T22:40:15.698003Z",
     "start_time": "2022-09-12T22:40:15.695107Z"
    },
    "id": "95ca9e3f",
    "outputId": "7265ffad-4dea-4d80-d45e-a679046a0adb"
   },
   "outputs": [
    {
     "data": {
      "text/plain": [
       "1    18778\n",
       "0    17140\n",
       "Name: fake_not, dtype: int64"
      ]
     },
     "execution_count": 6,
     "metadata": {},
     "output_type": "execute_result"
    }
   ],
   "source": [
    "train[\"fake_not\"].value_counts()"
   ]
  },
  {
   "cell_type": "code",
   "execution_count": 58,
   "id": "5d501039",
   "metadata": {
    "ExecuteTime": {
     "end_time": "2022-09-12T22:59:20.786864Z",
     "start_time": "2022-09-12T22:59:20.719135Z"
    }
   },
   "outputs": [
    {
     "data": {
      "text/plain": [
       "<AxesSubplot:>"
      ]
     },
     "execution_count": 58,
     "metadata": {},
     "output_type": "execute_result"
    },
    {
     "data": {
      "image/png": "[encoded data removed]",
      "text/plain": [
       "<Figure size 640x480 with 1 Axes>"
      ]
     },
     "metadata": {},
     "output_type": "display_data"
    }
   ],
   "source": [
    "train[\"fake_not\"].value_counts(True).plot(kind=\"bar\")"
   ]
  },
  {
   "cell_type": "code",
   "execution_count": 7,
   "id": "17be3c92",
   "metadata": {
    "ExecuteTime": {
     "end_time": "2022-09-12T22:40:15.703049Z",
     "start_time": "2022-09-12T22:40:15.699204Z"
    },
    "id": "17be3c92",
    "outputId": "4bf9efd6-76ca-477e-a9ea-a9d7cca0d123"
   },
   "outputs": [
    {
     "data": {
      "text/html": [
       "<div>\n",
       "<style scoped>\n",
       "    .dataframe tbody tr th:only-of-type {\n",
       "        vertical-align: middle;\n",
       "    }\n",
       "\n",
       "    .dataframe tbody tr th {\n",
       "        vertical-align: top;\n",
       "    }\n",
       "\n",
       "    .dataframe thead th {\n",
       "        text-align: right;\n",
       "    }\n",
       "</style>\n",
       "<table border=\"1\" class=\"dataframe\">\n",
       "  <thead>\n",
       "    <tr style=\"text-align: right;\">\n",
       "      <th></th>\n",
       "      <th>title</th>\n",
       "      <th>text</th>\n",
       "      <th>subject</th>\n",
       "    </tr>\n",
       "  </thead>\n",
       "  <tbody>\n",
       "    <tr>\n",
       "      <th>0</th>\n",
       "      <td>Vietnam police arrest ex-politburo member over misconduct</td>\n",
       "      <td>HANOI (Reuters) - Vietnamese police on Friday arrested a former top Communist Party official suspected of misconduct while he was chairman of the ...</td>\n",
       "      <td>worldnews</td>\n",
       "    </tr>\n",
       "    <tr>\n",
       "      <th>1</th>\n",
       "      <td>IS FOX ABOUT TO BECOME CNN? Leftist Wives Of Liberal Murdoch Sons Blamed For Firing Of Bill O’Reilly…TRASH Trump On Social Media</td>\n",
       "      <td>It is difficult to exaggerate the significance of Fox News sacking of Bill O Reilly.Not only was he the single most dominant public figure in Amer...</td>\n",
       "      <td>left-news</td>\n",
       "    </tr>\n",
       "    <tr>\n",
       "      <th>2</th>\n",
       "      <td>North Carolina Tea Partiers Just ADMITTED They Are The True Terrorists; Trump Administration Does Nothing</td>\n",
       "      <td>Since Donald Trump began his run for the president, there has been one clear message: if you aren t white (preferably male) and Christian, you are...</td>\n",
       "      <td>News</td>\n",
       "    </tr>\n",
       "    <tr>\n",
       "      <th>3</th>\n",
       "      <td>Apparently The Speaker Of The House Is Now Taking Advice From Kanye West (TWEET)</td>\n",
       "      <td>Just when you thought Republicans couldn t get any worse, they go and endorse something Kanye West says. And not just any Republican, mind you, Sp...</td>\n",
       "      <td>News</td>\n",
       "    </tr>\n",
       "    <tr>\n",
       "      <th>4</th>\n",
       "      <td>HUH? NYT EDITOR Blames “Republican Rage Machine” for Current Political Climate [Video]</td>\n",
       "      <td>Talk about projecting! On Fareed Zakaria s CNN show, former New York Times editor Jill Abramson decries  false equivalency  between Democrats and ...</td>\n",
       "      <td>politics</td>\n",
       "    </tr>\n",
       "  </tbody>\n",
       "</table>\n",
       "</div>"
      ],
      "text/plain": [
       "                                                                                                                              title  \\\n",
       "0                                                                         Vietnam police arrest ex-politburo member over misconduct   \n",
       "1  IS FOX ABOUT TO BECOME CNN? Leftist Wives Of Liberal Murdoch Sons Blamed For Firing Of Bill O’Reilly…TRASH Trump On Social Media   \n",
       "2                         North Carolina Tea Partiers Just ADMITTED They Are The True Terrorists; Trump Administration Does Nothing   \n",
       "3                                                  Apparently The Speaker Of The House Is Now Taking Advice From Kanye West (TWEET)   \n",
       "4                                            HUH? NYT EDITOR Blames “Republican Rage Machine” for Current Political Climate [Video]   \n",
       "\n",
       "                                                                                                                                                    text  \\\n",
       "0  HANOI (Reuters) - Vietnamese police on Friday arrested a former top Communist Party official suspected of misconduct while he was chairman of the ...   \n",
       "1  It is difficult to exaggerate the significance of Fox News sacking of Bill O Reilly.Not only was he the single most dominant public figure in Amer...   \n",
       "2  Since Donald Trump began his run for the president, there has been one clear message: if you aren t white (preferably male) and Christian, you are...   \n",
       "3  Just when you thought Republicans couldn t get any worse, they go and endorse something Kanye West says. And not just any Republican, mind you, Sp...   \n",
       "4  Talk about projecting! On Fareed Zakaria s CNN show, former New York Times editor Jill Abramson decries  false equivalency  between Democrats and ...   \n",
       "\n",
       "     subject  \n",
       "0  worldnews  \n",
       "1  left-news  \n",
       "2       News  \n",
       "3       News  \n",
       "4   politics  "
      ]
     },
     "execution_count": 7,
     "metadata": {},
     "output_type": "execute_result"
    }
   ],
   "source": [
    "test.head()"
   ]
  },
  {
   "cell_type": "code",
   "execution_count": 8,
   "id": "980542b2",
   "metadata": {
    "ExecuteTime": {
     "end_time": "2022-09-12T22:40:15.936960Z",
     "start_time": "2022-09-12T22:40:15.703883Z"
    },
    "id": "980542b2",
    "outputId": "fe263704-ffef-4cda-f0c3-082e341f406b",
    "scrolled": false
   },
   "outputs": [
    {
     "data": {
      "text/plain": [
       "<AxesSubplot:>"
      ]
     },
     "execution_count": 8,
     "metadata": {},
     "output_type": "execute_result"
    },
    {
     "data": {
      "image/png": "[encoded data removed]",
      "text/plain": [
       "<Figure size 2500x1000 with 2 Axes>"
      ]
     },
     "metadata": {},
     "output_type": "display_data"
    }
   ],
   "source": [
    "msno.matrix(train)"
   ]
  },
  {
   "cell_type": "code",
   "execution_count": 9,
   "id": "2aa917b8",
   "metadata": {
    "ExecuteTime": {
     "end_time": "2022-09-12T22:40:16.113857Z",
     "start_time": "2022-09-12T22:40:15.939483Z"
    },
    "id": "2aa917b8",
    "outputId": "fc989809-0237-4a23-f6f5-729c7b40d36c",
    "scrolled": true
   },
   "outputs": [
    {
     "data": {
      "text/plain": [
       "<AxesSubplot:>"
      ]
     },
     "execution_count": 9,
     "metadata": {},
     "output_type": "execute_result"
    },
    {
     "data": {
      "image/png": "[encoded data removed]",
      "text/plain": [
       "<Figure size 2500x1000 with 2 Axes>"
      ]
     },
     "metadata": {},
     "output_type": "display_data"
    }
   ],
   "source": [
    "msno.matrix(test)"
   ]
  },
  {
   "cell_type": "code",
   "execution_count": 10,
   "id": "c2d75ac6",
   "metadata": {
    "ExecuteTime": {
     "end_time": "2022-09-12T22:40:16.218418Z",
     "start_time": "2022-09-12T22:40:16.114680Z"
    },
    "colab": {
     "base_uri": "https://localhost:8080/",
     "height": 166
    },
    "id": "c2d75ac6",
    "outputId": "e7994d16-5d87-4bd2-ce41-1b27755949d2"
   },
   "outputs": [
    {
     "data": {
      "text/plain": [
       "<AxesSubplot:>"
      ]
     },
     "execution_count": 10,
     "metadata": {},
     "output_type": "execute_result"
    },
    {
     "data": {
      "image/png": "[encoded data removed]",
      "text/plain": [
       "<Figure size 640x480 with 1 Axes>"
      ]
     },
     "metadata": {},
     "output_type": "display_data"
    }
   ],
   "source": [
    "train[\"subject\"].value_counts(True).plot(kind=\"bar\") # Agrupar"
   ]
  },
  {
   "cell_type": "code",
   "execution_count": 61,
   "id": "8b096418",
   "metadata": {
    "ExecuteTime": {
     "end_time": "2022-09-12T23:02:06.229717Z",
     "start_time": "2022-09-12T23:02:06.131129Z"
    }
   },
   "outputs": [
    {
     "data": {
      "text/plain": [
       "<AxesSubplot:>"
      ]
     },
     "execution_count": 61,
     "metadata": {},
     "output_type": "execute_result"
    },
    {
     "data": {
      "image/png": "[encoded data removed]",
      "text/plain": [
       "<Figure size 640x480 with 1 Axes>"
      ]
     },
     "metadata": {},
     "output_type": "display_data"
    }
   ],
   "source": [
    "train[\"date\"].str.split(\",\", expand=True)[1].value_counts().plot(kind=\"bar\")"
   ]
  },
  {
   "cell_type": "markdown",
   "id": "a2541a94",
   "metadata": {
    "id": "a2541a94"
   },
   "source": [
    "# Limpieza "
   ]
  },
  {
   "cell_type": "code",
   "execution_count": 12,
   "id": "eb562c79",
   "metadata": {
    "ExecuteTime": {
     "end_time": "2022-09-12T22:40:16.389683Z",
     "start_time": "2022-09-12T22:40:16.291759Z"
    },
    "id": "eb562c79"
   },
   "outputs": [],
   "source": [
    "train['title'] = train['title'].map(lambda x: x.replace(\"U.S.\", 'US'))\n",
    "train['text'] = train['text'].map(lambda x: x.replace(\"U.S.\", 'US'))"
   ]
  },
  {
   "cell_type": "code",
   "execution_count": 13,
   "id": "654cee49",
   "metadata": {
    "ExecuteTime": {
     "end_time": "2022-09-12T22:40:16.473989Z",
     "start_time": "2022-09-12T22:40:16.390575Z"
    },
    "id": "654cee49"
   },
   "outputs": [],
   "source": [
    "train['clean_title'] = train['title'].map(clean_words)"
   ]
  },
  {
   "cell_type": "code",
   "execution_count": 14,
   "id": "7f766909",
   "metadata": {
    "ExecuteTime": {
     "end_time": "2022-09-12T22:40:17.848507Z",
     "start_time": "2022-09-12T22:40:16.474974Z"
    },
    "id": "7f766909"
   },
   "outputs": [],
   "source": [
    "train['clean_text'] = train['text'].map(clean_words)"
   ]
  },
  {
   "cell_type": "code",
   "execution_count": 15,
   "id": "0204f9da",
   "metadata": {
    "ExecuteTime": {
     "end_time": "2022-09-12T22:40:17.853474Z",
     "start_time": "2022-09-12T22:40:17.849532Z"
    },
    "id": "0204f9da",
    "outputId": "97760a49-2c07-45aa-bc4f-202b4daf04a7"
   },
   "outputs": [
    {
     "data": {
      "text/html": [
       "<div>\n",
       "<style scoped>\n",
       "    .dataframe tbody tr th:only-of-type {\n",
       "        vertical-align: middle;\n",
       "    }\n",
       "\n",
       "    .dataframe tbody tr th {\n",
       "        vertical-align: top;\n",
       "    }\n",
       "\n",
       "    .dataframe thead th {\n",
       "        text-align: right;\n",
       "    }\n",
       "</style>\n",
       "<table border=\"1\" class=\"dataframe\">\n",
       "  <thead>\n",
       "    <tr style=\"text-align: right;\">\n",
       "      <th></th>\n",
       "      <th>title</th>\n",
       "      <th>text</th>\n",
       "      <th>subject</th>\n",
       "      <th>date</th>\n",
       "      <th>fake_not</th>\n",
       "      <th>clean_title</th>\n",
       "      <th>clean_text</th>\n",
       "    </tr>\n",
       "  </thead>\n",
       "  <tbody>\n",
       "    <tr>\n",
       "      <th>0</th>\n",
       "      <td>Barca's Valverde skirts independence debate as Iniesta ruled out for Bilbao</td>\n",
       "      <td>MADRID, (Reuters) - Barcelona boss Ernesto Valverde declined to be drawn on Friday on whether a declaration of independence by Catalonia s parliam...</td>\n",
       "      <td>worldnews</td>\n",
       "      <td>October 27, 2017</td>\n",
       "      <td>0</td>\n",
       "      <td>barca s valverde skirts independence debate as iniesta ruled out for bilbao</td>\n",
       "      <td>madrid reuters barcelona boss ernesto valverde declined to be drawn on friday on whether a declaration of independence by catalonia s parliament m...</td>\n",
       "    </tr>\n",
       "    <tr>\n",
       "      <th>1</th>\n",
       "      <td>Trump says Brexit wouldn't impact potential UK-US trade deal if he is president: ITV</td>\n",
       "      <td>LONDON (Reuters) - Presumptive US Republican presidential nominee Donald Trump said Britain leaving the European Union would make no difference to...</td>\n",
       "      <td>politicsNews</td>\n",
       "      <td>May 15, 2016</td>\n",
       "      <td>0</td>\n",
       "      <td>trump says brexit wouldn t impact potential uk us trade deal if he is president itv</td>\n",
       "      <td>london reuters presumptive us republican presidential nominee donald trump said britain leaving the european union would make no difference to a p...</td>\n",
       "    </tr>\n",
       "    <tr>\n",
       "      <th>2</th>\n",
       "      <td>Mark Zuckerberg’s PERFECT Facebook Comment To Grandmother Proves He’s A Badass Feminist</td>\n",
       "      <td>There are seldom people in life that you can honestly say are solidly good people, but Mark Zuckerberg is one of those few that could fall into th...</td>\n",
       "      <td>News</td>\n",
       "      <td>January 4, 2016</td>\n",
       "      <td>1</td>\n",
       "      <td>mark zuckerbergs perfect facebook comment to grandmother proves hes a badass feminist</td>\n",
       "      <td>there are seldom people in life that you can honestly say are solidly good people but mark zuckerberg is one of those few that could fall into tha...</td>\n",
       "    </tr>\n",
       "    <tr>\n",
       "      <th>3</th>\n",
       "      <td>Suspected US drone targets Haqqani militants in Pakistan, killing four</td>\n",
       "      <td>DERA ISMAIL KHAN, Pakistan (Reuters) - A suspected US drone strike on Thursday targeted a hideout of the Haqqani militant network along Pakistan s...</td>\n",
       "      <td>worldnews</td>\n",
       "      <td>November 30, 2017</td>\n",
       "      <td>0</td>\n",
       "      <td>suspected us drone targets haqqani militants in pakistan killing four</td>\n",
       "      <td>dera ismail khan pakistan reuters a suspected us drone strike on thursday targeted a hideout of the haqqani militant network along pakistan s moun...</td>\n",
       "    </tr>\n",
       "    <tr>\n",
       "      <th>4</th>\n",
       "      <td>US special envoy encouraged that Kurds could embrace plan to delay referendum</td>\n",
       "      <td>ERBIL (Reuters) - Brett McGurk, the US special envoy to the coalition against Islamic State, on Thursday said he was encouraged that the Iraqi Kur...</td>\n",
       "      <td>worldnews</td>\n",
       "      <td>September 14, 2017</td>\n",
       "      <td>0</td>\n",
       "      <td>us special envoy encouraged that kurds could embrace plan to delay referendum</td>\n",
       "      <td>erbil reuters brett mcgurk the us special envoy to the coalition against islamic state on thursday said he was encouraged that the iraqi kurdish l...</td>\n",
       "    </tr>\n",
       "  </tbody>\n",
       "</table>\n",
       "</div>"
      ],
      "text/plain": [
       "                                                                                      title  \\\n",
       "0               Barca's Valverde skirts independence debate as Iniesta ruled out for Bilbao   \n",
       "1      Trump says Brexit wouldn't impact potential UK-US trade deal if he is president: ITV   \n",
       "2   Mark Zuckerberg’s PERFECT Facebook Comment To Grandmother Proves He’s A Badass Feminist   \n",
       "3                    Suspected US drone targets Haqqani militants in Pakistan, killing four   \n",
       "4             US special envoy encouraged that Kurds could embrace plan to delay referendum   \n",
       "\n",
       "                                                                                                                                                    text  \\\n",
       "0  MADRID, (Reuters) - Barcelona boss Ernesto Valverde declined to be drawn on Friday on whether a declaration of independence by Catalonia s parliam...   \n",
       "1  LONDON (Reuters) - Presumptive US Republican presidential nominee Donald Trump said Britain leaving the European Union would make no difference to...   \n",
       "2  There are seldom people in life that you can honestly say are solidly good people, but Mark Zuckerberg is one of those few that could fall into th...   \n",
       "3  DERA ISMAIL KHAN, Pakistan (Reuters) - A suspected US drone strike on Thursday targeted a hideout of the Haqqani militant network along Pakistan s...   \n",
       "4  ERBIL (Reuters) - Brett McGurk, the US special envoy to the coalition against Islamic State, on Thursday said he was encouraged that the Iraqi Kur...   \n",
       "\n",
       "        subject                 date  fake_not  \\\n",
       "0     worldnews    October 27, 2017          0   \n",
       "1  politicsNews        May 15, 2016          0   \n",
       "2          News      January 4, 2016         1   \n",
       "3     worldnews   November 30, 2017          0   \n",
       "4     worldnews  September 14, 2017          0   \n",
       "\n",
       "                                                                             clean_title  \\\n",
       "0            barca s valverde skirts independence debate as iniesta ruled out for bilbao   \n",
       "1    trump says brexit wouldn t impact potential uk us trade deal if he is president itv   \n",
       "2  mark zuckerbergs perfect facebook comment to grandmother proves hes a badass feminist   \n",
       "3                  suspected us drone targets haqqani militants in pakistan killing four   \n",
       "4          us special envoy encouraged that kurds could embrace plan to delay referendum   \n",
       "\n",
       "                                                                                                                                              clean_text  \n",
       "0  madrid reuters barcelona boss ernesto valverde declined to be drawn on friday on whether a declaration of independence by catalonia s parliament m...  \n",
       "1  london reuters presumptive us republican presidential nominee donald trump said britain leaving the european union would make no difference to a p...  \n",
       "2  there are seldom people in life that you can honestly say are solidly good people but mark zuckerberg is one of those few that could fall into tha...  \n",
       "3  dera ismail khan pakistan reuters a suspected us drone strike on thursday targeted a hideout of the haqqani militant network along pakistan s moun...  \n",
       "4  erbil reuters brett mcgurk the us special envoy to the coalition against islamic state on thursday said he was encouraged that the iraqi kurdish l...  "
      ]
     },
     "execution_count": 15,
     "metadata": {},
     "output_type": "execute_result"
    }
   ],
   "source": [
    "train.head()"
   ]
  },
  {
   "cell_type": "code",
   "execution_count": 16,
   "id": "3fabbf30",
   "metadata": {
    "ExecuteTime": {
     "end_time": "2022-09-12T22:40:17.900437Z",
     "start_time": "2022-09-12T22:40:17.854378Z"
    },
    "id": "3fabbf30",
    "scrolled": true
   },
   "outputs": [],
   "source": [
    "train['article'] = train['title'] + train['text']\n",
    "train['clean_article'] = train['clean_title'] + train['clean_text']"
   ]
  },
  {
   "cell_type": "code",
   "execution_count": 17,
   "id": "d5a3354f",
   "metadata": {
    "ExecuteTime": {
     "end_time": "2022-09-12T22:40:18.641180Z",
     "start_time": "2022-09-12T22:40:17.901797Z"
    },
    "id": "d5a3354f"
   },
   "outputs": [],
   "source": [
    "train['n_words'] = train['article'].str.split().map(len)"
   ]
  },
  {
   "cell_type": "code",
   "execution_count": 18,
   "id": "f17b4f51",
   "metadata": {
    "ExecuteTime": {
     "end_time": "2022-09-12T22:40:18.889233Z",
     "start_time": "2022-09-12T22:40:18.642076Z"
    }
   },
   "outputs": [
    {
     "name": "stderr",
     "output_type": "stream",
     "text": [
      "[nltk_data] Downloading package stopwords to\n",
      "[nltk_data]     /Users/davidrinconmorales/nltk_data...\n",
      "[nltk_data]   Package stopwords is already up-to-date!\n"
     ]
    },
    {
     "data": {
      "text/plain": [
       "True"
      ]
     },
     "execution_count": 18,
     "metadata": {},
     "output_type": "execute_result"
    }
   ],
   "source": [
    "nltk.download('stopwords')"
   ]
  },
  {
   "cell_type": "code",
   "execution_count": 19,
   "id": "dc23ecc3",
   "metadata": {
    "ExecuteTime": {
     "end_time": "2022-09-12T22:40:18.897910Z",
     "start_time": "2022-09-12T22:40:18.892123Z"
    },
    "id": "dc23ecc3"
   },
   "outputs": [],
   "source": [
    "stopwords = stopwords.words('english')"
   ]
  },
  {
   "cell_type": "code",
   "execution_count": 20,
   "id": "9a0a6a36",
   "metadata": {
    "ExecuteTime": {
     "end_time": "2022-09-12T22:40:23.101426Z",
     "start_time": "2022-09-12T22:40:18.899697Z"
    },
    "id": "9a0a6a36"
   },
   "outputs": [],
   "source": [
    "train['n_letters'] = train['article'].map(lambda x: sum(map(str.isalpha, x)))\n",
    "train['n_lower_ratio_letters'] = train['article'].map(lambda x: sum(map(str.islower, x))) / train['n_letters']\n",
    "train['n_upper_ratio_letters'] = train['article'].map(lambda x: sum(map(str.isupper, x))) / train['n_letters']"
   ]
  },
  {
   "cell_type": "code",
   "execution_count": 21,
   "id": "318549eb",
   "metadata": {
    "ExecuteTime": {
     "end_time": "2022-09-12T22:40:23.105324Z",
     "start_time": "2022-09-12T22:40:23.102380Z"
    },
    "id": "318549eb",
    "outputId": "5a93ac49-5b01-4eb8-eb9b-20753dbbce38"
   },
   "outputs": [
    {
     "data": {
      "text/plain": [
       "26       0.202586\n",
       "148      0.203125\n",
       "231      0.256410\n",
       "318      0.480392\n",
       "343      0.282895\n",
       "           ...   \n",
       "35782    0.448276\n",
       "35786    0.263566\n",
       "35805    0.351351\n",
       "35836    0.247475\n",
       "35853    0.412214\n",
       "Name: n_upper_ratio_letters, Length: 1371, dtype: float64"
      ]
     },
     "execution_count": 21,
     "metadata": {},
     "output_type": "execute_result"
    }
   ],
   "source": [
    "train['n_upper_ratio_letters'].loc[(train.n_upper_ratio_letters>0.2)] "
   ]
  },
  {
   "cell_type": "code",
   "execution_count": 22,
   "id": "ec75c784",
   "metadata": {
    "ExecuteTime": {
     "end_time": "2022-09-12T22:40:23.110303Z",
     "start_time": "2022-09-12T22:40:23.105983Z"
    },
    "id": "ec75c784",
    "outputId": "1f9917af-fe63-470c-e71f-edccbd2a244e"
   },
   "outputs": [
    {
     "data": {
      "text/plain": [
       "26       0.202586\n",
       "148      0.203125\n",
       "231      0.256410\n",
       "318      0.480392\n",
       "343      0.282895\n",
       "           ...   \n",
       "35782    0.448276\n",
       "35786    0.263566\n",
       "35805    0.351351\n",
       "35836    0.247475\n",
       "35853    0.412214\n",
       "Name: n_upper_ratio_letters, Length: 1369, dtype: float64"
      ]
     },
     "execution_count": 22,
     "metadata": {},
     "output_type": "execute_result"
    }
   ],
   "source": [
    "train['n_upper_ratio_letters'].loc[(train.n_upper_ratio_letters>0.2) & (train.fake_not==1)]"
   ]
  },
  {
   "cell_type": "code",
   "execution_count": 23,
   "id": "c51476b8",
   "metadata": {
    "ExecuteTime": {
     "end_time": "2022-09-12T22:40:23.213300Z",
     "start_time": "2022-09-12T22:40:23.111240Z"
    },
    "id": "c51476b8",
    "outputId": "30d0a0dc-098a-43e2-9346-f80fb66f0940"
   },
   "outputs": [
    {
     "data": {
      "text/plain": [
       "<AxesSubplot:>"
      ]
     },
     "execution_count": 23,
     "metadata": {},
     "output_type": "execute_result"
    },
    {
     "data": {
      "image/png": "[encoded data removed]",
      "text/plain": [
       "<Figure size 640x480 with 1 Axes>"
      ]
     },
     "metadata": {},
     "output_type": "display_data"
    }
   ],
   "source": [
    "train['n_upper_ratio_letters'].loc[train['fake_not']==1].hist()"
   ]
  },
  {
   "cell_type": "code",
   "execution_count": 24,
   "id": "76a1e157",
   "metadata": {
    "ExecuteTime": {
     "end_time": "2022-09-12T22:40:23.269402Z",
     "start_time": "2022-09-12T22:40:23.214227Z"
    },
    "id": "76a1e157",
    "outputId": "d2471024-cc68-457d-d1f1-6f8c7f90c7bf"
   },
   "outputs": [
    {
     "data": {
      "text/plain": [
       "<AxesSubplot:>"
      ]
     },
     "execution_count": 24,
     "metadata": {},
     "output_type": "execute_result"
    },
    {
     "data": {
      "image/png": "[encoded data removed]",
      "text/plain": [
       "<Figure size 640x480 with 1 Axes>"
      ]
     },
     "metadata": {},
     "output_type": "display_data"
    }
   ],
   "source": [
    "train['n_upper_ratio_letters'].loc[train['fake_not']==0].hist()"
   ]
  },
  {
   "cell_type": "code",
   "execution_count": 25,
   "id": "e20cfcac",
   "metadata": {
    "ExecuteTime": {
     "end_time": "2022-09-12T22:40:23.275508Z",
     "start_time": "2022-09-12T22:40:23.270394Z"
    },
    "id": "e20cfcac",
    "outputId": "7151f24a-6695-4db6-b647-9144aa8560dd"
   },
   "outputs": [
    {
     "data": {
      "text/html": [
       "<div>\n",
       "<style scoped>\n",
       "    .dataframe tbody tr th:only-of-type {\n",
       "        vertical-align: middle;\n",
       "    }\n",
       "\n",
       "    .dataframe tbody tr th {\n",
       "        vertical-align: top;\n",
       "    }\n",
       "\n",
       "    .dataframe thead th {\n",
       "        text-align: right;\n",
       "    }\n",
       "</style>\n",
       "<table border=\"1\" class=\"dataframe\">\n",
       "  <thead>\n",
       "    <tr style=\"text-align: right;\">\n",
       "      <th></th>\n",
       "      <th>title</th>\n",
       "      <th>text</th>\n",
       "      <th>subject</th>\n",
       "      <th>date</th>\n",
       "      <th>fake_not</th>\n",
       "      <th>clean_title</th>\n",
       "      <th>clean_text</th>\n",
       "      <th>article</th>\n",
       "      <th>clean_article</th>\n",
       "      <th>n_words</th>\n",
       "      <th>n_letters</th>\n",
       "      <th>n_lower_ratio_letters</th>\n",
       "      <th>n_upper_ratio_letters</th>\n",
       "    </tr>\n",
       "  </thead>\n",
       "  <tbody>\n",
       "    <tr>\n",
       "      <th>0</th>\n",
       "      <td>Barca's Valverde skirts independence debate as Iniesta ruled out for Bilbao</td>\n",
       "      <td>MADRID, (Reuters) - Barcelona boss Ernesto Valverde declined to be drawn on Friday on whether a declaration of independence by Catalonia s parliam...</td>\n",
       "      <td>worldnews</td>\n",
       "      <td>October 27, 2017</td>\n",
       "      <td>0</td>\n",
       "      <td>barca s valverde skirts independence debate as iniesta ruled out for bilbao</td>\n",
       "      <td>madrid reuters barcelona boss ernesto valverde declined to be drawn on friday on whether a declaration of independence by catalonia s parliament m...</td>\n",
       "      <td>Barca's Valverde skirts independence debate as Iniesta ruled out for BilbaoMADRID, (Reuters) - Barcelona boss Ernesto Valverde declined to be draw...</td>\n",
       "      <td>barca s valverde skirts independence debate as iniesta ruled out for bilbaomadrid reuters barcelona boss ernesto valverde declined to be drawn on ...</td>\n",
       "      <td>347</td>\n",
       "      <td>1638</td>\n",
       "      <td>0.953602</td>\n",
       "      <td>0.046398</td>\n",
       "    </tr>\n",
       "    <tr>\n",
       "      <th>1</th>\n",
       "      <td>Trump says Brexit wouldn't impact potential UK-US trade deal if he is president: ITV</td>\n",
       "      <td>LONDON (Reuters) - Presumptive US Republican presidential nominee Donald Trump said Britain leaving the European Union would make no difference to...</td>\n",
       "      <td>politicsNews</td>\n",
       "      <td>May 15, 2016</td>\n",
       "      <td>0</td>\n",
       "      <td>trump says brexit wouldn t impact potential uk us trade deal if he is president itv</td>\n",
       "      <td>london reuters presumptive us republican presidential nominee donald trump said britain leaving the european union would make no difference to a p...</td>\n",
       "      <td>Trump says Brexit wouldn't impact potential UK-US trade deal if he is president: ITVLONDON (Reuters) - Presumptive US Republican presidential nomi...</td>\n",
       "      <td>trump says brexit wouldn t impact potential uk us trade deal if he is president itvlondon reuters presumptive us republican presidential nominee d...</td>\n",
       "      <td>148</td>\n",
       "      <td>653</td>\n",
       "      <td>0.920368</td>\n",
       "      <td>0.079632</td>\n",
       "    </tr>\n",
       "    <tr>\n",
       "      <th>2</th>\n",
       "      <td>Mark Zuckerberg’s PERFECT Facebook Comment To Grandmother Proves He’s A Badass Feminist</td>\n",
       "      <td>There are seldom people in life that you can honestly say are solidly good people, but Mark Zuckerberg is one of those few that could fall into th...</td>\n",
       "      <td>News</td>\n",
       "      <td>January 4, 2016</td>\n",
       "      <td>1</td>\n",
       "      <td>mark zuckerbergs perfect facebook comment to grandmother proves hes a badass feminist</td>\n",
       "      <td>there are seldom people in life that you can honestly say are solidly good people but mark zuckerberg is one of those few that could fall into tha...</td>\n",
       "      <td>Mark Zuckerberg’s PERFECT Facebook Comment To Grandmother Proves He’s A Badass FeministThere are seldom people in life that you can honestly say ...</td>\n",
       "      <td>mark zuckerbergs perfect facebook comment to grandmother proves hes a badass feministthere are seldom people in life that you can honestly say are...</td>\n",
       "      <td>387</td>\n",
       "      <td>1882</td>\n",
       "      <td>0.945271</td>\n",
       "      <td>0.054729</td>\n",
       "    </tr>\n",
       "    <tr>\n",
       "      <th>3</th>\n",
       "      <td>Suspected US drone targets Haqqani militants in Pakistan, killing four</td>\n",
       "      <td>DERA ISMAIL KHAN, Pakistan (Reuters) - A suspected US drone strike on Thursday targeted a hideout of the Haqqani militant network along Pakistan s...</td>\n",
       "      <td>worldnews</td>\n",
       "      <td>November 30, 2017</td>\n",
       "      <td>0</td>\n",
       "      <td>suspected us drone targets haqqani militants in pakistan killing four</td>\n",
       "      <td>dera ismail khan pakistan reuters a suspected us drone strike on thursday targeted a hideout of the haqqani militant network along pakistan s moun...</td>\n",
       "      <td>Suspected US drone targets Haqqani militants in Pakistan, killing fourDERA ISMAIL KHAN, Pakistan (Reuters) - A suspected US drone strike on Thursd...</td>\n",
       "      <td>suspected us drone targets haqqani militants in pakistan killing fourdera ismail khan pakistan reuters a suspected us drone strike on thursday tar...</td>\n",
       "      <td>290</td>\n",
       "      <td>1530</td>\n",
       "      <td>0.945098</td>\n",
       "      <td>0.054902</td>\n",
       "    </tr>\n",
       "    <tr>\n",
       "      <th>4</th>\n",
       "      <td>US special envoy encouraged that Kurds could embrace plan to delay referendum</td>\n",
       "      <td>ERBIL (Reuters) - Brett McGurk, the US special envoy to the coalition against Islamic State, on Thursday said he was encouraged that the Iraqi Kur...</td>\n",
       "      <td>worldnews</td>\n",
       "      <td>September 14, 2017</td>\n",
       "      <td>0</td>\n",
       "      <td>us special envoy encouraged that kurds could embrace plan to delay referendum</td>\n",
       "      <td>erbil reuters brett mcgurk the us special envoy to the coalition against islamic state on thursday said he was encouraged that the iraqi kurdish l...</td>\n",
       "      <td>US special envoy encouraged that Kurds could embrace plan to delay referendumERBIL (Reuters) - Brett McGurk, the US special envoy to the coalition...</td>\n",
       "      <td>us special envoy encouraged that kurds could embrace plan to delay referendumerbil reuters brett mcgurk the us special envoy to the coalition agai...</td>\n",
       "      <td>82</td>\n",
       "      <td>410</td>\n",
       "      <td>0.939024</td>\n",
       "      <td>0.060976</td>\n",
       "    </tr>\n",
       "  </tbody>\n",
       "</table>\n",
       "</div>"
      ],
      "text/plain": [
       "                                                                                      title  \\\n",
       "0               Barca's Valverde skirts independence debate as Iniesta ruled out for Bilbao   \n",
       "1      Trump says Brexit wouldn't impact potential UK-US trade deal if he is president: ITV   \n",
       "2   Mark Zuckerberg’s PERFECT Facebook Comment To Grandmother Proves He’s A Badass Feminist   \n",
       "3                    Suspected US drone targets Haqqani militants in Pakistan, killing four   \n",
       "4             US special envoy encouraged that Kurds could embrace plan to delay referendum   \n",
       "\n",
       "                                                                                                                                                    text  \\\n",
       "0  MADRID, (Reuters) - Barcelona boss Ernesto Valverde declined to be drawn on Friday on whether a declaration of independence by Catalonia s parliam...   \n",
       "1  LONDON (Reuters) - Presumptive US Republican presidential nominee Donald Trump said Britain leaving the European Union would make no difference to...   \n",
       "2  There are seldom people in life that you can honestly say are solidly good people, but Mark Zuckerberg is one of those few that could fall into th...   \n",
       "3  DERA ISMAIL KHAN, Pakistan (Reuters) - A suspected US drone strike on Thursday targeted a hideout of the Haqqani militant network along Pakistan s...   \n",
       "4  ERBIL (Reuters) - Brett McGurk, the US special envoy to the coalition against Islamic State, on Thursday said he was encouraged that the Iraqi Kur...   \n",
       "\n",
       "        subject                 date  fake_not  \\\n",
       "0     worldnews    October 27, 2017          0   \n",
       "1  politicsNews        May 15, 2016          0   \n",
       "2          News      January 4, 2016         1   \n",
       "3     worldnews   November 30, 2017          0   \n",
       "4     worldnews  September 14, 2017          0   \n",
       "\n",
       "                                                                             clean_title  \\\n",
       "0            barca s valverde skirts independence debate as iniesta ruled out for bilbao   \n",
       "1    trump says brexit wouldn t impact potential uk us trade deal if he is president itv   \n",
       "2  mark zuckerbergs perfect facebook comment to grandmother proves hes a badass feminist   \n",
       "3                  suspected us drone targets haqqani militants in pakistan killing four   \n",
       "4          us special envoy encouraged that kurds could embrace plan to delay referendum   \n",
       "\n",
       "                                                                                                                                              clean_text  \\\n",
       "0  madrid reuters barcelona boss ernesto valverde declined to be drawn on friday on whether a declaration of independence by catalonia s parliament m...   \n",
       "1  london reuters presumptive us republican presidential nominee donald trump said britain leaving the european union would make no difference to a p...   \n",
       "2  there are seldom people in life that you can honestly say are solidly good people but mark zuckerberg is one of those few that could fall into tha...   \n",
       "3  dera ismail khan pakistan reuters a suspected us drone strike on thursday targeted a hideout of the haqqani militant network along pakistan s moun...   \n",
       "4  erbil reuters brett mcgurk the us special envoy to the coalition against islamic state on thursday said he was encouraged that the iraqi kurdish l...   \n",
       "\n",
       "                                                                                                                                                 article  \\\n",
       "0  Barca's Valverde skirts independence debate as Iniesta ruled out for BilbaoMADRID, (Reuters) - Barcelona boss Ernesto Valverde declined to be draw...   \n",
       "1  Trump says Brexit wouldn't impact potential UK-US trade deal if he is president: ITVLONDON (Reuters) - Presumptive US Republican presidential nomi...   \n",
       "2   Mark Zuckerberg’s PERFECT Facebook Comment To Grandmother Proves He’s A Badass FeministThere are seldom people in life that you can honestly say ...   \n",
       "3  Suspected US drone targets Haqqani militants in Pakistan, killing fourDERA ISMAIL KHAN, Pakistan (Reuters) - A suspected US drone strike on Thursd...   \n",
       "4  US special envoy encouraged that Kurds could embrace plan to delay referendumERBIL (Reuters) - Brett McGurk, the US special envoy to the coalition...   \n",
       "\n",
       "                                                                                                                                           clean_article  \\\n",
       "0  barca s valverde skirts independence debate as iniesta ruled out for bilbaomadrid reuters barcelona boss ernesto valverde declined to be drawn on ...   \n",
       "1  trump says brexit wouldn t impact potential uk us trade deal if he is president itvlondon reuters presumptive us republican presidential nominee d...   \n",
       "2  mark zuckerbergs perfect facebook comment to grandmother proves hes a badass feministthere are seldom people in life that you can honestly say are...   \n",
       "3  suspected us drone targets haqqani militants in pakistan killing fourdera ismail khan pakistan reuters a suspected us drone strike on thursday tar...   \n",
       "4  us special envoy encouraged that kurds could embrace plan to delay referendumerbil reuters brett mcgurk the us special envoy to the coalition agai...   \n",
       "\n",
       "   n_words  n_letters  n_lower_ratio_letters  n_upper_ratio_letters  \n",
       "0      347       1638               0.953602               0.046398  \n",
       "1      148        653               0.920368               0.079632  \n",
       "2      387       1882               0.945271               0.054729  \n",
       "3      290       1530               0.945098               0.054902  \n",
       "4       82        410               0.939024               0.060976  "
      ]
     },
     "execution_count": 25,
     "metadata": {},
     "output_type": "execute_result"
    }
   ],
   "source": [
    "train.head()"
   ]
  },
  {
   "cell_type": "code",
   "execution_count": 26,
   "id": "95a1ff0b",
   "metadata": {
    "ExecuteTime": {
     "end_time": "2022-09-12T22:40:23.278572Z",
     "start_time": "2022-09-12T22:40:23.276500Z"
    },
    "id": "95a1ff0b"
   },
   "outputs": [],
   "source": [
    "cv = TfidfVectorizer(stop_words = stopwords, ngram_range=(1,1), min_df = 10, max_features=100)"
   ]
  },
  {
   "cell_type": "code",
   "execution_count": 27,
   "id": "d92872b3",
   "metadata": {
    "ExecuteTime": {
     "end_time": "2022-09-12T22:40:23.285142Z",
     "start_time": "2022-09-12T22:40:23.283460Z"
    },
    "id": "d92872b3"
   },
   "outputs": [],
   "source": [
    "feat = ['n_words', 'n_letters', 'n_lower_ratio_letters', 'n_upper_ratio_letters']"
   ]
  },
  {
   "cell_type": "code",
   "execution_count": 28,
   "id": "7cba973e",
   "metadata": {
    "ExecuteTime": {
     "end_time": "2022-09-12T22:40:23.301350Z",
     "start_time": "2022-09-12T22:40:23.286322Z"
    },
    "id": "7cba973e"
   },
   "outputs": [],
   "source": [
    "X = train[feat + ['clean_article']]\n",
    "y = train['fake_not']"
   ]
  },
  {
   "cell_type": "code",
   "execution_count": 29,
   "id": "f87052d0",
   "metadata": {
    "ExecuteTime": {
     "end_time": "2022-09-12T22:40:23.306942Z",
     "start_time": "2022-09-12T22:40:23.302365Z"
    },
    "id": "f87052d0"
   },
   "outputs": [],
   "source": [
    "X_train, X_test, y_train, y_test = train_test_split(X, y, train_size=0.7)"
   ]
  },
  {
   "cell_type": "code",
   "execution_count": 30,
   "id": "73b2dc05",
   "metadata": {
    "ExecuteTime": {
     "end_time": "2022-09-12T22:40:26.333150Z",
     "start_time": "2022-09-12T22:40:23.307798Z"
    },
    "id": "73b2dc05",
    "outputId": "b39aeda8-adb1-466f-dd35-82e950d1c3bb"
   },
   "outputs": [
    {
     "data": {
      "text/html": [
       "<style>#sk-container-id-1 {color: black;background-color: white;}#sk-container-id-1 pre{padding: 0;}#sk-container-id-1 div.sk-toggleable {background-color: white;}#sk-container-id-1 label.sk-toggleable__label {cursor: pointer;display: block;width: 100%;margin-bottom: 0;padding: 0.3em;box-sizing: border-box;text-align: center;}#sk-container-id-1 label.sk-toggleable__label-arrow:before {content: \"▸\";float: left;margin-right: 0.25em;color: #696969;}#sk-container-id-1 label.sk-toggleable__label-arrow:hover:before {color: black;}#sk-container-id-1 div.sk-estimator:hover label.sk-toggleable__label-arrow:before {color: black;}#sk-container-id-1 div.sk-toggleable__content {max-height: 0;max-width: 0;overflow: hidden;text-align: left;background-color: #f0f8ff;}#sk-container-id-1 div.sk-toggleable__content pre {margin: 0.2em;color: black;border-radius: 0.25em;background-color: #f0f8ff;}#sk-container-id-1 input.sk-toggleable__control:checked~div.sk-toggleable__content {max-height: 200px;max-width: 100%;overflow: auto;}#sk-container-id-1 input.sk-toggleable__control:checked~label.sk-toggleable__label-arrow:before {content: \"▾\";}#sk-container-id-1 div.sk-estimator input.sk-toggleable__control:checked~label.sk-toggleable__label {background-color: #d4ebff;}#sk-container-id-1 div.sk-label input.sk-toggleable__control:checked~label.sk-toggleable__label {background-color: #d4ebff;}#sk-container-id-1 input.sk-hidden--visually {border: 0;clip: rect(1px 1px 1px 1px);clip: rect(1px, 1px, 1px, 1px);height: 1px;margin: -1px;overflow: hidden;padding: 0;position: absolute;width: 1px;}#sk-container-id-1 div.sk-estimator {font-family: monospace;background-color: #f0f8ff;border: 1px dotted black;border-radius: 0.25em;box-sizing: border-box;margin-bottom: 0.5em;}#sk-container-id-1 div.sk-estimator:hover {background-color: #d4ebff;}#sk-container-id-1 div.sk-parallel-item::after {content: \"\";width: 100%;border-bottom: 1px solid gray;flex-grow: 1;}#sk-container-id-1 div.sk-label:hover label.sk-toggleable__label {background-color: #d4ebff;}#sk-container-id-1 div.sk-serial::before {content: \"\";position: absolute;border-left: 1px solid gray;box-sizing: border-box;top: 0;bottom: 0;left: 50%;z-index: 0;}#sk-container-id-1 div.sk-serial {display: flex;flex-direction: column;align-items: center;background-color: white;padding-right: 0.2em;padding-left: 0.2em;position: relative;}#sk-container-id-1 div.sk-item {position: relative;z-index: 1;}#sk-container-id-1 div.sk-parallel {display: flex;align-items: stretch;justify-content: center;background-color: white;position: relative;}#sk-container-id-1 div.sk-item::before, #sk-container-id-1 div.sk-parallel-item::before {content: \"\";position: absolute;border-left: 1px solid gray;box-sizing: border-box;top: 0;bottom: 0;left: 50%;z-index: -1;}#sk-container-id-1 div.sk-parallel-item {display: flex;flex-direction: column;z-index: 1;position: relative;background-color: white;}#sk-container-id-1 div.sk-parallel-item:first-child::after {align-self: flex-end;width: 50%;}#sk-container-id-1 div.sk-parallel-item:last-child::after {align-self: flex-start;width: 50%;}#sk-container-id-1 div.sk-parallel-item:only-child::after {width: 0;}#sk-container-id-1 div.sk-dashed-wrapped {border: 1px dashed gray;margin: 0 0.4em 0.5em 0.4em;box-sizing: border-box;padding-bottom: 0.4em;background-color: white;}#sk-container-id-1 div.sk-label label {font-family: monospace;font-weight: bold;display: inline-block;line-height: 1.2em;}#sk-container-id-1 div.sk-label-container {text-align: center;}#sk-container-id-1 div.sk-container {/* jupyter's `normalize.less` sets `[hidden] { display: none; }` but bootstrap.min.css set `[hidden] { display: none !important; }` so we also need the `!important` here to be able to override the default hidden behavior on the sphinx rendered scikit-learn.org. See: https://github.com/scikit-learn/scikit-learn/issues/21755 */display: inline-block !important;position: relative;}#sk-container-id-1 div.sk-text-repr-fallback {display: none;}</style><div id=\"sk-container-id-1\" class=\"sk-top-container\"><div class=\"sk-text-repr-fallback\"><pre>TfidfVectorizer(max_features=100, min_df=10,\n",
       "                stop_words=[&#x27;i&#x27;, &#x27;me&#x27;, &#x27;my&#x27;, &#x27;myself&#x27;, &#x27;we&#x27;, &#x27;our&#x27;, &#x27;ours&#x27;,\n",
       "                            &#x27;ourselves&#x27;, &#x27;you&#x27;, &quot;you&#x27;re&quot;, &quot;you&#x27;ve&quot;, &quot;you&#x27;ll&quot;,\n",
       "                            &quot;you&#x27;d&quot;, &#x27;your&#x27;, &#x27;yours&#x27;, &#x27;yourself&#x27;, &#x27;yourselves&#x27;,\n",
       "                            &#x27;he&#x27;, &#x27;him&#x27;, &#x27;his&#x27;, &#x27;himself&#x27;, &#x27;she&#x27;, &quot;she&#x27;s&quot;,\n",
       "                            &#x27;her&#x27;, &#x27;hers&#x27;, &#x27;herself&#x27;, &#x27;it&#x27;, &quot;it&#x27;s&quot;, &#x27;its&#x27;,\n",
       "                            &#x27;itself&#x27;, ...])</pre><b>In a Jupyter environment, please rerun this cell to show the HTML representation or trust the notebook. <br />On GitHub, the HTML representation is unable to render, please try loading this page with nbviewer.org.</b></div><div class=\"sk-container\" hidden><div class=\"sk-item\"><div class=\"sk-estimator sk-toggleable\"><input class=\"sk-toggleable__control sk-hidden--visually\" id=\"sk-estimator-id-1\" type=\"checkbox\" checked><label for=\"sk-estimator-id-1\" class=\"sk-toggleable__label sk-toggleable__label-arrow\">TfidfVectorizer</label><div class=\"sk-toggleable__content\"><pre>TfidfVectorizer(max_features=100, min_df=10,\n",
       "                stop_words=[&#x27;i&#x27;, &#x27;me&#x27;, &#x27;my&#x27;, &#x27;myself&#x27;, &#x27;we&#x27;, &#x27;our&#x27;, &#x27;ours&#x27;,\n",
       "                            &#x27;ourselves&#x27;, &#x27;you&#x27;, &quot;you&#x27;re&quot;, &quot;you&#x27;ve&quot;, &quot;you&#x27;ll&quot;,\n",
       "                            &quot;you&#x27;d&quot;, &#x27;your&#x27;, &#x27;yours&#x27;, &#x27;yourself&#x27;, &#x27;yourselves&#x27;,\n",
       "                            &#x27;he&#x27;, &#x27;him&#x27;, &#x27;his&#x27;, &#x27;himself&#x27;, &#x27;she&#x27;, &quot;she&#x27;s&quot;,\n",
       "                            &#x27;her&#x27;, &#x27;hers&#x27;, &#x27;herself&#x27;, &#x27;it&#x27;, &quot;it&#x27;s&quot;, &#x27;its&#x27;,\n",
       "                            &#x27;itself&#x27;, ...])</pre></div></div></div></div></div>"
      ],
      "text/plain": [
       "TfidfVectorizer(max_features=100, min_df=10,\n",
       "                stop_words=['i', 'me', 'my', 'myself', 'we', 'our', 'ours',\n",
       "                            'ourselves', 'you', \"you're\", \"you've\", \"you'll\",\n",
       "                            \"you'd\", 'your', 'yours', 'yourself', 'yourselves',\n",
       "                            'he', 'him', 'his', 'himself', 'she', \"she's\",\n",
       "                            'her', 'hers', 'herself', 'it', \"it's\", 'its',\n",
       "                            'itself', ...])"
      ]
     },
     "execution_count": 30,
     "metadata": {},
     "output_type": "execute_result"
    }
   ],
   "source": [
    "cv.fit(X_train['clean_article'])"
   ]
  },
  {
   "cell_type": "code",
   "execution_count": 31,
   "id": "192a1468",
   "metadata": {
    "ExecuteTime": {
     "end_time": "2022-09-12T22:40:28.972537Z",
     "start_time": "2022-09-12T22:40:26.333896Z"
    },
    "id": "192a1468"
   },
   "outputs": [],
   "source": [
    "X_train = X_train[feat].join(pd.DataFrame(data = cv.transform(X_train['clean_article']).todense(), \n",
    "                                          columns= cv.get_feature_names_out(),\n",
    "                                          index=X_train.index))"
   ]
  },
  {
   "cell_type": "code",
   "execution_count": 32,
   "id": "1d963c9f",
   "metadata": {
    "ExecuteTime": {
     "end_time": "2022-09-12T22:40:30.122803Z",
     "start_time": "2022-09-12T22:40:28.973677Z"
    },
    "id": "1d963c9f"
   },
   "outputs": [],
   "source": [
    "X_test = X_test[feat].join(pd.DataFrame(data = cv.transform(X_test['clean_article']).todense(), \n",
    "                                          columns= cv.get_feature_names_out(),\n",
    "                                          index=X_test.index))"
   ]
  },
  {
   "cell_type": "code",
   "execution_count": 33,
   "id": "4f74885d",
   "metadata": {
    "ExecuteTime": {
     "end_time": "2022-09-12T22:40:30.148225Z",
     "start_time": "2022-09-12T22:40:30.123722Z"
    },
    "id": "4f74885d",
    "outputId": "e5ef04b3-2c8b-409a-cb36-69f3506e3895"
   },
   "outputs": [
    {
     "data": {
      "text/html": [
       "<style>#sk-container-id-2 {color: black;background-color: white;}#sk-container-id-2 pre{padding: 0;}#sk-container-id-2 div.sk-toggleable {background-color: white;}#sk-container-id-2 label.sk-toggleable__label {cursor: pointer;display: block;width: 100%;margin-bottom: 0;padding: 0.3em;box-sizing: border-box;text-align: center;}#sk-container-id-2 label.sk-toggleable__label-arrow:before {content: \"▸\";float: left;margin-right: 0.25em;color: #696969;}#sk-container-id-2 label.sk-toggleable__label-arrow:hover:before {color: black;}#sk-container-id-2 div.sk-estimator:hover label.sk-toggleable__label-arrow:before {color: black;}#sk-container-id-2 div.sk-toggleable__content {max-height: 0;max-width: 0;overflow: hidden;text-align: left;background-color: #f0f8ff;}#sk-container-id-2 div.sk-toggleable__content pre {margin: 0.2em;color: black;border-radius: 0.25em;background-color: #f0f8ff;}#sk-container-id-2 input.sk-toggleable__control:checked~div.sk-toggleable__content {max-height: 200px;max-width: 100%;overflow: auto;}#sk-container-id-2 input.sk-toggleable__control:checked~label.sk-toggleable__label-arrow:before {content: \"▾\";}#sk-container-id-2 div.sk-estimator input.sk-toggleable__control:checked~label.sk-toggleable__label {background-color: #d4ebff;}#sk-container-id-2 div.sk-label input.sk-toggleable__control:checked~label.sk-toggleable__label {background-color: #d4ebff;}#sk-container-id-2 input.sk-hidden--visually {border: 0;clip: rect(1px 1px 1px 1px);clip: rect(1px, 1px, 1px, 1px);height: 1px;margin: -1px;overflow: hidden;padding: 0;position: absolute;width: 1px;}#sk-container-id-2 div.sk-estimator {font-family: monospace;background-color: #f0f8ff;border: 1px dotted black;border-radius: 0.25em;box-sizing: border-box;margin-bottom: 0.5em;}#sk-container-id-2 div.sk-estimator:hover {background-color: #d4ebff;}#sk-container-id-2 div.sk-parallel-item::after {content: \"\";width: 100%;border-bottom: 1px solid gray;flex-grow: 1;}#sk-container-id-2 div.sk-label:hover label.sk-toggleable__label {background-color: #d4ebff;}#sk-container-id-2 div.sk-serial::before {content: \"\";position: absolute;border-left: 1px solid gray;box-sizing: border-box;top: 0;bottom: 0;left: 50%;z-index: 0;}#sk-container-id-2 div.sk-serial {display: flex;flex-direction: column;align-items: center;background-color: white;padding-right: 0.2em;padding-left: 0.2em;position: relative;}#sk-container-id-2 div.sk-item {position: relative;z-index: 1;}#sk-container-id-2 div.sk-parallel {display: flex;align-items: stretch;justify-content: center;background-color: white;position: relative;}#sk-container-id-2 div.sk-item::before, #sk-container-id-2 div.sk-parallel-item::before {content: \"\";position: absolute;border-left: 1px solid gray;box-sizing: border-box;top: 0;bottom: 0;left: 50%;z-index: -1;}#sk-container-id-2 div.sk-parallel-item {display: flex;flex-direction: column;z-index: 1;position: relative;background-color: white;}#sk-container-id-2 div.sk-parallel-item:first-child::after {align-self: flex-end;width: 50%;}#sk-container-id-2 div.sk-parallel-item:last-child::after {align-self: flex-start;width: 50%;}#sk-container-id-2 div.sk-parallel-item:only-child::after {width: 0;}#sk-container-id-2 div.sk-dashed-wrapped {border: 1px dashed gray;margin: 0 0.4em 0.5em 0.4em;box-sizing: border-box;padding-bottom: 0.4em;background-color: white;}#sk-container-id-2 div.sk-label label {font-family: monospace;font-weight: bold;display: inline-block;line-height: 1.2em;}#sk-container-id-2 div.sk-label-container {text-align: center;}#sk-container-id-2 div.sk-container {/* jupyter's `normalize.less` sets `[hidden] { display: none; }` but bootstrap.min.css set `[hidden] { display: none !important; }` so we also need the `!important` here to be able to override the default hidden behavior on the sphinx rendered scikit-learn.org. See: https://github.com/scikit-learn/scikit-learn/issues/21755 */display: inline-block !important;position: relative;}#sk-container-id-2 div.sk-text-repr-fallback {display: none;}</style><div id=\"sk-container-id-2\" class=\"sk-top-container\"><div class=\"sk-text-repr-fallback\"><pre>SelectKBest()</pre><b>In a Jupyter environment, please rerun this cell to show the HTML representation or trust the notebook. <br />On GitHub, the HTML representation is unable to render, please try loading this page with nbviewer.org.</b></div><div class=\"sk-container\" hidden><div class=\"sk-item\"><div class=\"sk-estimator sk-toggleable\"><input class=\"sk-toggleable__control sk-hidden--visually\" id=\"sk-estimator-id-2\" type=\"checkbox\" checked><label for=\"sk-estimator-id-2\" class=\"sk-toggleable__label sk-toggleable__label-arrow\">SelectKBest</label><div class=\"sk-toggleable__content\"><pre>SelectKBest()</pre></div></div></div></div></div>"
      ],
      "text/plain": [
       "SelectKBest()"
      ]
     },
     "execution_count": 33,
     "metadata": {},
     "output_type": "execute_result"
    }
   ],
   "source": [
    "kb = SelectKBest(k = 10, score_func = f_classif)\n",
    "kb.fit(X_train, y_train)"
   ]
  },
  {
   "cell_type": "code",
   "execution_count": 34,
   "id": "e52b4b0b",
   "metadata": {
    "ExecuteTime": {
     "end_time": "2022-09-12T22:40:30.151523Z",
     "start_time": "2022-09-12T22:40:30.149286Z"
    },
    "id": "e52b4b0b"
   },
   "outputs": [],
   "source": [
    "best = [x for x, y in zip(X_train.columns, kb.get_support()) if y]"
   ]
  },
  {
   "cell_type": "code",
   "execution_count": 35,
   "id": "9da8ccae",
   "metadata": {
    "ExecuteTime": {
     "end_time": "2022-09-12T22:40:30.154657Z",
     "start_time": "2022-09-12T22:40:30.152321Z"
    },
    "id": "9da8ccae",
    "outputId": "71f9231c-6804-4983-a760-b8c58a0dcc28"
   },
   "outputs": [
    {
     "data": {
      "text/plain": [
       "['n_lower_ratio_letters',\n",
       " 'n_upper_ratio_letters',\n",
       " 'even',\n",
       " 'know',\n",
       " 'like',\n",
       " 'reuters',\n",
       " 'said',\n",
       " 'us',\n",
       " 'via',\n",
       " 'video']"
      ]
     },
     "execution_count": 35,
     "metadata": {},
     "output_type": "execute_result"
    }
   ],
   "source": [
    "best"
   ]
  },
  {
   "cell_type": "code",
   "execution_count": 36,
   "id": "6f364e02",
   "metadata": {
    "ExecuteTime": {
     "end_time": "2022-09-12T22:40:30.158548Z",
     "start_time": "2022-09-12T22:40:30.155679Z"
    },
    "id": "6f364e02"
   },
   "outputs": [],
   "source": [
    "X_train = X_train[best]"
   ]
  },
  {
   "cell_type": "code",
   "execution_count": 37,
   "id": "a5efd0f3",
   "metadata": {
    "ExecuteTime": {
     "end_time": "2022-09-12T22:40:30.161472Z",
     "start_time": "2022-09-12T22:40:30.159670Z"
    },
    "id": "a5efd0f3"
   },
   "outputs": [],
   "source": [
    "bayes = MultinomialNB()"
   ]
  },
  {
   "cell_type": "code",
   "execution_count": 38,
   "id": "bf2dc8d5",
   "metadata": {
    "ExecuteTime": {
     "end_time": "2022-09-12T22:40:30.170386Z",
     "start_time": "2022-09-12T22:40:30.162402Z"
    },
    "id": "bf2dc8d5",
    "outputId": "9f35a319-f718-4fda-8d19-1980a0c2fc4a"
   },
   "outputs": [
    {
     "data": {
      "text/html": [
       "<style>#sk-container-id-3 {color: black;background-color: white;}#sk-container-id-3 pre{padding: 0;}#sk-container-id-3 div.sk-toggleable {background-color: white;}#sk-container-id-3 label.sk-toggleable__label {cursor: pointer;display: block;width: 100%;margin-bottom: 0;padding: 0.3em;box-sizing: border-box;text-align: center;}#sk-container-id-3 label.sk-toggleable__label-arrow:before {content: \"▸\";float: left;margin-right: 0.25em;color: #696969;}#sk-container-id-3 label.sk-toggleable__label-arrow:hover:before {color: black;}#sk-container-id-3 div.sk-estimator:hover label.sk-toggleable__label-arrow:before {color: black;}#sk-container-id-3 div.sk-toggleable__content {max-height: 0;max-width: 0;overflow: hidden;text-align: left;background-color: #f0f8ff;}#sk-container-id-3 div.sk-toggleable__content pre {margin: 0.2em;color: black;border-radius: 0.25em;background-color: #f0f8ff;}#sk-container-id-3 input.sk-toggleable__control:checked~div.sk-toggleable__content {max-height: 200px;max-width: 100%;overflow: auto;}#sk-container-id-3 input.sk-toggleable__control:checked~label.sk-toggleable__label-arrow:before {content: \"▾\";}#sk-container-id-3 div.sk-estimator input.sk-toggleable__control:checked~label.sk-toggleable__label {background-color: #d4ebff;}#sk-container-id-3 div.sk-label input.sk-toggleable__control:checked~label.sk-toggleable__label {background-color: #d4ebff;}#sk-container-id-3 input.sk-hidden--visually {border: 0;clip: rect(1px 1px 1px 1px);clip: rect(1px, 1px, 1px, 1px);height: 1px;margin: -1px;overflow: hidden;padding: 0;position: absolute;width: 1px;}#sk-container-id-3 div.sk-estimator {font-family: monospace;background-color: #f0f8ff;border: 1px dotted black;border-radius: 0.25em;box-sizing: border-box;margin-bottom: 0.5em;}#sk-container-id-3 div.sk-estimator:hover {background-color: #d4ebff;}#sk-container-id-3 div.sk-parallel-item::after {content: \"\";width: 100%;border-bottom: 1px solid gray;flex-grow: 1;}#sk-container-id-3 div.sk-label:hover label.sk-toggleable__label {background-color: #d4ebff;}#sk-container-id-3 div.sk-serial::before {content: \"\";position: absolute;border-left: 1px solid gray;box-sizing: border-box;top: 0;bottom: 0;left: 50%;z-index: 0;}#sk-container-id-3 div.sk-serial {display: flex;flex-direction: column;align-items: center;background-color: white;padding-right: 0.2em;padding-left: 0.2em;position: relative;}#sk-container-id-3 div.sk-item {position: relative;z-index: 1;}#sk-container-id-3 div.sk-parallel {display: flex;align-items: stretch;justify-content: center;background-color: white;position: relative;}#sk-container-id-3 div.sk-item::before, #sk-container-id-3 div.sk-parallel-item::before {content: \"\";position: absolute;border-left: 1px solid gray;box-sizing: border-box;top: 0;bottom: 0;left: 50%;z-index: -1;}#sk-container-id-3 div.sk-parallel-item {display: flex;flex-direction: column;z-index: 1;position: relative;background-color: white;}#sk-container-id-3 div.sk-parallel-item:first-child::after {align-self: flex-end;width: 50%;}#sk-container-id-3 div.sk-parallel-item:last-child::after {align-self: flex-start;width: 50%;}#sk-container-id-3 div.sk-parallel-item:only-child::after {width: 0;}#sk-container-id-3 div.sk-dashed-wrapped {border: 1px dashed gray;margin: 0 0.4em 0.5em 0.4em;box-sizing: border-box;padding-bottom: 0.4em;background-color: white;}#sk-container-id-3 div.sk-label label {font-family: monospace;font-weight: bold;display: inline-block;line-height: 1.2em;}#sk-container-id-3 div.sk-label-container {text-align: center;}#sk-container-id-3 div.sk-container {/* jupyter's `normalize.less` sets `[hidden] { display: none; }` but bootstrap.min.css set `[hidden] { display: none !important; }` so we also need the `!important` here to be able to override the default hidden behavior on the sphinx rendered scikit-learn.org. See: https://github.com/scikit-learn/scikit-learn/issues/21755 */display: inline-block !important;position: relative;}#sk-container-id-3 div.sk-text-repr-fallback {display: none;}</style><div id=\"sk-container-id-3\" class=\"sk-top-container\"><div class=\"sk-text-repr-fallback\"><pre>MultinomialNB()</pre><b>In a Jupyter environment, please rerun this cell to show the HTML representation or trust the notebook. <br />On GitHub, the HTML representation is unable to render, please try loading this page with nbviewer.org.</b></div><div class=\"sk-container\" hidden><div class=\"sk-item\"><div class=\"sk-estimator sk-toggleable\"><input class=\"sk-toggleable__control sk-hidden--visually\" id=\"sk-estimator-id-3\" type=\"checkbox\" checked><label for=\"sk-estimator-id-3\" class=\"sk-toggleable__label sk-toggleable__label-arrow\">MultinomialNB</label><div class=\"sk-toggleable__content\"><pre>MultinomialNB()</pre></div></div></div></div></div>"
      ],
      "text/plain": [
       "MultinomialNB()"
      ]
     },
     "execution_count": 38,
     "metadata": {},
     "output_type": "execute_result"
    }
   ],
   "source": [
    "bayes.fit(X_train, y_train)"
   ]
  },
  {
   "cell_type": "code",
   "execution_count": 39,
   "id": "8fe0db2e",
   "metadata": {
    "ExecuteTime": {
     "end_time": "2022-09-12T22:40:30.253148Z",
     "start_time": "2022-09-12T22:40:30.171619Z"
    },
    "id": "8fe0db2e",
    "outputId": "226f8928-82ed-47ab-ceff-f530b1fb648d"
   },
   "outputs": [
    {
     "name": "stdout",
     "output_type": "stream",
     "text": [
      " Roc Validate: 0.986\n",
      " Acc Validate: 0.946\n",
      " Matrix Conf Validate:  \n",
      " [[11562   469]\n",
      " [  878 12233]]\n"
     ]
    }
   ],
   "source": [
    "metricas(bayes, X_train, y_train)"
   ]
  },
  {
   "cell_type": "code",
   "execution_count": 40,
   "id": "212d911d",
   "metadata": {
    "ExecuteTime": {
     "end_time": "2022-09-12T22:40:30.982976Z",
     "start_time": "2022-09-12T22:40:30.279597Z"
    },
    "id": "212d911d"
   },
   "outputs": [],
   "source": [
    "scores = cross_val_score(X=X_train, y=y_train, cv=4, n_jobs=-1, estimator=bayes, scoring=\"roc_auc\")"
   ]
  },
  {
   "cell_type": "code",
   "execution_count": 41,
   "id": "20bd102a",
   "metadata": {
    "ExecuteTime": {
     "end_time": "2022-09-12T22:40:30.988967Z",
     "start_time": "2022-09-12T22:40:30.985271Z"
    },
    "id": "20bd102a",
    "outputId": "8ece9055-2e2e-4643-cb75-db699e16a40e"
   },
   "outputs": [
    {
     "data": {
      "text/plain": [
       "array([0.98720597, 0.98633084, 0.98589685, 0.98447046])"
      ]
     },
     "execution_count": 41,
     "metadata": {},
     "output_type": "execute_result"
    }
   ],
   "source": [
    "scores"
   ]
  },
  {
   "cell_type": "code",
   "execution_count": 42,
   "id": "42c97367",
   "metadata": {
    "ExecuteTime": {
     "end_time": "2022-09-12T22:40:31.144944Z",
     "start_time": "2022-09-12T22:40:30.990452Z"
    },
    "id": "42c97367",
    "outputId": "2a01857e-bf11-40e1-ede2-629adbb3c5be"
   },
   "outputs": [
    {
     "name": "stderr",
     "output_type": "stream",
     "text": [
      "/Users/davidrinconmorales/Documents/env/diplo/lib/python3.10/site-packages/sklearn/utils/deprecation.py:87: FutureWarning:\n",
      "\n",
      "Function plot_roc_curve is deprecated; Function :func:`plot_roc_curve` is deprecated in 1.0 and will be removed in 1.2. Use one of the class methods: :meth:`sklearn.metrics.RocCurveDisplay.from_predictions` or :meth:`sklearn.metrics.RocCurveDisplay.from_estimator`.\n",
      "\n"
     ]
    },
    {
     "data": {
      "text/plain": [
       "<sklearn.metrics._plot.roc_curve.RocCurveDisplay at 0x15a23aa10>"
      ]
     },
     "execution_count": 42,
     "metadata": {},
     "output_type": "execute_result"
    },
    {
     "data": {
      "image/png": "[encoded data removed]",
      "text/plain": [
       "<Figure size 640x480 with 1 Axes>"
      ]
     },
     "metadata": {},
     "output_type": "display_data"
    }
   ],
   "source": [
    "plot_roc_curve(bayes, X_test[best], y_test, drop_intermediate=False)"
   ]
  },
  {
   "cell_type": "markdown",
   "id": "ef10cac4",
   "metadata": {
    "id": "ef10cac4"
   },
   "source": [
    "# Testing"
   ]
  },
  {
   "cell_type": "code",
   "execution_count": 43,
   "id": "14d69eac",
   "metadata": {
    "ExecuteTime": {
     "end_time": "2022-09-12T22:40:31.566228Z",
     "start_time": "2022-09-12T22:40:31.149135Z"
    },
    "id": "14d69eac"
   },
   "outputs": [],
   "source": [
    "test['article'] = test['title'] + test['text']\n",
    "test['clean_article'] = test['title'].map(clean_words) + test['text'].map(clean_words)"
   ]
  },
  {
   "cell_type": "code",
   "execution_count": 44,
   "id": "201eb3b0",
   "metadata": {
    "ExecuteTime": {
     "end_time": "2022-09-12T22:40:31.759300Z",
     "start_time": "2022-09-12T22:40:31.567043Z"
    },
    "id": "201eb3b0"
   },
   "outputs": [],
   "source": [
    "test['n_words'] = test['article'].str.split().map(len)"
   ]
  },
  {
   "cell_type": "code",
   "execution_count": 45,
   "id": "0452d126",
   "metadata": {
    "ExecuteTime": {
     "end_time": "2022-09-12T22:40:32.809060Z",
     "start_time": "2022-09-12T22:40:31.760474Z"
    },
    "id": "0452d126"
   },
   "outputs": [],
   "source": [
    "test['n_letters'] = test['article'].map(lambda x: sum(map(str.isalpha, x)))\n",
    "test['n_lower_ratio_letters'] = test['article'].map(lambda x: sum(map(str.islower, x))) / test['n_letters']\n",
    "test['n_upper_ratio_letters'] = test['article'].map(lambda x: sum(map(str.isupper, x))) / test['n_letters']"
   ]
  },
  {
   "cell_type": "code",
   "execution_count": 46,
   "id": "0fa281b1",
   "metadata": {
    "ExecuteTime": {
     "end_time": "2022-09-12T22:40:32.824106Z",
     "start_time": "2022-09-12T22:40:32.810056Z"
    },
    "id": "0fa281b1"
   },
   "outputs": [],
   "source": [
    "X = test[feat + ['clean_article']]"
   ]
  },
  {
   "cell_type": "code",
   "execution_count": 47,
   "id": "8e3887a4",
   "metadata": {
    "ExecuteTime": {
     "end_time": "2022-09-12T22:40:33.958640Z",
     "start_time": "2022-09-12T22:40:32.825027Z"
    },
    "id": "8e3887a4",
    "outputId": "c6d2ade9-e5ee-4b6d-9b6b-2c7bf5e279a5"
   },
   "outputs": [
    {
     "data": {
      "text/html": [
       "<style>#sk-container-id-4 {color: black;background-color: white;}#sk-container-id-4 pre{padding: 0;}#sk-container-id-4 div.sk-toggleable {background-color: white;}#sk-container-id-4 label.sk-toggleable__label {cursor: pointer;display: block;width: 100%;margin-bottom: 0;padding: 0.3em;box-sizing: border-box;text-align: center;}#sk-container-id-4 label.sk-toggleable__label-arrow:before {content: \"▸\";float: left;margin-right: 0.25em;color: #696969;}#sk-container-id-4 label.sk-toggleable__label-arrow:hover:before {color: black;}#sk-container-id-4 div.sk-estimator:hover label.sk-toggleable__label-arrow:before {color: black;}#sk-container-id-4 div.sk-toggleable__content {max-height: 0;max-width: 0;overflow: hidden;text-align: left;background-color: #f0f8ff;}#sk-container-id-4 div.sk-toggleable__content pre {margin: 0.2em;color: black;border-radius: 0.25em;background-color: #f0f8ff;}#sk-container-id-4 input.sk-toggleable__control:checked~div.sk-toggleable__content {max-height: 200px;max-width: 100%;overflow: auto;}#sk-container-id-4 input.sk-toggleable__control:checked~label.sk-toggleable__label-arrow:before {content: \"▾\";}#sk-container-id-4 div.sk-estimator input.sk-toggleable__control:checked~label.sk-toggleable__label {background-color: #d4ebff;}#sk-container-id-4 div.sk-label input.sk-toggleable__control:checked~label.sk-toggleable__label {background-color: #d4ebff;}#sk-container-id-4 input.sk-hidden--visually {border: 0;clip: rect(1px 1px 1px 1px);clip: rect(1px, 1px, 1px, 1px);height: 1px;margin: -1px;overflow: hidden;padding: 0;position: absolute;width: 1px;}#sk-container-id-4 div.sk-estimator {font-family: monospace;background-color: #f0f8ff;border: 1px dotted black;border-radius: 0.25em;box-sizing: border-box;margin-bottom: 0.5em;}#sk-container-id-4 div.sk-estimator:hover {background-color: #d4ebff;}#sk-container-id-4 div.sk-parallel-item::after {content: \"\";width: 100%;border-bottom: 1px solid gray;flex-grow: 1;}#sk-container-id-4 div.sk-label:hover label.sk-toggleable__label {background-color: #d4ebff;}#sk-container-id-4 div.sk-serial::before {content: \"\";position: absolute;border-left: 1px solid gray;box-sizing: border-box;top: 0;bottom: 0;left: 50%;z-index: 0;}#sk-container-id-4 div.sk-serial {display: flex;flex-direction: column;align-items: center;background-color: white;padding-right: 0.2em;padding-left: 0.2em;position: relative;}#sk-container-id-4 div.sk-item {position: relative;z-index: 1;}#sk-container-id-4 div.sk-parallel {display: flex;align-items: stretch;justify-content: center;background-color: white;position: relative;}#sk-container-id-4 div.sk-item::before, #sk-container-id-4 div.sk-parallel-item::before {content: \"\";position: absolute;border-left: 1px solid gray;box-sizing: border-box;top: 0;bottom: 0;left: 50%;z-index: -1;}#sk-container-id-4 div.sk-parallel-item {display: flex;flex-direction: column;z-index: 1;position: relative;background-color: white;}#sk-container-id-4 div.sk-parallel-item:first-child::after {align-self: flex-end;width: 50%;}#sk-container-id-4 div.sk-parallel-item:last-child::after {align-self: flex-start;width: 50%;}#sk-container-id-4 div.sk-parallel-item:only-child::after {width: 0;}#sk-container-id-4 div.sk-dashed-wrapped {border: 1px dashed gray;margin: 0 0.4em 0.5em 0.4em;box-sizing: border-box;padding-bottom: 0.4em;background-color: white;}#sk-container-id-4 div.sk-label label {font-family: monospace;font-weight: bold;display: inline-block;line-height: 1.2em;}#sk-container-id-4 div.sk-label-container {text-align: center;}#sk-container-id-4 div.sk-container {/* jupyter's `normalize.less` sets `[hidden] { display: none; }` but bootstrap.min.css set `[hidden] { display: none !important; }` so we also need the `!important` here to be able to override the default hidden behavior on the sphinx rendered scikit-learn.org. See: https://github.com/scikit-learn/scikit-learn/issues/21755 */display: inline-block !important;position: relative;}#sk-container-id-4 div.sk-text-repr-fallback {display: none;}</style><div id=\"sk-container-id-4\" class=\"sk-top-container\"><div class=\"sk-text-repr-fallback\"><pre>TfidfVectorizer(max_features=100, min_df=10,\n",
       "                stop_words=[&#x27;i&#x27;, &#x27;me&#x27;, &#x27;my&#x27;, &#x27;myself&#x27;, &#x27;we&#x27;, &#x27;our&#x27;, &#x27;ours&#x27;,\n",
       "                            &#x27;ourselves&#x27;, &#x27;you&#x27;, &quot;you&#x27;re&quot;, &quot;you&#x27;ve&quot;, &quot;you&#x27;ll&quot;,\n",
       "                            &quot;you&#x27;d&quot;, &#x27;your&#x27;, &#x27;yours&#x27;, &#x27;yourself&#x27;, &#x27;yourselves&#x27;,\n",
       "                            &#x27;he&#x27;, &#x27;him&#x27;, &#x27;his&#x27;, &#x27;himself&#x27;, &#x27;she&#x27;, &quot;she&#x27;s&quot;,\n",
       "                            &#x27;her&#x27;, &#x27;hers&#x27;, &#x27;herself&#x27;, &#x27;it&#x27;, &quot;it&#x27;s&quot;, &#x27;its&#x27;,\n",
       "                            &#x27;itself&#x27;, ...])</pre><b>In a Jupyter environment, please rerun this cell to show the HTML representation or trust the notebook. <br />On GitHub, the HTML representation is unable to render, please try loading this page with nbviewer.org.</b></div><div class=\"sk-container\" hidden><div class=\"sk-item\"><div class=\"sk-estimator sk-toggleable\"><input class=\"sk-toggleable__control sk-hidden--visually\" id=\"sk-estimator-id-4\" type=\"checkbox\" checked><label for=\"sk-estimator-id-4\" class=\"sk-toggleable__label sk-toggleable__label-arrow\">TfidfVectorizer</label><div class=\"sk-toggleable__content\"><pre>TfidfVectorizer(max_features=100, min_df=10,\n",
       "                stop_words=[&#x27;i&#x27;, &#x27;me&#x27;, &#x27;my&#x27;, &#x27;myself&#x27;, &#x27;we&#x27;, &#x27;our&#x27;, &#x27;ours&#x27;,\n",
       "                            &#x27;ourselves&#x27;, &#x27;you&#x27;, &quot;you&#x27;re&quot;, &quot;you&#x27;ve&quot;, &quot;you&#x27;ll&quot;,\n",
       "                            &quot;you&#x27;d&quot;, &#x27;your&#x27;, &#x27;yours&#x27;, &#x27;yourself&#x27;, &#x27;yourselves&#x27;,\n",
       "                            &#x27;he&#x27;, &#x27;him&#x27;, &#x27;his&#x27;, &#x27;himself&#x27;, &#x27;she&#x27;, &quot;she&#x27;s&quot;,\n",
       "                            &#x27;her&#x27;, &#x27;hers&#x27;, &#x27;herself&#x27;, &#x27;it&#x27;, &quot;it&#x27;s&quot;, &#x27;its&#x27;,\n",
       "                            &#x27;itself&#x27;, ...])</pre></div></div></div></div></div>"
      ],
      "text/plain": [
       "TfidfVectorizer(max_features=100, min_df=10,\n",
       "                stop_words=['i', 'me', 'my', 'myself', 'we', 'our', 'ours',\n",
       "                            'ourselves', 'you', \"you're\", \"you've\", \"you'll\",\n",
       "                            \"you'd\", 'your', 'yours', 'yourself', 'yourselves',\n",
       "                            'he', 'him', 'his', 'himself', 'she', \"she's\",\n",
       "                            'her', 'hers', 'herself', 'it', \"it's\", 'its',\n",
       "                            'itself', ...])"
      ]
     },
     "execution_count": 47,
     "metadata": {},
     "output_type": "execute_result"
    }
   ],
   "source": [
    "cv.fit(X['clean_article'])"
   ]
  },
  {
   "cell_type": "code",
   "execution_count": 48,
   "id": "e1b8c5b5",
   "metadata": {
    "ExecuteTime": {
     "end_time": "2022-09-12T22:40:34.901702Z",
     "start_time": "2022-09-12T22:40:33.959491Z"
    },
    "id": "e1b8c5b5"
   },
   "outputs": [],
   "source": [
    "X = X[feat].join(pd.DataFrame(data = cv.transform(X['clean_article']).todense(), \n",
    "                                          columns= cv.get_feature_names_out(),\n",
    "                                          index=X.index))"
   ]
  },
  {
   "cell_type": "code",
   "execution_count": 49,
   "id": "317e1dea",
   "metadata": {
    "ExecuteTime": {
     "end_time": "2022-09-12T22:40:34.904618Z",
     "start_time": "2022-09-12T22:40:34.902657Z"
    },
    "id": "317e1dea"
   },
   "outputs": [],
   "source": [
    "X['video'] = 0"
   ]
  },
  {
   "cell_type": "code",
   "execution_count": 50,
   "id": "52754f94",
   "metadata": {
    "ExecuteTime": {
     "end_time": "2022-09-12T22:40:34.910818Z",
     "start_time": "2022-09-12T22:40:34.905295Z"
    },
    "id": "52754f94",
    "outputId": "1f9c64c3-9a4d-4d81-fec1-62fd9aa1420a"
   },
   "outputs": [
    {
     "data": {
      "text/plain": [
       "array([0, 1, 1, ..., 0, 1, 1])"
      ]
     },
     "execution_count": 50,
     "metadata": {},
     "output_type": "execute_result"
    }
   ],
   "source": [
    "bayes.predict(X[best])"
   ]
  },
  {
   "cell_type": "code",
   "execution_count": 51,
   "id": "cbe13539",
   "metadata": {
    "ExecuteTime": {
     "end_time": "2022-09-12T22:40:34.915163Z",
     "start_time": "2022-09-12T22:40:34.912015Z"
    },
    "id": "cbe13539"
   },
   "outputs": [],
   "source": [
    "test['predicted'] = bayes.predict(X[best])"
   ]
  },
  {
   "cell_type": "code",
   "execution_count": 52,
   "id": "e7caee5c",
   "metadata": {
    "ExecuteTime": {
     "end_time": "2022-09-12T22:40:34.921165Z",
     "start_time": "2022-09-12T22:40:34.916005Z"
    },
    "id": "e7caee5c",
    "outputId": "c7b67431-aeae-4977-c7ba-2111cf3f8ad7"
   },
   "outputs": [
    {
     "data": {
      "text/html": [
       "<div>\n",
       "<style scoped>\n",
       "    .dataframe tbody tr th:only-of-type {\n",
       "        vertical-align: middle;\n",
       "    }\n",
       "\n",
       "    .dataframe tbody tr th {\n",
       "        vertical-align: top;\n",
       "    }\n",
       "\n",
       "    .dataframe thead th {\n",
       "        text-align: right;\n",
       "    }\n",
       "</style>\n",
       "<table border=\"1\" class=\"dataframe\">\n",
       "  <thead>\n",
       "    <tr style=\"text-align: right;\">\n",
       "      <th></th>\n",
       "      <th>article</th>\n",
       "      <th>predicted</th>\n",
       "    </tr>\n",
       "  </thead>\n",
       "  <tbody>\n",
       "    <tr>\n",
       "      <th>0</th>\n",
       "      <td>Vietnam police arrest ex-politburo member over misconductHANOI (Reuters) - Vietnamese police on Friday arrested a former top Communist Party offic...</td>\n",
       "      <td>0</td>\n",
       "    </tr>\n",
       "    <tr>\n",
       "      <th>1</th>\n",
       "      <td>IS FOX ABOUT TO BECOME CNN? Leftist Wives Of Liberal Murdoch Sons Blamed For Firing Of Bill O’Reilly…TRASH Trump On Social MediaIt is difficult to...</td>\n",
       "      <td>1</td>\n",
       "    </tr>\n",
       "    <tr>\n",
       "      <th>2</th>\n",
       "      <td>North Carolina Tea Partiers Just ADMITTED They Are The True Terrorists; Trump Administration Does NothingSince Donald Trump began his run for the...</td>\n",
       "      <td>1</td>\n",
       "    </tr>\n",
       "    <tr>\n",
       "      <th>3</th>\n",
       "      <td>Apparently The Speaker Of The House Is Now Taking Advice From Kanye West (TWEET)Just when you thought Republicans couldn t get any worse, they go...</td>\n",
       "      <td>1</td>\n",
       "    </tr>\n",
       "    <tr>\n",
       "      <th>4</th>\n",
       "      <td>HUH? NYT EDITOR Blames “Republican Rage Machine” for Current Political Climate [Video]Talk about projecting! On Fareed Zakaria s CNN show, former ...</td>\n",
       "      <td>1</td>\n",
       "    </tr>\n",
       "    <tr>\n",
       "      <th>...</th>\n",
       "      <td>...</td>\n",
       "      <td>...</td>\n",
       "    </tr>\n",
       "    <tr>\n",
       "      <th>8975</th>\n",
       "      <td>McConnell says U.S. debt ceiling debate could stretch into SeptemberWASHINGTON (Reuters) - U.S. Senate Majority Leader Mitch McConnell on Tuesday ...</td>\n",
       "      <td>0</td>\n",
       "    </tr>\n",
       "    <tr>\n",
       "      <th>8976</th>\n",
       "      <td>Kuwait court sentences MPs to jail terms for storming into parliamentKUWAIT (Reuters) - A Kuwaiti court handed several lawmakers jail terms on Mon...</td>\n",
       "      <td>0</td>\n",
       "    </tr>\n",
       "    <tr>\n",
       "      <th>8977</th>\n",
       "      <td>Democrat wins by one vote in Virginia legislative election recount (Corrects spelling of Virginia House of Delegates member David Yancey throughou...</td>\n",
       "      <td>0</td>\n",
       "    </tr>\n",
       "    <tr>\n",
       "      <th>8978</th>\n",
       "      <td>THE NEW SWEDEN: Rapes, Riots, Severed Heads, Freeloading Foreigners And Shocking AcquittalsThe consequences of throwing out the welcome mat for pe...</td>\n",
       "      <td>1</td>\n",
       "    </tr>\n",
       "    <tr>\n",
       "      <th>8979</th>\n",
       "      <td>Factbox: Trump plan to dismantle 'Dreamer' program draws strong responses(Reuters) - The Trump administration drew vigorous responses to its annou...</td>\n",
       "      <td>1</td>\n",
       "    </tr>\n",
       "  </tbody>\n",
       "</table>\n",
       "<p>8980 rows × 2 columns</p>\n",
       "</div>"
      ],
      "text/plain": [
       "                                                                                                                                                    article  \\\n",
       "0     Vietnam police arrest ex-politburo member over misconductHANOI (Reuters) - Vietnamese police on Friday arrested a former top Communist Party offic...   \n",
       "1     IS FOX ABOUT TO BECOME CNN? Leftist Wives Of Liberal Murdoch Sons Blamed For Firing Of Bill O’Reilly…TRASH Trump On Social MediaIt is difficult to...   \n",
       "2      North Carolina Tea Partiers Just ADMITTED They Are The True Terrorists; Trump Administration Does NothingSince Donald Trump began his run for the...   \n",
       "3      Apparently The Speaker Of The House Is Now Taking Advice From Kanye West (TWEET)Just when you thought Republicans couldn t get any worse, they go...   \n",
       "4     HUH? NYT EDITOR Blames “Republican Rage Machine” for Current Political Climate [Video]Talk about projecting! On Fareed Zakaria s CNN show, former ...   \n",
       "...                                                                                                                                                     ...   \n",
       "8975  McConnell says U.S. debt ceiling debate could stretch into SeptemberWASHINGTON (Reuters) - U.S. Senate Majority Leader Mitch McConnell on Tuesday ...   \n",
       "8976  Kuwait court sentences MPs to jail terms for storming into parliamentKUWAIT (Reuters) - A Kuwaiti court handed several lawmakers jail terms on Mon...   \n",
       "8977  Democrat wins by one vote in Virginia legislative election recount (Corrects spelling of Virginia House of Delegates member David Yancey throughou...   \n",
       "8978  THE NEW SWEDEN: Rapes, Riots, Severed Heads, Freeloading Foreigners And Shocking AcquittalsThe consequences of throwing out the welcome mat for pe...   \n",
       "8979  Factbox: Trump plan to dismantle 'Dreamer' program draws strong responses(Reuters) - The Trump administration drew vigorous responses to its annou...   \n",
       "\n",
       "      predicted  \n",
       "0             0  \n",
       "1             1  \n",
       "2             1  \n",
       "3             1  \n",
       "4             1  \n",
       "...         ...  \n",
       "8975          0  \n",
       "8976          0  \n",
       "8977          0  \n",
       "8978          1  \n",
       "8979          1  \n",
       "\n",
       "[8980 rows x 2 columns]"
      ]
     },
     "execution_count": 52,
     "metadata": {},
     "output_type": "execute_result"
    }
   ],
   "source": [
    "test[['article', 'predicted']]"
   ]
  },
  {
   "cell_type": "code",
   "execution_count": 53,
   "id": "619b3505",
   "metadata": {
    "ExecuteTime": {
     "end_time": "2022-09-12T22:40:34.925932Z",
     "start_time": "2022-09-12T22:40:34.922344Z"
    },
    "id": "619b3505",
    "outputId": "caf35d78-5573-4142-a56b-0a27d713fb74"
   },
   "outputs": [
    {
     "data": {
      "text/plain": [
       "8980"
      ]
     },
     "execution_count": 53,
     "metadata": {},
     "output_type": "execute_result"
    }
   ],
   "source": [
    "bayes.predict(X[best]).size"
   ]
  },
  {
   "cell_type": "code",
   "execution_count": 54,
   "id": "08666e90",
   "metadata": {
    "ExecuteTime": {
     "end_time": "2022-09-12T22:40:34.931222Z",
     "start_time": "2022-09-12T22:40:34.927220Z"
    },
    "id": "08666e90",
    "outputId": "d8790b2c-9055-48be-8289-c1ad3572c6d6"
   },
   "outputs": [
    {
     "data": {
      "text/plain": [
       "4519"
      ]
     },
     "execution_count": 54,
     "metadata": {},
     "output_type": "execute_result"
    }
   ],
   "source": [
    "bayes.predict(X[best]).sum()"
   ]
  },
  {
   "cell_type": "code",
   "execution_count": 55,
   "id": "ee52e21d",
   "metadata": {
    "ExecuteTime": {
     "end_time": "2022-09-12T22:40:34.933777Z",
     "start_time": "2022-09-12T22:40:34.932408Z"
    },
    "id": "ee52e21d"
   },
   "outputs": [],
   "source": [
    "#4468 Real\n",
    "#4512 Fake"
   ]
  }
 ],
 "metadata": {
  "colab": {
   "provenance": []
  },
  "kernelspec": {
   "display_name": "diplo",
   "language": "python",
   "name": "diplo"
  },
  "language_info": {
   "codemirror_mode": {
    "name": "ipython",
    "version": 3
   },
   "file_extension": ".py",
   "mimetype": "text/x-python",
   "name": "python",
   "nbconvert_exporter": "python",
   "pygments_lexer": "ipython3",
   "version": "3.10.7"
  },
  "toc": {
   "base_numbering": 1,
   "nav_menu": {},
   "number_sections": true,
   "sideBar": true,
   "skip_h1_title": false,
   "title_cell": "Table of Contents",
   "title_sidebar": "Contents",
   "toc_cell": false,
   "toc_position": {
    "height": "calc(100% - 180px)",
    "left": "10px",
    "top": "150px",
    "width": "178.391px"
   },
   "toc_section_display": true,
   "toc_window_display": true
  }
 },
 "nbformat": 4,
 "nbformat_minor": 5
}
