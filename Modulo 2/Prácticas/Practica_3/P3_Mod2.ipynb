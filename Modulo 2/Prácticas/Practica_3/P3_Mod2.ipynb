{
 "cells": [
  {
   "cell_type": "markdown",
   "id": "6cd49ff1",
   "metadata": {},
   "source": [
    "# Libraries"
   ]
  },
  {
   "cell_type": "code",
   "execution_count": 70,
   "id": "a40e3994",
   "metadata": {
    "ExecuteTime": {
     "end_time": "2022-09-12T22:17:54.402973Z",
     "start_time": "2022-09-12T22:17:54.386112Z"
    }
   },
   "outputs": [
    {
     "data": {
      "text/html": [
       "        <script type=\"text/javascript\">\n",
       "        window.PlotlyConfig = {MathJaxConfig: 'local'};\n",
       "        if (window.MathJax && window.MathJax.Hub && window.MathJax.Hub.Config) {window.MathJax.Hub.Config({SVG: {font: \"STIX-Web\"}});}\n",
       "        if (typeof require !== 'undefined') {\n",
       "        require.undef(\"plotly\");\n",
       "        requirejs.config({\n",
       "            paths: {\n",
       "                'plotly': ['https://cdn.plot.ly/plotly-2.14.0.min']\n",
       "            }\n",
       "        });\n",
       "        require(['plotly'], function(Plotly) {\n",
       "            window._Plotly = Plotly;\n",
       "        });\n",
       "        }\n",
       "        </script>\n",
       "        "
      ]
     },
     "metadata": {},
     "output_type": "display_data"
    }
   ],
   "source": [
    "import pandas as pd\n",
    "import numpy as np\n",
    "import cufflinks as cf\n",
    "\n",
    "from PIL.Image import open as open_wordcloud\n",
    "\n",
    "import re, unicodedata\n",
    "\n",
    "pd.set_option('display.max_columns',100)\n",
    "cf.go_offline()"
   ]
  },
  {
   "cell_type": "markdown",
   "id": "84954e2d",
   "metadata": {},
   "source": [
    "# Functions"
   ]
  },
  {
   "cell_type": "code",
   "execution_count": 71,
   "id": "ba9d00c0",
   "metadata": {
    "ExecuteTime": {
     "end_time": "2022-09-12T22:18:03.575698Z",
     "start_time": "2022-09-12T22:18:03.568503Z"
    }
   },
   "outputs": [],
   "source": [
    "##quita acentos,vuelve todo a minúsculas y se quitan signos \n",
    "def clean_words(text):\n",
    "    res =  unicodedata.normalize('NFD', text).encode('ascii', 'ignore')\n",
    "    res = re.sub(\"[^a-zA-Z0-9 ]\",\" \", res.decode(\"utf-8\"), flags=re.UNICODE)\n",
    "    res =  u' '.join(res.lower().split())\n",
    "    return res"
   ]
  },
  {
   "cell_type": "markdown",
   "id": "ef662252",
   "metadata": {},
   "source": [
    "# Data Reading"
   ]
  },
  {
   "cell_type": "code",
   "execution_count": 2,
   "id": "580412ba",
   "metadata": {
    "ExecuteTime": {
     "end_time": "2022-09-12T21:45:52.040751Z",
     "start_time": "2022-09-12T21:45:51.317464Z"
    }
   },
   "outputs": [],
   "source": [
    "data = pd.read_csv(\"fake_news_train.csv\")"
   ]
  },
  {
   "cell_type": "code",
   "execution_count": 3,
   "id": "e81d8ccf",
   "metadata": {
    "ExecuteTime": {
     "end_time": "2022-09-12T21:45:54.436665Z",
     "start_time": "2022-09-12T21:45:54.398973Z"
    }
   },
   "outputs": [
    {
     "data": {
      "text/html": [
       "<div>\n",
       "<style scoped>\n",
       "    .dataframe tbody tr th:only-of-type {\n",
       "        vertical-align: middle;\n",
       "    }\n",
       "\n",
       "    .dataframe tbody tr th {\n",
       "        vertical-align: top;\n",
       "    }\n",
       "\n",
       "    .dataframe thead th {\n",
       "        text-align: right;\n",
       "    }\n",
       "</style>\n",
       "<table border=\"1\" class=\"dataframe\">\n",
       "  <thead>\n",
       "    <tr style=\"text-align: right;\">\n",
       "      <th></th>\n",
       "      <th>title</th>\n",
       "      <th>text</th>\n",
       "      <th>subject</th>\n",
       "      <th>date</th>\n",
       "      <th>fake_not</th>\n",
       "    </tr>\n",
       "  </thead>\n",
       "  <tbody>\n",
       "    <tr>\n",
       "      <th>0</th>\n",
       "      <td>Barca's Valverde skirts independence debate as...</td>\n",
       "      <td>MADRID, (Reuters) - Barcelona boss Ernesto Val...</td>\n",
       "      <td>worldnews</td>\n",
       "      <td>October 27, 2017</td>\n",
       "      <td>0</td>\n",
       "    </tr>\n",
       "    <tr>\n",
       "      <th>1</th>\n",
       "      <td>Trump says Brexit wouldn't impact potential UK...</td>\n",
       "      <td>LONDON (Reuters) - Presumptive U.S. Republican...</td>\n",
       "      <td>politicsNews</td>\n",
       "      <td>May 15, 2016</td>\n",
       "      <td>0</td>\n",
       "    </tr>\n",
       "    <tr>\n",
       "      <th>2</th>\n",
       "      <td>Mark Zuckerberg’s PERFECT Facebook Comment To...</td>\n",
       "      <td>There are seldom people in life that you can h...</td>\n",
       "      <td>News</td>\n",
       "      <td>January 4, 2016</td>\n",
       "      <td>1</td>\n",
       "    </tr>\n",
       "    <tr>\n",
       "      <th>3</th>\n",
       "      <td>Suspected U.S. drone targets Haqqani militants...</td>\n",
       "      <td>DERA ISMAIL KHAN, Pakistan (Reuters) - A suspe...</td>\n",
       "      <td>worldnews</td>\n",
       "      <td>November 30, 2017</td>\n",
       "      <td>0</td>\n",
       "    </tr>\n",
       "    <tr>\n",
       "      <th>4</th>\n",
       "      <td>U.S. special envoy encouraged that Kurds could...</td>\n",
       "      <td>ERBIL (Reuters) - Brett McGurk, the U.S. speci...</td>\n",
       "      <td>worldnews</td>\n",
       "      <td>September 14, 2017</td>\n",
       "      <td>0</td>\n",
       "    </tr>\n",
       "  </tbody>\n",
       "</table>\n",
       "</div>"
      ],
      "text/plain": [
       "                                               title  \\\n",
       "0  Barca's Valverde skirts independence debate as...   \n",
       "1  Trump says Brexit wouldn't impact potential UK...   \n",
       "2   Mark Zuckerberg’s PERFECT Facebook Comment To...   \n",
       "3  Suspected U.S. drone targets Haqqani militants...   \n",
       "4  U.S. special envoy encouraged that Kurds could...   \n",
       "\n",
       "                                                text       subject  \\\n",
       "0  MADRID, (Reuters) - Barcelona boss Ernesto Val...     worldnews   \n",
       "1  LONDON (Reuters) - Presumptive U.S. Republican...  politicsNews   \n",
       "2  There are seldom people in life that you can h...          News   \n",
       "3  DERA ISMAIL KHAN, Pakistan (Reuters) - A suspe...     worldnews   \n",
       "4  ERBIL (Reuters) - Brett McGurk, the U.S. speci...     worldnews   \n",
       "\n",
       "                  date  fake_not  \n",
       "0    October 27, 2017          0  \n",
       "1        May 15, 2016          0  \n",
       "2      January 4, 2016         1  \n",
       "3   November 30, 2017          0  \n",
       "4  September 14, 2017          0  "
      ]
     },
     "execution_count": 3,
     "metadata": {},
     "output_type": "execute_result"
    }
   ],
   "source": [
    "data.head()"
   ]
  },
  {
   "cell_type": "code",
   "execution_count": 4,
   "id": "55a728ea",
   "metadata": {
    "ExecuteTime": {
     "end_time": "2022-09-12T21:48:50.727173Z",
     "start_time": "2022-09-12T21:48:50.711471Z"
    }
   },
   "outputs": [
    {
     "data": {
      "text/plain": [
       "(35918, 5)"
      ]
     },
     "execution_count": 4,
     "metadata": {},
     "output_type": "execute_result"
    }
   ],
   "source": [
    "data.shape"
   ]
  },
  {
   "cell_type": "code",
   "execution_count": 5,
   "id": "18da0417",
   "metadata": {
    "ExecuteTime": {
     "end_time": "2022-09-12T21:49:43.631481Z",
     "start_time": "2022-09-12T21:49:43.588655Z"
    }
   },
   "outputs": [
    {
     "name": "stdout",
     "output_type": "stream",
     "text": [
      "<class 'pandas.core.frame.DataFrame'>\n",
      "RangeIndex: 35918 entries, 0 to 35917\n",
      "Data columns (total 5 columns):\n",
      " #   Column    Non-Null Count  Dtype \n",
      "---  ------    --------------  ----- \n",
      " 0   title     35918 non-null  object\n",
      " 1   text      35918 non-null  object\n",
      " 2   subject   35918 non-null  object\n",
      " 3   date      35918 non-null  object\n",
      " 4   fake_not  35918 non-null  int64 \n",
      "dtypes: int64(1), object(4)\n",
      "memory usage: 1.4+ MB\n"
     ]
    }
   ],
   "source": [
    "data.info()"
   ]
  },
  {
   "cell_type": "code",
   "execution_count": 23,
   "id": "8f3ab73c",
   "metadata": {
    "ExecuteTime": {
     "end_time": "2022-09-12T22:06:08.030193Z",
     "start_time": "2022-09-12T22:06:07.933310Z"
    }
   },
   "outputs": [
    {
     "data": {
      "text/plain": [
       "<AxesSubplot:>"
      ]
     },
     "execution_count": 23,
     "metadata": {},
     "output_type": "execute_result"
    },
    {
     "data": {
      "image/png": "[encoded data removed]",
      "text/plain": [
       "<Figure size 640x480 with 1 Axes>"
      ]
     },
     "metadata": {},
     "output_type": "display_data"
    }
   ],
   "source": [
    "data[\"subject\"].value_counts(True).plot.bar()"
   ]
  },
  {
   "cell_type": "code",
   "execution_count": 69,
   "id": "c41ad1fd",
   "metadata": {
    "ExecuteTime": {
     "end_time": "2022-09-12T22:16:52.116239Z",
     "start_time": "2022-09-12T22:16:52.011050Z"
    }
   },
   "outputs": [
    {
     "data": {
      "text/plain": [
       "<AxesSubplot:>"
      ]
     },
     "execution_count": 69,
     "metadata": {},
     "output_type": "execute_result"
    },
    {
     "data": {
      "image/png": "[encoded data removed]",
      "text/plain": [
       "<Figure size 640x480 with 1 Axes>"
      ]
     },
     "metadata": {},
     "output_type": "display_data"
    }
   ],
   "source": [
    "data[\"date\"].str.split(\",\", expand=True)[1].value_counts(True).plot.bar()"
   ]
  },
  {
   "cell_type": "code",
   "execution_count": 74,
   "id": "d08c2634",
   "metadata": {
    "ExecuteTime": {
     "end_time": "2022-09-12T22:19:39.109043Z",
     "start_time": "2022-09-12T22:19:37.595567Z"
    }
   },
   "outputs": [],
   "source": [
    "data[\"title_clean\"] = data[\"title\"].map(clean_words)\n",
    "\n",
    "data[\"text_clean\"] = data[\"text\"].map(clean_words)"
   ]
  },
  {
   "cell_type": "code",
   "execution_count": 77,
   "id": "a79e6fde",
   "metadata": {
    "ExecuteTime": {
     "end_time": "2022-09-12T22:20:16.692969Z",
     "start_time": "2022-09-12T22:20:16.679605Z"
    }
   },
   "outputs": [],
   "source": [
    "data.drop(columns=[\"title\", \"text\"], inplace=True)"
   ]
  },
  {
   "cell_type": "code",
   "execution_count": 78,
   "id": "d989c8f9",
   "metadata": {
    "ExecuteTime": {
     "end_time": "2022-09-12T22:20:29.622951Z",
     "start_time": "2022-09-12T22:20:29.609994Z"
    }
   },
   "outputs": [
    {
     "data": {
      "text/plain": [
       "0        madrid reuters barcelona boss ernesto valverde...\n",
       "1        london reuters presumptive u s republican pres...\n",
       "2        there are seldom people in life that you can h...\n",
       "3        dera ismail khan pakistan reuters a suspected ...\n",
       "4        erbil reuters brett mcgurk the u s special env...\n",
       "                               ...                        \n",
       "35913    ankara reuters a turkish minister appeared to ...\n",
       "35914    oslo reuters norway s liberal party will launc...\n",
       "35915    reuters donald trump knows he could stand to l...\n",
       "35916    amman reuters syrian rebel groups on monday re...\n",
       "35917    beirut reuters lebanon s top court on friday s...\n",
       "Name: text_clean, Length: 35918, dtype: object"
      ]
     },
     "execution_count": 78,
     "metadata": {},
     "output_type": "execute_result"
    }
   ],
   "source": [
    "data[\"text_clean\"]"
   ]
  },
  {
   "cell_type": "code",
   "execution_count": null,
   "id": "71300ce3",
   "metadata": {},
   "outputs": [],
   "source": []
  }
 ],
 "metadata": {
  "kernelspec": {
   "display_name": "diplo",
   "language": "python",
   "name": "diplo"
  },
  "language_info": {
   "codemirror_mode": {
    "name": "ipython",
    "version": 3
   },
   "file_extension": ".py",
   "mimetype": "text/x-python",
   "name": "python",
   "nbconvert_exporter": "python",
   "pygments_lexer": "ipython3",
   "version": "3.10.7"
  },
  "toc": {
   "base_numbering": 1,
   "nav_menu": {},
   "number_sections": true,
   "sideBar": true,
   "skip_h1_title": false,
   "title_cell": "Table of Contents",
   "title_sidebar": "Contents",
   "toc_cell": false,
   "toc_position": {
    "height": "calc(100% - 180px)",
    "left": "10px",
    "top": "150px",
    "width": "203.391px"
   },
   "toc_section_display": true,
   "toc_window_display": true
  }
 },
 "nbformat": 4,
 "nbformat_minor": 5
}
