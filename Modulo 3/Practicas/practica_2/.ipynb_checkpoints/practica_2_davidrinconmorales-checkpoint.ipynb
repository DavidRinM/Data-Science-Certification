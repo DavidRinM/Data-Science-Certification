{
 "cells": [
  {
   "cell_type": "markdown",
   "id": "46ae8f8b",
   "metadata": {},
   "source": [
    "# Objective"
   ]
  },
  {
   "cell_type": "markdown",
   "id": "bb0e7f23",
   "metadata": {},
   "source": [
    "We have an Airbnb database, we need to know if there are similar listings based on their offering.\n",
    "\n",
    "Code must include:\n",
    "\n",
    "- EDA\n",
    "- Diimension scaling\n",
    "- Optimum # of clusters\n",
    "- Clustering\n",
    "- Visualizations\n",
    "- Profiling"
   ]
  },
  {
   "cell_type": "markdown",
   "id": "9c3c73e1",
   "metadata": {},
   "source": [
    "# Libraries"
   ]
  },
  {
   "cell_type": "code",
   "execution_count": 1,
   "id": "b5d833ff",
   "metadata": {
    "ExecuteTime": {
     "end_time": "2022-11-08T00:34:05.451014Z",
     "start_time": "2022-11-08T00:34:03.838348Z"
    }
   },
   "outputs": [],
   "source": [
    "#Basic libraries\n",
    "import pandas as pd\n",
    "import numpy as np\n",
    "\n",
    "#Visualizations\n",
    "import matplotlib.pyplot as plt\n",
    "from matplotlib import style\n",
    "import seaborn as sns\n",
    "import plotly.express as px\n",
    "\n",
    "#Sentiment Analysis\n",
    "import nltk\n",
    "from nltk.corpus import stopwords\n",
    "\n",
    "import wordcloud\n",
    "\n",
    "#Missing Values\n",
    "from sklearn.impute import SimpleImputer\n",
    "from scipy.stats import ks_2samp\n",
    "\n",
    "#Outliers\n",
    "from sklearn.ensemble import IsolationForest\n",
    "\n",
    "#Multicolinealidad\n",
    "from varclushi import VarClusHi\n",
    "\n",
    "#Scaling\n",
    "from sklearn.preprocessing import StandardScaler\n",
    "\n",
    "#Dimensional Scaling\n",
    "from sklearn.decomposition import PCA\n",
    "from sklearn.manifold import TSNE\n",
    "\n",
    "#Clustering\n",
    "from sklearn.metrics import silhouette_samples, silhouette_score\n",
    "from yellowbrick.cluster import KElbowVisualizer\n",
    "from sklearn.cluster import KMeans, AgglomerativeClustering\n",
    "from sklearn.metrics import calinski_harabasz_score\n",
    "from scipy.cluster.hierarchy import linkage,cophenet,dendrogram\n",
    "from scipy.spatial.distance import pdist\n",
    "\n",
    "\n",
    "#Settings\n",
    "#pd.options.display.float_format = '{:.5f}'.format  -> We remove scientific notion for floats w/5 decimals\n",
    "pd.set_option(\"display.max_columns\", 500)\n",
    "pd.set_option(\"display.max_rows\", 500)\n",
    "%matplotlib inline\n",
    "style.use(\"ggplot\")\n",
    "plt.rcParams[\"figure.figsize\"] = (8,6)"
   ]
  },
  {
   "cell_type": "markdown",
   "id": "2e099086",
   "metadata": {},
   "source": [
    "# Functions"
   ]
  },
  {
   "cell_type": "code",
   "execution_count": 2,
   "id": "c4c081bc",
   "metadata": {
    "ExecuteTime": {
     "end_time": "2022-11-08T00:34:05.454139Z",
     "start_time": "2022-11-08T00:34:05.452339Z"
    }
   },
   "outputs": [],
   "source": [
    "def remove_dollar_sign(df, v):\n",
    "    \n",
    "    df[v] = df[v].map(lambda x: x.replace(\"$\", \"\").replace(\",\",\"\")).astype(float)\n",
    "    \n",
    "    return df"
   ]
  },
  {
   "cell_type": "code",
   "execution_count": 3,
   "id": "560392ef",
   "metadata": {
    "ExecuteTime": {
     "end_time": "2022-11-08T00:34:05.457199Z",
     "start_time": "2022-11-08T00:34:05.455153Z"
    }
   },
   "outputs": [],
   "source": [
    "def remove_percentage(df, v):\n",
    "    \n",
    "    df[v] = df[v].astype(str)\n",
    "    df[v] = df[v].map(lambda x: x.strip(\"%\")).astype(float)\n",
    "    df[v] = df[v].map(lambda x: x/100).astype(float)\n",
    "    \n",
    "    return df"
   ]
  },
  {
   "cell_type": "code",
   "execution_count": 4,
   "id": "e323a9dc",
   "metadata": {
    "ExecuteTime": {
     "end_time": "2022-11-08T00:34:05.461378Z",
     "start_time": "2022-11-08T00:34:05.459070Z"
    }
   },
   "outputs": [],
   "source": [
    "##quita acentos,vuelve todo a minúsculas y se quitan signos \n",
    "def clean_words(text):\n",
    "    res =  unicodedata.normalize('NFD', text).encode('ascii', 'ignore')\n",
    "    res = re.sub(\"[^a-zA-Z0-9 ]\",\" \", res.decode(\"utf-8\"), flags=re.UNICODE)\n",
    "    res =  u' '.join(res.lower().split())\n",
    "    return res"
   ]
  },
  {
   "cell_type": "code",
   "execution_count": 5,
   "id": "fa7693f7",
   "metadata": {
    "ExecuteTime": {
     "end_time": "2022-11-08T00:34:05.465750Z",
     "start_time": "2022-11-08T00:34:05.462671Z"
    }
   },
   "outputs": [],
   "source": [
    "# Requencies\n",
    "def freq(df, var):\n",
    "    \n",
    "    \"\"\"Prints a table of frequencies for discrete variables of a dataframe\n",
    "    \n",
    "    Parameters\n",
    "    -----\n",
    "    df: Base Dataframe to print\n",
    "    var: Name of the variable to print\n",
    "    \n",
    "    \"\"\"\n",
    "    \n",
    "    if type(var) != list:\n",
    "        var = [var]\n",
    "    \n",
    "    for v in var:\n",
    "        aux = df[v].value_counts().to_frame().rename(columns={v:'FA'})\n",
    "        aux['FR'] = aux['FA'] / aux['FA'].sum()\n",
    "        aux[['FAA','FRA']] = aux.apply( np.cumsum )\n",
    "        print(f\"Frequencies table for variable {v} \\n\")    \n",
    "        print(aux,\"\\n\")"
   ]
  },
  {
   "cell_type": "code",
   "execution_count": 6,
   "id": "91e4bea6",
   "metadata": {
    "ExecuteTime": {
     "end_time": "2022-11-08T00:34:05.470168Z",
     "start_time": "2022-11-08T00:34:05.466794Z"
    }
   },
   "outputs": [],
   "source": [
    "def normalize(df, v, umbral):\n",
    "    \n",
    "    \"\"\"Normalizes discrete variables based on a defined statistical threshhold and renames \n",
    "    the columns as v_name_of_the_variable\n",
    "    \n",
    "    Parameters\n",
    "    -----\n",
    "    df: Dataframe to normalize\n",
    "    v: Name of the Discrete Variable to normalize\n",
    "    umbral: Statistical threshhold to use\n",
    "    \n",
    "    \"\"\"\n",
    "    \n",
    "    aux = df[v].value_counts(True).to_frame()\n",
    "    aux[f'v_{v}'] = np.where( aux[v] < umbral , 'SMALL_CATEGORIES', aux.index   )\n",
    "    moda = aux.head(1)[f'v_{v}'].values[0]\n",
    "    if aux.loc[aux[f'v_{v}'] == 'SMALL_CATEGORIES'][v].sum() < umbral: \n",
    "        aux[f'v_{v}'].replace({'SMALL_CATEGORIES':moda},inplace=True)\n",
    "\n",
    "    aux.drop(v,axis=1, inplace=True)\n",
    "    aux.reset_index(inplace=True)\n",
    "\n",
    "    return df.merge(aux, left_on=[v], right_on='index',how='inner').drop('index',axis=1)"
   ]
  },
  {
   "cell_type": "code",
   "execution_count": 7,
   "id": "f27b300e",
   "metadata": {
    "ExecuteTime": {
     "end_time": "2022-11-08T00:34:05.473096Z",
     "start_time": "2022-11-08T00:34:05.471173Z"
    }
   },
   "outputs": [],
   "source": [
    "def cvar_rename(df, v):\n",
    "    \n",
    "    \"\"\" Holomogates names of the continuous variables of a dataframe as:\n",
    "    \n",
    "    \"c_name_of_the_variable\"\n",
    "    \n",
    "    Parameters:\n",
    "    -----\n",
    "    df: Dataframe to modify\n",
    "    v: Name of each column\n",
    "    \n",
    "    \"\"\"\n",
    "    \n",
    "    df[f'c_{v}'] = df[v].copy()\n",
    "    df.drop(columns=v, inplace = True)\n",
    "    \n",
    "    return df"
   ]
  },
  {
   "cell_type": "code",
   "execution_count": 8,
   "id": "54e5c131",
   "metadata": {
    "ExecuteTime": {
     "end_time": "2022-11-08T00:34:05.476649Z",
     "start_time": "2022-11-08T00:34:05.474028Z"
    }
   },
   "outputs": [],
   "source": [
    "def score_silhouette(X, min_comp, max_comp):\n",
    "    \"\"\"\n",
    "    \"\"\"\n",
    "    silhouette = []\n",
    "    \n",
    "    for k in range(min_compm, max_comp):\n",
    "        km = KMeans(n_clusters=k)\n",
    "        km.fit(X)\n",
    "        score= silhouette_score(X, km.labels_, metric=\"euclidean\")\n",
    "        silhouette.append(score)\n",
    "        \n",
    "    df_silhouette = pd.DataFrame()\n",
    "    df_silhouette[\"N_cluster\"] = range(min_comp, max_comp)\n",
    "    df_silhouette[\"Score\"] = silhouette\n",
    "    \n",
    "    fig = px.line(df_silhouette, x = \"N_cluster\", y = \"Score\", title= \" Optimum Number of Clusters - Silhouette\")\n",
    "    return fig.show()"
   ]
  },
  {
   "cell_type": "code",
   "execution_count": 9,
   "id": "ecfd03c3",
   "metadata": {
    "ExecuteTime": {
     "end_time": "2022-11-08T00:34:05.480280Z",
     "start_time": "2022-11-08T00:34:05.477860Z"
    }
   },
   "outputs": [],
   "source": [
    "def elbow(X,min_comp,max_comp):\n",
    "    model = KMeans()\n",
    "\n",
    "    visualizer = KElbowVisualizer(model, k=(min_comp,max_comp)).fit(X)\n",
    "    return visualizer.show()"
   ]
  },
  {
   "cell_type": "code",
   "execution_count": 10,
   "id": "b9abd7e4",
   "metadata": {
    "ExecuteTime": {
     "end_time": "2022-11-08T00:34:05.485554Z",
     "start_time": "2022-11-08T00:34:05.482984Z"
    }
   },
   "outputs": [],
   "source": [
    "def score_calinski(X,min_comp,max_comp):\n",
    "    calinski = []\n",
    "    \n",
    "    for k in list(range(min_comp, max_comp)):\n",
    "        km = KMeans(n_clusters=k)\n",
    "        km.fit(X_std)\n",
    "        labels = km.fit_predict(X)\n",
    "        score = calinski_harabasz_score(X,labels)\n",
    "        calinski.append(score)\n",
    "        \n",
    "    df_calinski=pd.DataFrame()\n",
    "    df_calinski[\"N_Cluster\"]=range(min_comp,max_comp)\n",
    "    df_calinski[\"Score\"]=calinski\n",
    "    \n",
    "    fig = px.line(df_calinski, x=\"N_Cluster\", y=\"Score\", title=\"Optimum number of Clusters - Calinski\") \n",
    "    return fig.show()"
   ]
  },
  {
   "cell_type": "markdown",
   "id": "f8bfa91f",
   "metadata": {},
   "source": [
    "# Data Reading"
   ]
  },
  {
   "cell_type": "code",
   "execution_count": 11,
   "id": "28865bca",
   "metadata": {
    "ExecuteTime": {
     "end_time": "2022-11-08T00:34:14.084371Z",
     "start_time": "2022-11-08T00:34:05.486622Z"
    }
   },
   "outputs": [
    {
     "name": "stderr",
     "output_type": "stream",
     "text": [
      "/var/folders/y3/zm6lbc553ylc_67x7h3k3fhh0000gn/T/ipykernel_9944/3803060994.py:1: DtypeWarning: Columns (67) have mixed types. Specify dtype option on import or set low_memory=False.\n",
      "  listings = pd.read_csv(\"./data/listings.csv\")\n"
     ]
    }
   ],
   "source": [
    "listings = pd.read_csv(\"./data/listings.csv\")\n",
    "calendar = pd.read_csv(\"./data/calendar.csv\")\n",
    "reviews = pd.read_csv(\"./data/reviews.csv\")"
   ]
  },
  {
   "cell_type": "markdown",
   "id": "316e6def",
   "metadata": {},
   "source": [
    "# Data Cleaning"
   ]
  },
  {
   "cell_type": "markdown",
   "id": "19464b9f",
   "metadata": {},
   "source": [
    "## Listings dataframe"
   ]
  },
  {
   "cell_type": "code",
   "execution_count": 12,
   "id": "20551ee7",
   "metadata": {
    "ExecuteTime": {
     "end_time": "2022-11-08T00:34:14.109377Z",
     "start_time": "2022-11-08T00:34:14.085477Z"
    }
   },
   "outputs": [
    {
     "data": {
      "text/html": [
       "<div>\n",
       "<style scoped>\n",
       "    .dataframe tbody tr th:only-of-type {\n",
       "        vertical-align: middle;\n",
       "    }\n",
       "\n",
       "    .dataframe tbody tr th {\n",
       "        vertical-align: top;\n",
       "    }\n",
       "\n",
       "    .dataframe thead th {\n",
       "        text-align: right;\n",
       "    }\n",
       "</style>\n",
       "<table border=\"1\" class=\"dataframe\">\n",
       "  <thead>\n",
       "    <tr style=\"text-align: right;\">\n",
       "      <th></th>\n",
       "      <th>id</th>\n",
       "      <th>listing_url</th>\n",
       "      <th>scrape_id</th>\n",
       "      <th>last_scraped</th>\n",
       "      <th>name</th>\n",
       "      <th>description</th>\n",
       "      <th>neighborhood_overview</th>\n",
       "      <th>picture_url</th>\n",
       "      <th>host_id</th>\n",
       "      <th>host_url</th>\n",
       "      <th>host_name</th>\n",
       "      <th>host_since</th>\n",
       "      <th>host_location</th>\n",
       "      <th>host_about</th>\n",
       "      <th>host_response_time</th>\n",
       "      <th>host_response_rate</th>\n",
       "      <th>host_acceptance_rate</th>\n",
       "      <th>host_is_superhost</th>\n",
       "      <th>host_thumbnail_url</th>\n",
       "      <th>host_picture_url</th>\n",
       "      <th>host_neighbourhood</th>\n",
       "      <th>host_listings_count</th>\n",
       "      <th>host_total_listings_count</th>\n",
       "      <th>host_verifications</th>\n",
       "      <th>host_has_profile_pic</th>\n",
       "      <th>host_identity_verified</th>\n",
       "      <th>neighbourhood</th>\n",
       "      <th>neighbourhood_cleansed</th>\n",
       "      <th>neighbourhood_group_cleansed</th>\n",
       "      <th>latitude</th>\n",
       "      <th>longitude</th>\n",
       "      <th>property_type</th>\n",
       "      <th>room_type</th>\n",
       "      <th>accommodates</th>\n",
       "      <th>bathrooms</th>\n",
       "      <th>bathrooms_text</th>\n",
       "      <th>bedrooms</th>\n",
       "      <th>beds</th>\n",
       "      <th>amenities</th>\n",
       "      <th>price</th>\n",
       "      <th>minimum_nights</th>\n",
       "      <th>maximum_nights</th>\n",
       "      <th>minimum_minimum_nights</th>\n",
       "      <th>maximum_minimum_nights</th>\n",
       "      <th>minimum_maximum_nights</th>\n",
       "      <th>maximum_maximum_nights</th>\n",
       "      <th>minimum_nights_avg_ntm</th>\n",
       "      <th>maximum_nights_avg_ntm</th>\n",
       "      <th>calendar_updated</th>\n",
       "      <th>has_availability</th>\n",
       "      <th>availability_30</th>\n",
       "      <th>availability_60</th>\n",
       "      <th>availability_90</th>\n",
       "      <th>availability_365</th>\n",
       "      <th>calendar_last_scraped</th>\n",
       "      <th>number_of_reviews</th>\n",
       "      <th>number_of_reviews_ltm</th>\n",
       "      <th>number_of_reviews_l30d</th>\n",
       "      <th>first_review</th>\n",
       "      <th>last_review</th>\n",
       "      <th>review_scores_rating</th>\n",
       "      <th>review_scores_accuracy</th>\n",
       "      <th>review_scores_cleanliness</th>\n",
       "      <th>review_scores_checkin</th>\n",
       "      <th>review_scores_communication</th>\n",
       "      <th>review_scores_location</th>\n",
       "      <th>review_scores_value</th>\n",
       "      <th>license</th>\n",
       "      <th>instant_bookable</th>\n",
       "      <th>calculated_host_listings_count</th>\n",
       "      <th>calculated_host_listings_count_entire_homes</th>\n",
       "      <th>calculated_host_listings_count_private_rooms</th>\n",
       "      <th>calculated_host_listings_count_shared_rooms</th>\n",
       "      <th>reviews_per_month</th>\n",
       "    </tr>\n",
       "  </thead>\n",
       "  <tbody>\n",
       "    <tr>\n",
       "      <th>0</th>\n",
       "      <td>2595</td>\n",
       "      <td>https://www.airbnb.com/rooms/2595</td>\n",
       "      <td>20211204143024</td>\n",
       "      <td>2021-12-05</td>\n",
       "      <td>Skylit Midtown Castle</td>\n",
       "      <td>Beautiful, spacious skylit studio in the heart...</td>\n",
       "      <td>Centrally located in the heart of Manhattan ju...</td>\n",
       "      <td>https://a0.muscache.com/pictures/f0813a11-40b2...</td>\n",
       "      <td>2845</td>\n",
       "      <td>https://www.airbnb.com/users/show/2845</td>\n",
       "      <td>Jennifer</td>\n",
       "      <td>2008-09-09</td>\n",
       "      <td>New York, New York, United States</td>\n",
       "      <td>A New Yorker since 2000! My passion is creatin...</td>\n",
       "      <td>within a day</td>\n",
       "      <td>80%</td>\n",
       "      <td>17%</td>\n",
       "      <td>f</td>\n",
       "      <td>https://a0.muscache.com/im/pictures/user/50fc5...</td>\n",
       "      <td>https://a0.muscache.com/im/pictures/user/50fc5...</td>\n",
       "      <td>Midtown</td>\n",
       "      <td>8.0</td>\n",
       "      <td>8.0</td>\n",
       "      <td>['email', 'phone', 'reviews', 'offline_governm...</td>\n",
       "      <td>t</td>\n",
       "      <td>t</td>\n",
       "      <td>New York, United States</td>\n",
       "      <td>Midtown</td>\n",
       "      <td>Manhattan</td>\n",
       "      <td>40.75356</td>\n",
       "      <td>-73.98559</td>\n",
       "      <td>Entire rental unit</td>\n",
       "      <td>Entire home/apt</td>\n",
       "      <td>1</td>\n",
       "      <td>NaN</td>\n",
       "      <td>1 bath</td>\n",
       "      <td>NaN</td>\n",
       "      <td>1.0</td>\n",
       "      <td>[\"Extra pillows and blankets\", \"Baking sheet\",...</td>\n",
       "      <td>$150.00</td>\n",
       "      <td>30</td>\n",
       "      <td>1125</td>\n",
       "      <td>30.0</td>\n",
       "      <td>30.0</td>\n",
       "      <td>1125.0</td>\n",
       "      <td>1125.0</td>\n",
       "      <td>30.0</td>\n",
       "      <td>1125.0</td>\n",
       "      <td>NaN</td>\n",
       "      <td>t</td>\n",
       "      <td>3</td>\n",
       "      <td>33</td>\n",
       "      <td>63</td>\n",
       "      <td>338</td>\n",
       "      <td>2021-12-05</td>\n",
       "      <td>48</td>\n",
       "      <td>0</td>\n",
       "      <td>0</td>\n",
       "      <td>2009-11-21</td>\n",
       "      <td>2019-11-04</td>\n",
       "      <td>4.70</td>\n",
       "      <td>4.72</td>\n",
       "      <td>4.62</td>\n",
       "      <td>4.76</td>\n",
       "      <td>4.79</td>\n",
       "      <td>4.86</td>\n",
       "      <td>4.41</td>\n",
       "      <td>NaN</td>\n",
       "      <td>f</td>\n",
       "      <td>3</td>\n",
       "      <td>3</td>\n",
       "      <td>0</td>\n",
       "      <td>0</td>\n",
       "      <td>0.33</td>\n",
       "    </tr>\n",
       "    <tr>\n",
       "      <th>1</th>\n",
       "      <td>3831</td>\n",
       "      <td>https://www.airbnb.com/rooms/3831</td>\n",
       "      <td>20211204143024</td>\n",
       "      <td>2021-12-05</td>\n",
       "      <td>Whole flr w/private bdrm, bath &amp; kitchen(pls r...</td>\n",
       "      <td>Enjoy 500 s.f. top floor in 1899 brownstone, w...</td>\n",
       "      <td>Just the right mix of urban center and local n...</td>\n",
       "      <td>https://a0.muscache.com/pictures/e49999c2-9fd5...</td>\n",
       "      <td>4869</td>\n",
       "      <td>https://www.airbnb.com/users/show/4869</td>\n",
       "      <td>LisaRoxanne</td>\n",
       "      <td>2008-12-07</td>\n",
       "      <td>New York, New York, United States</td>\n",
       "      <td>Laid-back Native New Yorker (formerly bi-coast...</td>\n",
       "      <td>a few days or more</td>\n",
       "      <td>9%</td>\n",
       "      <td>69%</td>\n",
       "      <td>f</td>\n",
       "      <td>https://a0.muscache.com/im/users/4869/profile_...</td>\n",
       "      <td>https://a0.muscache.com/im/users/4869/profile_...</td>\n",
       "      <td>Clinton Hill</td>\n",
       "      <td>1.0</td>\n",
       "      <td>1.0</td>\n",
       "      <td>['email', 'phone', 'reviews', 'offline_governm...</td>\n",
       "      <td>t</td>\n",
       "      <td>t</td>\n",
       "      <td>Brooklyn, New York, United States</td>\n",
       "      <td>Bedford-Stuyvesant</td>\n",
       "      <td>Brooklyn</td>\n",
       "      <td>40.68494</td>\n",
       "      <td>-73.95765</td>\n",
       "      <td>Entire guest suite</td>\n",
       "      <td>Entire home/apt</td>\n",
       "      <td>3</td>\n",
       "      <td>NaN</td>\n",
       "      <td>1 bath</td>\n",
       "      <td>1.0</td>\n",
       "      <td>3.0</td>\n",
       "      <td>[\"Extra pillows and blankets\", \"Luggage dropof...</td>\n",
       "      <td>$75.00</td>\n",
       "      <td>1</td>\n",
       "      <td>730</td>\n",
       "      <td>1.0</td>\n",
       "      <td>1.0</td>\n",
       "      <td>730.0</td>\n",
       "      <td>730.0</td>\n",
       "      <td>1.0</td>\n",
       "      <td>730.0</td>\n",
       "      <td>NaN</td>\n",
       "      <td>t</td>\n",
       "      <td>3</td>\n",
       "      <td>6</td>\n",
       "      <td>18</td>\n",
       "      <td>194</td>\n",
       "      <td>2021-12-05</td>\n",
       "      <td>409</td>\n",
       "      <td>32</td>\n",
       "      <td>0</td>\n",
       "      <td>2015-01-05</td>\n",
       "      <td>2021-10-22</td>\n",
       "      <td>4.45</td>\n",
       "      <td>4.58</td>\n",
       "      <td>4.49</td>\n",
       "      <td>4.78</td>\n",
       "      <td>4.80</td>\n",
       "      <td>4.71</td>\n",
       "      <td>4.64</td>\n",
       "      <td>NaN</td>\n",
       "      <td>f</td>\n",
       "      <td>1</td>\n",
       "      <td>1</td>\n",
       "      <td>0</td>\n",
       "      <td>0</td>\n",
       "      <td>4.86</td>\n",
       "    </tr>\n",
       "    <tr>\n",
       "      <th>2</th>\n",
       "      <td>5121</td>\n",
       "      <td>https://www.airbnb.com/rooms/5121</td>\n",
       "      <td>20211204143024</td>\n",
       "      <td>2021-12-05</td>\n",
       "      <td>BlissArtsSpace!</td>\n",
       "      <td>&lt;b&gt;The space&lt;/b&gt;&lt;br /&gt;HELLO EVERYONE AND THANK...</td>\n",
       "      <td>NaN</td>\n",
       "      <td>https://a0.muscache.com/pictures/2090980c-b68e...</td>\n",
       "      <td>7356</td>\n",
       "      <td>https://www.airbnb.com/users/show/7356</td>\n",
       "      <td>Garon</td>\n",
       "      <td>2009-02-03</td>\n",
       "      <td>New York, New York, United States</td>\n",
       "      <td>I am an artist(painter, filmmaker) and curato...</td>\n",
       "      <td>within an hour</td>\n",
       "      <td>100%</td>\n",
       "      <td>100%</td>\n",
       "      <td>f</td>\n",
       "      <td>https://a0.muscache.com/im/pictures/user/72a61...</td>\n",
       "      <td>https://a0.muscache.com/im/pictures/user/72a61...</td>\n",
       "      <td>Bedford-Stuyvesant</td>\n",
       "      <td>1.0</td>\n",
       "      <td>1.0</td>\n",
       "      <td>['email', 'phone', 'facebook', 'reviews', 'off...</td>\n",
       "      <td>t</td>\n",
       "      <td>t</td>\n",
       "      <td>NaN</td>\n",
       "      <td>Bedford-Stuyvesant</td>\n",
       "      <td>Brooklyn</td>\n",
       "      <td>40.68535</td>\n",
       "      <td>-73.95512</td>\n",
       "      <td>Private room in rental unit</td>\n",
       "      <td>Private room</td>\n",
       "      <td>2</td>\n",
       "      <td>NaN</td>\n",
       "      <td>NaN</td>\n",
       "      <td>1.0</td>\n",
       "      <td>1.0</td>\n",
       "      <td>[\"Kitchen\", \"Long term stays allowed\", \"Wifi\",...</td>\n",
       "      <td>$60.00</td>\n",
       "      <td>30</td>\n",
       "      <td>730</td>\n",
       "      <td>30.0</td>\n",
       "      <td>30.0</td>\n",
       "      <td>730.0</td>\n",
       "      <td>730.0</td>\n",
       "      <td>30.0</td>\n",
       "      <td>730.0</td>\n",
       "      <td>NaN</td>\n",
       "      <td>t</td>\n",
       "      <td>30</td>\n",
       "      <td>60</td>\n",
       "      <td>90</td>\n",
       "      <td>365</td>\n",
       "      <td>2021-12-05</td>\n",
       "      <td>50</td>\n",
       "      <td>0</td>\n",
       "      <td>0</td>\n",
       "      <td>2014-01-22</td>\n",
       "      <td>2016-06-05</td>\n",
       "      <td>4.52</td>\n",
       "      <td>4.22</td>\n",
       "      <td>4.09</td>\n",
       "      <td>4.91</td>\n",
       "      <td>4.91</td>\n",
       "      <td>4.47</td>\n",
       "      <td>4.52</td>\n",
       "      <td>NaN</td>\n",
       "      <td>f</td>\n",
       "      <td>2</td>\n",
       "      <td>0</td>\n",
       "      <td>2</td>\n",
       "      <td>0</td>\n",
       "      <td>0.52</td>\n",
       "    </tr>\n",
       "    <tr>\n",
       "      <th>3</th>\n",
       "      <td>5136</td>\n",
       "      <td>https://www.airbnb.com/rooms/5136</td>\n",
       "      <td>20211204143024</td>\n",
       "      <td>2021-12-05</td>\n",
       "      <td>Spacious Brooklyn Duplex, Patio + Garden</td>\n",
       "      <td>We welcome you to stay in our lovely 2 br dupl...</td>\n",
       "      <td>NaN</td>\n",
       "      <td>https://a0.muscache.com/pictures/miso/Hosting-...</td>\n",
       "      <td>7378</td>\n",
       "      <td>https://www.airbnb.com/users/show/7378</td>\n",
       "      <td>Rebecca</td>\n",
       "      <td>2009-02-03</td>\n",
       "      <td>Brooklyn, New York, United States</td>\n",
       "      <td>Rebecca is an artist/designer, and Henoch is i...</td>\n",
       "      <td>within a day</td>\n",
       "      <td>100%</td>\n",
       "      <td>25%</td>\n",
       "      <td>f</td>\n",
       "      <td>https://a0.muscache.com/im/users/7378/profile_...</td>\n",
       "      <td>https://a0.muscache.com/im/users/7378/profile_...</td>\n",
       "      <td>Greenwood Heights</td>\n",
       "      <td>1.0</td>\n",
       "      <td>1.0</td>\n",
       "      <td>['email', 'phone', 'reviews']</td>\n",
       "      <td>t</td>\n",
       "      <td>t</td>\n",
       "      <td>NaN</td>\n",
       "      <td>Sunset Park</td>\n",
       "      <td>Brooklyn</td>\n",
       "      <td>40.66265</td>\n",
       "      <td>-73.99454</td>\n",
       "      <td>Entire rental unit</td>\n",
       "      <td>Entire home/apt</td>\n",
       "      <td>4</td>\n",
       "      <td>NaN</td>\n",
       "      <td>1.5 baths</td>\n",
       "      <td>2.0</td>\n",
       "      <td>2.0</td>\n",
       "      <td>[\"Kitchen\", \"BBQ grill\", \"Cable TV\", \"Carbon m...</td>\n",
       "      <td>$275.00</td>\n",
       "      <td>5</td>\n",
       "      <td>1125</td>\n",
       "      <td>5.0</td>\n",
       "      <td>5.0</td>\n",
       "      <td>1125.0</td>\n",
       "      <td>1125.0</td>\n",
       "      <td>5.0</td>\n",
       "      <td>1125.0</td>\n",
       "      <td>NaN</td>\n",
       "      <td>t</td>\n",
       "      <td>3</td>\n",
       "      <td>3</td>\n",
       "      <td>12</td>\n",
       "      <td>123</td>\n",
       "      <td>2021-12-05</td>\n",
       "      <td>2</td>\n",
       "      <td>1</td>\n",
       "      <td>0</td>\n",
       "      <td>2014-01-02</td>\n",
       "      <td>2021-08-08</td>\n",
       "      <td>5.00</td>\n",
       "      <td>5.00</td>\n",
       "      <td>5.00</td>\n",
       "      <td>5.00</td>\n",
       "      <td>5.00</td>\n",
       "      <td>4.50</td>\n",
       "      <td>5.00</td>\n",
       "      <td>NaN</td>\n",
       "      <td>f</td>\n",
       "      <td>1</td>\n",
       "      <td>1</td>\n",
       "      <td>0</td>\n",
       "      <td>0</td>\n",
       "      <td>0.02</td>\n",
       "    </tr>\n",
       "    <tr>\n",
       "      <th>4</th>\n",
       "      <td>5178</td>\n",
       "      <td>https://www.airbnb.com/rooms/5178</td>\n",
       "      <td>20211204143024</td>\n",
       "      <td>2021-12-05</td>\n",
       "      <td>Large Furnished Room Near B'way</td>\n",
       "      <td>Please don’t expect the luxury here just a bas...</td>\n",
       "      <td>Theater district, many restaurants around here.</td>\n",
       "      <td>https://a0.muscache.com/pictures/12065/f070997...</td>\n",
       "      <td>8967</td>\n",
       "      <td>https://www.airbnb.com/users/show/8967</td>\n",
       "      <td>Shunichi</td>\n",
       "      <td>2009-03-03</td>\n",
       "      <td>New York, New York, United States</td>\n",
       "      <td>I used to work for a financial industry but no...</td>\n",
       "      <td>within a day</td>\n",
       "      <td>100%</td>\n",
       "      <td>100%</td>\n",
       "      <td>f</td>\n",
       "      <td>https://a0.muscache.com/im/users/8967/profile_...</td>\n",
       "      <td>https://a0.muscache.com/im/users/8967/profile_...</td>\n",
       "      <td>Hell's Kitchen</td>\n",
       "      <td>1.0</td>\n",
       "      <td>1.0</td>\n",
       "      <td>['email', 'phone', 'facebook', 'reviews']</td>\n",
       "      <td>t</td>\n",
       "      <td>f</td>\n",
       "      <td>New York, United States</td>\n",
       "      <td>Midtown</td>\n",
       "      <td>Manhattan</td>\n",
       "      <td>40.76457</td>\n",
       "      <td>-73.98317</td>\n",
       "      <td>Private room in rental unit</td>\n",
       "      <td>Private room</td>\n",
       "      <td>2</td>\n",
       "      <td>NaN</td>\n",
       "      <td>1 bath</td>\n",
       "      <td>1.0</td>\n",
       "      <td>1.0</td>\n",
       "      <td>[\"Room-darkening shades\", \"Lock on bedroom doo...</td>\n",
       "      <td>$68.00</td>\n",
       "      <td>2</td>\n",
       "      <td>14</td>\n",
       "      <td>2.0</td>\n",
       "      <td>2.0</td>\n",
       "      <td>14.0</td>\n",
       "      <td>14.0</td>\n",
       "      <td>2.0</td>\n",
       "      <td>14.0</td>\n",
       "      <td>NaN</td>\n",
       "      <td>t</td>\n",
       "      <td>1</td>\n",
       "      <td>16</td>\n",
       "      <td>34</td>\n",
       "      <td>192</td>\n",
       "      <td>2021-12-05</td>\n",
       "      <td>507</td>\n",
       "      <td>33</td>\n",
       "      <td>2</td>\n",
       "      <td>2010-08-18</td>\n",
       "      <td>2021-11-08</td>\n",
       "      <td>4.21</td>\n",
       "      <td>4.21</td>\n",
       "      <td>3.73</td>\n",
       "      <td>4.66</td>\n",
       "      <td>4.42</td>\n",
       "      <td>4.87</td>\n",
       "      <td>4.36</td>\n",
       "      <td>NaN</td>\n",
       "      <td>f</td>\n",
       "      <td>1</td>\n",
       "      <td>0</td>\n",
       "      <td>1</td>\n",
       "      <td>0</td>\n",
       "      <td>3.68</td>\n",
       "    </tr>\n",
       "  </tbody>\n",
       "</table>\n",
       "</div>"
      ],
      "text/plain": [
       "     id                        listing_url       scrape_id last_scraped  \\\n",
       "0  2595  https://www.airbnb.com/rooms/2595  20211204143024   2021-12-05   \n",
       "1  3831  https://www.airbnb.com/rooms/3831  20211204143024   2021-12-05   \n",
       "2  5121  https://www.airbnb.com/rooms/5121  20211204143024   2021-12-05   \n",
       "3  5136  https://www.airbnb.com/rooms/5136  20211204143024   2021-12-05   \n",
       "4  5178  https://www.airbnb.com/rooms/5178  20211204143024   2021-12-05   \n",
       "\n",
       "                                                name  \\\n",
       "0                              Skylit Midtown Castle   \n",
       "1  Whole flr w/private bdrm, bath & kitchen(pls r...   \n",
       "2                                    BlissArtsSpace!   \n",
       "3           Spacious Brooklyn Duplex, Patio + Garden   \n",
       "4                   Large Furnished Room Near B'way　   \n",
       "\n",
       "                                         description  \\\n",
       "0  Beautiful, spacious skylit studio in the heart...   \n",
       "1  Enjoy 500 s.f. top floor in 1899 brownstone, w...   \n",
       "2  <b>The space</b><br />HELLO EVERYONE AND THANK...   \n",
       "3  We welcome you to stay in our lovely 2 br dupl...   \n",
       "4  Please don’t expect the luxury here just a bas...   \n",
       "\n",
       "                               neighborhood_overview  \\\n",
       "0  Centrally located in the heart of Manhattan ju...   \n",
       "1  Just the right mix of urban center and local n...   \n",
       "2                                                NaN   \n",
       "3                                                NaN   \n",
       "4    Theater district, many restaurants around here.   \n",
       "\n",
       "                                         picture_url  host_id  \\\n",
       "0  https://a0.muscache.com/pictures/f0813a11-40b2...     2845   \n",
       "1  https://a0.muscache.com/pictures/e49999c2-9fd5...     4869   \n",
       "2  https://a0.muscache.com/pictures/2090980c-b68e...     7356   \n",
       "3  https://a0.muscache.com/pictures/miso/Hosting-...     7378   \n",
       "4  https://a0.muscache.com/pictures/12065/f070997...     8967   \n",
       "\n",
       "                                 host_url    host_name  host_since  \\\n",
       "0  https://www.airbnb.com/users/show/2845     Jennifer  2008-09-09   \n",
       "1  https://www.airbnb.com/users/show/4869  LisaRoxanne  2008-12-07   \n",
       "2  https://www.airbnb.com/users/show/7356        Garon  2009-02-03   \n",
       "3  https://www.airbnb.com/users/show/7378      Rebecca  2009-02-03   \n",
       "4  https://www.airbnb.com/users/show/8967     Shunichi  2009-03-03   \n",
       "\n",
       "                       host_location  \\\n",
       "0  New York, New York, United States   \n",
       "1  New York, New York, United States   \n",
       "2  New York, New York, United States   \n",
       "3  Brooklyn, New York, United States   \n",
       "4  New York, New York, United States   \n",
       "\n",
       "                                          host_about  host_response_time  \\\n",
       "0  A New Yorker since 2000! My passion is creatin...        within a day   \n",
       "1  Laid-back Native New Yorker (formerly bi-coast...  a few days or more   \n",
       "2   I am an artist(painter, filmmaker) and curato...      within an hour   \n",
       "3  Rebecca is an artist/designer, and Henoch is i...        within a day   \n",
       "4  I used to work for a financial industry but no...        within a day   \n",
       "\n",
       "  host_response_rate host_acceptance_rate host_is_superhost  \\\n",
       "0                80%                  17%                 f   \n",
       "1                 9%                  69%                 f   \n",
       "2               100%                 100%                 f   \n",
       "3               100%                  25%                 f   \n",
       "4               100%                 100%                 f   \n",
       "\n",
       "                                  host_thumbnail_url  \\\n",
       "0  https://a0.muscache.com/im/pictures/user/50fc5...   \n",
       "1  https://a0.muscache.com/im/users/4869/profile_...   \n",
       "2  https://a0.muscache.com/im/pictures/user/72a61...   \n",
       "3  https://a0.muscache.com/im/users/7378/profile_...   \n",
       "4  https://a0.muscache.com/im/users/8967/profile_...   \n",
       "\n",
       "                                    host_picture_url  host_neighbourhood  \\\n",
       "0  https://a0.muscache.com/im/pictures/user/50fc5...             Midtown   \n",
       "1  https://a0.muscache.com/im/users/4869/profile_...        Clinton Hill   \n",
       "2  https://a0.muscache.com/im/pictures/user/72a61...  Bedford-Stuyvesant   \n",
       "3  https://a0.muscache.com/im/users/7378/profile_...   Greenwood Heights   \n",
       "4  https://a0.muscache.com/im/users/8967/profile_...      Hell's Kitchen   \n",
       "\n",
       "   host_listings_count  host_total_listings_count  \\\n",
       "0                  8.0                        8.0   \n",
       "1                  1.0                        1.0   \n",
       "2                  1.0                        1.0   \n",
       "3                  1.0                        1.0   \n",
       "4                  1.0                        1.0   \n",
       "\n",
       "                                  host_verifications host_has_profile_pic  \\\n",
       "0  ['email', 'phone', 'reviews', 'offline_governm...                    t   \n",
       "1  ['email', 'phone', 'reviews', 'offline_governm...                    t   \n",
       "2  ['email', 'phone', 'facebook', 'reviews', 'off...                    t   \n",
       "3                      ['email', 'phone', 'reviews']                    t   \n",
       "4          ['email', 'phone', 'facebook', 'reviews']                    t   \n",
       "\n",
       "  host_identity_verified                      neighbourhood  \\\n",
       "0                      t            New York, United States   \n",
       "1                      t  Brooklyn, New York, United States   \n",
       "2                      t                                NaN   \n",
       "3                      t                                NaN   \n",
       "4                      f            New York, United States   \n",
       "\n",
       "  neighbourhood_cleansed neighbourhood_group_cleansed  latitude  longitude  \\\n",
       "0                Midtown                    Manhattan  40.75356  -73.98559   \n",
       "1     Bedford-Stuyvesant                     Brooklyn  40.68494  -73.95765   \n",
       "2     Bedford-Stuyvesant                     Brooklyn  40.68535  -73.95512   \n",
       "3            Sunset Park                     Brooklyn  40.66265  -73.99454   \n",
       "4                Midtown                    Manhattan  40.76457  -73.98317   \n",
       "\n",
       "                 property_type        room_type  accommodates  bathrooms  \\\n",
       "0           Entire rental unit  Entire home/apt             1        NaN   \n",
       "1           Entire guest suite  Entire home/apt             3        NaN   \n",
       "2  Private room in rental unit     Private room             2        NaN   \n",
       "3           Entire rental unit  Entire home/apt             4        NaN   \n",
       "4  Private room in rental unit     Private room             2        NaN   \n",
       "\n",
       "  bathrooms_text  bedrooms  beds  \\\n",
       "0         1 bath       NaN   1.0   \n",
       "1         1 bath       1.0   3.0   \n",
       "2            NaN       1.0   1.0   \n",
       "3      1.5 baths       2.0   2.0   \n",
       "4         1 bath       1.0   1.0   \n",
       "\n",
       "                                           amenities    price  minimum_nights  \\\n",
       "0  [\"Extra pillows and blankets\", \"Baking sheet\",...  $150.00              30   \n",
       "1  [\"Extra pillows and blankets\", \"Luggage dropof...   $75.00               1   \n",
       "2  [\"Kitchen\", \"Long term stays allowed\", \"Wifi\",...   $60.00              30   \n",
       "3  [\"Kitchen\", \"BBQ grill\", \"Cable TV\", \"Carbon m...  $275.00               5   \n",
       "4  [\"Room-darkening shades\", \"Lock on bedroom doo...   $68.00               2   \n",
       "\n",
       "   maximum_nights  minimum_minimum_nights  maximum_minimum_nights  \\\n",
       "0            1125                    30.0                    30.0   \n",
       "1             730                     1.0                     1.0   \n",
       "2             730                    30.0                    30.0   \n",
       "3            1125                     5.0                     5.0   \n",
       "4              14                     2.0                     2.0   \n",
       "\n",
       "   minimum_maximum_nights  maximum_maximum_nights  minimum_nights_avg_ntm  \\\n",
       "0                  1125.0                  1125.0                    30.0   \n",
       "1                   730.0                   730.0                     1.0   \n",
       "2                   730.0                   730.0                    30.0   \n",
       "3                  1125.0                  1125.0                     5.0   \n",
       "4                    14.0                    14.0                     2.0   \n",
       "\n",
       "   maximum_nights_avg_ntm  calendar_updated has_availability  availability_30  \\\n",
       "0                  1125.0               NaN                t                3   \n",
       "1                   730.0               NaN                t                3   \n",
       "2                   730.0               NaN                t               30   \n",
       "3                  1125.0               NaN                t                3   \n",
       "4                    14.0               NaN                t                1   \n",
       "\n",
       "   availability_60  availability_90  availability_365 calendar_last_scraped  \\\n",
       "0               33               63               338            2021-12-05   \n",
       "1                6               18               194            2021-12-05   \n",
       "2               60               90               365            2021-12-05   \n",
       "3                3               12               123            2021-12-05   \n",
       "4               16               34               192            2021-12-05   \n",
       "\n",
       "   number_of_reviews  number_of_reviews_ltm  number_of_reviews_l30d  \\\n",
       "0                 48                      0                       0   \n",
       "1                409                     32                       0   \n",
       "2                 50                      0                       0   \n",
       "3                  2                      1                       0   \n",
       "4                507                     33                       2   \n",
       "\n",
       "  first_review last_review  review_scores_rating  review_scores_accuracy  \\\n",
       "0   2009-11-21  2019-11-04                  4.70                    4.72   \n",
       "1   2015-01-05  2021-10-22                  4.45                    4.58   \n",
       "2   2014-01-22  2016-06-05                  4.52                    4.22   \n",
       "3   2014-01-02  2021-08-08                  5.00                    5.00   \n",
       "4   2010-08-18  2021-11-08                  4.21                    4.21   \n",
       "\n",
       "   review_scores_cleanliness  review_scores_checkin  \\\n",
       "0                       4.62                   4.76   \n",
       "1                       4.49                   4.78   \n",
       "2                       4.09                   4.91   \n",
       "3                       5.00                   5.00   \n",
       "4                       3.73                   4.66   \n",
       "\n",
       "   review_scores_communication  review_scores_location  review_scores_value  \\\n",
       "0                         4.79                    4.86                 4.41   \n",
       "1                         4.80                    4.71                 4.64   \n",
       "2                         4.91                    4.47                 4.52   \n",
       "3                         5.00                    4.50                 5.00   \n",
       "4                         4.42                    4.87                 4.36   \n",
       "\n",
       "  license instant_bookable  calculated_host_listings_count  \\\n",
       "0     NaN                f                               3   \n",
       "1     NaN                f                               1   \n",
       "2     NaN                f                               2   \n",
       "3     NaN                f                               1   \n",
       "4     NaN                f                               1   \n",
       "\n",
       "   calculated_host_listings_count_entire_homes  \\\n",
       "0                                            3   \n",
       "1                                            1   \n",
       "2                                            0   \n",
       "3                                            1   \n",
       "4                                            0   \n",
       "\n",
       "   calculated_host_listings_count_private_rooms  \\\n",
       "0                                             0   \n",
       "1                                             0   \n",
       "2                                             2   \n",
       "3                                             0   \n",
       "4                                             1   \n",
       "\n",
       "   calculated_host_listings_count_shared_rooms  reviews_per_month  \n",
       "0                                            0               0.33  \n",
       "1                                            0               4.86  \n",
       "2                                            0               0.52  \n",
       "3                                            0               0.02  \n",
       "4                                            0               3.68  "
      ]
     },
     "execution_count": 12,
     "metadata": {},
     "output_type": "execute_result"
    }
   ],
   "source": [
    "listings.head()"
   ]
  },
  {
   "cell_type": "code",
   "execution_count": 13,
   "id": "63aa81c6",
   "metadata": {
    "ExecuteTime": {
     "end_time": "2022-11-08T00:34:14.114928Z",
     "start_time": "2022-11-08T00:34:14.110703Z"
    }
   },
   "outputs": [
    {
     "data": {
      "text/plain": [
       "((38277, 74), 38277)"
      ]
     },
     "execution_count": 13,
     "metadata": {},
     "output_type": "execute_result"
    }
   ],
   "source": [
    "#We check there are no duplicate values on the id, we can proceed\n",
    "listings.shape, len(listings[\"id\"].unique())"
   ]
  },
  {
   "cell_type": "markdown",
   "id": "519e12a2",
   "metadata": {},
   "source": [
    "### Unnecessary Columns"
   ]
  },
  {
   "cell_type": "code",
   "execution_count": 14,
   "id": "13389a16",
   "metadata": {
    "ExecuteTime": {
     "end_time": "2022-11-08T00:34:14.128994Z",
     "start_time": "2022-11-08T00:34:14.115957Z"
    }
   },
   "outputs": [],
   "source": [
    "\"\"\"\n",
    "\n",
    "According to the dictionary, there are some columns that are the same, we drop them.\n",
    "Also, the coordinates (longitud, lagitud), scrape_id and the last_scraped columns are useless at the moment\n",
    "\n",
    "\"\"\"\n",
    "listings.drop(columns=[\n",
    "    \"host_id\",\n",
    "    \"name\",\n",
    "    \"calendar_last_scraped\",\n",
    "    \"first_review\",\n",
    "    \"last_review\",\n",
    "    \"description\",\n",
    "    \"amenities\",\n",
    "    \"latitude\",\n",
    "    \"longitude\",\n",
    "    \"scrape_id\",\n",
    "    \"last_scraped\",\n",
    "    \"host_listings_count\",\n",
    "    \"minimum_minimum_nights\",\n",
    "    \"maximum_minimum_nights\",\n",
    "    \"minimum_maximum_nights\",\n",
    "    \"maximum_maximum_nights\",\n",
    "    \"minimum_nights_avg_ntm\",\n",
    "    \"maximum_nights_avg_ntm\"\n",
    "], axis=1, inplace = True)"
   ]
  },
  {
   "cell_type": "code",
   "execution_count": 15,
   "id": "2fcc2b72",
   "metadata": {
    "ExecuteTime": {
     "end_time": "2022-11-08T00:34:14.218379Z",
     "start_time": "2022-11-08T00:34:14.130069Z"
    },
    "scrolled": true
   },
   "outputs": [
    {
     "data": {
      "text/plain": [
       "id                                              0.000000\n",
       "listing_url                                     0.000000\n",
       "neighborhood_overview                           0.408261\n",
       "picture_url                                     0.000000\n",
       "host_url                                        0.000000\n",
       "host_name                                       0.000888\n",
       "host_since                                      0.000888\n",
       "host_location                                   0.003579\n",
       "host_about                                      0.421898\n",
       "host_response_time                              0.449173\n",
       "host_response_rate                              0.449173\n",
       "host_acceptance_rate                            0.430703\n",
       "host_is_superhost                               0.000888\n",
       "host_thumbnail_url                              0.000888\n",
       "host_picture_url                                0.000888\n",
       "host_neighbourhood                              0.195000\n",
       "host_total_listings_count                       0.000888\n",
       "host_verifications                              0.000000\n",
       "host_has_profile_pic                            0.000888\n",
       "host_identity_verified                          0.000888\n",
       "neighbourhood                                   0.408235\n",
       "neighbourhood_cleansed                          0.000000\n",
       "neighbourhood_group_cleansed                    0.000000\n",
       "property_type                                   0.000000\n",
       "room_type                                       0.000000\n",
       "accommodates                                    0.000000\n",
       "bathrooms                                       1.000000\n",
       "bathrooms_text                                  0.002795\n",
       "bedrooms                                        0.103848\n",
       "beds                                            0.062831\n",
       "price                                           0.000000\n",
       "minimum_nights                                  0.000000\n",
       "maximum_nights                                  0.000000\n",
       "calendar_updated                                1.000000\n",
       "has_availability                                0.000000\n",
       "availability_30                                 0.000000\n",
       "availability_60                                 0.000000\n",
       "availability_90                                 0.000000\n",
       "availability_365                                0.000000\n",
       "number_of_reviews                               0.000000\n",
       "number_of_reviews_ltm                           0.000000\n",
       "number_of_reviews_l30d                          0.000000\n",
       "review_scores_rating                            0.248295\n",
       "review_scores_accuracy                          0.264284\n",
       "review_scores_cleanliness                       0.263997\n",
       "review_scores_checkin                           0.264467\n",
       "review_scores_communication                     0.264180\n",
       "review_scores_location                          0.264545\n",
       "review_scores_value                             0.264571\n",
       "license                                         0.999974\n",
       "instant_bookable                                0.000000\n",
       "calculated_host_listings_count                  0.000000\n",
       "calculated_host_listings_count_entire_homes     0.000000\n",
       "calculated_host_listings_count_private_rooms    0.000000\n",
       "calculated_host_listings_count_shared_rooms     0.000000\n",
       "reviews_per_month                               0.248295\n",
       "dtype: float64"
      ]
     },
     "execution_count": 15,
     "metadata": {},
     "output_type": "execute_result"
    }
   ],
   "source": [
    "\"\"\"\n",
    "\n",
    "We have a lot of missing value, most of them related to the host,\n",
    "the rest are related to the preperty characteristics.\n",
    "\n",
    "\"\"\"\n",
    "\n",
    "miss_listings = 1 - listings.count() / len(listings)\n",
    "miss_listings"
   ]
  },
  {
   "cell_type": "code",
   "execution_count": 16,
   "id": "77079042",
   "metadata": {
    "ExecuteTime": {
     "end_time": "2022-11-08T00:34:14.244225Z",
     "start_time": "2022-11-08T00:34:14.219366Z"
    }
   },
   "outputs": [],
   "source": [
    "#Now we drop the columns with very high missings (most related to the host)\n",
    "listings.drop(columns=[\"bathrooms\", \"calendar_updated\"], axis = 1, inplace = True)\n",
    "listings = listings.reset_index(drop = True)"
   ]
  },
  {
   "cell_type": "code",
   "execution_count": 17,
   "id": "2083c33d",
   "metadata": {
    "ExecuteTime": {
     "end_time": "2022-11-08T00:34:14.263492Z",
     "start_time": "2022-11-08T00:34:14.245151Z"
    }
   },
   "outputs": [],
   "source": [
    "#In addition to the missing values, we have 2 empty columns: bathrooms & calendar_updated\n",
    "#We will drop them as they are useless\n",
    "\n",
    "listings.drop(columns=[\"neighborhood_overview\", \"host_name\", \"host_about\",\n",
    "                       \"host_response_time\", \"neighbourhood\", \"license\",\n",
    "                       \"host_verifications\", \"host_neighbourhood\"], axis = 1, inplace = True)\n",
    "listings = listings.reset_index(drop = True)"
   ]
  },
  {
   "cell_type": "code",
   "execution_count": 18,
   "id": "92d61912",
   "metadata": {
    "ExecuteTime": {
     "end_time": "2022-11-08T00:34:14.280174Z",
     "start_time": "2022-11-08T00:34:14.264608Z"
    }
   },
   "outputs": [],
   "source": [
    "#We drop the url columns as they are useless\n",
    "listings.drop(columns=[\"listing_url\", \"picture_url\", \"host_url\", \"host_thumbnail_url\",\n",
    "                       \"host_picture_url\"], axis = 1, inplace = True)\n",
    "listings = listings.reset_index(drop = True)"
   ]
  },
  {
   "cell_type": "markdown",
   "id": "e05659e7",
   "metadata": {},
   "source": [
    "### Replacing Boolean Values for 0 & 1's"
   ]
  },
  {
   "cell_type": "code",
   "execution_count": 19,
   "id": "781d3cdd",
   "metadata": {
    "ExecuteTime": {
     "end_time": "2022-11-08T00:34:14.342242Z",
     "start_time": "2022-11-08T00:34:14.281338Z"
    }
   },
   "outputs": [],
   "source": [
    "listings[\"host_is_superhost\"].replace({\"f\":0, \"t\":1}, inplace=True)\n",
    "listings[\"host_has_profile_pic\"].replace({\"f\":0, \"t\":1}, inplace=True)\n",
    "listings[\"host_identity_verified\"].replace({\"f\":0, \"t\":1}, inplace=True)\n",
    "listings[\"has_availability\"].replace({\"f\":0, \"t\":1}, inplace=True)\n",
    "listings[\"instant_bookable\"].replace({\"f\":0, \"t\":1}, inplace=True)"
   ]
  },
  {
   "cell_type": "markdown",
   "id": "78b4881f",
   "metadata": {},
   "source": [
    "### Obtaining # of Bathrooms from text"
   ]
  },
  {
   "cell_type": "code",
   "execution_count": 20,
   "id": "74be7dd4",
   "metadata": {
    "ExecuteTime": {
     "end_time": "2022-11-08T00:34:14.348628Z",
     "start_time": "2022-11-08T00:34:14.343193Z"
    },
    "scrolled": true
   },
   "outputs": [
    {
     "data": {
      "text/plain": [
       "1 bath               0.516034\n",
       "1 shared bath        0.248808\n",
       "1 private bath       0.072256\n",
       "2 baths              0.057663\n",
       "2 shared baths       0.029552\n",
       "1.5 baths            0.027220\n",
       "1.5 shared baths     0.018680\n",
       "2.5 baths            0.008043\n",
       "3 baths              0.004847\n",
       "0 shared baths       0.003720\n",
       "2.5 shared baths     0.002567\n",
       "3 shared baths       0.002463\n",
       "3.5 baths            0.002070\n",
       "4 baths              0.001520\n",
       "0 baths              0.001127\n",
       "Half-bath            0.001048\n",
       "4.5 baths            0.000550\n",
       "Shared half-bath     0.000393\n",
       "4 shared baths       0.000288\n",
       "5 baths              0.000288\n",
       "Private half-bath    0.000288\n",
       "5.5 baths            0.000131\n",
       "6 baths              0.000131\n",
       "8 baths              0.000079\n",
       "3.5 shared baths     0.000052\n",
       "7.5 baths            0.000052\n",
       "6 shared baths       0.000052\n",
       "4.5 shared baths     0.000026\n",
       "6.5 baths            0.000026\n",
       "7 baths              0.000026\n",
       "Name: bathrooms_text, dtype: float64"
      ]
     },
     "execution_count": 20,
     "metadata": {},
     "output_type": "execute_result"
    }
   ],
   "source": [
    "# We need to normalize this information just with numbers\n",
    "listings[\"bathrooms_text\"].value_counts(True)"
   ]
  },
  {
   "cell_type": "code",
   "execution_count": 21,
   "id": "5fcb71cc",
   "metadata": {
    "ExecuteTime": {
     "end_time": "2022-11-08T00:34:14.355384Z",
     "start_time": "2022-11-08T00:34:14.349578Z"
    }
   },
   "outputs": [],
   "source": [
    "#We don't care if a bathroom is shared or not\n",
    "listings[\"bathrooms_text\"].replace({\n",
    "    \"Shared half-bath\": \"0.5\",\n",
    "    \"Private half-bath\": \"0.5\",\n",
    "    \"Half-bath\": \"0.5\"\n",
    "}, inplace=True)"
   ]
  },
  {
   "cell_type": "code",
   "execution_count": 22,
   "id": "770bd4cf",
   "metadata": {
    "ExecuteTime": {
     "end_time": "2022-11-08T00:34:14.370559Z",
     "start_time": "2022-11-08T00:34:14.356167Z"
    }
   },
   "outputs": [],
   "source": [
    "#Now we split each string and we keep the first item (the number), then we convert it into floats\n",
    "listings[\"bathrooms_text\"] = listings[\"bathrooms_text\"].astype(str)\n",
    "listings[\"bathrooms_text\"] = listings[\"bathrooms_text\"].map(lambda x: x.split(\" \")[0]).astype(float)"
   ]
  },
  {
   "cell_type": "code",
   "execution_count": 23,
   "id": "4ee238e8",
   "metadata": {
    "ExecuteTime": {
     "end_time": "2022-11-08T00:34:14.373761Z",
     "start_time": "2022-11-08T00:34:14.371518Z"
    }
   },
   "outputs": [],
   "source": [
    "# Then we rename the column for \"Bathrroms\"\n",
    "\n",
    "listings.rename({\"bathrooms_text\": \"Bathrooms\"}, axis=1, inplace = True)"
   ]
  },
  {
   "cell_type": "markdown",
   "id": "76182753",
   "metadata": {},
   "source": [
    "### Remove Dollar Sign"
   ]
  },
  {
   "cell_type": "code",
   "execution_count": 24,
   "id": "c36933c4",
   "metadata": {
    "ExecuteTime": {
     "end_time": "2022-11-08T00:34:14.389601Z",
     "start_time": "2022-11-08T00:34:14.374784Z"
    }
   },
   "outputs": [],
   "source": [
    "listings = remove_dollar_sign(listings, \"price\")"
   ]
  },
  {
   "cell_type": "markdown",
   "id": "b3d61b4b",
   "metadata": {},
   "source": [
    "### Obtaining Year when Host Joined"
   ]
  },
  {
   "cell_type": "code",
   "execution_count": 25,
   "id": "c9e801db",
   "metadata": {
    "ExecuteTime": {
     "end_time": "2022-11-08T00:34:14.402046Z",
     "start_time": "2022-11-08T00:34:14.390618Z"
    }
   },
   "outputs": [],
   "source": [
    "# Currently, the host_since column is treated as a string\n",
    "listings[\"host_since\"] = pd.to_datetime(listings[\"host_since\"]).dt.year"
   ]
  },
  {
   "cell_type": "code",
   "execution_count": 26,
   "id": "1a952aa9",
   "metadata": {
    "ExecuteTime": {
     "end_time": "2022-11-08T00:34:14.408120Z",
     "start_time": "2022-11-08T00:34:14.403055Z"
    }
   },
   "outputs": [],
   "source": [
    "#We have some missing value in this column, we fill them with the median as they're <1% of the data\n",
    "#and convert the column into int\n",
    "listings[\"host_since\"].fillna(listings[\"host_since\"].median(), inplace=True)\n",
    "\n",
    "listings[\"host_since\"] = listings[\"host_since\"].astype(int)"
   ]
  },
  {
   "cell_type": "code",
   "execution_count": 27,
   "id": "8c6df6c6",
   "metadata": {
    "ExecuteTime": {
     "end_time": "2022-11-08T00:34:14.412449Z",
     "start_time": "2022-11-08T00:34:14.409100Z"
    }
   },
   "outputs": [
    {
     "data": {
      "text/plain": [
       "0        2008\n",
       "1        2008\n",
       "2        2009\n",
       "3        2009\n",
       "4        2009\n",
       "         ... \n",
       "38272    2016\n",
       "38273    2016\n",
       "38274    2020\n",
       "38275    2020\n",
       "38276    2016\n",
       "Name: host_since, Length: 38277, dtype: int64"
      ]
     },
     "execution_count": 27,
     "metadata": {},
     "output_type": "execute_result"
    }
   ],
   "source": [
    "listings[\"host_since\"].astype(int)"
   ]
  },
  {
   "cell_type": "markdown",
   "id": "08c33ddd",
   "metadata": {},
   "source": [
    "### Clean Host Location (State)"
   ]
  },
  {
   "cell_type": "code",
   "execution_count": 28,
   "id": "5389b02b",
   "metadata": {
    "ExecuteTime": {
     "end_time": "2022-11-08T00:34:14.425668Z",
     "start_time": "2022-11-08T00:34:14.417917Z"
    }
   },
   "outputs": [],
   "source": [
    "\"\"\"\n",
    "\n",
    "We have some host that have undisclosed location within the US,\n",
    "We'll replace them with the category \"Unknown\"\n",
    "\n",
    "\"\"\"\n",
    "listings[\"host_location\"].replace({\"US\": \"Unknown\"}, inplace = True)\n",
    "listings[\"host_location\"] = listings[\"host_location\"].astype(str)"
   ]
  },
  {
   "cell_type": "code",
   "execution_count": 29,
   "id": "ed19cc23",
   "metadata": {
    "ExecuteTime": {
     "end_time": "2022-11-08T00:34:14.442912Z",
     "start_time": "2022-11-08T00:34:14.426643Z"
    }
   },
   "outputs": [],
   "source": [
    "#Now we split the values and get the midone\n",
    "\n",
    "listings[\"host_location\"] = listings[\"host_location\"].astype(str)\n",
    "\n",
    "#We split the column into a list and then slect the second item if the lenght of the list > 1, if not, leave x\n",
    "listings[\"host_location\"] = listings[\"host_location\"].map(lambda x: x.split(\", \")[1] if len(x.split(\", \")) > 1 else x)"
   ]
  },
  {
   "cell_type": "markdown",
   "id": "97542607",
   "metadata": {},
   "source": [
    "### Convert Percentages into decimals"
   ]
  },
  {
   "cell_type": "code",
   "execution_count": 30,
   "id": "738f5689",
   "metadata": {
    "ExecuteTime": {
     "end_time": "2022-11-08T00:34:14.487726Z",
     "start_time": "2022-11-08T00:34:14.444221Z"
    }
   },
   "outputs": [],
   "source": [
    "listings = remove_percentage(listings, \"host_response_rate\")\n",
    "listings = remove_percentage(listings, \"host_acceptance_rate\")"
   ]
  },
  {
   "cell_type": "code",
   "execution_count": 31,
   "id": "7b4591a5",
   "metadata": {
    "ExecuteTime": {
     "end_time": "2022-11-08T00:34:14.509511Z",
     "start_time": "2022-11-08T00:34:14.494581Z"
    }
   },
   "outputs": [
    {
     "data": {
      "text/html": [
       "<div>\n",
       "<style scoped>\n",
       "    .dataframe tbody tr th:only-of-type {\n",
       "        vertical-align: middle;\n",
       "    }\n",
       "\n",
       "    .dataframe tbody tr th {\n",
       "        vertical-align: top;\n",
       "    }\n",
       "\n",
       "    .dataframe thead th {\n",
       "        text-align: right;\n",
       "    }\n",
       "</style>\n",
       "<table border=\"1\" class=\"dataframe\">\n",
       "  <thead>\n",
       "    <tr style=\"text-align: right;\">\n",
       "      <th></th>\n",
       "      <th>id</th>\n",
       "      <th>host_since</th>\n",
       "      <th>host_location</th>\n",
       "      <th>host_response_rate</th>\n",
       "      <th>host_acceptance_rate</th>\n",
       "      <th>host_is_superhost</th>\n",
       "      <th>host_total_listings_count</th>\n",
       "      <th>host_has_profile_pic</th>\n",
       "      <th>host_identity_verified</th>\n",
       "      <th>neighbourhood_cleansed</th>\n",
       "      <th>neighbourhood_group_cleansed</th>\n",
       "      <th>property_type</th>\n",
       "      <th>room_type</th>\n",
       "      <th>accommodates</th>\n",
       "      <th>Bathrooms</th>\n",
       "      <th>bedrooms</th>\n",
       "      <th>beds</th>\n",
       "      <th>price</th>\n",
       "      <th>minimum_nights</th>\n",
       "      <th>maximum_nights</th>\n",
       "      <th>has_availability</th>\n",
       "      <th>availability_30</th>\n",
       "      <th>availability_60</th>\n",
       "      <th>availability_90</th>\n",
       "      <th>availability_365</th>\n",
       "      <th>number_of_reviews</th>\n",
       "      <th>number_of_reviews_ltm</th>\n",
       "      <th>number_of_reviews_l30d</th>\n",
       "      <th>review_scores_rating</th>\n",
       "      <th>review_scores_accuracy</th>\n",
       "      <th>review_scores_cleanliness</th>\n",
       "      <th>review_scores_checkin</th>\n",
       "      <th>review_scores_communication</th>\n",
       "      <th>review_scores_location</th>\n",
       "      <th>review_scores_value</th>\n",
       "      <th>instant_bookable</th>\n",
       "      <th>calculated_host_listings_count</th>\n",
       "      <th>calculated_host_listings_count_entire_homes</th>\n",
       "      <th>calculated_host_listings_count_private_rooms</th>\n",
       "      <th>calculated_host_listings_count_shared_rooms</th>\n",
       "      <th>reviews_per_month</th>\n",
       "    </tr>\n",
       "  </thead>\n",
       "  <tbody>\n",
       "    <tr>\n",
       "      <th>0</th>\n",
       "      <td>2595</td>\n",
       "      <td>2008</td>\n",
       "      <td>New York</td>\n",
       "      <td>0.80</td>\n",
       "      <td>0.17</td>\n",
       "      <td>0.0</td>\n",
       "      <td>8.0</td>\n",
       "      <td>1.0</td>\n",
       "      <td>1.0</td>\n",
       "      <td>Midtown</td>\n",
       "      <td>Manhattan</td>\n",
       "      <td>Entire rental unit</td>\n",
       "      <td>Entire home/apt</td>\n",
       "      <td>1</td>\n",
       "      <td>1.0</td>\n",
       "      <td>NaN</td>\n",
       "      <td>1.0</td>\n",
       "      <td>150.0</td>\n",
       "      <td>30</td>\n",
       "      <td>1125</td>\n",
       "      <td>1</td>\n",
       "      <td>3</td>\n",
       "      <td>33</td>\n",
       "      <td>63</td>\n",
       "      <td>338</td>\n",
       "      <td>48</td>\n",
       "      <td>0</td>\n",
       "      <td>0</td>\n",
       "      <td>4.70</td>\n",
       "      <td>4.72</td>\n",
       "      <td>4.62</td>\n",
       "      <td>4.76</td>\n",
       "      <td>4.79</td>\n",
       "      <td>4.86</td>\n",
       "      <td>4.41</td>\n",
       "      <td>0</td>\n",
       "      <td>3</td>\n",
       "      <td>3</td>\n",
       "      <td>0</td>\n",
       "      <td>0</td>\n",
       "      <td>0.33</td>\n",
       "    </tr>\n",
       "    <tr>\n",
       "      <th>1</th>\n",
       "      <td>3831</td>\n",
       "      <td>2008</td>\n",
       "      <td>New York</td>\n",
       "      <td>0.09</td>\n",
       "      <td>0.69</td>\n",
       "      <td>0.0</td>\n",
       "      <td>1.0</td>\n",
       "      <td>1.0</td>\n",
       "      <td>1.0</td>\n",
       "      <td>Bedford-Stuyvesant</td>\n",
       "      <td>Brooklyn</td>\n",
       "      <td>Entire guest suite</td>\n",
       "      <td>Entire home/apt</td>\n",
       "      <td>3</td>\n",
       "      <td>1.0</td>\n",
       "      <td>1.0</td>\n",
       "      <td>3.0</td>\n",
       "      <td>75.0</td>\n",
       "      <td>1</td>\n",
       "      <td>730</td>\n",
       "      <td>1</td>\n",
       "      <td>3</td>\n",
       "      <td>6</td>\n",
       "      <td>18</td>\n",
       "      <td>194</td>\n",
       "      <td>409</td>\n",
       "      <td>32</td>\n",
       "      <td>0</td>\n",
       "      <td>4.45</td>\n",
       "      <td>4.58</td>\n",
       "      <td>4.49</td>\n",
       "      <td>4.78</td>\n",
       "      <td>4.80</td>\n",
       "      <td>4.71</td>\n",
       "      <td>4.64</td>\n",
       "      <td>0</td>\n",
       "      <td>1</td>\n",
       "      <td>1</td>\n",
       "      <td>0</td>\n",
       "      <td>0</td>\n",
       "      <td>4.86</td>\n",
       "    </tr>\n",
       "    <tr>\n",
       "      <th>2</th>\n",
       "      <td>5121</td>\n",
       "      <td>2009</td>\n",
       "      <td>New York</td>\n",
       "      <td>1.00</td>\n",
       "      <td>1.00</td>\n",
       "      <td>0.0</td>\n",
       "      <td>1.0</td>\n",
       "      <td>1.0</td>\n",
       "      <td>1.0</td>\n",
       "      <td>Bedford-Stuyvesant</td>\n",
       "      <td>Brooklyn</td>\n",
       "      <td>Private room in rental unit</td>\n",
       "      <td>Private room</td>\n",
       "      <td>2</td>\n",
       "      <td>NaN</td>\n",
       "      <td>1.0</td>\n",
       "      <td>1.0</td>\n",
       "      <td>60.0</td>\n",
       "      <td>30</td>\n",
       "      <td>730</td>\n",
       "      <td>1</td>\n",
       "      <td>30</td>\n",
       "      <td>60</td>\n",
       "      <td>90</td>\n",
       "      <td>365</td>\n",
       "      <td>50</td>\n",
       "      <td>0</td>\n",
       "      <td>0</td>\n",
       "      <td>4.52</td>\n",
       "      <td>4.22</td>\n",
       "      <td>4.09</td>\n",
       "      <td>4.91</td>\n",
       "      <td>4.91</td>\n",
       "      <td>4.47</td>\n",
       "      <td>4.52</td>\n",
       "      <td>0</td>\n",
       "      <td>2</td>\n",
       "      <td>0</td>\n",
       "      <td>2</td>\n",
       "      <td>0</td>\n",
       "      <td>0.52</td>\n",
       "    </tr>\n",
       "    <tr>\n",
       "      <th>3</th>\n",
       "      <td>5136</td>\n",
       "      <td>2009</td>\n",
       "      <td>New York</td>\n",
       "      <td>1.00</td>\n",
       "      <td>0.25</td>\n",
       "      <td>0.0</td>\n",
       "      <td>1.0</td>\n",
       "      <td>1.0</td>\n",
       "      <td>1.0</td>\n",
       "      <td>Sunset Park</td>\n",
       "      <td>Brooklyn</td>\n",
       "      <td>Entire rental unit</td>\n",
       "      <td>Entire home/apt</td>\n",
       "      <td>4</td>\n",
       "      <td>1.5</td>\n",
       "      <td>2.0</td>\n",
       "      <td>2.0</td>\n",
       "      <td>275.0</td>\n",
       "      <td>5</td>\n",
       "      <td>1125</td>\n",
       "      <td>1</td>\n",
       "      <td>3</td>\n",
       "      <td>3</td>\n",
       "      <td>12</td>\n",
       "      <td>123</td>\n",
       "      <td>2</td>\n",
       "      <td>1</td>\n",
       "      <td>0</td>\n",
       "      <td>5.00</td>\n",
       "      <td>5.00</td>\n",
       "      <td>5.00</td>\n",
       "      <td>5.00</td>\n",
       "      <td>5.00</td>\n",
       "      <td>4.50</td>\n",
       "      <td>5.00</td>\n",
       "      <td>0</td>\n",
       "      <td>1</td>\n",
       "      <td>1</td>\n",
       "      <td>0</td>\n",
       "      <td>0</td>\n",
       "      <td>0.02</td>\n",
       "    </tr>\n",
       "    <tr>\n",
       "      <th>4</th>\n",
       "      <td>5178</td>\n",
       "      <td>2009</td>\n",
       "      <td>New York</td>\n",
       "      <td>1.00</td>\n",
       "      <td>1.00</td>\n",
       "      <td>0.0</td>\n",
       "      <td>1.0</td>\n",
       "      <td>1.0</td>\n",
       "      <td>0.0</td>\n",
       "      <td>Midtown</td>\n",
       "      <td>Manhattan</td>\n",
       "      <td>Private room in rental unit</td>\n",
       "      <td>Private room</td>\n",
       "      <td>2</td>\n",
       "      <td>1.0</td>\n",
       "      <td>1.0</td>\n",
       "      <td>1.0</td>\n",
       "      <td>68.0</td>\n",
       "      <td>2</td>\n",
       "      <td>14</td>\n",
       "      <td>1</td>\n",
       "      <td>1</td>\n",
       "      <td>16</td>\n",
       "      <td>34</td>\n",
       "      <td>192</td>\n",
       "      <td>507</td>\n",
       "      <td>33</td>\n",
       "      <td>2</td>\n",
       "      <td>4.21</td>\n",
       "      <td>4.21</td>\n",
       "      <td>3.73</td>\n",
       "      <td>4.66</td>\n",
       "      <td>4.42</td>\n",
       "      <td>4.87</td>\n",
       "      <td>4.36</td>\n",
       "      <td>0</td>\n",
       "      <td>1</td>\n",
       "      <td>0</td>\n",
       "      <td>1</td>\n",
       "      <td>0</td>\n",
       "      <td>3.68</td>\n",
       "    </tr>\n",
       "  </tbody>\n",
       "</table>\n",
       "</div>"
      ],
      "text/plain": [
       "     id  host_since host_location  host_response_rate  host_acceptance_rate  \\\n",
       "0  2595        2008      New York                0.80                  0.17   \n",
       "1  3831        2008      New York                0.09                  0.69   \n",
       "2  5121        2009      New York                1.00                  1.00   \n",
       "3  5136        2009      New York                1.00                  0.25   \n",
       "4  5178        2009      New York                1.00                  1.00   \n",
       "\n",
       "   host_is_superhost  host_total_listings_count  host_has_profile_pic  \\\n",
       "0                0.0                        8.0                   1.0   \n",
       "1                0.0                        1.0                   1.0   \n",
       "2                0.0                        1.0                   1.0   \n",
       "3                0.0                        1.0                   1.0   \n",
       "4                0.0                        1.0                   1.0   \n",
       "\n",
       "   host_identity_verified neighbourhood_cleansed neighbourhood_group_cleansed  \\\n",
       "0                     1.0                Midtown                    Manhattan   \n",
       "1                     1.0     Bedford-Stuyvesant                     Brooklyn   \n",
       "2                     1.0     Bedford-Stuyvesant                     Brooklyn   \n",
       "3                     1.0            Sunset Park                     Brooklyn   \n",
       "4                     0.0                Midtown                    Manhattan   \n",
       "\n",
       "                 property_type        room_type  accommodates  Bathrooms  \\\n",
       "0           Entire rental unit  Entire home/apt             1        1.0   \n",
       "1           Entire guest suite  Entire home/apt             3        1.0   \n",
       "2  Private room in rental unit     Private room             2        NaN   \n",
       "3           Entire rental unit  Entire home/apt             4        1.5   \n",
       "4  Private room in rental unit     Private room             2        1.0   \n",
       "\n",
       "   bedrooms  beds  price  minimum_nights  maximum_nights  has_availability  \\\n",
       "0       NaN   1.0  150.0              30            1125                 1   \n",
       "1       1.0   3.0   75.0               1             730                 1   \n",
       "2       1.0   1.0   60.0              30             730                 1   \n",
       "3       2.0   2.0  275.0               5            1125                 1   \n",
       "4       1.0   1.0   68.0               2              14                 1   \n",
       "\n",
       "   availability_30  availability_60  availability_90  availability_365  \\\n",
       "0                3               33               63               338   \n",
       "1                3                6               18               194   \n",
       "2               30               60               90               365   \n",
       "3                3                3               12               123   \n",
       "4                1               16               34               192   \n",
       "\n",
       "   number_of_reviews  number_of_reviews_ltm  number_of_reviews_l30d  \\\n",
       "0                 48                      0                       0   \n",
       "1                409                     32                       0   \n",
       "2                 50                      0                       0   \n",
       "3                  2                      1                       0   \n",
       "4                507                     33                       2   \n",
       "\n",
       "   review_scores_rating  review_scores_accuracy  review_scores_cleanliness  \\\n",
       "0                  4.70                    4.72                       4.62   \n",
       "1                  4.45                    4.58                       4.49   \n",
       "2                  4.52                    4.22                       4.09   \n",
       "3                  5.00                    5.00                       5.00   \n",
       "4                  4.21                    4.21                       3.73   \n",
       "\n",
       "   review_scores_checkin  review_scores_communication  review_scores_location  \\\n",
       "0                   4.76                         4.79                    4.86   \n",
       "1                   4.78                         4.80                    4.71   \n",
       "2                   4.91                         4.91                    4.47   \n",
       "3                   5.00                         5.00                    4.50   \n",
       "4                   4.66                         4.42                    4.87   \n",
       "\n",
       "   review_scores_value  instant_bookable  calculated_host_listings_count  \\\n",
       "0                 4.41                 0                               3   \n",
       "1                 4.64                 0                               1   \n",
       "2                 4.52                 0                               2   \n",
       "3                 5.00                 0                               1   \n",
       "4                 4.36                 0                               1   \n",
       "\n",
       "   calculated_host_listings_count_entire_homes  \\\n",
       "0                                            3   \n",
       "1                                            1   \n",
       "2                                            0   \n",
       "3                                            1   \n",
       "4                                            0   \n",
       "\n",
       "   calculated_host_listings_count_private_rooms  \\\n",
       "0                                             0   \n",
       "1                                             0   \n",
       "2                                             2   \n",
       "3                                             0   \n",
       "4                                             1   \n",
       "\n",
       "   calculated_host_listings_count_shared_rooms  reviews_per_month  \n",
       "0                                            0               0.33  \n",
       "1                                            0               4.86  \n",
       "2                                            0               0.52  \n",
       "3                                            0               0.02  \n",
       "4                                            0               3.68  "
      ]
     },
     "execution_count": 31,
     "metadata": {},
     "output_type": "execute_result"
    }
   ],
   "source": [
    "listings.head()"
   ]
  },
  {
   "cell_type": "markdown",
   "id": "996440e5",
   "metadata": {},
   "source": [
    "## Calendar dataframe"
   ]
  },
  {
   "cell_type": "code",
   "execution_count": 32,
   "id": "c7ca1b58",
   "metadata": {
    "ExecuteTime": {
     "end_time": "2022-11-08T00:34:14.515383Z",
     "start_time": "2022-11-08T00:34:14.510712Z"
    }
   },
   "outputs": [
    {
     "data": {
      "text/html": [
       "<div>\n",
       "<style scoped>\n",
       "    .dataframe tbody tr th:only-of-type {\n",
       "        vertical-align: middle;\n",
       "    }\n",
       "\n",
       "    .dataframe tbody tr th {\n",
       "        vertical-align: top;\n",
       "    }\n",
       "\n",
       "    .dataframe thead th {\n",
       "        text-align: right;\n",
       "    }\n",
       "</style>\n",
       "<table border=\"1\" class=\"dataframe\">\n",
       "  <thead>\n",
       "    <tr style=\"text-align: right;\">\n",
       "      <th></th>\n",
       "      <th>listing_id</th>\n",
       "      <th>date</th>\n",
       "      <th>available</th>\n",
       "      <th>price</th>\n",
       "      <th>adjusted_price</th>\n",
       "      <th>minimum_nights</th>\n",
       "      <th>maximum_nights</th>\n",
       "    </tr>\n",
       "  </thead>\n",
       "  <tbody>\n",
       "    <tr>\n",
       "      <th>0</th>\n",
       "      <td>2595</td>\n",
       "      <td>2021-12-05</td>\n",
       "      <td>f</td>\n",
       "      <td>$150.00</td>\n",
       "      <td>$150.00</td>\n",
       "      <td>30.0</td>\n",
       "      <td>1125.0</td>\n",
       "    </tr>\n",
       "    <tr>\n",
       "      <th>1</th>\n",
       "      <td>65615</td>\n",
       "      <td>2021-12-05</td>\n",
       "      <td>f</td>\n",
       "      <td>$85.00</td>\n",
       "      <td>$85.00</td>\n",
       "      <td>10.0</td>\n",
       "      <td>1125.0</td>\n",
       "    </tr>\n",
       "    <tr>\n",
       "      <th>2</th>\n",
       "      <td>65615</td>\n",
       "      <td>2021-12-06</td>\n",
       "      <td>f</td>\n",
       "      <td>$85.00</td>\n",
       "      <td>$85.00</td>\n",
       "      <td>10.0</td>\n",
       "      <td>1125.0</td>\n",
       "    </tr>\n",
       "    <tr>\n",
       "      <th>3</th>\n",
       "      <td>65615</td>\n",
       "      <td>2021-12-07</td>\n",
       "      <td>f</td>\n",
       "      <td>$85.00</td>\n",
       "      <td>$85.00</td>\n",
       "      <td>10.0</td>\n",
       "      <td>1125.0</td>\n",
       "    </tr>\n",
       "    <tr>\n",
       "      <th>4</th>\n",
       "      <td>65615</td>\n",
       "      <td>2021-12-08</td>\n",
       "      <td>f</td>\n",
       "      <td>$85.00</td>\n",
       "      <td>$85.00</td>\n",
       "      <td>10.0</td>\n",
       "      <td>1125.0</td>\n",
       "    </tr>\n",
       "  </tbody>\n",
       "</table>\n",
       "</div>"
      ],
      "text/plain": [
       "   listing_id        date available    price adjusted_price  minimum_nights  \\\n",
       "0        2595  2021-12-05         f  $150.00        $150.00            30.0   \n",
       "1       65615  2021-12-05         f   $85.00         $85.00            10.0   \n",
       "2       65615  2021-12-06         f   $85.00         $85.00            10.0   \n",
       "3       65615  2021-12-07         f   $85.00         $85.00            10.0   \n",
       "4       65615  2021-12-08         f   $85.00         $85.00            10.0   \n",
       "\n",
       "   maximum_nights  \n",
       "0          1125.0  \n",
       "1          1125.0  \n",
       "2          1125.0  \n",
       "3          1125.0  \n",
       "4          1125.0  "
      ]
     },
     "execution_count": 32,
     "metadata": {},
     "output_type": "execute_result"
    }
   ],
   "source": [
    "calendar.head()"
   ]
  },
  {
   "cell_type": "code",
   "execution_count": 33,
   "id": "88a6fd25",
   "metadata": {
    "ExecuteTime": {
     "end_time": "2022-11-08T00:34:14.571373Z",
     "start_time": "2022-11-08T00:34:14.516685Z"
    }
   },
   "outputs": [
    {
     "data": {
      "text/plain": [
       "((13964535, 7), 38259)"
      ]
     },
     "execution_count": 33,
     "metadata": {},
     "output_type": "execute_result"
    }
   ],
   "source": [
    "#we have more than 1 row/id, let's check it\n",
    "calendar.shape, len(calendar[\"listing_id\"].unique())"
   ]
  },
  {
   "cell_type": "code",
   "execution_count": 34,
   "id": "b390f86c",
   "metadata": {
    "ExecuteTime": {
     "end_time": "2022-11-08T00:34:14.623233Z",
     "start_time": "2022-11-08T00:34:14.572593Z"
    }
   },
   "outputs": [
    {
     "data": {
      "text/plain": [
       "365.0"
      ]
     },
     "execution_count": 34,
     "metadata": {},
     "output_type": "execute_result"
    }
   ],
   "source": [
    "#Seems like each listing has 365 rows for their prices\n",
    "calendar.shape[0]/len(calendar[\"listing_id\"].unique())"
   ]
  },
  {
   "cell_type": "code",
   "execution_count": 35,
   "id": "af0588d2",
   "metadata": {
    "ExecuteTime": {
     "end_time": "2022-11-08T00:34:14.974557Z",
     "start_time": "2022-11-08T00:34:14.624181Z"
    }
   },
   "outputs": [
    {
     "data": {
      "text/plain": [
       "f    0.631906\n",
       "t    0.368094\n",
       "Name: available, dtype: float64"
      ]
     },
     "execution_count": 35,
     "metadata": {},
     "output_type": "execute_result"
    }
   ],
   "source": [
    "#Let's change this params for easier manipulation\n",
    "calendar[\"available\"].value_counts(True)"
   ]
  },
  {
   "cell_type": "code",
   "execution_count": 36,
   "id": "2f4a45ae",
   "metadata": {
    "ExecuteTime": {
     "end_time": "2022-11-08T00:34:17.604801Z",
     "start_time": "2022-11-08T00:34:14.975502Z"
    }
   },
   "outputs": [
    {
     "data": {
      "text/plain": [
       "0    0.631906\n",
       "1    0.368094\n",
       "Name: available, dtype: float64"
      ]
     },
     "execution_count": 36,
     "metadata": {},
     "output_type": "execute_result"
    }
   ],
   "source": [
    "\"\"\"\n",
    "\n",
    "We're replacing when a place is not available (false) for 0\n",
    "when a place is available (True), we're using 1\n",
    "\n",
    "\"\"\"\n",
    "calendar[\"available\"].replace({\"f\":0, \"t\":1}, inplace=True)\n",
    "calendar[\"available\"].value_counts(True)"
   ]
  },
  {
   "cell_type": "code",
   "execution_count": 37,
   "id": "7f27ec47",
   "metadata": {
    "ExecuteTime": {
     "end_time": "2022-11-08T00:34:20.896403Z",
     "start_time": "2022-11-08T00:34:17.606002Z"
    }
   },
   "outputs": [
    {
     "data": {
      "text/plain": [
       "listing_id        0.000000e+00\n",
       "date              0.000000e+00\n",
       "available         0.000000e+00\n",
       "price             1.224531e-05\n",
       "adjusted_price    1.224531e-05\n",
       "minimum_nights    1.432199e-07\n",
       "maximum_nights    1.432199e-07\n",
       "dtype: float64"
      ]
     },
     "execution_count": 37,
     "metadata": {},
     "output_type": "execute_result"
    }
   ],
   "source": [
    "#We have very few missings, we will drop them\n",
    "miss_calendar = 1 - calendar.count() / len(calendar)\n",
    "miss_calendar"
   ]
  },
  {
   "cell_type": "code",
   "execution_count": 38,
   "id": "86e18481",
   "metadata": {
    "ExecuteTime": {
     "end_time": "2022-11-08T00:34:24.959884Z",
     "start_time": "2022-11-08T00:34:20.897583Z"
    }
   },
   "outputs": [],
   "source": [
    "calendar.dropna(inplace = True)"
   ]
  },
  {
   "cell_type": "code",
   "execution_count": 39,
   "id": "1c9fef72",
   "metadata": {
    "ExecuteTime": {
     "end_time": "2022-11-08T00:34:31.566871Z",
     "start_time": "2022-11-08T00:34:24.961099Z"
    }
   },
   "outputs": [],
   "source": [
    "#We delete the $ sign from the prices columns\n",
    "calendar = remove_dollar_sign(calendar, \"price\")\n",
    "calendar = remove_dollar_sign(calendar, \"adjusted_price\")"
   ]
  },
  {
   "cell_type": "code",
   "execution_count": 40,
   "id": "a2c1859f",
   "metadata": {
    "ExecuteTime": {
     "end_time": "2022-11-08T00:34:31.775065Z",
     "start_time": "2022-11-08T00:34:31.568209Z"
    }
   },
   "outputs": [],
   "source": [
    "#We drop some columns from the Calendar dataset as they already exist on the listings dataset\n",
    "calendar.drop(columns=[\n",
    "    \"minimum_nights\",\n",
    "    \"maximum_nights\"\n",
    "], axis = 1, inplace = True)"
   ]
  },
  {
   "cell_type": "code",
   "execution_count": 41,
   "id": "81a2e43a",
   "metadata": {
    "ExecuteTime": {
     "end_time": "2022-11-08T00:34:31.780878Z",
     "start_time": "2022-11-08T00:34:31.776101Z"
    }
   },
   "outputs": [
    {
     "data": {
      "text/html": [
       "<div>\n",
       "<style scoped>\n",
       "    .dataframe tbody tr th:only-of-type {\n",
       "        vertical-align: middle;\n",
       "    }\n",
       "\n",
       "    .dataframe tbody tr th {\n",
       "        vertical-align: top;\n",
       "    }\n",
       "\n",
       "    .dataframe thead th {\n",
       "        text-align: right;\n",
       "    }\n",
       "</style>\n",
       "<table border=\"1\" class=\"dataframe\">\n",
       "  <thead>\n",
       "    <tr style=\"text-align: right;\">\n",
       "      <th></th>\n",
       "      <th>listing_id</th>\n",
       "      <th>date</th>\n",
       "      <th>available</th>\n",
       "      <th>price</th>\n",
       "      <th>adjusted_price</th>\n",
       "    </tr>\n",
       "  </thead>\n",
       "  <tbody>\n",
       "    <tr>\n",
       "      <th>0</th>\n",
       "      <td>2595</td>\n",
       "      <td>2021-12-05</td>\n",
       "      <td>0</td>\n",
       "      <td>150.0</td>\n",
       "      <td>150.0</td>\n",
       "    </tr>\n",
       "    <tr>\n",
       "      <th>1</th>\n",
       "      <td>65615</td>\n",
       "      <td>2021-12-05</td>\n",
       "      <td>0</td>\n",
       "      <td>85.0</td>\n",
       "      <td>85.0</td>\n",
       "    </tr>\n",
       "    <tr>\n",
       "      <th>2</th>\n",
       "      <td>65615</td>\n",
       "      <td>2021-12-06</td>\n",
       "      <td>0</td>\n",
       "      <td>85.0</td>\n",
       "      <td>85.0</td>\n",
       "    </tr>\n",
       "  </tbody>\n",
       "</table>\n",
       "</div>"
      ],
      "text/plain": [
       "   listing_id        date  available  price  adjusted_price\n",
       "0        2595  2021-12-05          0  150.0           150.0\n",
       "1       65615  2021-12-05          0   85.0            85.0\n",
       "2       65615  2021-12-06          0   85.0            85.0"
      ]
     },
     "execution_count": 41,
     "metadata": {},
     "output_type": "execute_result"
    }
   ],
   "source": [
    "calendar.head(3)"
   ]
  },
  {
   "cell_type": "code",
   "execution_count": 42,
   "id": "993703aa",
   "metadata": {
    "ExecuteTime": {
     "end_time": "2022-11-08T00:34:31.785109Z",
     "start_time": "2022-11-08T00:34:31.782610Z"
    }
   },
   "outputs": [],
   "source": [
    "#Lastly, we rename some columns that have the same name on the listings df\n",
    "calendar.rename(columns={\n",
    "    \"price\": \"calendar_price\",\n",
    "    \"adjusted_price\": \"calendar_adjusted_price\",\n",
    "    \"date\": \"calendar_date\"\n",
    "}, inplace = True)"
   ]
  },
  {
   "cell_type": "markdown",
   "id": "0cd1a164",
   "metadata": {
    "ExecuteTime": {
     "end_time": "2022-11-03T20:00:10.328825Z",
     "start_time": "2022-11-03T20:00:10.319536Z"
    }
   },
   "source": [
    "## Reviews dataframe"
   ]
  },
  {
   "cell_type": "code",
   "execution_count": 43,
   "id": "c119d437",
   "metadata": {
    "ExecuteTime": {
     "end_time": "2022-11-08T00:34:31.790696Z",
     "start_time": "2022-11-08T00:34:31.786356Z"
    }
   },
   "outputs": [
    {
     "data": {
      "text/html": [
       "<div>\n",
       "<style scoped>\n",
       "    .dataframe tbody tr th:only-of-type {\n",
       "        vertical-align: middle;\n",
       "    }\n",
       "\n",
       "    .dataframe tbody tr th {\n",
       "        vertical-align: top;\n",
       "    }\n",
       "\n",
       "    .dataframe thead th {\n",
       "        text-align: right;\n",
       "    }\n",
       "</style>\n",
       "<table border=\"1\" class=\"dataframe\">\n",
       "  <thead>\n",
       "    <tr style=\"text-align: right;\">\n",
       "      <th></th>\n",
       "      <th>listing_id</th>\n",
       "      <th>id</th>\n",
       "      <th>date</th>\n",
       "      <th>reviewer_id</th>\n",
       "      <th>reviewer_name</th>\n",
       "      <th>comments</th>\n",
       "    </tr>\n",
       "  </thead>\n",
       "  <tbody>\n",
       "    <tr>\n",
       "      <th>0</th>\n",
       "      <td>2595</td>\n",
       "      <td>17857</td>\n",
       "      <td>2009-11-21</td>\n",
       "      <td>50679</td>\n",
       "      <td>Jean</td>\n",
       "      <td>Notre séjour de trois nuits.\\r&lt;br/&gt;Nous avons ...</td>\n",
       "    </tr>\n",
       "    <tr>\n",
       "      <th>1</th>\n",
       "      <td>2595</td>\n",
       "      <td>19176</td>\n",
       "      <td>2009-12-05</td>\n",
       "      <td>53267</td>\n",
       "      <td>Cate</td>\n",
       "      <td>Great experience.</td>\n",
       "    </tr>\n",
       "    <tr>\n",
       "      <th>2</th>\n",
       "      <td>2595</td>\n",
       "      <td>19760</td>\n",
       "      <td>2009-12-10</td>\n",
       "      <td>38960</td>\n",
       "      <td>Anita</td>\n",
       "      <td>I've stayed with my friend at the Midtown Cast...</td>\n",
       "    </tr>\n",
       "    <tr>\n",
       "      <th>3</th>\n",
       "      <td>2595</td>\n",
       "      <td>34320</td>\n",
       "      <td>2010-04-09</td>\n",
       "      <td>71130</td>\n",
       "      <td>Kai-Uwe</td>\n",
       "      <td>We've been staying here for about 9 nights, en...</td>\n",
       "    </tr>\n",
       "    <tr>\n",
       "      <th>4</th>\n",
       "      <td>2595</td>\n",
       "      <td>46312</td>\n",
       "      <td>2010-05-25</td>\n",
       "      <td>117113</td>\n",
       "      <td>Alicia</td>\n",
       "      <td>We had a wonderful stay at Jennifer's charming...</td>\n",
       "    </tr>\n",
       "  </tbody>\n",
       "</table>\n",
       "</div>"
      ],
      "text/plain": [
       "   listing_id     id        date  reviewer_id reviewer_name  \\\n",
       "0        2595  17857  2009-11-21        50679          Jean   \n",
       "1        2595  19176  2009-12-05        53267          Cate   \n",
       "2        2595  19760  2009-12-10        38960         Anita   \n",
       "3        2595  34320  2010-04-09        71130       Kai-Uwe   \n",
       "4        2595  46312  2010-05-25       117113        Alicia   \n",
       "\n",
       "                                            comments  \n",
       "0  Notre séjour de trois nuits.\\r<br/>Nous avons ...  \n",
       "1                                  Great experience.  \n",
       "2  I've stayed with my friend at the Midtown Cast...  \n",
       "3  We've been staying here for about 9 nights, en...  \n",
       "4  We had a wonderful stay at Jennifer's charming...  "
      ]
     },
     "execution_count": 43,
     "metadata": {},
     "output_type": "execute_result"
    }
   ],
   "source": [
    "reviews.head()"
   ]
  },
  {
   "cell_type": "code",
   "execution_count": 44,
   "id": "aac24abe",
   "metadata": {
    "ExecuteTime": {
     "end_time": "2022-11-08T00:34:31.819585Z",
     "start_time": "2022-11-08T00:34:31.791636Z"
    }
   },
   "outputs": [
    {
     "data": {
      "text/plain": [
       "(891964, 28773, 891941)"
      ]
     },
     "execution_count": 44,
     "metadata": {},
     "output_type": "execute_result"
    }
   ],
   "source": [
    "#We compare the lenght of the reviews dataframe, number of unique listings and the number of uniquue comments\n",
    "reviews.shape[0], len(reviews[\"listing_id\"].unique()),len(reviews[\"id\"].unique())"
   ]
  },
  {
   "cell_type": "code",
   "execution_count": 45,
   "id": "a92606d3",
   "metadata": {
    "ExecuteTime": {
     "end_time": "2022-11-08T00:34:32.530524Z",
     "start_time": "2022-11-08T00:34:31.820606Z"
    }
   },
   "outputs": [
    {
     "name": "stdout",
     "output_type": "stream",
     "text": [
      "23\n"
     ]
    }
   ],
   "source": [
    "#We have 23 duplicated reviews on the dataframe, we drop them\n",
    "print(len(reviews[reviews[\"id\"].duplicated()]))\n",
    "reviews.drop_duplicates(inplace=True)"
   ]
  },
  {
   "cell_type": "code",
   "execution_count": 46,
   "id": "cf19affb",
   "metadata": {
    "ExecuteTime": {
     "end_time": "2022-11-08T00:34:32.541479Z",
     "start_time": "2022-11-08T00:34:32.531769Z"
    }
   },
   "outputs": [
    {
     "data": {
      "text/plain": [
       "31.00003475480485"
      ]
     },
     "execution_count": 46,
     "metadata": {},
     "output_type": "execute_result"
    }
   ],
   "source": [
    "#There seems to be ~31 reviews per listing on average\n",
    "reviews.shape[0]/len(reviews[\"listing_id\"].unique())"
   ]
  },
  {
   "cell_type": "code",
   "execution_count": 47,
   "id": "7acc119d",
   "metadata": {
    "ExecuteTime": {
     "end_time": "2022-11-08T00:34:32.587523Z",
     "start_time": "2022-11-08T00:34:32.542991Z"
    }
   },
   "outputs": [],
   "source": [
    "\"\"\"\n",
    "\n",
    "\n",
    "When training, names can be useless, we delete this column as we already have the reviewer id,\n",
    "also, we delete the id column as we already have our index (listing_id)\n",
    "\n",
    "We also rename de date column for comment_date\n",
    "\n",
    "\"\"\"\n",
    "\n",
    "reviews.drop(columns=[\"reviewer_name\", \"id\"], axis = 1, inplace = True)\n",
    "reviews = reviews.reset_index(drop = True)\n",
    "\n",
    "reviews.rename(columns={\n",
    "    \"date\": \"comment_date\",\n",
    "    \"comments\": \"review_comment\"\n",
    "}, inplace = True)"
   ]
  },
  {
   "cell_type": "code",
   "execution_count": 48,
   "id": "cb41b08e",
   "metadata": {
    "ExecuteTime": {
     "end_time": "2022-11-08T00:34:32.594172Z",
     "start_time": "2022-11-08T00:34:32.588748Z"
    }
   },
   "outputs": [
    {
     "data": {
      "text/html": [
       "<div>\n",
       "<style scoped>\n",
       "    .dataframe tbody tr th:only-of-type {\n",
       "        vertical-align: middle;\n",
       "    }\n",
       "\n",
       "    .dataframe tbody tr th {\n",
       "        vertical-align: top;\n",
       "    }\n",
       "\n",
       "    .dataframe thead th {\n",
       "        text-align: right;\n",
       "    }\n",
       "</style>\n",
       "<table border=\"1\" class=\"dataframe\">\n",
       "  <thead>\n",
       "    <tr style=\"text-align: right;\">\n",
       "      <th></th>\n",
       "      <th>listing_id</th>\n",
       "      <th>comment_date</th>\n",
       "      <th>reviewer_id</th>\n",
       "      <th>review_comment</th>\n",
       "    </tr>\n",
       "  </thead>\n",
       "  <tbody>\n",
       "    <tr>\n",
       "      <th>0</th>\n",
       "      <td>2595</td>\n",
       "      <td>2009-11-21</td>\n",
       "      <td>50679</td>\n",
       "      <td>Notre séjour de trois nuits.\\r&lt;br/&gt;Nous avons ...</td>\n",
       "    </tr>\n",
       "    <tr>\n",
       "      <th>1</th>\n",
       "      <td>2595</td>\n",
       "      <td>2009-12-05</td>\n",
       "      <td>53267</td>\n",
       "      <td>Great experience.</td>\n",
       "    </tr>\n",
       "    <tr>\n",
       "      <th>2</th>\n",
       "      <td>2595</td>\n",
       "      <td>2009-12-10</td>\n",
       "      <td>38960</td>\n",
       "      <td>I've stayed with my friend at the Midtown Cast...</td>\n",
       "    </tr>\n",
       "  </tbody>\n",
       "</table>\n",
       "</div>"
      ],
      "text/plain": [
       "   listing_id comment_date  reviewer_id  \\\n",
       "0        2595   2009-11-21        50679   \n",
       "1        2595   2009-12-05        53267   \n",
       "2        2595   2009-12-10        38960   \n",
       "\n",
       "                                      review_comment  \n",
       "0  Notre séjour de trois nuits.\\r<br/>Nous avons ...  \n",
       "1                                  Great experience.  \n",
       "2  I've stayed with my friend at the Midtown Cast...  "
      ]
     },
     "execution_count": 48,
     "metadata": {},
     "output_type": "execute_result"
    }
   ],
   "source": [
    "reviews.head(3)"
   ]
  },
  {
   "cell_type": "code",
   "execution_count": 49,
   "id": "f8d38de1",
   "metadata": {
    "ExecuteTime": {
     "end_time": "2022-11-08T00:34:32.766041Z",
     "start_time": "2022-11-08T00:34:32.596132Z"
    }
   },
   "outputs": [
    {
     "data": {
      "text/plain": [
       "listing_id        0.000000\n",
       "comment_date      0.000000\n",
       "reviewer_id       0.000000\n",
       "review_comment    0.000993\n",
       "dtype: float64"
      ]
     },
     "execution_count": 49,
     "metadata": {},
     "output_type": "execute_result"
    }
   ],
   "source": [
    "#We have very few missing comments, we delete them\n",
    "miss_reviews = 1 - reviews.count()/len(reviews)\n",
    "miss_reviews"
   ]
  },
  {
   "cell_type": "code",
   "execution_count": 50,
   "id": "d15d19ab",
   "metadata": {
    "ExecuteTime": {
     "end_time": "2022-11-08T00:34:32.980018Z",
     "start_time": "2022-11-08T00:34:32.767179Z"
    }
   },
   "outputs": [],
   "source": [
    "reviews.dropna(inplace=True)\n",
    "reviews = reviews.reset_index(drop=True)"
   ]
  },
  {
   "cell_type": "markdown",
   "id": "08692a93",
   "metadata": {},
   "source": [
    "### Frequent Traveler & reviewer"
   ]
  },
  {
   "cell_type": "code",
   "execution_count": 51,
   "id": "9fec041e",
   "metadata": {
    "ExecuteTime": {
     "end_time": "2022-11-08T00:34:33.085544Z",
     "start_time": "2022-11-08T00:34:32.981047Z"
    }
   },
   "outputs": [
    {
     "data": {
      "text/plain": [
       "1.1509468324608345"
      ]
     },
     "execution_count": 51,
     "metadata": {},
     "output_type": "execute_result"
    }
   ],
   "source": [
    "np.mean(reviews[\"reviewer_id\"].value_counts())"
   ]
  },
  {
   "cell_type": "code",
   "execution_count": 52,
   "id": "46e8a197",
   "metadata": {
    "ExecuteTime": {
     "end_time": "2022-11-08T00:34:33.319289Z",
     "start_time": "2022-11-08T00:34:33.087212Z"
    }
   },
   "outputs": [],
   "source": [
    "#We can make a frequent reviewer variable based on the amount of commenbts a user has\n",
    "\n",
    "reviews[\"n_reviews\"] = reviews.groupby(\"reviewer_id\")[\"review_comment\"].transform(\"count\")"
   ]
  },
  {
   "cell_type": "code",
   "execution_count": 53,
   "id": "09c7d238",
   "metadata": {
    "ExecuteTime": {
     "end_time": "2022-11-08T00:34:33.327744Z",
     "start_time": "2022-11-08T00:34:33.320231Z"
    },
    "scrolled": true
   },
   "outputs": [
    {
     "data": {
      "text/plain": [
       "1     699647\n",
       "2     109018\n",
       "3      35163\n",
       "4      16108\n",
       "5       9010\n",
       "6       5328\n",
       "7       3381\n",
       "8       2440\n",
       "9       1926\n",
       "10      1400\n",
       "11      1133\n",
       "12       972\n",
       "13       754\n",
       "14       700\n",
       "15       480\n",
       "17       459\n",
       "16       352\n",
       "20       260\n",
       "19       228\n",
       "18       216\n",
       "23       207\n",
       "38       152\n",
       "25       150\n",
       "21       126\n",
       "28       112\n",
       "36       108\n",
       "34       102\n",
       "24        96\n",
       "26        78\n",
       "39        78\n",
       "37        74\n",
       "67        67\n",
       "22        66\n",
       "31        62\n",
       "60        60\n",
       "29        58\n",
       "58        58\n",
       "52        52\n",
       "51        51\n",
       "49        49\n",
       "45        45\n",
       "43        43\n",
       "42        42\n",
       "40        40\n",
       "35        35\n",
       "33        33\n",
       "32        32\n",
       "27        27\n",
       "Name: n_reviews, dtype: int64"
      ]
     },
     "execution_count": 53,
     "metadata": {},
     "output_type": "execute_result"
    }
   ],
   "source": [
    "reviews[\"n_reviews\"].value_counts()"
   ]
  },
  {
   "cell_type": "code",
   "execution_count": 54,
   "id": "19554c71",
   "metadata": {
    "ExecuteTime": {
     "end_time": "2022-11-08T00:34:33.348531Z",
     "start_time": "2022-11-08T00:34:33.328716Z"
    }
   },
   "outputs": [
    {
     "data": {
      "text/plain": [
       "count    891078.000000\n",
       "mean          1.559890\n",
       "std           2.257291\n",
       "min           1.000000\n",
       "1%            1.000000\n",
       "50%           1.000000\n",
       "75%           1.000000\n",
       "85%           2.000000\n",
       "95%           4.000000\n",
       "99%          10.000000\n",
       "99.9%        36.000000\n",
       "max          67.000000\n",
       "Name: n_reviews, dtype: float64"
      ]
     },
     "execution_count": 54,
     "metadata": {},
     "output_type": "execute_result"
    }
   ],
   "source": [
    "#For practical purposes, a freq reviewer will be a user that has commented\n",
    "#at least 2 times and a frequent traveler is a user that has reviewed at least 4 times \n",
    "reviews[\"n_reviews\"].describe(percentiles=(0.01, 0.75, 0.85, 0.95, 0.99, 0.999)).T"
   ]
  },
  {
   "cell_type": "code",
   "execution_count": 55,
   "id": "ea7e3496",
   "metadata": {
    "ExecuteTime": {
     "end_time": "2022-11-08T00:34:33.682012Z",
     "start_time": "2022-11-08T00:34:33.349583Z"
    }
   },
   "outputs": [],
   "source": [
    "reviews[\"Freq_reviewer\"] = reviews[\"n_reviews\"].map(lambda x: 1 if x>=2 else 0)\n",
    "reviews[\"Freq_traveler\"] = reviews[\"n_reviews\"].map(lambda x: 1 if x>=4 else 0)"
   ]
  },
  {
   "cell_type": "markdown",
   "id": "2171ffad",
   "metadata": {},
   "source": [
    "### Airbnb total comments"
   ]
  },
  {
   "cell_type": "code",
   "execution_count": 56,
   "id": "b0316214",
   "metadata": {
    "ExecuteTime": {
     "end_time": "2022-11-08T00:34:33.721724Z",
     "start_time": "2022-11-08T00:34:33.683166Z"
    }
   },
   "outputs": [],
   "source": [
    "reviews[\"total_reviews\"] = reviews.groupby(\"listing_id\")[\"comment_date\"].transform(\"count\")"
   ]
  },
  {
   "cell_type": "markdown",
   "id": "effc2cfc",
   "metadata": {},
   "source": [
    "## Merging dataframes"
   ]
  },
  {
   "cell_type": "markdown",
   "id": "8ff5e6dd",
   "metadata": {},
   "source": [
    "As the main df (listings) has 38k+ rows and we're merging datsets where each place has 365 rows,\n",
    "We need to make it smaller for computing power puposes. We're taking 20% of the dataset"
   ]
  },
  {
   "cell_type": "code",
   "execution_count": 57,
   "id": "a54ab22d",
   "metadata": {
    "ExecuteTime": {
     "end_time": "2022-11-08T00:34:33.733224Z",
     "start_time": "2022-11-08T00:34:33.722918Z"
    }
   },
   "outputs": [],
   "source": [
    "listings = listings.sample(frac=0.2, random_state=1)\n",
    "listings = listings.reset_index(drop=True)"
   ]
  },
  {
   "cell_type": "code",
   "execution_count": 58,
   "id": "a994fedf",
   "metadata": {
    "ExecuteTime": {
     "end_time": "2022-11-08T00:35:23.603238Z",
     "start_time": "2022-11-08T00:34:33.734233Z"
    }
   },
   "outputs": [],
   "source": [
    "#We want to maintain all the id's from the listings df, we make left joins only\n",
    "\n",
    "temp = listings.merge(calendar, left_on=\"id\", right_on=\"listing_id\", how = \"left\").drop(columns=[\"listing_id\",\"calendar_date\"], axis=1)\n",
    "df = temp.merge(reviews, left_on=\"id\", right_on=\"listing_id\", how = \"inner\").drop(columns=[\"listing_id\", \"review_comment\",\n",
    "                                                                                           \"comment_date\", \"reviewer_id\"], axis=1)"
   ]
  },
  {
   "cell_type": "markdown",
   "id": "0e6a94d2",
   "metadata": {},
   "source": [
    "## Complete Dataframe  Cleaning"
   ]
  },
  {
   "cell_type": "code",
   "execution_count": 59,
   "id": "b0f1d96c",
   "metadata": {
    "ExecuteTime": {
     "end_time": "2022-11-08T00:35:23.629572Z",
     "start_time": "2022-11-08T00:35:23.617178Z"
    }
   },
   "outputs": [
    {
     "data": {
      "text/plain": [
       "(64859422, 48)"
      ]
     },
     "execution_count": 59,
     "metadata": {},
     "output_type": "execute_result"
    }
   ],
   "source": [
    "df.shape"
   ]
  },
  {
   "cell_type": "code",
   "execution_count": 60,
   "id": "c30f8f41",
   "metadata": {
    "ExecuteTime": {
     "end_time": "2022-11-08T00:35:23.670331Z",
     "start_time": "2022-11-08T00:35:23.631071Z"
    }
   },
   "outputs": [
    {
     "data": {
      "text/html": [
       "<div>\n",
       "<style scoped>\n",
       "    .dataframe tbody tr th:only-of-type {\n",
       "        vertical-align: middle;\n",
       "    }\n",
       "\n",
       "    .dataframe tbody tr th {\n",
       "        vertical-align: top;\n",
       "    }\n",
       "\n",
       "    .dataframe thead th {\n",
       "        text-align: right;\n",
       "    }\n",
       "</style>\n",
       "<table border=\"1\" class=\"dataframe\">\n",
       "  <thead>\n",
       "    <tr style=\"text-align: right;\">\n",
       "      <th></th>\n",
       "      <th>id</th>\n",
       "      <th>host_since</th>\n",
       "      <th>host_location</th>\n",
       "      <th>host_response_rate</th>\n",
       "      <th>host_acceptance_rate</th>\n",
       "      <th>host_is_superhost</th>\n",
       "      <th>host_total_listings_count</th>\n",
       "      <th>host_has_profile_pic</th>\n",
       "      <th>host_identity_verified</th>\n",
       "      <th>neighbourhood_cleansed</th>\n",
       "      <th>neighbourhood_group_cleansed</th>\n",
       "      <th>property_type</th>\n",
       "      <th>room_type</th>\n",
       "      <th>accommodates</th>\n",
       "      <th>Bathrooms</th>\n",
       "      <th>bedrooms</th>\n",
       "      <th>beds</th>\n",
       "      <th>price</th>\n",
       "      <th>minimum_nights</th>\n",
       "      <th>maximum_nights</th>\n",
       "      <th>has_availability</th>\n",
       "      <th>availability_30</th>\n",
       "      <th>availability_60</th>\n",
       "      <th>availability_90</th>\n",
       "      <th>availability_365</th>\n",
       "      <th>number_of_reviews</th>\n",
       "      <th>number_of_reviews_ltm</th>\n",
       "      <th>number_of_reviews_l30d</th>\n",
       "      <th>review_scores_rating</th>\n",
       "      <th>review_scores_accuracy</th>\n",
       "      <th>review_scores_cleanliness</th>\n",
       "      <th>review_scores_checkin</th>\n",
       "      <th>review_scores_communication</th>\n",
       "      <th>review_scores_location</th>\n",
       "      <th>review_scores_value</th>\n",
       "      <th>instant_bookable</th>\n",
       "      <th>calculated_host_listings_count</th>\n",
       "      <th>calculated_host_listings_count_entire_homes</th>\n",
       "      <th>calculated_host_listings_count_private_rooms</th>\n",
       "      <th>calculated_host_listings_count_shared_rooms</th>\n",
       "      <th>reviews_per_month</th>\n",
       "      <th>available</th>\n",
       "      <th>calendar_price</th>\n",
       "      <th>calendar_adjusted_price</th>\n",
       "      <th>n_reviews</th>\n",
       "      <th>Freq_reviewer</th>\n",
       "      <th>Freq_traveler</th>\n",
       "      <th>total_reviews</th>\n",
       "    </tr>\n",
       "  </thead>\n",
       "  <tbody>\n",
       "    <tr>\n",
       "      <th>0</th>\n",
       "      <td>30096719</td>\n",
       "      <td>2010</td>\n",
       "      <td>New York</td>\n",
       "      <td>1.0</td>\n",
       "      <td>0.92</td>\n",
       "      <td>1.0</td>\n",
       "      <td>2.0</td>\n",
       "      <td>1.0</td>\n",
       "      <td>1.0</td>\n",
       "      <td>Clinton Hill</td>\n",
       "      <td>Brooklyn</td>\n",
       "      <td>Entire rental unit</td>\n",
       "      <td>Entire home/apt</td>\n",
       "      <td>2</td>\n",
       "      <td>1.0</td>\n",
       "      <td>1.0</td>\n",
       "      <td>NaN</td>\n",
       "      <td>105.0</td>\n",
       "      <td>1</td>\n",
       "      <td>1125</td>\n",
       "      <td>1</td>\n",
       "      <td>1</td>\n",
       "      <td>9</td>\n",
       "      <td>24</td>\n",
       "      <td>244</td>\n",
       "      <td>136</td>\n",
       "      <td>44</td>\n",
       "      <td>6</td>\n",
       "      <td>4.74</td>\n",
       "      <td>4.88</td>\n",
       "      <td>4.77</td>\n",
       "      <td>4.93</td>\n",
       "      <td>4.91</td>\n",
       "      <td>4.96</td>\n",
       "      <td>4.76</td>\n",
       "      <td>0</td>\n",
       "      <td>1</td>\n",
       "      <td>1</td>\n",
       "      <td>0</td>\n",
       "      <td>0</td>\n",
       "      <td>4.34</td>\n",
       "      <td>0.0</td>\n",
       "      <td>96.0</td>\n",
       "      <td>96.0</td>\n",
       "      <td>1</td>\n",
       "      <td>0</td>\n",
       "      <td>0</td>\n",
       "      <td>136</td>\n",
       "    </tr>\n",
       "    <tr>\n",
       "      <th>1</th>\n",
       "      <td>30096719</td>\n",
       "      <td>2010</td>\n",
       "      <td>New York</td>\n",
       "      <td>1.0</td>\n",
       "      <td>0.92</td>\n",
       "      <td>1.0</td>\n",
       "      <td>2.0</td>\n",
       "      <td>1.0</td>\n",
       "      <td>1.0</td>\n",
       "      <td>Clinton Hill</td>\n",
       "      <td>Brooklyn</td>\n",
       "      <td>Entire rental unit</td>\n",
       "      <td>Entire home/apt</td>\n",
       "      <td>2</td>\n",
       "      <td>1.0</td>\n",
       "      <td>1.0</td>\n",
       "      <td>NaN</td>\n",
       "      <td>105.0</td>\n",
       "      <td>1</td>\n",
       "      <td>1125</td>\n",
       "      <td>1</td>\n",
       "      <td>1</td>\n",
       "      <td>9</td>\n",
       "      <td>24</td>\n",
       "      <td>244</td>\n",
       "      <td>136</td>\n",
       "      <td>44</td>\n",
       "      <td>6</td>\n",
       "      <td>4.74</td>\n",
       "      <td>4.88</td>\n",
       "      <td>4.77</td>\n",
       "      <td>4.93</td>\n",
       "      <td>4.91</td>\n",
       "      <td>4.96</td>\n",
       "      <td>4.76</td>\n",
       "      <td>0</td>\n",
       "      <td>1</td>\n",
       "      <td>1</td>\n",
       "      <td>0</td>\n",
       "      <td>0</td>\n",
       "      <td>4.34</td>\n",
       "      <td>0.0</td>\n",
       "      <td>96.0</td>\n",
       "      <td>96.0</td>\n",
       "      <td>1</td>\n",
       "      <td>0</td>\n",
       "      <td>0</td>\n",
       "      <td>136</td>\n",
       "    </tr>\n",
       "    <tr>\n",
       "      <th>2</th>\n",
       "      <td>30096719</td>\n",
       "      <td>2010</td>\n",
       "      <td>New York</td>\n",
       "      <td>1.0</td>\n",
       "      <td>0.92</td>\n",
       "      <td>1.0</td>\n",
       "      <td>2.0</td>\n",
       "      <td>1.0</td>\n",
       "      <td>1.0</td>\n",
       "      <td>Clinton Hill</td>\n",
       "      <td>Brooklyn</td>\n",
       "      <td>Entire rental unit</td>\n",
       "      <td>Entire home/apt</td>\n",
       "      <td>2</td>\n",
       "      <td>1.0</td>\n",
       "      <td>1.0</td>\n",
       "      <td>NaN</td>\n",
       "      <td>105.0</td>\n",
       "      <td>1</td>\n",
       "      <td>1125</td>\n",
       "      <td>1</td>\n",
       "      <td>1</td>\n",
       "      <td>9</td>\n",
       "      <td>24</td>\n",
       "      <td>244</td>\n",
       "      <td>136</td>\n",
       "      <td>44</td>\n",
       "      <td>6</td>\n",
       "      <td>4.74</td>\n",
       "      <td>4.88</td>\n",
       "      <td>4.77</td>\n",
       "      <td>4.93</td>\n",
       "      <td>4.91</td>\n",
       "      <td>4.96</td>\n",
       "      <td>4.76</td>\n",
       "      <td>0</td>\n",
       "      <td>1</td>\n",
       "      <td>1</td>\n",
       "      <td>0</td>\n",
       "      <td>0</td>\n",
       "      <td>4.34</td>\n",
       "      <td>0.0</td>\n",
       "      <td>96.0</td>\n",
       "      <td>96.0</td>\n",
       "      <td>4</td>\n",
       "      <td>1</td>\n",
       "      <td>1</td>\n",
       "      <td>136</td>\n",
       "    </tr>\n",
       "    <tr>\n",
       "      <th>3</th>\n",
       "      <td>30096719</td>\n",
       "      <td>2010</td>\n",
       "      <td>New York</td>\n",
       "      <td>1.0</td>\n",
       "      <td>0.92</td>\n",
       "      <td>1.0</td>\n",
       "      <td>2.0</td>\n",
       "      <td>1.0</td>\n",
       "      <td>1.0</td>\n",
       "      <td>Clinton Hill</td>\n",
       "      <td>Brooklyn</td>\n",
       "      <td>Entire rental unit</td>\n",
       "      <td>Entire home/apt</td>\n",
       "      <td>2</td>\n",
       "      <td>1.0</td>\n",
       "      <td>1.0</td>\n",
       "      <td>NaN</td>\n",
       "      <td>105.0</td>\n",
       "      <td>1</td>\n",
       "      <td>1125</td>\n",
       "      <td>1</td>\n",
       "      <td>1</td>\n",
       "      <td>9</td>\n",
       "      <td>24</td>\n",
       "      <td>244</td>\n",
       "      <td>136</td>\n",
       "      <td>44</td>\n",
       "      <td>6</td>\n",
       "      <td>4.74</td>\n",
       "      <td>4.88</td>\n",
       "      <td>4.77</td>\n",
       "      <td>4.93</td>\n",
       "      <td>4.91</td>\n",
       "      <td>4.96</td>\n",
       "      <td>4.76</td>\n",
       "      <td>0</td>\n",
       "      <td>1</td>\n",
       "      <td>1</td>\n",
       "      <td>0</td>\n",
       "      <td>0</td>\n",
       "      <td>4.34</td>\n",
       "      <td>0.0</td>\n",
       "      <td>96.0</td>\n",
       "      <td>96.0</td>\n",
       "      <td>2</td>\n",
       "      <td>1</td>\n",
       "      <td>0</td>\n",
       "      <td>136</td>\n",
       "    </tr>\n",
       "    <tr>\n",
       "      <th>4</th>\n",
       "      <td>30096719</td>\n",
       "      <td>2010</td>\n",
       "      <td>New York</td>\n",
       "      <td>1.0</td>\n",
       "      <td>0.92</td>\n",
       "      <td>1.0</td>\n",
       "      <td>2.0</td>\n",
       "      <td>1.0</td>\n",
       "      <td>1.0</td>\n",
       "      <td>Clinton Hill</td>\n",
       "      <td>Brooklyn</td>\n",
       "      <td>Entire rental unit</td>\n",
       "      <td>Entire home/apt</td>\n",
       "      <td>2</td>\n",
       "      <td>1.0</td>\n",
       "      <td>1.0</td>\n",
       "      <td>NaN</td>\n",
       "      <td>105.0</td>\n",
       "      <td>1</td>\n",
       "      <td>1125</td>\n",
       "      <td>1</td>\n",
       "      <td>1</td>\n",
       "      <td>9</td>\n",
       "      <td>24</td>\n",
       "      <td>244</td>\n",
       "      <td>136</td>\n",
       "      <td>44</td>\n",
       "      <td>6</td>\n",
       "      <td>4.74</td>\n",
       "      <td>4.88</td>\n",
       "      <td>4.77</td>\n",
       "      <td>4.93</td>\n",
       "      <td>4.91</td>\n",
       "      <td>4.96</td>\n",
       "      <td>4.76</td>\n",
       "      <td>0</td>\n",
       "      <td>1</td>\n",
       "      <td>1</td>\n",
       "      <td>0</td>\n",
       "      <td>0</td>\n",
       "      <td>4.34</td>\n",
       "      <td>0.0</td>\n",
       "      <td>96.0</td>\n",
       "      <td>96.0</td>\n",
       "      <td>1</td>\n",
       "      <td>0</td>\n",
       "      <td>0</td>\n",
       "      <td>136</td>\n",
       "    </tr>\n",
       "  </tbody>\n",
       "</table>\n",
       "</div>"
      ],
      "text/plain": [
       "         id  host_since host_location  host_response_rate  \\\n",
       "0  30096719        2010      New York                 1.0   \n",
       "1  30096719        2010      New York                 1.0   \n",
       "2  30096719        2010      New York                 1.0   \n",
       "3  30096719        2010      New York                 1.0   \n",
       "4  30096719        2010      New York                 1.0   \n",
       "\n",
       "   host_acceptance_rate  host_is_superhost  host_total_listings_count  \\\n",
       "0                  0.92                1.0                        2.0   \n",
       "1                  0.92                1.0                        2.0   \n",
       "2                  0.92                1.0                        2.0   \n",
       "3                  0.92                1.0                        2.0   \n",
       "4                  0.92                1.0                        2.0   \n",
       "\n",
       "   host_has_profile_pic  host_identity_verified neighbourhood_cleansed  \\\n",
       "0                   1.0                     1.0           Clinton Hill   \n",
       "1                   1.0                     1.0           Clinton Hill   \n",
       "2                   1.0                     1.0           Clinton Hill   \n",
       "3                   1.0                     1.0           Clinton Hill   \n",
       "4                   1.0                     1.0           Clinton Hill   \n",
       "\n",
       "  neighbourhood_group_cleansed       property_type        room_type  \\\n",
       "0                     Brooklyn  Entire rental unit  Entire home/apt   \n",
       "1                     Brooklyn  Entire rental unit  Entire home/apt   \n",
       "2                     Brooklyn  Entire rental unit  Entire home/apt   \n",
       "3                     Brooklyn  Entire rental unit  Entire home/apt   \n",
       "4                     Brooklyn  Entire rental unit  Entire home/apt   \n",
       "\n",
       "   accommodates  Bathrooms  bedrooms  beds  price  minimum_nights  \\\n",
       "0             2        1.0       1.0   NaN  105.0               1   \n",
       "1             2        1.0       1.0   NaN  105.0               1   \n",
       "2             2        1.0       1.0   NaN  105.0               1   \n",
       "3             2        1.0       1.0   NaN  105.0               1   \n",
       "4             2        1.0       1.0   NaN  105.0               1   \n",
       "\n",
       "   maximum_nights  has_availability  availability_30  availability_60  \\\n",
       "0            1125                 1                1                9   \n",
       "1            1125                 1                1                9   \n",
       "2            1125                 1                1                9   \n",
       "3            1125                 1                1                9   \n",
       "4            1125                 1                1                9   \n",
       "\n",
       "   availability_90  availability_365  number_of_reviews  \\\n",
       "0               24               244                136   \n",
       "1               24               244                136   \n",
       "2               24               244                136   \n",
       "3               24               244                136   \n",
       "4               24               244                136   \n",
       "\n",
       "   number_of_reviews_ltm  number_of_reviews_l30d  review_scores_rating  \\\n",
       "0                     44                       6                  4.74   \n",
       "1                     44                       6                  4.74   \n",
       "2                     44                       6                  4.74   \n",
       "3                     44                       6                  4.74   \n",
       "4                     44                       6                  4.74   \n",
       "\n",
       "   review_scores_accuracy  review_scores_cleanliness  review_scores_checkin  \\\n",
       "0                    4.88                       4.77                   4.93   \n",
       "1                    4.88                       4.77                   4.93   \n",
       "2                    4.88                       4.77                   4.93   \n",
       "3                    4.88                       4.77                   4.93   \n",
       "4                    4.88                       4.77                   4.93   \n",
       "\n",
       "   review_scores_communication  review_scores_location  review_scores_value  \\\n",
       "0                         4.91                    4.96                 4.76   \n",
       "1                         4.91                    4.96                 4.76   \n",
       "2                         4.91                    4.96                 4.76   \n",
       "3                         4.91                    4.96                 4.76   \n",
       "4                         4.91                    4.96                 4.76   \n",
       "\n",
       "   instant_bookable  calculated_host_listings_count  \\\n",
       "0                 0                               1   \n",
       "1                 0                               1   \n",
       "2                 0                               1   \n",
       "3                 0                               1   \n",
       "4                 0                               1   \n",
       "\n",
       "   calculated_host_listings_count_entire_homes  \\\n",
       "0                                            1   \n",
       "1                                            1   \n",
       "2                                            1   \n",
       "3                                            1   \n",
       "4                                            1   \n",
       "\n",
       "   calculated_host_listings_count_private_rooms  \\\n",
       "0                                             0   \n",
       "1                                             0   \n",
       "2                                             0   \n",
       "3                                             0   \n",
       "4                                             0   \n",
       "\n",
       "   calculated_host_listings_count_shared_rooms  reviews_per_month  available  \\\n",
       "0                                            0               4.34        0.0   \n",
       "1                                            0               4.34        0.0   \n",
       "2                                            0               4.34        0.0   \n",
       "3                                            0               4.34        0.0   \n",
       "4                                            0               4.34        0.0   \n",
       "\n",
       "   calendar_price  calendar_adjusted_price  n_reviews  Freq_reviewer  \\\n",
       "0            96.0                     96.0          1              0   \n",
       "1            96.0                     96.0          1              0   \n",
       "2            96.0                     96.0          4              1   \n",
       "3            96.0                     96.0          2              1   \n",
       "4            96.0                     96.0          1              0   \n",
       "\n",
       "   Freq_traveler  total_reviews  \n",
       "0              0            136  \n",
       "1              0            136  \n",
       "2              1            136  \n",
       "3              0            136  \n",
       "4              0            136  "
      ]
     },
     "execution_count": 60,
     "metadata": {},
     "output_type": "execute_result"
    }
   ],
   "source": [
    "df.head()"
   ]
  },
  {
   "cell_type": "code",
   "execution_count": 61,
   "id": "9f380f26",
   "metadata": {
    "ExecuteTime": {
     "end_time": "2022-11-08T00:35:23.968751Z",
     "start_time": "2022-11-08T00:35:23.671716Z"
    }
   },
   "outputs": [
    {
     "data": {
      "text/plain": [
       "5747"
      ]
     },
     "execution_count": 61,
     "metadata": {},
     "output_type": "execute_result"
    }
   ],
   "source": [
    "len(df[\"id\"].unique())"
   ]
  },
  {
   "cell_type": "code",
   "execution_count": 62,
   "id": "35993caf",
   "metadata": {
    "ExecuteTime": {
     "end_time": "2022-11-08T00:35:23.998161Z",
     "start_time": "2022-11-08T00:35:23.969998Z"
    },
    "scrolled": true
   },
   "outputs": [
    {
     "name": "stdout",
     "output_type": "stream",
     "text": [
      "<class 'pandas.core.frame.DataFrame'>\n",
      "Int64Index: 64859422 entries, 0 to 64859421\n",
      "Data columns (total 48 columns):\n",
      " #   Column                                        Dtype  \n",
      "---  ------                                        -----  \n",
      " 0   id                                            int64  \n",
      " 1   host_since                                    int64  \n",
      " 2   host_location                                 object \n",
      " 3   host_response_rate                            float64\n",
      " 4   host_acceptance_rate                          float64\n",
      " 5   host_is_superhost                             float64\n",
      " 6   host_total_listings_count                     float64\n",
      " 7   host_has_profile_pic                          float64\n",
      " 8   host_identity_verified                        float64\n",
      " 9   neighbourhood_cleansed                        object \n",
      " 10  neighbourhood_group_cleansed                  object \n",
      " 11  property_type                                 object \n",
      " 12  room_type                                     object \n",
      " 13  accommodates                                  int64  \n",
      " 14  Bathrooms                                     float64\n",
      " 15  bedrooms                                      float64\n",
      " 16  beds                                          float64\n",
      " 17  price                                         float64\n",
      " 18  minimum_nights                                int64  \n",
      " 19  maximum_nights                                int64  \n",
      " 20  has_availability                              int64  \n",
      " 21  availability_30                               int64  \n",
      " 22  availability_60                               int64  \n",
      " 23  availability_90                               int64  \n",
      " 24  availability_365                              int64  \n",
      " 25  number_of_reviews                             int64  \n",
      " 26  number_of_reviews_ltm                         int64  \n",
      " 27  number_of_reviews_l30d                        int64  \n",
      " 28  review_scores_rating                          float64\n",
      " 29  review_scores_accuracy                        float64\n",
      " 30  review_scores_cleanliness                     float64\n",
      " 31  review_scores_checkin                         float64\n",
      " 32  review_scores_communication                   float64\n",
      " 33  review_scores_location                        float64\n",
      " 34  review_scores_value                           float64\n",
      " 35  instant_bookable                              int64  \n",
      " 36  calculated_host_listings_count                int64  \n",
      " 37  calculated_host_listings_count_entire_homes   int64  \n",
      " 38  calculated_host_listings_count_private_rooms  int64  \n",
      " 39  calculated_host_listings_count_shared_rooms   int64  \n",
      " 40  reviews_per_month                             float64\n",
      " 41  available                                     float64\n",
      " 42  calendar_price                                float64\n",
      " 43  calendar_adjusted_price                       float64\n",
      " 44  n_reviews                                     int64  \n",
      " 45  Freq_reviewer                                 int64  \n",
      " 46  Freq_traveler                                 int64  \n",
      " 47  total_reviews                                 int64  \n",
      "dtypes: float64(21), int64(22), object(5)\n",
      "memory usage: 23.7+ GB\n"
     ]
    }
   ],
   "source": [
    "df.info()"
   ]
  },
  {
   "cell_type": "markdown",
   "id": "2b35d722",
   "metadata": {},
   "source": [
    "### Price Columns Comparison"
   ]
  },
  {
   "cell_type": "code",
   "execution_count": 63,
   "id": "c3e27ea8",
   "metadata": {
    "ExecuteTime": {
     "end_time": "2022-11-08T00:35:24.356014Z",
     "start_time": "2022-11-08T00:35:23.999852Z"
    }
   },
   "outputs": [
    {
     "data": {
      "text/plain": [
       "False"
      ]
     },
     "execution_count": 63,
     "metadata": {},
     "output_type": "execute_result"
    }
   ],
   "source": [
    "df[\"price\"].equals(df[\"calendar_price\"])"
   ]
  },
  {
   "cell_type": "code",
   "execution_count": 64,
   "id": "6f051b7d",
   "metadata": {
    "ExecuteTime": {
     "end_time": "2022-11-08T00:35:24.647244Z",
     "start_time": "2022-11-08T00:35:24.358268Z"
    }
   },
   "outputs": [
    {
     "data": {
      "text/plain": [
       "False"
      ]
     },
     "execution_count": 64,
     "metadata": {},
     "output_type": "execute_result"
    }
   ],
   "source": [
    "df[\"price\"].equals(df[\"calendar_adjusted_price\"])"
   ]
  },
  {
   "cell_type": "code",
   "execution_count": 65,
   "id": "f986b191",
   "metadata": {
    "ExecuteTime": {
     "end_time": "2022-11-08T00:35:24.863772Z",
     "start_time": "2022-11-08T00:35:24.648378Z"
    }
   },
   "outputs": [
    {
     "data": {
      "text/plain": [
       "False"
      ]
     },
     "execution_count": 65,
     "metadata": {},
     "output_type": "execute_result"
    }
   ],
   "source": [
    "df[\"calendar_price\"].equals(df[\"calendar_adjusted_price\"])"
   ]
  },
  {
   "cell_type": "markdown",
   "id": "f97994ac",
   "metadata": {},
   "source": [
    "## um, varc, vard"
   ]
  },
  {
   "cell_type": "code",
   "execution_count": 66,
   "id": "0c0753ad",
   "metadata": {
    "ExecuteTime": {
     "end_time": "2022-11-08T00:35:24.870555Z",
     "start_time": "2022-11-08T00:35:24.864674Z"
    }
   },
   "outputs": [],
   "source": [
    "um = [\"id\"]\n",
    "vard = [\"host_location\", \"neighbourhood_cleansed\", \"neighbourhood_group_cleansed\",\n",
    "        \"property_type\", \"room_type\"]\n",
    "varc = [x for x in df.columns.tolist() if x not in um+vard]"
   ]
  },
  {
   "cell_type": "markdown",
   "id": "28f0657e",
   "metadata": {},
   "source": [
    "## EDA"
   ]
  },
  {
   "cell_type": "code",
   "execution_count": 67,
   "id": "1bf0e967",
   "metadata": {
    "ExecuteTime": {
     "end_time": "2022-11-08T00:35:24.874359Z",
     "start_time": "2022-11-08T00:35:24.872049Z"
    }
   },
   "outputs": [
    {
     "data": {
      "text/plain": [
       "(64859422, 48)"
      ]
     },
     "execution_count": 67,
     "metadata": {},
     "output_type": "execute_result"
    }
   ],
   "source": [
    "df.shape"
   ]
  },
  {
   "cell_type": "markdown",
   "id": "97784f83",
   "metadata": {},
   "source": [
    "## Discrete Variables"
   ]
  },
  {
   "cell_type": "markdown",
   "id": "e79a6d17",
   "metadata": {},
   "source": [
    "### Filling missings"
   ]
  },
  {
   "cell_type": "code",
   "execution_count": 68,
   "id": "be9ed037",
   "metadata": {
    "ExecuteTime": {
     "end_time": "2022-11-08T00:35:40.897673Z",
     "start_time": "2022-11-08T00:35:24.875604Z"
    }
   },
   "outputs": [],
   "source": [
    "for var in vard:\n",
    "    df[var] = df[var].fillna(\"Without Category\")"
   ]
  },
  {
   "cell_type": "markdown",
   "id": "b837eed8",
   "metadata": {},
   "source": [
    "### Frequencies"
   ]
  },
  {
   "cell_type": "code",
   "execution_count": 69,
   "id": "8dd00ec5",
   "metadata": {
    "ExecuteTime": {
     "end_time": "2022-11-08T00:35:52.525162Z",
     "start_time": "2022-11-08T00:35:40.899567Z"
    }
   },
   "outputs": [
    {
     "name": "stdout",
     "output_type": "stream",
     "text": [
      "Frequencies table for variable host_location \n",
      "\n",
      "                                                          FA        FR  \\\n",
      "New York                                            55773469  0.859913   \n",
      "Unknown                                              4704493  0.072534   \n",
      "California                                            744235  0.011475   \n",
      "New Jersey                                            618310  0.009533   \n",
      "Florida                                               466835  0.007198   \n",
      "nan                                                   212430  0.003275   \n",
      "Texas                                                 206955  0.003191   \n",
      "Massachusetts                                         166805  0.002572   \n",
      "United States                                         162425  0.002504   \n",
      "Pennsylvania                                          123735  0.001908   \n",
      "Louisiana                                             101470  0.001564   \n",
      "Île-de-France                                          99280  0.001531   \n",
      "Colorado                                               95995  0.001480   \n",
      "England                                                87235  0.001345   \n",
      "Connecticut                                            71540  0.001103   \n",
      "Illinois                                               59130  0.000912   \n",
      "District of Columbia                                   59130  0.000912   \n",
      "CA                                                     58765  0.000906   \n",
      "Washington                                             51830  0.000799   \n",
      "Brooklyn                                               49275  0.000760   \n",
      "New Mexico                                             45990  0.000709   \n",
      "New York USA                                           42340  0.000653   \n",
      "Maryland                                               40515  0.000625   \n",
      "NY                                                     38690  0.000597   \n",
      "North Carolina                                         37595  0.000580   \n",
      "GH                                                     34675  0.000535   \n",
      "Berlin                                                 34310  0.000529   \n",
      "Emilia-Romagna                                         33945  0.000523   \n",
      "Ontario                                                33215  0.000512   \n",
      "Bangkok                                                31025  0.000478   \n",
      "法拉盛图书馆附近                                               29200  0.000450   \n",
      "Russia                                                 27740  0.000428   \n",
      "We stay on another houseboat on the dock where ...     27010  0.000416   \n",
      "South Holland                                          23725  0.000366   \n",
      "Wisconsin                                              20805  0.000321   \n",
      "RS                                                     20075  0.000310   \n",
      "Virginia                                               19710  0.000304   \n",
      "Delaware                                               18250  0.000281   \n",
      "İstanbul                                               17520  0.000270   \n",
      "Nevada                                                 16425  0.000253   \n",
      "Haute-Normandie                                        16060  0.000248   \n",
      "RU                                                     14235  0.000219   \n",
      "Auvergne-Rhône-Alpes                                   12775  0.000197   \n",
      "Maine                                                  12775  0.000197   \n",
      "NY                                                     12775  0.000197   \n",
      "Georgia                                                12775  0.000197   \n",
      "Rhode Island                                           10950  0.000169   \n",
      "east to west                                           10585  0.000163   \n",
      "In a renovated 19th century Manhattan townhouse...     10220  0.000158   \n",
      "Paraguay                                               10220  0.000158   \n",
      "Utah                                                    9855  0.000152   \n",
      "JP                                                      9490  0.000146   \n",
      "ES                                                      9125  0.000141   \n",
      "IT                                                      8760  0.000135   \n",
      "Ohio                                                    8395  0.000129   \n",
      "State of Bahia                                          8030  0.000124   \n",
      "Hordaland                                               7300  0.000113   \n",
      "United Kingdom                                          6935  0.000107   \n",
      "British Columbia                                        6935  0.000107   \n",
      "New South Wales                                         6570  0.000101   \n",
      "Israel                                                  6205  0.000096   \n",
      "Hawaii                                                  6205  0.000096   \n",
      "Buenos Aires                                            5840  0.000090   \n",
      "Tennessee                                               5840  0.000090   \n",
      "Victoria                                                5840  0.000090   \n",
      "CN                                                      5110  0.000079   \n",
      "PH                                                      5110  0.000079   \n",
      "South Carolina                                          4380  0.000068   \n",
      "State of Mexico                                         4380  0.000068   \n",
      "Estado de México                                        4380  0.000068   \n",
      "Wyoming                                                 4015  0.000062   \n",
      "CO                                                      3650  0.000056   \n",
      "Michigan                                                3650  0.000056   \n",
      "São Paulo                                               3285  0.000051   \n",
      "Sindh                                                   3285  0.000051   \n",
      "Australia                                               3285  0.000051   \n",
      "Lisbon                                                  3285  0.000051   \n",
      "Community of Madrid                                     2920  0.000045   \n",
      "Austria                                                 2920  0.000045   \n",
      "UA                                                      2920  0.000045   \n",
      "State of Rio de Janeiro                                 2555  0.000039   \n",
      "China                                                   2555  0.000039   \n",
      "Zurich                                                  2190  0.000034   \n",
      "Baden-Württemberg                                       2190  0.000034   \n",
      "Autonomous City of Buenos Aires                         2190  0.000034   \n",
      "Jalisco                                                 2190  0.000034   \n",
      "Alsace-Champagne-Ardenne-Lorraine                       1825  0.000028   \n",
      "Guangdong Province                                      1825  0.000028   \n",
      "Missouri                                                1825  0.000028   \n",
      "Chihuahua                                               1460  0.000023   \n",
      "Alabama                                                 1460  0.000023   \n",
      "Arizona                                                 1460  0.000023   \n",
      "Haifa District                                          1460  0.000023   \n",
      "Uusimaa                                                 1460  0.000023   \n",
      "Indiana                                                 1460  0.000023   \n",
      "Curaçao                                                 1460  0.000023   \n",
      "Guanajuato                                              1460  0.000023   \n",
      "Quebec                                                  1095  0.000017   \n",
      "San Juan                                                1095  0.000017   \n",
      "PL                                                      1095  0.000017   \n",
      "Federal District                                        1095  0.000017   \n",
      "Catalonia                                               1095  0.000017   \n",
      "Minnesota                                               1095  0.000017   \n",
      "Jakarta                                                 1095  0.000017   \n",
      "Colombia                                                1095  0.000017   \n",
      "Travel for work                                         1095  0.000017   \n",
      "Rio de Janeiro                                          1095  0.000017   \n",
      "Karnataka                                                730  0.000011   \n",
      "Geneva                                                   730  0.000011   \n",
      "Kansas                                                   730  0.000011   \n",
      "Hong Kong                                                730  0.000011   \n",
      "Beirut Governorate                                       730  0.000011   \n",
      "New Hampshire                                            730  0.000011   \n",
      "Puerto Plata                                             730  0.000011   \n",
      "Centre-Val de Loire                                      730  0.000011   \n",
      "TR                                                       730  0.000011   \n",
      "MX                                                       730  0.000011   \n",
      "Canton of Neuchâtel                                      730  0.000011   \n",
      "Cundinamarca                                             730  0.000011   \n",
      "IL                                                       730  0.000011   \n",
      "Capital Region of Denmark                                730  0.000011   \n",
      "Santa Fe Province                                        365  0.000006   \n",
      "LB                                                       365  0.000006   \n",
      "BG                                                       365  0.000006   \n",
      " New York                                                365  0.000006   \n",
      "hong kong                                                365  0.000006   \n",
      "North Rhine-Westphalia                                   365  0.000006   \n",
      "Hawke's Bay                                              365  0.000006   \n",
      "Galicia                                                  365  0.000006   \n",
      "Porto District                                           365  0.000006   \n",
      "Dubai                                                    365  0.000006   \n",
      "Maharashtra                                              365  0.000006   \n",
      "France                                                   365  0.000006   \n",
      "SK                                                       365  0.000006   \n",
      "South Dakota                                             365  0.000006   \n",
      "JE                                                       365  0.000006   \n",
      "Beijing                                                  365  0.000006   \n",
      "Vermont                                                  365  0.000006   \n",
      "AU                                                       365  0.000006   \n",
      "GR                                                       365  0.000006   \n",
      "Lombardy                                                 365  0.000006   \n",
      "North Santander                                          365  0.000006   \n",
      "Moscow                                                   365  0.000006   \n",
      "Rhineland-Palatinate                                     365  0.000006   \n",
      "Center District                                          365  0.000006   \n",
      "Oklahoma                                                 365  0.000006   \n",
      "Auckland                                                 365  0.000006   \n",
      "Seoul                                                    365  0.000006   \n",
      "\n",
      "                                                         FAA       FRA  \n",
      "New York                                            55773469  0.859913  \n",
      "Unknown                                             60477962  0.932447  \n",
      "California                                          61222197  0.943921  \n",
      "New Jersey                                          61840507  0.953454  \n",
      "Florida                                             62307342  0.960652  \n",
      "nan                                                 62519772  0.963927  \n",
      "Texas                                               62726727  0.967118  \n",
      "Massachusetts                                       62893532  0.969690  \n",
      "United States                                       63055957  0.972194  \n",
      "Pennsylvania                                        63179692  0.974102  \n",
      "Louisiana                                           63281162  0.975666  \n",
      "Île-de-France                                       63380442  0.977197  \n",
      "Colorado                                            63476437  0.978677  \n",
      "England                                             63563672  0.980022  \n",
      "Connecticut                                         63635212  0.981125  \n",
      "Illinois                                            63694342  0.982037  \n",
      "District of Columbia                                63753472  0.982949  \n",
      "CA                                                  63812237  0.983855  \n",
      "Washington                                          63864067  0.984654  \n",
      "Brooklyn                                            63913342  0.985413  \n",
      "New Mexico                                          63959332  0.986122  \n",
      "New York USA                                        64001672  0.986775  \n",
      "Maryland                                            64042187  0.987400  \n",
      "NY                                                  64080877  0.987996  \n",
      "North Carolina                                      64118472  0.988576  \n",
      "GH                                                  64153147  0.989111  \n",
      "Berlin                                              64187457  0.989640  \n",
      "Emilia-Romagna                                      64221402  0.990163  \n",
      "Ontario                                             64254617  0.990675  \n",
      "Bangkok                                             64285642  0.991153  \n",
      "法拉盛图书馆附近                                            64314842  0.991604  \n",
      "Russia                                              64342582  0.992031  \n",
      "We stay on another houseboat on the dock where ...  64369592  0.992448  \n",
      "South Holland                                       64393317  0.992814  \n",
      "Wisconsin                                           64414122  0.993134  \n",
      "RS                                                  64434197  0.993444  \n",
      "Virginia                                            64453907  0.993748  \n",
      "Delaware                                            64472157  0.994029  \n",
      "İstanbul                                            64489677  0.994299  \n",
      "Nevada                                              64506102  0.994553  \n",
      "Haute-Normandie                                     64522162  0.994800  \n",
      "RU                                                  64536397  0.995020  \n",
      "Auvergne-Rhône-Alpes                                64549172  0.995217  \n",
      "Maine                                               64561947  0.995414  \n",
      "NY                                                  64574722  0.995611  \n",
      "Georgia                                             64587497  0.995807  \n",
      "Rhode Island                                        64598447  0.995976  \n",
      "east to west                                        64609032  0.996139  \n",
      "In a renovated 19th century Manhattan townhouse...  64619252  0.996297  \n",
      "Paraguay                                            64629472  0.996455  \n",
      "Utah                                                64639327  0.996607  \n",
      "JP                                                  64648817  0.996753  \n",
      "ES                                                  64657942  0.996894  \n",
      "IT                                                  64666702  0.997029  \n",
      "Ohio                                                64675097  0.997158  \n",
      "State of Bahia                                      64683127  0.997282  \n",
      "Hordaland                                           64690427  0.997394  \n",
      "United Kingdom                                      64697362  0.997501  \n",
      "British Columbia                                    64704297  0.997608  \n",
      "New South Wales                                     64710867  0.997710  \n",
      "Israel                                              64717072  0.997805  \n",
      "Hawaii                                              64723277  0.997901  \n",
      "Buenos Aires                                        64729117  0.997991  \n",
      "Tennessee                                           64734957  0.998081  \n",
      "Victoria                                            64740797  0.998171  \n",
      "CN                                                  64745907  0.998250  \n",
      "PH                                                  64751017  0.998329  \n",
      "South Carolina                                      64755397  0.998396  \n",
      "State of Mexico                                     64759777  0.998464  \n",
      "Estado de México                                    64764157  0.998531  \n",
      "Wyoming                                             64768172  0.998593  \n",
      "CO                                                  64771822  0.998649  \n",
      "Michigan                                            64775472  0.998706  \n",
      "São Paulo                                           64778757  0.998756  \n",
      "Sindh                                               64782042  0.998807  \n",
      "Australia                                           64785327  0.998858  \n",
      "Lisbon                                              64788612  0.998908  \n",
      "Community of Madrid                                 64791532  0.998953  \n",
      "Austria                                             64794452  0.998998  \n",
      "UA                                                  64797372  0.999043  \n",
      "State of Rio de Janeiro                             64799927  0.999083  \n",
      "China                                               64802482  0.999122  \n",
      "Zurich                                              64804672  0.999156  \n",
      "Baden-Württemberg                                   64806862  0.999190  \n",
      "Autonomous City of Buenos Aires                     64809052  0.999223  \n",
      "Jalisco                                             64811242  0.999257  \n",
      "Alsace-Champagne-Ardenne-Lorraine                   64813067  0.999285  \n",
      "Guangdong Province                                  64814892  0.999313  \n",
      "Missouri                                            64816717  0.999342  \n",
      "Chihuahua                                           64818177  0.999364  \n",
      "Alabama                                             64819637  0.999387  \n",
      "Arizona                                             64821097  0.999409  \n",
      "Haifa District                                      64822557  0.999432  \n",
      "Uusimaa                                             64824017  0.999454  \n",
      "Indiana                                             64825477  0.999477  \n",
      "Curaçao                                             64826937  0.999499  \n",
      "Guanajuato                                          64828397  0.999522  \n",
      "Quebec                                              64829492  0.999539  \n",
      "San Juan                                            64830587  0.999555  \n",
      "PL                                                  64831682  0.999572  \n",
      "Federal District                                    64832777  0.999589  \n",
      "Catalonia                                           64833872  0.999606  \n",
      "Minnesota                                           64834967  0.999623  \n",
      "Jakarta                                             64836062  0.999640  \n",
      "Colombia                                            64837157  0.999657  \n",
      "Travel for work                                     64838252  0.999674  \n",
      "Rio de Janeiro                                      64839347  0.999690  \n",
      "Karnataka                                           64840077  0.999702  \n",
      "Geneva                                              64840807  0.999713  \n",
      "Kansas                                              64841537  0.999724  \n",
      "Hong Kong                                           64842267  0.999736  \n",
      "Beirut Governorate                                  64842997  0.999747  \n",
      "New Hampshire                                       64843727  0.999758  \n",
      "Puerto Plata                                        64844457  0.999769  \n",
      "Centre-Val de Loire                                 64845187  0.999781  \n",
      "TR                                                  64845917  0.999792  \n",
      "MX                                                  64846647  0.999803  \n",
      "Canton of Neuchâtel                                 64847377  0.999814  \n",
      "Cundinamarca                                        64848107  0.999826  \n",
      "IL                                                  64848837  0.999837  \n",
      "Capital Region of Denmark                           64849567  0.999848  \n",
      "Santa Fe Province                                   64849932  0.999854  \n",
      "LB                                                  64850297  0.999859  \n",
      "BG                                                  64850662  0.999865  \n",
      " New York                                           64851027  0.999871  \n",
      "hong kong                                           64851392  0.999876  \n",
      "North Rhine-Westphalia                              64851757  0.999882  \n",
      "Hawke's Bay                                         64852122  0.999887  \n",
      "Galicia                                             64852487  0.999893  \n",
      "Porto District                                      64852852  0.999899  \n",
      "Dubai                                               64853217  0.999904  \n",
      "Maharashtra                                         64853582  0.999910  \n",
      "France                                              64853947  0.999916  \n",
      "SK                                                  64854312  0.999921  \n",
      "South Dakota                                        64854677  0.999927  \n",
      "JE                                                  64855042  0.999932  \n",
      "Beijing                                             64855407  0.999938  \n",
      "Vermont                                             64855772  0.999944  \n",
      "AU                                                  64856137  0.999949  \n",
      "GR                                                  64856502  0.999955  \n",
      "Lombardy                                            64856867  0.999961  \n",
      "North Santander                                     64857232  0.999966  \n",
      "Moscow                                              64857597  0.999972  \n",
      "Rhineland-Palatinate                                64857962  0.999977  \n",
      "Center District                                     64858327  0.999983  \n",
      "Oklahoma                                            64858692  0.999989  \n",
      "Auckland                                            64859057  0.999994  \n",
      "Seoul                                               64859422  1.000000   \n",
      "\n",
      "Frequencies table for variable neighbourhood_cleansed \n",
      "\n",
      "                                FA        FR       FAA       FRA\n",
      "Bedford-Stuyvesant         6198065  0.095562   6198065  0.095562\n",
      "Harlem                     4219765  0.065060  10417830  0.160622\n",
      "Williamsburg               3695625  0.056979  14113455  0.217601\n",
      "Hell's Kitchen             2684575  0.041391  16798030  0.258991\n",
      "Bushwick                   2360090  0.036388  19158120  0.295379\n",
      "Crown Heights              2106415  0.032477  21264535  0.327856\n",
      "East Village               1834498  0.028284  23099033  0.356140\n",
      "East Harlem                1781200  0.027462  24880233  0.383602\n",
      "Astoria                    1558915  0.024035  26439148  0.407638\n",
      "Upper West Side            1498690  0.023107  27937838  0.430744\n",
      "Clinton Hill               1389555  0.021424  29327393  0.452169\n",
      "Midtown                    1357800  0.020935  30685193  0.473103\n",
      "Chelsea                    1326410  0.020451  32011603  0.493554\n",
      "Flushing                   1195740  0.018436  33207343  0.511989\n",
      "East Flatbush              1158510  0.017862  34365853  0.529851\n",
      "Upper East Side            1100840  0.016973  35466693  0.546824\n",
      "Fort Greene                1003020  0.015465  36469713  0.562289\n",
      "Lower East Side             986230  0.015206  37455943  0.577494\n",
      "Prospect-Lefferts Gardens   913230  0.014080  38369173  0.591574\n",
      "Park Slope                  861400  0.013281  39230573  0.604855\n",
      "Springfield Gardens         843880  0.013011  40074453  0.617866\n",
      "Greenpoint                  834390  0.012865  40908843  0.630731\n",
      "Financial District          823805  0.012701  41732648  0.643432\n",
      "Woodside                    770150  0.011874  42502798  0.655306\n",
      "Washington Heights          745695  0.011497  43248493  0.666804\n",
      "Long Island City            744600  0.011480  43993093  0.678284\n",
      "Flatbush                    727080  0.011210  44720173  0.689494\n",
      "SoHo                        648970  0.010006  45369143  0.699500\n",
      "Jamaica                     628530  0.009691  45997673  0.709190\n",
      "East Elmhurst               598235  0.009224  46595908  0.718414\n",
      "Sunset Park                 531440  0.008194  47127348  0.726608\n",
      "South Slope                 529250  0.008160  47656598  0.734768\n",
      "West Village                522315  0.008053  48178913  0.742821\n",
      "Canarsie                    494210  0.007620  48673123  0.750440\n",
      "Theater District            474500  0.007316  49147623  0.757756\n",
      "East New York               445665  0.006871  49593288  0.764627\n",
      "Chinatown                   427415  0.006590  50020703  0.771217\n",
      "Ditmars Steinway            390185  0.006016  50410888  0.777233\n",
      "Woodhaven                   372665  0.005746  50783553  0.782979\n",
      "Inwood                      331055  0.005104  51114608  0.788083\n",
      "Rego Park                   326310  0.005031  51440918  0.793114\n",
      "Ridgewood                   326310  0.005031  51767228  0.798145\n",
      "Sunnyside                   322295  0.004969  52089523  0.803114\n",
      "Queens Village              316090  0.004873  52405613  0.807988\n",
      "Sheepshead Bay              312075  0.004812  52717688  0.812799\n",
      "Kips Bay                    304775  0.004699  53022463  0.817498\n",
      "Prospect Heights            298205  0.004598  53320668  0.822096\n",
      "St. Albans                  297110  0.004581  53617778  0.826677\n",
      "Concourse                   290540  0.004480  53908318  0.831156\n",
      "Nolita                      282145  0.004350  54190463  0.835506\n",
      "Carroll Gardens             273020  0.004209  54463483  0.839716\n",
      "Ozone Park                  262070  0.004041  54725553  0.843756\n",
      "Gowanus                     248930  0.003838  54974483  0.847594\n",
      "Greenwich Village           245280  0.003782  55219763  0.851376\n",
      "Jackson Heights             243820  0.003759  55463583  0.855135\n",
      "Elmhurst                    243820  0.003759  55707403  0.858895\n",
      "Maspeth                     242725  0.003742  55950128  0.862637\n",
      "Red Hook                    239805  0.003697  56189933  0.866334\n",
      "Cypress Hills               231045  0.003562  56420978  0.869896\n",
      "Windsor Terrace             227760  0.003512  56648738  0.873408\n",
      "Rosedale                    221555  0.003416  56870293  0.876824\n",
      "Parkchester                 215715  0.003326  57086008  0.880150\n",
      "Arverne                     205130  0.003163  57291138  0.883312\n",
      "St. George                  202940  0.003129  57494078  0.886441\n",
      "Rockaway Beach              201845  0.003112  57695923  0.889553\n",
      "DUMBO                       197465  0.003045  57893388  0.892598\n",
      "Brooklyn Heights            197100  0.003039  58090488  0.895637\n",
      "Midwood                     188340  0.002904  58278828  0.898541\n",
      "Morningside Heights         180310  0.002780  58459138  0.901321\n",
      "Flatlands                   177390  0.002735  58636528  0.904056\n",
      "Boerum Hill                 174835  0.002696  58811363  0.906751\n",
      "Wakefield                   174470  0.002690  58985833  0.909441\n",
      "Corona                      173375  0.002673  59159208  0.912114\n",
      "Murray Hill                 169725  0.002617  59328933  0.914731\n",
      "Bay Ridge                   165710  0.002555  59494643  0.917286\n",
      "Gramercy                    165345  0.002549  59659988  0.919835\n",
      "Cobble Hill                 164250  0.002532  59824238  0.922368\n",
      "Middle Village              155125  0.002392  59979363  0.924759\n",
      "Downtown Brooklyn           137240  0.002116  60116603  0.926875\n",
      "Kensington                  136510  0.002105  60253113  0.928980\n",
      "Throgs Neck                 135050  0.002082  60388163  0.931062\n",
      "Columbia St                 131765  0.002032  60519928  0.933094\n",
      "Forest Hills                124465  0.001919  60644393  0.935013\n",
      "Tribeca                     116435  0.001795  60760828  0.936808\n",
      "Briarwood                   115340  0.001778  60876168  0.938586\n",
      "Richmond Hill               113880  0.001756  60990048  0.940342\n",
      "Coney Island                110230  0.001700  61100278  0.942042\n",
      "Pelham Gardens              109135  0.001683  61209413  0.943724\n",
      "Two Bridges                 109135  0.001683  61318548  0.945407\n",
      "Silver Lake                 108040  0.001666  61426588  0.947073\n",
      "Baychester                  106215  0.001638  61532803  0.948710\n",
      "Borough Park                104390  0.001609  61637193  0.950320\n",
      "Brownsville                 103660  0.001598  61740853  0.951918\n",
      "Allerton                    101835  0.001570  61842688  0.953488\n",
      "Fresh Meadows                98915  0.001525  61941603  0.955013\n",
      "Gravesend                    90520  0.001396  62032123  0.956409\n",
      "Bensonhurst                  90520  0.001396  62122643  0.957804\n",
      "South Ozone Park             90520  0.001396  62213163  0.959200\n",
      "Cambria Heights              90155  0.001390  62303318  0.960590\n",
      "NoHo                         86140  0.001328  62389458  0.961918\n",
      "West Brighton                83220  0.001283  62472678  0.963201\n",
      "Woodlawn                     80665  0.001244  62553343  0.964445\n",
      "Manhattan Beach              73000  0.001126  62626343  0.965570\n",
      "Mott Haven                   71540  0.001103  62697883  0.966673\n",
      "Westchester Square           70080  0.001080  62767963  0.967754\n",
      "Kingsbridge                  68255  0.001052  62836218  0.968806\n",
      "Concourse Village            66795  0.001030  62903013  0.969836\n",
      "University Heights           62415  0.000962  62965428  0.970798\n",
      "City Island                  60590  0.000934  63026018  0.971733\n",
      "Williamsbridge               58035  0.000895  63084053  0.972627\n",
      "Howard Beach                 56940  0.000878  63140993  0.973505\n",
      "Hunts Point                  54385  0.000839  63195378  0.974344\n",
      "Laurelton                    52925  0.000816  63248303  0.975160\n",
      "Hollis                       52560  0.000810  63300863  0.975970\n",
      "Rosebank                     51100  0.000788  63351963  0.976758\n",
      "Clifton                      48545  0.000748  63400508  0.977507\n",
      "Glendale                     48180  0.000743  63448688  0.978249\n",
      "College Point                46355  0.000715  63495043  0.978964\n",
      "New Dorp Beach               43070  0.000664  63538113  0.979628\n",
      "Clason Point                 42340  0.000653  63580453  0.980281\n",
      "Unionport                    42340  0.000653  63622793  0.980934\n",
      "Eltingville                  41975  0.000647  63664768  0.981581\n",
      "Bronxdale                    41245  0.000636  63706013  0.982217\n",
      "Belmont                      39420  0.000608  63745433  0.982825\n",
      "Battery Park City            37230  0.000574  63782663  0.983399\n",
      "Fort Hamilton                36865  0.000568  63819528  0.983967\n",
      "Whitestone                   36865  0.000568  63856393  0.984535\n",
      "Soundview                    36135  0.000557  63892528  0.985092\n",
      "Port Richmond                35405  0.000546  63927933  0.985638\n",
      "Fordham                      33580  0.000518  63961513  0.986156\n",
      "Bath Beach                   33215  0.000512  63994728  0.986668\n",
      "Morris Park                  32850  0.000506  64027578  0.987175\n",
      "Edgemere                     32485  0.000501  64060063  0.987676\n",
      "Little Italy                 32485  0.000501  64092548  0.988176\n",
      "South Beach                  31390  0.000484  64123938  0.988660\n",
      "Van Nest                     31025  0.000478  64154963  0.989139\n",
      "Dongan Hills                 30295  0.000467  64185258  0.989606\n",
      "Morris Heights               29200  0.000450  64214458  0.990056\n",
      "Claremont Village            28835  0.000445  64243293  0.990501\n",
      "Mount Hope                   28470  0.000439  64271763  0.990939\n",
      "Brighton Beach               28105  0.000433  64299868  0.991373\n",
      "Bergen Beach                 26280  0.000405  64326148  0.991778\n",
      "Stuyvesant Town              24455  0.000377  64350603  0.992155\n",
      "Olinville                    24455  0.000377  64375058  0.992532\n",
      "Midland Beach                24090  0.000371  64399148  0.992904\n",
      "Schuylerville                21535  0.000332  64420683  0.993236\n",
      "New Brighton                 21170  0.000326  64441853  0.993562\n",
      "Tompkinsville                20805  0.000321  64462658  0.993883\n",
      "Lighthouse Hill              20440  0.000315  64483098  0.994198\n",
      "Grymes Hill                  20075  0.000310  64503173  0.994507\n",
      "Norwood                      19710  0.000304  64522883  0.994811\n",
      "Concord                      18980  0.000293  64541863  0.995104\n",
      "Melrose                      18250  0.000281  64560113  0.995385\n",
      "Port Morris                  18250  0.000281  64578363  0.995667\n",
      "Longwood                     18250  0.000281  64596613  0.995948\n",
      "Flatiron District            17520  0.000270  64614133  0.996218\n",
      "Mill Basin                   16790  0.000259  64630923  0.996477\n",
      "Kew Gardens                  16060  0.000248  64646983  0.996725\n",
      "Randall Manor                16060  0.000248  64663043  0.996972\n",
      "Douglaston                   12410  0.000191  64675453  0.997164\n",
      "Bull's Head                  12410  0.000191  64687863  0.997355\n",
      "Eastchester                  12045  0.000186  64699908  0.997541\n",
      "Vinegar Hill                 11315  0.000174  64711223  0.997715\n",
      "Edenwald                     10585  0.000163  64721808  0.997878\n",
      "Far Rockaway                 10220  0.000158  64732028  0.998036\n",
      "Dyker Heights                 9855  0.000152  64741883  0.998188\n",
      "Howland Hook                  9855  0.000152  64751738  0.998340\n",
      "Civic Center                  9490  0.000146  64761228  0.998486\n",
      "Kew Gardens Hills             9490  0.000146  64770718  0.998632\n",
      "Arrochar                      9490  0.000146  64780208  0.998779\n",
      "Pelham Bay                    8030  0.000124  64788238  0.998902\n",
      "Bayswater                     7300  0.000113  64795538  0.999015\n",
      "New Springville               7300  0.000113  64802838  0.999128\n",
      "Shore Acres                   5840  0.000090  64808678  0.999218\n",
      "Tremont                       5840  0.000090  64814518  0.999308\n",
      "Prince's Bay                  5475  0.000084  64819993  0.999392\n",
      "Spuyten Duyvil                5475  0.000084  64825468  0.999476\n",
      "Westerleigh                   5110  0.000079  64830578  0.999555\n",
      "Bayside                       4745  0.000073  64835323  0.999628\n",
      "Roosevelt Island              4024  0.000062  64839347  0.999690\n",
      "Marble Hill                   3285  0.000051  64842632  0.999741\n",
      "Stapleton                     2555  0.000039  64845187  0.999781\n",
      "Mount Eden                    2555  0.000039  64847742  0.999820\n",
      "Jamaica Estates               2190  0.000034  64849932  0.999854\n",
      "North Riverdale               1825  0.000028  64851757  0.999882\n",
      "Grant City                    1460  0.000023  64853217  0.999904\n",
      "Morrisania                    1095  0.000017  64854312  0.999921\n",
      "Castleton Corners             1095  0.000017  64855407  0.999938\n",
      "Bellerose                      730  0.000011  64856137  0.999949\n",
      "Sea Gate                       730  0.000011  64856867  0.999961\n",
      "Oakwood                        730  0.000011  64857597  0.999972\n",
      "West Farms                     730  0.000011  64858327  0.999983\n",
      "Jamaica Hills                  730  0.000011  64859057  0.999994\n",
      "Navy Yard                      365  0.000006  64859422  1.000000 \n",
      "\n"
     ]
    },
    {
     "name": "stdout",
     "output_type": "stream",
     "text": [
      "Frequencies table for variable neighbourhood_group_cleansed \n",
      "\n",
      "                     FA        FR       FAA       FRA\n",
      "Brooklyn       27485230  0.423766  27485230  0.423766\n",
      "Manhattan      22551542  0.347699  50036772  0.771465\n",
      "Queens         11663940  0.179834  61700712  0.951299\n",
      "Bronx           2279790  0.035150  63980502  0.986449\n",
      "Staten Island    878920  0.013551  64859422  1.000000 \n",
      "\n",
      "Frequencies table for variable property_type \n",
      "\n",
      "                                           FA        FR       FAA       FRA\n",
      "Entire rental unit                   24177965  0.372775  24177965  0.372775\n",
      "Private room in rental unit          16500555  0.254405  40678520  0.627180\n",
      "Private room in residential home      5115840  0.078876  45794360  0.706056\n",
      "Entire residential home               3944555  0.060817  49738915  0.766873\n",
      "Private room in townhouse             3116005  0.048042  52854920  0.814915\n",
      "Entire townhouse                      1865515  0.028762  54720435  0.843677\n",
      "Entire loft                           1722800  0.026562  56443235  0.870240\n",
      "Entire condominium (condo)            1249030  0.019257  57692265  0.889497\n",
      "Entire guest suite                    1115075  0.017192  58807340  0.906689\n",
      "Room in boutique hotel                1029682  0.015876  59837022  0.922565\n",
      "Private room in condominium (condo)   1020175  0.015729  60857197  0.938294\n",
      "Shared room in rental unit             860305  0.013264  61717502  0.951558\n",
      "Room in hotel                          772705  0.011914  62490207  0.963472\n",
      "Private room in guest suite            606630  0.009353  63096837  0.972825\n",
      "Private room in loft                   416830  0.006427  63513667  0.979251\n",
      "Tiny house                             230315  0.003551  63743982  0.982802\n",
      "Private room in hostel                 186150  0.002870  63930132  0.985672\n",
      "Private room in tiny house             124830  0.001925  64054962  0.987597\n",
      "Entire guesthouse                       98185  0.001514  64153147  0.989111\n",
      "Private room in bungalow                95630  0.001474  64248777  0.990585\n",
      "Entire serviced apartment               85775  0.001322  64334552  0.991908\n",
      "Entire bungalow                         54750  0.000844  64389302  0.992752\n",
      "Room in serviced apartment              50370  0.000777  64439672  0.993528\n",
      "Room in aparthotel                      46355  0.000715  64486027  0.994243\n",
      "Floor                                   42705  0.000658  64528732  0.994901\n",
      "Private room in bed and breakfast       38690  0.000597  64567422  0.995498\n",
      "Private room in serviced apartment      36865  0.000568  64604287  0.996066\n",
      "Private room in guesthouse              36135  0.000557  64640422  0.996623\n",
      "Private room                            31025  0.000478  64671447  0.997102\n",
      "Shared room in residential home         30660  0.000473  64702107  0.997575\n",
      "Shared room in townhouse                30660  0.000473  64732767  0.998047\n",
      "Shared room in loft                     27740  0.000428  64760507  0.998475\n",
      "Boat                                    27010  0.000416  64787517  0.998891\n",
      "Entire place                            18615  0.000287  64806132  0.999178\n",
      "Private room in casa particular         11680  0.000180  64817812  0.999358\n",
      "Private room in camper/rv               10950  0.000169  64828762  0.999527\n",
      "Shared room in hostel                    7665  0.000118  64836427  0.999645\n",
      "Private room in resort                   7665  0.000118  64844092  0.999764\n",
      "Shared room in condominium (condo)       7665  0.000118  64851757  0.999882\n",
      "Entire home/apt                          2190  0.000034  64853947  0.999916\n",
      "Casa particular                          1460  0.000023  64855407  0.999938\n",
      "Shared room in bed and breakfast         1095  0.000017  64856502  0.999955\n",
      "Cave                                      730  0.000011  64857232  0.999966\n",
      "Room in bed and breakfast                 730  0.000011  64857962  0.999977\n",
      "Private room in villa                     730  0.000011  64858692  0.999989\n",
      "Shared room in guest suite                365  0.000006  64859057  0.999994\n",
      "Private room in earth house               365  0.000006  64859422  1.000000 \n",
      "\n",
      "Frequencies table for variable room_type \n",
      "\n",
      "                       FA        FR       FAA       FRA\n",
      "Entire home/apt  34683030  0.534742  34683030  0.534742\n",
      "Private room     28572200  0.440525  63255230  0.975267\n",
      "Shared room        966155  0.014896  64221385  0.990163\n",
      "Hotel room         638037  0.009837  64859422  1.000000 \n",
      "\n"
     ]
    }
   ],
   "source": [
    "for v in vard:\n",
    "    freq(df, v)"
   ]
  },
  {
   "cell_type": "markdown",
   "id": "5323b9d8",
   "metadata": {},
   "source": [
    "### Normalizing Categories"
   ]
  },
  {
   "cell_type": "code",
   "execution_count": 70,
   "id": "da01d6d4",
   "metadata": {
    "ExecuteTime": {
     "end_time": "2022-11-08T00:36:24.755517Z",
     "start_time": "2022-11-08T00:35:52.526657Z"
    }
   },
   "outputs": [
    {
     "ename": "KeyboardInterrupt",
     "evalue": "",
     "output_type": "error",
     "traceback": [
      "\u001b[0;31m---------------------------------------------------------------------------\u001b[0m",
      "\u001b[0;31mKeyboardInterrupt\u001b[0m                         Traceback (most recent call last)",
      "Cell \u001b[0;32mIn [70], line 2\u001b[0m\n\u001b[1;32m      1\u001b[0m \u001b[38;5;28;01mfor\u001b[39;00m v \u001b[38;5;129;01min\u001b[39;00m vard:\n\u001b[0;32m----> 2\u001b[0m     df \u001b[38;5;241m=\u001b[39m \u001b[43mnormalize\u001b[49m\u001b[43m(\u001b[49m\u001b[43mdf\u001b[49m\u001b[43m,\u001b[49m\u001b[43m \u001b[49m\u001b[43mv\u001b[49m\u001b[43m,\u001b[49m\u001b[43m \u001b[49m\u001b[38;5;241;43m0.05\u001b[39;49m\u001b[43m)\u001b[49m\n",
      "Cell \u001b[0;32mIn [6], line 23\u001b[0m, in \u001b[0;36mnormalize\u001b[0;34m(df, v, umbral)\u001b[0m\n\u001b[1;32m     20\u001b[0m aux\u001b[38;5;241m.\u001b[39mdrop(v,axis\u001b[38;5;241m=\u001b[39m\u001b[38;5;241m1\u001b[39m, inplace\u001b[38;5;241m=\u001b[39m\u001b[38;5;28;01mTrue\u001b[39;00m)\n\u001b[1;32m     21\u001b[0m aux\u001b[38;5;241m.\u001b[39mreset_index(inplace\u001b[38;5;241m=\u001b[39m\u001b[38;5;28;01mTrue\u001b[39;00m)\n\u001b[0;32m---> 23\u001b[0m \u001b[38;5;28;01mreturn\u001b[39;00m \u001b[43mdf\u001b[49m\u001b[38;5;241;43m.\u001b[39;49m\u001b[43mmerge\u001b[49m\u001b[43m(\u001b[49m\u001b[43maux\u001b[49m\u001b[43m,\u001b[49m\u001b[43m \u001b[49m\u001b[43mleft_on\u001b[49m\u001b[38;5;241;43m=\u001b[39;49m\u001b[43m[\u001b[49m\u001b[43mv\u001b[49m\u001b[43m]\u001b[49m\u001b[43m,\u001b[49m\u001b[43m \u001b[49m\u001b[43mright_on\u001b[49m\u001b[38;5;241;43m=\u001b[39;49m\u001b[38;5;124;43m'\u001b[39;49m\u001b[38;5;124;43mindex\u001b[39;49m\u001b[38;5;124;43m'\u001b[39;49m\u001b[43m,\u001b[49m\u001b[43mhow\u001b[49m\u001b[38;5;241;43m=\u001b[39;49m\u001b[38;5;124;43m'\u001b[39;49m\u001b[38;5;124;43minner\u001b[39;49m\u001b[38;5;124;43m'\u001b[39;49m\u001b[43m)\u001b[49m\u001b[38;5;241m.\u001b[39mdrop(\u001b[38;5;124m'\u001b[39m\u001b[38;5;124mindex\u001b[39m\u001b[38;5;124m'\u001b[39m,axis\u001b[38;5;241m=\u001b[39m\u001b[38;5;241m1\u001b[39m)\n",
      "File \u001b[0;32m~/Documents/env/diplo/lib/python3.10/site-packages/pandas/core/frame.py:9354\u001b[0m, in \u001b[0;36mDataFrame.merge\u001b[0;34m(self, right, how, on, left_on, right_on, left_index, right_index, sort, suffixes, copy, indicator, validate)\u001b[0m\n\u001b[1;32m   9335\u001b[0m \u001b[38;5;129m@Substitution\u001b[39m(\u001b[38;5;124m\"\u001b[39m\u001b[38;5;124m\"\u001b[39m)\n\u001b[1;32m   9336\u001b[0m \u001b[38;5;129m@Appender\u001b[39m(_merge_doc, indents\u001b[38;5;241m=\u001b[39m\u001b[38;5;241m2\u001b[39m)\n\u001b[1;32m   9337\u001b[0m \u001b[38;5;28;01mdef\u001b[39;00m \u001b[38;5;21mmerge\u001b[39m(\n\u001b[0;32m   (...)\u001b[0m\n\u001b[1;32m   9350\u001b[0m     validate: \u001b[38;5;28mstr\u001b[39m \u001b[38;5;241m|\u001b[39m \u001b[38;5;28;01mNone\u001b[39;00m \u001b[38;5;241m=\u001b[39m \u001b[38;5;28;01mNone\u001b[39;00m,\n\u001b[1;32m   9351\u001b[0m ) \u001b[38;5;241m-\u001b[39m\u001b[38;5;241m>\u001b[39m DataFrame:\n\u001b[1;32m   9352\u001b[0m     \u001b[38;5;28;01mfrom\u001b[39;00m \u001b[38;5;21;01mpandas\u001b[39;00m\u001b[38;5;21;01m.\u001b[39;00m\u001b[38;5;21;01mcore\u001b[39;00m\u001b[38;5;21;01m.\u001b[39;00m\u001b[38;5;21;01mreshape\u001b[39;00m\u001b[38;5;21;01m.\u001b[39;00m\u001b[38;5;21;01mmerge\u001b[39;00m \u001b[38;5;28;01mimport\u001b[39;00m merge\n\u001b[0;32m-> 9354\u001b[0m     \u001b[38;5;28;01mreturn\u001b[39;00m \u001b[43mmerge\u001b[49m\u001b[43m(\u001b[49m\n\u001b[1;32m   9355\u001b[0m \u001b[43m        \u001b[49m\u001b[38;5;28;43mself\u001b[39;49m\u001b[43m,\u001b[49m\n\u001b[1;32m   9356\u001b[0m \u001b[43m        \u001b[49m\u001b[43mright\u001b[49m\u001b[43m,\u001b[49m\n\u001b[1;32m   9357\u001b[0m \u001b[43m        \u001b[49m\u001b[43mhow\u001b[49m\u001b[38;5;241;43m=\u001b[39;49m\u001b[43mhow\u001b[49m\u001b[43m,\u001b[49m\n\u001b[1;32m   9358\u001b[0m \u001b[43m        \u001b[49m\u001b[43mon\u001b[49m\u001b[38;5;241;43m=\u001b[39;49m\u001b[43mon\u001b[49m\u001b[43m,\u001b[49m\n\u001b[1;32m   9359\u001b[0m \u001b[43m        \u001b[49m\u001b[43mleft_on\u001b[49m\u001b[38;5;241;43m=\u001b[39;49m\u001b[43mleft_on\u001b[49m\u001b[43m,\u001b[49m\n\u001b[1;32m   9360\u001b[0m \u001b[43m        \u001b[49m\u001b[43mright_on\u001b[49m\u001b[38;5;241;43m=\u001b[39;49m\u001b[43mright_on\u001b[49m\u001b[43m,\u001b[49m\n\u001b[1;32m   9361\u001b[0m \u001b[43m        \u001b[49m\u001b[43mleft_index\u001b[49m\u001b[38;5;241;43m=\u001b[39;49m\u001b[43mleft_index\u001b[49m\u001b[43m,\u001b[49m\n\u001b[1;32m   9362\u001b[0m \u001b[43m        \u001b[49m\u001b[43mright_index\u001b[49m\u001b[38;5;241;43m=\u001b[39;49m\u001b[43mright_index\u001b[49m\u001b[43m,\u001b[49m\n\u001b[1;32m   9363\u001b[0m \u001b[43m        \u001b[49m\u001b[43msort\u001b[49m\u001b[38;5;241;43m=\u001b[39;49m\u001b[43msort\u001b[49m\u001b[43m,\u001b[49m\n\u001b[1;32m   9364\u001b[0m \u001b[43m        \u001b[49m\u001b[43msuffixes\u001b[49m\u001b[38;5;241;43m=\u001b[39;49m\u001b[43msuffixes\u001b[49m\u001b[43m,\u001b[49m\n\u001b[1;32m   9365\u001b[0m \u001b[43m        \u001b[49m\u001b[43mcopy\u001b[49m\u001b[38;5;241;43m=\u001b[39;49m\u001b[43mcopy\u001b[49m\u001b[43m,\u001b[49m\n\u001b[1;32m   9366\u001b[0m \u001b[43m        \u001b[49m\u001b[43mindicator\u001b[49m\u001b[38;5;241;43m=\u001b[39;49m\u001b[43mindicator\u001b[49m\u001b[43m,\u001b[49m\n\u001b[1;32m   9367\u001b[0m \u001b[43m        \u001b[49m\u001b[43mvalidate\u001b[49m\u001b[38;5;241;43m=\u001b[39;49m\u001b[43mvalidate\u001b[49m\u001b[43m,\u001b[49m\n\u001b[1;32m   9368\u001b[0m \u001b[43m    \u001b[49m\u001b[43m)\u001b[49m\n",
      "File \u001b[0;32m~/Documents/env/diplo/lib/python3.10/site-packages/pandas/core/reshape/merge.py:122\u001b[0m, in \u001b[0;36mmerge\u001b[0;34m(left, right, how, on, left_on, right_on, left_index, right_index, sort, suffixes, copy, indicator, validate)\u001b[0m\n\u001b[1;32m     90\u001b[0m \u001b[38;5;129m@Substitution\u001b[39m(\u001b[38;5;124m\"\u001b[39m\u001b[38;5;130;01m\\n\u001b[39;00m\u001b[38;5;124mleft : DataFrame or named Series\u001b[39m\u001b[38;5;124m\"\u001b[39m)\n\u001b[1;32m     91\u001b[0m \u001b[38;5;129m@Appender\u001b[39m(_merge_doc, indents\u001b[38;5;241m=\u001b[39m\u001b[38;5;241m0\u001b[39m)\n\u001b[1;32m     92\u001b[0m \u001b[38;5;28;01mdef\u001b[39;00m \u001b[38;5;21mmerge\u001b[39m(\n\u001b[0;32m   (...)\u001b[0m\n\u001b[1;32m    105\u001b[0m     validate: \u001b[38;5;28mstr\u001b[39m \u001b[38;5;241m|\u001b[39m \u001b[38;5;28;01mNone\u001b[39;00m \u001b[38;5;241m=\u001b[39m \u001b[38;5;28;01mNone\u001b[39;00m,\n\u001b[1;32m    106\u001b[0m ) \u001b[38;5;241m-\u001b[39m\u001b[38;5;241m>\u001b[39m DataFrame:\n\u001b[1;32m    107\u001b[0m     op \u001b[38;5;241m=\u001b[39m _MergeOperation(\n\u001b[1;32m    108\u001b[0m         left,\n\u001b[1;32m    109\u001b[0m         right,\n\u001b[0;32m   (...)\u001b[0m\n\u001b[1;32m    120\u001b[0m         validate\u001b[38;5;241m=\u001b[39mvalidate,\n\u001b[1;32m    121\u001b[0m     )\n\u001b[0;32m--> 122\u001b[0m     \u001b[38;5;28;01mreturn\u001b[39;00m \u001b[43mop\u001b[49m\u001b[38;5;241;43m.\u001b[39;49m\u001b[43mget_result\u001b[49m\u001b[43m(\u001b[49m\u001b[43m)\u001b[49m\n",
      "File \u001b[0;32m~/Documents/env/diplo/lib/python3.10/site-packages/pandas/core/reshape/merge.py:725\u001b[0m, in \u001b[0;36m_MergeOperation.get_result\u001b[0;34m(self)\u001b[0m\n\u001b[1;32m    722\u001b[0m lindexers \u001b[38;5;241m=\u001b[39m {\u001b[38;5;241m1\u001b[39m: left_indexer} \u001b[38;5;28;01mif\u001b[39;00m left_indexer \u001b[38;5;129;01mis\u001b[39;00m \u001b[38;5;129;01mnot\u001b[39;00m \u001b[38;5;28;01mNone\u001b[39;00m \u001b[38;5;28;01melse\u001b[39;00m {}\n\u001b[1;32m    723\u001b[0m rindexers \u001b[38;5;241m=\u001b[39m {\u001b[38;5;241m1\u001b[39m: right_indexer} \u001b[38;5;28;01mif\u001b[39;00m right_indexer \u001b[38;5;129;01mis\u001b[39;00m \u001b[38;5;129;01mnot\u001b[39;00m \u001b[38;5;28;01mNone\u001b[39;00m \u001b[38;5;28;01melse\u001b[39;00m {}\n\u001b[0;32m--> 725\u001b[0m result_data \u001b[38;5;241m=\u001b[39m \u001b[43mconcatenate_managers\u001b[49m\u001b[43m(\u001b[49m\n\u001b[1;32m    726\u001b[0m \u001b[43m    \u001b[49m\u001b[43m[\u001b[49m\u001b[43m(\u001b[49m\u001b[38;5;28;43mself\u001b[39;49m\u001b[38;5;241;43m.\u001b[39;49m\u001b[43mleft\u001b[49m\u001b[38;5;241;43m.\u001b[39;49m\u001b[43m_mgr\u001b[49m\u001b[43m,\u001b[49m\u001b[43m \u001b[49m\u001b[43mlindexers\u001b[49m\u001b[43m)\u001b[49m\u001b[43m,\u001b[49m\u001b[43m \u001b[49m\u001b[43m(\u001b[49m\u001b[38;5;28;43mself\u001b[39;49m\u001b[38;5;241;43m.\u001b[39;49m\u001b[43mright\u001b[49m\u001b[38;5;241;43m.\u001b[39;49m\u001b[43m_mgr\u001b[49m\u001b[43m,\u001b[49m\u001b[43m \u001b[49m\u001b[43mrindexers\u001b[49m\u001b[43m)\u001b[49m\u001b[43m]\u001b[49m\u001b[43m,\u001b[49m\n\u001b[1;32m    727\u001b[0m \u001b[43m    \u001b[49m\u001b[43maxes\u001b[49m\u001b[38;5;241;43m=\u001b[39;49m\u001b[43m[\u001b[49m\u001b[43mllabels\u001b[49m\u001b[38;5;241;43m.\u001b[39;49m\u001b[43mappend\u001b[49m\u001b[43m(\u001b[49m\u001b[43mrlabels\u001b[49m\u001b[43m)\u001b[49m\u001b[43m,\u001b[49m\u001b[43m \u001b[49m\u001b[43mjoin_index\u001b[49m\u001b[43m]\u001b[49m\u001b[43m,\u001b[49m\n\u001b[1;32m    728\u001b[0m \u001b[43m    \u001b[49m\u001b[43mconcat_axis\u001b[49m\u001b[38;5;241;43m=\u001b[39;49m\u001b[38;5;241;43m0\u001b[39;49m\u001b[43m,\u001b[49m\n\u001b[1;32m    729\u001b[0m \u001b[43m    \u001b[49m\u001b[43mcopy\u001b[49m\u001b[38;5;241;43m=\u001b[39;49m\u001b[38;5;28;43mself\u001b[39;49m\u001b[38;5;241;43m.\u001b[39;49m\u001b[43mcopy\u001b[49m\u001b[43m,\u001b[49m\n\u001b[1;32m    730\u001b[0m \u001b[43m\u001b[49m\u001b[43m)\u001b[49m\n\u001b[1;32m    732\u001b[0m typ \u001b[38;5;241m=\u001b[39m \u001b[38;5;28mself\u001b[39m\u001b[38;5;241m.\u001b[39mleft\u001b[38;5;241m.\u001b[39m_constructor\n\u001b[1;32m    733\u001b[0m result \u001b[38;5;241m=\u001b[39m typ(result_data)\u001b[38;5;241m.\u001b[39m__finalize__(\u001b[38;5;28mself\u001b[39m, method\u001b[38;5;241m=\u001b[39m\u001b[38;5;28mself\u001b[39m\u001b[38;5;241m.\u001b[39m_merge_type)\n",
      "File \u001b[0;32m~/Documents/env/diplo/lib/python3.10/site-packages/pandas/core/internals/concat.py:242\u001b[0m, in \u001b[0;36mconcatenate_managers\u001b[0;34m(mgrs_indexers, axes, concat_axis, copy)\u001b[0m\n\u001b[1;32m    240\u001b[0m     fastpath \u001b[38;5;241m=\u001b[39m blk\u001b[38;5;241m.\u001b[39mvalues\u001b[38;5;241m.\u001b[39mdtype \u001b[38;5;241m==\u001b[39m values\u001b[38;5;241m.\u001b[39mdtype\n\u001b[1;32m    241\u001b[0m \u001b[38;5;28;01melse\u001b[39;00m:\n\u001b[0;32m--> 242\u001b[0m     values \u001b[38;5;241m=\u001b[39m \u001b[43m_concatenate_join_units\u001b[49m\u001b[43m(\u001b[49m\u001b[43mjoin_units\u001b[49m\u001b[43m,\u001b[49m\u001b[43m \u001b[49m\u001b[43mconcat_axis\u001b[49m\u001b[43m,\u001b[49m\u001b[43m \u001b[49m\u001b[43mcopy\u001b[49m\u001b[38;5;241;43m=\u001b[39;49m\u001b[43mcopy\u001b[49m\u001b[43m)\u001b[49m\n\u001b[1;32m    243\u001b[0m     fastpath \u001b[38;5;241m=\u001b[39m \u001b[38;5;28;01mFalse\u001b[39;00m\n\u001b[1;32m    245\u001b[0m \u001b[38;5;28;01mif\u001b[39;00m fastpath:\n",
      "File \u001b[0;32m~/Documents/env/diplo/lib/python3.10/site-packages/pandas/core/internals/concat.py:550\u001b[0m, in \u001b[0;36m_concatenate_join_units\u001b[0;34m(join_units, concat_axis, copy)\u001b[0m\n\u001b[1;32m    547\u001b[0m has_none_blocks \u001b[38;5;241m=\u001b[39m \u001b[38;5;28many\u001b[39m(unit\u001b[38;5;241m.\u001b[39mblock\u001b[38;5;241m.\u001b[39mdtype\u001b[38;5;241m.\u001b[39mkind \u001b[38;5;241m==\u001b[39m \u001b[38;5;124m\"\u001b[39m\u001b[38;5;124mV\u001b[39m\u001b[38;5;124m\"\u001b[39m \u001b[38;5;28;01mfor\u001b[39;00m unit \u001b[38;5;129;01min\u001b[39;00m join_units)\n\u001b[1;32m    548\u001b[0m upcasted_na \u001b[38;5;241m=\u001b[39m _dtype_to_na_value(empty_dtype, has_none_blocks)\n\u001b[0;32m--> 550\u001b[0m to_concat \u001b[38;5;241m=\u001b[39m [\n\u001b[1;32m    551\u001b[0m     ju\u001b[38;5;241m.\u001b[39mget_reindexed_values(empty_dtype\u001b[38;5;241m=\u001b[39mempty_dtype, upcasted_na\u001b[38;5;241m=\u001b[39mupcasted_na)\n\u001b[1;32m    552\u001b[0m     \u001b[38;5;28;01mfor\u001b[39;00m ju \u001b[38;5;129;01min\u001b[39;00m join_units\n\u001b[1;32m    553\u001b[0m ]\n\u001b[1;32m    555\u001b[0m \u001b[38;5;28;01mif\u001b[39;00m \u001b[38;5;28mlen\u001b[39m(to_concat) \u001b[38;5;241m==\u001b[39m \u001b[38;5;241m1\u001b[39m:\n\u001b[1;32m    556\u001b[0m     \u001b[38;5;66;03m# Only one block, nothing to concatenate.\u001b[39;00m\n\u001b[1;32m    557\u001b[0m     concat_values \u001b[38;5;241m=\u001b[39m to_concat[\u001b[38;5;241m0\u001b[39m]\n",
      "File \u001b[0;32m~/Documents/env/diplo/lib/python3.10/site-packages/pandas/core/internals/concat.py:551\u001b[0m, in \u001b[0;36m<listcomp>\u001b[0;34m(.0)\u001b[0m\n\u001b[1;32m    547\u001b[0m has_none_blocks \u001b[38;5;241m=\u001b[39m \u001b[38;5;28many\u001b[39m(unit\u001b[38;5;241m.\u001b[39mblock\u001b[38;5;241m.\u001b[39mdtype\u001b[38;5;241m.\u001b[39mkind \u001b[38;5;241m==\u001b[39m \u001b[38;5;124m\"\u001b[39m\u001b[38;5;124mV\u001b[39m\u001b[38;5;124m\"\u001b[39m \u001b[38;5;28;01mfor\u001b[39;00m unit \u001b[38;5;129;01min\u001b[39;00m join_units)\n\u001b[1;32m    548\u001b[0m upcasted_na \u001b[38;5;241m=\u001b[39m _dtype_to_na_value(empty_dtype, has_none_blocks)\n\u001b[1;32m    550\u001b[0m to_concat \u001b[38;5;241m=\u001b[39m [\n\u001b[0;32m--> 551\u001b[0m     \u001b[43mju\u001b[49m\u001b[38;5;241;43m.\u001b[39;49m\u001b[43mget_reindexed_values\u001b[49m\u001b[43m(\u001b[49m\u001b[43mempty_dtype\u001b[49m\u001b[38;5;241;43m=\u001b[39;49m\u001b[43mempty_dtype\u001b[49m\u001b[43m,\u001b[49m\u001b[43m \u001b[49m\u001b[43mupcasted_na\u001b[49m\u001b[38;5;241;43m=\u001b[39;49m\u001b[43mupcasted_na\u001b[49m\u001b[43m)\u001b[49m\n\u001b[1;32m    552\u001b[0m     \u001b[38;5;28;01mfor\u001b[39;00m ju \u001b[38;5;129;01min\u001b[39;00m join_units\n\u001b[1;32m    553\u001b[0m ]\n\u001b[1;32m    555\u001b[0m \u001b[38;5;28;01mif\u001b[39;00m \u001b[38;5;28mlen\u001b[39m(to_concat) \u001b[38;5;241m==\u001b[39m \u001b[38;5;241m1\u001b[39m:\n\u001b[1;32m    556\u001b[0m     \u001b[38;5;66;03m# Only one block, nothing to concatenate.\u001b[39;00m\n\u001b[1;32m    557\u001b[0m     concat_values \u001b[38;5;241m=\u001b[39m to_concat[\u001b[38;5;241m0\u001b[39m]\n",
      "File \u001b[0;32m~/Documents/env/diplo/lib/python3.10/site-packages/pandas/core/internals/concat.py:530\u001b[0m, in \u001b[0;36mJoinUnit.get_reindexed_values\u001b[0;34m(self, empty_dtype, upcasted_na)\u001b[0m\n\u001b[1;32m    528\u001b[0m \u001b[38;5;28;01melse\u001b[39;00m:\n\u001b[1;32m    529\u001b[0m     \u001b[38;5;28;01mfor\u001b[39;00m ax, indexer \u001b[38;5;129;01min\u001b[39;00m \u001b[38;5;28mself\u001b[39m\u001b[38;5;241m.\u001b[39mindexers\u001b[38;5;241m.\u001b[39mitems():\n\u001b[0;32m--> 530\u001b[0m         values \u001b[38;5;241m=\u001b[39m \u001b[43malgos\u001b[49m\u001b[38;5;241;43m.\u001b[39;49m\u001b[43mtake_nd\u001b[49m\u001b[43m(\u001b[49m\u001b[43mvalues\u001b[49m\u001b[43m,\u001b[49m\u001b[43m \u001b[49m\u001b[43mindexer\u001b[49m\u001b[43m,\u001b[49m\u001b[43m \u001b[49m\u001b[43maxis\u001b[49m\u001b[38;5;241;43m=\u001b[39;49m\u001b[43max\u001b[49m\u001b[43m)\u001b[49m\n\u001b[1;32m    532\u001b[0m \u001b[38;5;28;01mreturn\u001b[39;00m values\n",
      "File \u001b[0;32m~/Documents/env/diplo/lib/python3.10/site-packages/pandas/core/array_algos/take.py:117\u001b[0m, in \u001b[0;36mtake_nd\u001b[0;34m(arr, indexer, axis, fill_value, allow_fill)\u001b[0m\n\u001b[1;32m    114\u001b[0m     \u001b[38;5;28;01mreturn\u001b[39;00m arr\u001b[38;5;241m.\u001b[39mtake(indexer, fill_value\u001b[38;5;241m=\u001b[39mfill_value, allow_fill\u001b[38;5;241m=\u001b[39mallow_fill)\n\u001b[1;32m    116\u001b[0m arr \u001b[38;5;241m=\u001b[39m np\u001b[38;5;241m.\u001b[39masarray(arr)\n\u001b[0;32m--> 117\u001b[0m \u001b[38;5;28;01mreturn\u001b[39;00m \u001b[43m_take_nd_ndarray\u001b[49m\u001b[43m(\u001b[49m\u001b[43marr\u001b[49m\u001b[43m,\u001b[49m\u001b[43m \u001b[49m\u001b[43mindexer\u001b[49m\u001b[43m,\u001b[49m\u001b[43m \u001b[49m\u001b[43maxis\u001b[49m\u001b[43m,\u001b[49m\u001b[43m \u001b[49m\u001b[43mfill_value\u001b[49m\u001b[43m,\u001b[49m\u001b[43m \u001b[49m\u001b[43mallow_fill\u001b[49m\u001b[43m)\u001b[49m\n",
      "File \u001b[0;32m~/Documents/env/diplo/lib/python3.10/site-packages/pandas/core/array_algos/take.py:163\u001b[0m, in \u001b[0;36m_take_nd_ndarray\u001b[0;34m(arr, indexer, axis, fill_value, allow_fill)\u001b[0m\n\u001b[1;32m    158\u001b[0m     out \u001b[38;5;241m=\u001b[39m np\u001b[38;5;241m.\u001b[39mempty(out_shape, dtype\u001b[38;5;241m=\u001b[39mdtype)\n\u001b[1;32m    160\u001b[0m func \u001b[38;5;241m=\u001b[39m _get_take_nd_function(\n\u001b[1;32m    161\u001b[0m     arr\u001b[38;5;241m.\u001b[39mndim, arr\u001b[38;5;241m.\u001b[39mdtype, out\u001b[38;5;241m.\u001b[39mdtype, axis\u001b[38;5;241m=\u001b[39maxis, mask_info\u001b[38;5;241m=\u001b[39mmask_info\n\u001b[1;32m    162\u001b[0m )\n\u001b[0;32m--> 163\u001b[0m \u001b[43mfunc\u001b[49m\u001b[43m(\u001b[49m\u001b[43marr\u001b[49m\u001b[43m,\u001b[49m\u001b[43m \u001b[49m\u001b[43mindexer\u001b[49m\u001b[43m,\u001b[49m\u001b[43m \u001b[49m\u001b[43mout\u001b[49m\u001b[43m,\u001b[49m\u001b[43m \u001b[49m\u001b[43mfill_value\u001b[49m\u001b[43m)\u001b[49m\n\u001b[1;32m    165\u001b[0m \u001b[38;5;28;01mif\u001b[39;00m flip_order:\n\u001b[1;32m    166\u001b[0m     out \u001b[38;5;241m=\u001b[39m out\u001b[38;5;241m.\u001b[39mT\n",
      "\u001b[0;31mKeyboardInterrupt\u001b[0m: "
     ]
    }
   ],
   "source": [
    "for v in vard:\n",
    "    df = normalize(df, v, 0.05)"
   ]
  },
  {
   "cell_type": "code",
   "execution_count": null,
   "id": "6ae7f6d4",
   "metadata": {
    "ExecuteTime": {
     "end_time": "2022-11-08T00:36:24.756864Z",
     "start_time": "2022-11-08T00:36:24.756854Z"
    }
   },
   "outputs": [],
   "source": [
    "varn = [col for col in df.filter(like=\"v_\").columns.tolist() if col[:2] == \"v_\"]\n",
    "print(len(varn))\n",
    "varn"
   ]
  },
  {
   "cell_type": "code",
   "execution_count": null,
   "id": "72d2dfcf",
   "metadata": {
    "ExecuteTime": {
     "end_time": "2022-11-08T00:36:24.757649Z",
     "start_time": "2022-11-08T00:36:24.757642Z"
    }
   },
   "outputs": [],
   "source": [
    "for v in varn:\n",
    "    freq(df, v)"
   ]
  },
  {
   "cell_type": "code",
   "execution_count": null,
   "id": "43ed2c06",
   "metadata": {},
   "outputs": [],
   "source": []
  },
  {
   "cell_type": "code",
   "execution_count": null,
   "id": "8971cd9d",
   "metadata": {},
   "outputs": [],
   "source": []
  },
  {
   "cell_type": "markdown",
   "id": "09a81582",
   "metadata": {},
   "source": [
    "## Continuous Variables"
   ]
  },
  {
   "cell_type": "markdown",
   "id": "ec413d6f",
   "metadata": {},
   "source": [
    "### Univariate Analysis"
   ]
  },
  {
   "cell_type": "markdown",
   "id": "dc0f5ac7",
   "metadata": {},
   "source": [
    "### Misings"
   ]
  },
  {
   "cell_type": "markdown",
   "id": "0c317b2c",
   "metadata": {},
   "source": [
    "### Outliers"
   ]
  },
  {
   "cell_type": "markdown",
   "id": "adf18df5",
   "metadata": {},
   "source": [
    "### Bivariate Analysis"
   ]
  },
  {
   "cell_type": "markdown",
   "id": "c1ca5552",
   "metadata": {},
   "source": [
    "### Multicolinealidad"
   ]
  },
  {
   "cell_type": "markdown",
   "id": "9d8eb278",
   "metadata": {},
   "source": [
    "# Variable Engineering"
   ]
  },
  {
   "cell_type": "markdown",
   "id": "091ec238",
   "metadata": {},
   "source": [
    "## Dummies"
   ]
  },
  {
   "cell_type": "markdown",
   "id": "108c216f",
   "metadata": {},
   "source": [
    "# PCA Scaling"
   ]
  },
  {
   "cell_type": "markdown",
   "id": "39a576c3",
   "metadata": {},
   "source": [
    "# Clustering"
   ]
  },
  {
   "cell_type": "markdown",
   "id": "7002ce28",
   "metadata": {},
   "source": [
    "# Visualizations"
   ]
  },
  {
   "cell_type": "markdown",
   "id": "544b21c5",
   "metadata": {},
   "source": [
    "# Profiling"
   ]
  },
  {
   "cell_type": "code",
   "execution_count": null,
   "id": "8d3ced9e",
   "metadata": {},
   "outputs": [],
   "source": []
  }
 ],
 "metadata": {
  "kernelspec": {
   "display_name": "diplo",
   "language": "python",
   "name": "diplo"
  },
  "language_info": {
   "codemirror_mode": {
    "name": "ipython",
    "version": 3
   },
   "file_extension": ".py",
   "mimetype": "text/x-python",
   "name": "python",
   "nbconvert_exporter": "python",
   "pygments_lexer": "ipython3",
   "version": "3.10.7"
  },
  "toc": {
   "base_numbering": 1,
   "nav_menu": {},
   "number_sections": true,
   "sideBar": true,
   "skip_h1_title": false,
   "title_cell": "Table of Contents",
   "title_sidebar": "Contents",
   "toc_cell": false,
   "toc_position": {},
   "toc_section_display": true,
   "toc_window_display": true
  }
 },
 "nbformat": 4,
 "nbformat_minor": 5
}
